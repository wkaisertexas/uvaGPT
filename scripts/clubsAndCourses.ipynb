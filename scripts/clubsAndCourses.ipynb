{
 "cells": [
  {
   "cell_type": "code",
   "execution_count": 4,
   "metadata": {},
   "outputs": [
    {
     "name": "stdout",
     "output_type": "stream",
     "text": [
      "Requirement already satisfied: firebase-admin in /Users/wkaiser/miniforge3/envs/tf/lib/python3.8/site-packages (6.4.0)\n",
      "Requirement already satisfied: cachecontrol>=0.12.6 in /Users/wkaiser/miniforge3/envs/tf/lib/python3.8/site-packages (from firebase-admin) (0.13.1)\n",
      "Requirement already satisfied: google-api-python-client>=1.7.8 in /Users/wkaiser/miniforge3/envs/tf/lib/python3.8/site-packages (from firebase-admin) (2.90.0)\n",
      "Requirement already satisfied: google-cloud-storage>=1.37.1 in /Users/wkaiser/miniforge3/envs/tf/lib/python3.8/site-packages (from firebase-admin) (2.14.0)\n",
      "Requirement already satisfied: pyjwt>=2.5.0 in /Users/wkaiser/miniforge3/envs/tf/lib/python3.8/site-packages (from pyjwt[crypto]>=2.5.0->firebase-admin) (2.6.0)\n",
      "Requirement already satisfied: google-api-core<3.0.0dev,>=1.22.1 in /Users/wkaiser/miniforge3/envs/tf/lib/python3.8/site-packages (from google-api-core[grpc]<3.0.0dev,>=1.22.1; platform_python_implementation != \"PyPy\"->firebase-admin) (2.11.1)\n",
      "Requirement already satisfied: google-cloud-firestore>=2.9.1 in /Users/wkaiser/miniforge3/envs/tf/lib/python3.8/site-packages (from firebase-admin) (2.14.0)\n",
      "Requirement already satisfied: requests>=2.16.0 in /Users/wkaiser/miniforge3/envs/tf/lib/python3.8/site-packages (from cachecontrol>=0.12.6->firebase-admin) (2.28.1)\n",
      "Requirement already satisfied: msgpack>=0.5.2 in /Users/wkaiser/miniforge3/envs/tf/lib/python3.8/site-packages (from cachecontrol>=0.12.6->firebase-admin) (1.0.7)\n",
      "Requirement already satisfied: googleapis-common-protos<2.0.dev0,>=1.56.2 in /Users/wkaiser/miniforge3/envs/tf/lib/python3.8/site-packages (from google-api-core<3.0.0dev,>=1.22.1->google-api-core[grpc]<3.0.0dev,>=1.22.1; platform_python_implementation != \"PyPy\"->firebase-admin) (1.56.4)\n",
      "Requirement already satisfied: protobuf!=3.20.0,!=3.20.1,!=4.21.0,!=4.21.1,!=4.21.2,!=4.21.3,!=4.21.4,!=4.21.5,<5.0.0.dev0,>=3.19.5 in /Users/wkaiser/miniforge3/envs/tf/lib/python3.8/site-packages (from google-api-core<3.0.0dev,>=1.22.1->google-api-core[grpc]<3.0.0dev,>=1.22.1; platform_python_implementation != \"PyPy\"->firebase-admin) (4.23.0)\n",
      "Requirement already satisfied: google-auth<3.0.dev0,>=2.14.1 in /Users/wkaiser/miniforge3/envs/tf/lib/python3.8/site-packages (from google-api-core<3.0.0dev,>=1.22.1->google-api-core[grpc]<3.0.0dev,>=1.22.1; platform_python_implementation != \"PyPy\"->firebase-admin) (2.27.0)\n",
      "Requirement already satisfied: grpcio<2.0dev,>=1.33.2 in /Users/wkaiser/miniforge3/envs/tf/lib/python3.8/site-packages (from google-api-core[grpc]<3.0.0dev,>=1.22.1; platform_python_implementation != \"PyPy\"->firebase-admin) (1.60.0)\n",
      "Requirement already satisfied: grpcio-status<2.0.dev0,>=1.33.2 in /Users/wkaiser/miniforge3/envs/tf/lib/python3.8/site-packages (from google-api-core[grpc]<3.0.0dev,>=1.22.1; platform_python_implementation != \"PyPy\"->firebase-admin) (1.60.0)\n",
      "Requirement already satisfied: httplib2<1.dev0,>=0.15.0 in /Users/wkaiser/miniforge3/envs/tf/lib/python3.8/site-packages (from google-api-python-client>=1.7.8->firebase-admin) (0.22.0)\n",
      "Requirement already satisfied: google-auth-httplib2>=0.1.0 in /Users/wkaiser/miniforge3/envs/tf/lib/python3.8/site-packages (from google-api-python-client>=1.7.8->firebase-admin) (0.1.0)\n",
      "Requirement already satisfied: uritemplate<5,>=3.0.1 in /Users/wkaiser/miniforge3/envs/tf/lib/python3.8/site-packages (from google-api-python-client>=1.7.8->firebase-admin) (4.1.1)\n",
      "Requirement already satisfied: google-cloud-core<3.0.0dev,>=1.4.1 in /Users/wkaiser/miniforge3/envs/tf/lib/python3.8/site-packages (from google-cloud-firestore>=2.9.1->firebase-admin) (2.4.1)\n",
      "Requirement already satisfied: proto-plus<2.0.0dev,>=1.22.0 in /Users/wkaiser/miniforge3/envs/tf/lib/python3.8/site-packages (from google-cloud-firestore>=2.9.1->firebase-admin) (1.23.0)\n",
      "Requirement already satisfied: google-resumable-media>=2.6.0 in /Users/wkaiser/miniforge3/envs/tf/lib/python3.8/site-packages (from google-cloud-storage>=1.37.1->firebase-admin) (2.7.0)\n",
      "Requirement already satisfied: google-crc32c<2.0dev,>=1.0 in /Users/wkaiser/miniforge3/envs/tf/lib/python3.8/site-packages (from google-cloud-storage>=1.37.1->firebase-admin) (1.5.0)\n",
      "Requirement already satisfied: cryptography>=3.4.0 in /Users/wkaiser/miniforge3/envs/tf/lib/python3.8/site-packages (from pyjwt[crypto]>=2.5.0->firebase-admin) (38.0.4)\n",
      "Requirement already satisfied: cffi>=1.12 in /Users/wkaiser/miniforge3/envs/tf/lib/python3.8/site-packages (from cryptography>=3.4.0->pyjwt[crypto]>=2.5.0->firebase-admin) (1.15.1)\n",
      "Requirement already satisfied: cachetools<6.0,>=2.0.0 in /Users/wkaiser/miniforge3/envs/tf/lib/python3.8/site-packages (from google-auth<3.0.dev0,>=2.14.1->google-api-core<3.0.0dev,>=1.22.1->google-api-core[grpc]<3.0.0dev,>=1.22.1; platform_python_implementation != \"PyPy\"->firebase-admin) (4.2.4)\n",
      "Requirement already satisfied: pyasn1-modules>=0.2.1 in /Users/wkaiser/miniforge3/envs/tf/lib/python3.8/site-packages (from google-auth<3.0.dev0,>=2.14.1->google-api-core<3.0.0dev,>=1.22.1->google-api-core[grpc]<3.0.0dev,>=1.22.1; platform_python_implementation != \"PyPy\"->firebase-admin) (0.2.7)\n",
      "Requirement already satisfied: rsa<5,>=3.1.4 in /Users/wkaiser/miniforge3/envs/tf/lib/python3.8/site-packages (from google-auth<3.0.dev0,>=2.14.1->google-api-core<3.0.0dev,>=1.22.1->google-api-core[grpc]<3.0.0dev,>=1.22.1; platform_python_implementation != \"PyPy\"->firebase-admin) (4.9)\n",
      "Requirement already satisfied: six in /Users/wkaiser/miniforge3/envs/tf/lib/python3.8/site-packages (from google-auth-httplib2>=0.1.0->google-api-python-client>=1.7.8->firebase-admin) (1.15.0)\n",
      "Requirement already satisfied: pyparsing!=3.0.0,!=3.0.1,!=3.0.2,!=3.0.3,<4,>=2.4.2 in /Users/wkaiser/miniforge3/envs/tf/lib/python3.8/site-packages (from httplib2<1.dev0,>=0.15.0->google-api-python-client>=1.7.8->firebase-admin) (3.0.9)\n",
      "Requirement already satisfied: charset-normalizer<3,>=2 in /Users/wkaiser/miniforge3/envs/tf/lib/python3.8/site-packages (from requests>=2.16.0->cachecontrol>=0.12.6->firebase-admin) (2.1.1)\n",
      "Requirement already satisfied: idna<4,>=2.5 in /Users/wkaiser/miniforge3/envs/tf/lib/python3.8/site-packages (from requests>=2.16.0->cachecontrol>=0.12.6->firebase-admin) (3.4)\n",
      "Requirement already satisfied: urllib3<1.27,>=1.21.1 in /Users/wkaiser/miniforge3/envs/tf/lib/python3.8/site-packages (from requests>=2.16.0->cachecontrol>=0.12.6->firebase-admin) (1.26.13)\n",
      "Requirement already satisfied: certifi>=2017.4.17 in /Users/wkaiser/miniforge3/envs/tf/lib/python3.8/site-packages (from requests>=2.16.0->cachecontrol>=0.12.6->firebase-admin) (2022.12.7)\n",
      "Requirement already satisfied: pycparser in /Users/wkaiser/miniforge3/envs/tf/lib/python3.8/site-packages (from cffi>=1.12->cryptography>=3.4.0->pyjwt[crypto]>=2.5.0->firebase-admin) (2.21)\n",
      "Requirement already satisfied: pyasn1<0.5.0,>=0.4.6 in /Users/wkaiser/miniforge3/envs/tf/lib/python3.8/site-packages (from pyasn1-modules>=0.2.1->google-auth<3.0.dev0,>=2.14.1->google-api-core<3.0.0dev,>=1.22.1->google-api-core[grpc]<3.0.0dev,>=1.22.1; platform_python_implementation != \"PyPy\"->firebase-admin) (0.4.8)\n",
      "\n",
      "\u001b[1m[\u001b[0m\u001b[34;49mnotice\u001b[0m\u001b[1;39;49m]\u001b[0m\u001b[39;49m A new release of pip is available: \u001b[0m\u001b[31;49m23.3.2\u001b[0m\u001b[39;49m -> \u001b[0m\u001b[32;49m24.0\u001b[0m\n",
      "\u001b[1m[\u001b[0m\u001b[34;49mnotice\u001b[0m\u001b[1;39;49m]\u001b[0m\u001b[39;49m To update, run: \u001b[0m\u001b[32;49mpip install --upgrade pip\u001b[0m\n",
      "Requirement already satisfied: firebase in /Users/wkaiser/miniforge3/envs/tf/lib/python3.8/site-packages (4.0.1)\n",
      "Requirement already satisfied: requests in /Users/wkaiser/miniforge3/envs/tf/lib/python3.8/site-packages (from firebase) (2.28.1)\n",
      "Requirement already satisfied: charset-normalizer<3,>=2 in /Users/wkaiser/miniforge3/envs/tf/lib/python3.8/site-packages (from requests->firebase) (2.1.1)\n",
      "Requirement already satisfied: idna<4,>=2.5 in /Users/wkaiser/miniforge3/envs/tf/lib/python3.8/site-packages (from requests->firebase) (3.4)\n",
      "Requirement already satisfied: urllib3<1.27,>=1.21.1 in /Users/wkaiser/miniforge3/envs/tf/lib/python3.8/site-packages (from requests->firebase) (1.26.13)\n",
      "Requirement already satisfied: certifi>=2017.4.17 in /Users/wkaiser/miniforge3/envs/tf/lib/python3.8/site-packages (from requests->firebase) (2022.12.7)\n",
      "^C\n",
      "\u001b[31mERROR: Operation cancelled by user\u001b[0m\u001b[31m\n",
      "\u001b[0m"
     ]
    }
   ],
   "source": [
    "!pip install firebase-admin\n",
    "!pip install firebase"
   ]
  },
  {
   "cell_type": "code",
   "execution_count": 5,
   "metadata": {},
   "outputs": [],
   "source": [
    "import firebase_admin\n",
    "from firebase_admin import credentials, firestore\n",
    "from google.oauth2 import service_account\n",
    "import json\n",
    "import pandas as pd\n",
    "from tqdm import tqdm\n",
    "\n",
    "tqdm.pandas()"
   ]
  },
  {
   "cell_type": "code",
   "execution_count": 6,
   "metadata": {},
   "outputs": [],
   "source": [
    "with  open('creds.json') as f:\n",
    "    service_account_info = json.load(f)\n",
    "\n",
    "credentials = service_account.Credentials.from_service_account_info(service_account_info)\n",
    "db = firestore.Client(credentials=credentials)"
   ]
  },
  {
   "cell_type": "code",
   "execution_count": 14,
   "metadata": {},
   "outputs": [
    {
     "data": {
      "text/html": [
       "<div>\n",
       "<style scoped>\n",
       "    .dataframe tbody tr th:only-of-type {\n",
       "        vertical-align: middle;\n",
       "    }\n",
       "\n",
       "    .dataframe tbody tr th {\n",
       "        vertical-align: top;\n",
       "    }\n",
       "\n",
       "    .dataframe thead th {\n",
       "        text-align: right;\n",
       "    }\n",
       "</style>\n",
       "<table border=\"1\" class=\"dataframe\">\n",
       "  <thead>\n",
       "    <tr style=\"text-align: right;\">\n",
       "      <th></th>\n",
       "      <th>id</th>\n",
       "      <th>title</th>\n",
       "      <th>description</th>\n",
       "      <th>number</th>\n",
       "      <th>average_rating</th>\n",
       "      <th>num_reviews</th>\n",
       "      <th>mnemonic</th>\n",
       "    </tr>\n",
       "  </thead>\n",
       "  <tbody>\n",
       "    <tr>\n",
       "      <th>0</th>\n",
       "      <td>1</td>\n",
       "      <td>Introduction to African-American and African S...</td>\n",
       "      <td>This introductory course surveys the histories...</td>\n",
       "      <td>1010</td>\n",
       "      <td>4.633333</td>\n",
       "      <td>10</td>\n",
       "      <td>AAS</td>\n",
       "    </tr>\n",
       "    <tr>\n",
       "      <th>1</th>\n",
       "      <td>5</td>\n",
       "      <td>Intermediate Seminar in African-American &amp; Afr...</td>\n",
       "      <td>Reading, class discussion, and written assignm...</td>\n",
       "      <td>3500</td>\n",
       "      <td>3.925926</td>\n",
       "      <td>9</td>\n",
       "      <td>AAS</td>\n",
       "    </tr>\n",
       "    <tr>\n",
       "      <th>2</th>\n",
       "      <td>29</td>\n",
       "      <td>Introduction to American Studies</td>\n",
       "      <td>This course introduces students to American St...</td>\n",
       "      <td>2001</td>\n",
       "      <td>3.552083</td>\n",
       "      <td>32</td>\n",
       "      <td>AMST</td>\n",
       "    </tr>\n",
       "    <tr>\n",
       "      <th>3</th>\n",
       "      <td>31</td>\n",
       "      <td>Theories and Methods of American Studies</td>\n",
       "      <td>This seminar course will introduce majors to v...</td>\n",
       "      <td>3001</td>\n",
       "      <td>4.196078</td>\n",
       "      <td>17</td>\n",
       "      <td>AMST</td>\n",
       "    </tr>\n",
       "    <tr>\n",
       "      <th>4</th>\n",
       "      <td>32</td>\n",
       "      <td>Introduction to Asian American Studies</td>\n",
       "      <td>An interdisciplinary introduction to the cultu...</td>\n",
       "      <td>3180</td>\n",
       "      <td>4.142857</td>\n",
       "      <td>7</td>\n",
       "      <td>AMST</td>\n",
       "    </tr>\n",
       "    <tr>\n",
       "      <th>...</th>\n",
       "      <td>...</td>\n",
       "      <td>...</td>\n",
       "      <td>...</td>\n",
       "      <td>...</td>\n",
       "      <td>...</td>\n",
       "      <td>...</td>\n",
       "      <td>...</td>\n",
       "    </tr>\n",
       "    <tr>\n",
       "      <th>990</th>\n",
       "      <td>15550</td>\n",
       "      <td>Psychopharmacology of Plants</td>\n",
       "      <td>This course begins with discussion of pharmaco...</td>\n",
       "      <td>4019</td>\n",
       "      <td>3.000000</td>\n",
       "      <td>1</td>\n",
       "      <td>BIOL</td>\n",
       "    </tr>\n",
       "    <tr>\n",
       "      <th>991</th>\n",
       "      <td>15584</td>\n",
       "      <td>Latin Linguistics</td>\n",
       "      <td>This course will examine some of the major iss...</td>\n",
       "      <td>5080</td>\n",
       "      <td>4.000000</td>\n",
       "      <td>1</td>\n",
       "      <td>LATI</td>\n",
       "    </tr>\n",
       "    <tr>\n",
       "      <th>992</th>\n",
       "      <td>15602</td>\n",
       "      <td>Questions in the Study of Religion</td>\n",
       "      <td>This course introduces undergraduates to the e...</td>\n",
       "      <td>1000</td>\n",
       "      <td>4.666667</td>\n",
       "      <td>1</td>\n",
       "      <td>RELG</td>\n",
       "    </tr>\n",
       "    <tr>\n",
       "      <th>993</th>\n",
       "      <td>15606</td>\n",
       "      <td>Languages of Love in South Asia: Bhakti and Be...</td>\n",
       "      <td>The course explores some of the most influenti...</td>\n",
       "      <td>3350</td>\n",
       "      <td>4.333333</td>\n",
       "      <td>1</td>\n",
       "      <td>SATR</td>\n",
       "    </tr>\n",
       "    <tr>\n",
       "      <th>994</th>\n",
       "      <td>15608</td>\n",
       "      <td>Cyber-Physical Systems Technology and Ethics</td>\n",
       "      <td>This course is designed to develop cross-compe...</td>\n",
       "      <td>6780</td>\n",
       "      <td>4.000000</td>\n",
       "      <td>1</td>\n",
       "      <td>SYS</td>\n",
       "    </tr>\n",
       "  </tbody>\n",
       "</table>\n",
       "<p>995 rows × 7 columns</p>\n",
       "</div>"
      ],
      "text/plain": [
       "        id                                              title  \\\n",
       "0        1  Introduction to African-American and African S...   \n",
       "1        5  Intermediate Seminar in African-American & Afr...   \n",
       "2       29                   Introduction to American Studies   \n",
       "3       31           Theories and Methods of American Studies   \n",
       "4       32             Introduction to Asian American Studies   \n",
       "..     ...                                                ...   \n",
       "990  15550                       Psychopharmacology of Plants   \n",
       "991  15584                                  Latin Linguistics   \n",
       "992  15602                 Questions in the Study of Religion   \n",
       "993  15606  Languages of Love in South Asia: Bhakti and Be...   \n",
       "994  15608       Cyber-Physical Systems Technology and Ethics   \n",
       "\n",
       "                                           description  number  \\\n",
       "0    This introductory course surveys the histories...    1010   \n",
       "1    Reading, class discussion, and written assignm...    3500   \n",
       "2    This course introduces students to American St...    2001   \n",
       "3    This seminar course will introduce majors to v...    3001   \n",
       "4    An interdisciplinary introduction to the cultu...    3180   \n",
       "..                                                 ...     ...   \n",
       "990  This course begins with discussion of pharmaco...    4019   \n",
       "991  This course will examine some of the major iss...    5080   \n",
       "992  This course introduces undergraduates to the e...    1000   \n",
       "993  The course explores some of the most influenti...    3350   \n",
       "994  This course is designed to develop cross-compe...    6780   \n",
       "\n",
       "     average_rating  num_reviews mnemonic  \n",
       "0          4.633333           10      AAS  \n",
       "1          3.925926            9      AAS  \n",
       "2          3.552083           32     AMST  \n",
       "3          4.196078           17     AMST  \n",
       "4          4.142857            7     AMST  \n",
       "..              ...          ...      ...  \n",
       "990        3.000000            1     BIOL  \n",
       "991        4.000000            1     LATI  \n",
       "992        4.666667            1     RELG  \n",
       "993        4.333333            1     SATR  \n",
       "994        4.000000            1      SYS  \n",
       "\n",
       "[995 rows x 7 columns]"
      ]
     },
     "execution_count": 14,
     "metadata": {},
     "output_type": "execute_result"
    }
   ],
   "source": [
    "# reading the CSV of courses\n",
    "df = pd.read_csv('course_data.csv')\n",
    "df = df.drop(columns=['sem_last_laught'])\n",
    "\n",
    "df"
   ]
  },
  {
   "cell_type": "code",
   "execution_count": 15,
   "metadata": {},
   "outputs": [
    {
     "name": "stderr",
     "output_type": "stream",
     "text": [
      "100%|██████████| 995/995 [01:15<00:00, 13.26it/s]\n"
     ]
    },
    {
     "data": {
      "text/plain": [
       "0      None\n",
       "1      None\n",
       "2      None\n",
       "3      None\n",
       "4      None\n",
       "       ... \n",
       "990    None\n",
       "991    None\n",
       "992    None\n",
       "993    None\n",
       "994    None\n",
       "Length: 995, dtype: object"
      ]
     },
     "execution_count": 15,
     "metadata": {},
     "output_type": "execute_result"
    }
   ],
   "source": [
    "courses = db.collection('courses')\n",
    "def upload_course(row):\n",
    "  dict_row = row.to_dict()\n",
    "  \n",
    "  try:\n",
    "    courses.document(str(dict_row['id'])).set(dict_row)\n",
    "  except:\n",
    "    print(\"failed to set\", dict_row['id'])\n",
    "\n",
    "df.progress_apply(upload_course, axis=1)"
   ]
  },
  {
   "cell_type": "code",
   "execution_count": null,
   "metadata": {},
   "outputs": [
    {
     "name": "stderr",
     "output_type": "stream",
     "text": [
      "0it [00:00, ?it/s]"
     ]
    },
    {
     "name": "stderr",
     "output_type": "stream",
     "text": [
      "945it [00:08, 109.03it/s]\n"
     ]
    },
    {
     "ename": "KeyError",
     "evalue": "\"'description' is not contained in the data\"",
     "output_type": "error",
     "traceback": [
      "\u001b[0;31m---------------------------------------------------------------------------\u001b[0m",
      "\u001b[0;31mKeyError\u001b[0m                                  Traceback (most recent call last)",
      "Input \u001b[0;32mIn [17]\u001b[0m, in \u001b[0;36m<cell line: 5>\u001b[0;34m()\u001b[0m\n\u001b[1;32m      5\u001b[0m \u001b[38;5;28;01mfor\u001b[39;00m club \u001b[38;5;129;01min\u001b[39;00m tqdm(db\u001b[38;5;241m.\u001b[39mcollection(\u001b[38;5;124m'\u001b[39m\u001b[38;5;124mclubs\u001b[39m\u001b[38;5;124m'\u001b[39m)\u001b[38;5;241m.\u001b[39mstream()):\n\u001b[1;32m      6\u001b[0m   \u001b[38;5;66;03m# add a description field\u001b[39;00m\n\u001b[1;32m      7\u001b[0m   club_dict \u001b[38;5;241m=\u001b[39m club\u001b[38;5;241m.\u001b[39mto_dict()\n\u001b[0;32m----> 9\u001b[0m   \u001b[38;5;28;01mif\u001b[39;00m \u001b[43mclub\u001b[49m\u001b[38;5;241;43m.\u001b[39;49m\u001b[43mget\u001b[49m\u001b[43m(\u001b[49m\u001b[38;5;124;43m'\u001b[39;49m\u001b[38;5;124;43mdescription\u001b[39;49m\u001b[38;5;124;43m'\u001b[39;49m\u001b[43m)\u001b[49m:\n\u001b[1;32m     10\u001b[0m     \u001b[38;5;28;01mcontinue\u001b[39;00m\n\u001b[1;32m     12\u001b[0m   club_dict[\u001b[38;5;124m'\u001b[39m\u001b[38;5;124mdescription\u001b[39m\u001b[38;5;124m'\u001b[39m] \u001b[38;5;241m=\u001b[39m \u001b[38;5;124m'\u001b[39m\u001b[38;5;124m'\u001b[39m\n",
      "File \u001b[0;32m~/miniforge3/envs/tf/lib/python3.8/site-packages/google/cloud/firestore_v1/base_document.py:487\u001b[0m, in \u001b[0;36mDocumentSnapshot.get\u001b[0;34m(self, field_path)\u001b[0m\n\u001b[1;32m    485\u001b[0m \u001b[38;5;28;01mif\u001b[39;00m \u001b[38;5;129;01mnot\u001b[39;00m \u001b[38;5;28mself\u001b[39m\u001b[38;5;241m.\u001b[39m_exists:\n\u001b[1;32m    486\u001b[0m     \u001b[38;5;28;01mreturn\u001b[39;00m \u001b[38;5;28;01mNone\u001b[39;00m\n\u001b[0;32m--> 487\u001b[0m nested_data \u001b[38;5;241m=\u001b[39m \u001b[43mfield_path_module\u001b[49m\u001b[38;5;241;43m.\u001b[39;49m\u001b[43mget_nested_value\u001b[49m\u001b[43m(\u001b[49m\u001b[43mfield_path\u001b[49m\u001b[43m,\u001b[49m\u001b[43m \u001b[49m\u001b[38;5;28;43mself\u001b[39;49m\u001b[38;5;241;43m.\u001b[39;49m\u001b[43m_data\u001b[49m\u001b[43m)\u001b[49m\n\u001b[1;32m    488\u001b[0m \u001b[38;5;28;01mreturn\u001b[39;00m copy\u001b[38;5;241m.\u001b[39mdeepcopy(nested_data)\n",
      "File \u001b[0;32m~/miniforge3/envs/tf/lib/python3.8/site-packages/google/cloud/firestore_v1/field_path.py:239\u001b[0m, in \u001b[0;36mget_nested_value\u001b[0;34m(field_path, data)\u001b[0m\n\u001b[1;32m    237\u001b[0m \u001b[38;5;28;01mif\u001b[39;00m index \u001b[38;5;241m==\u001b[39m \u001b[38;5;241m0\u001b[39m:\n\u001b[1;32m    238\u001b[0m     msg \u001b[38;5;241m=\u001b[39m _FIELD_PATH_MISSING_TOP\u001b[38;5;241m.\u001b[39mformat(field_name)\n\u001b[0;32m--> 239\u001b[0m     \u001b[38;5;28;01mraise\u001b[39;00m \u001b[38;5;167;01mKeyError\u001b[39;00m(msg)\n\u001b[1;32m    240\u001b[0m \u001b[38;5;28;01melse\u001b[39;00m:\n\u001b[1;32m    241\u001b[0m     partial \u001b[38;5;241m=\u001b[39m render_field_path(field_names[:index])\n",
      "\u001b[0;31mKeyError\u001b[0m: \"'description' is not contained in the data\""
     ]
    }
   ],
   "source": [
    "import requests\n",
    "\n",
    "session = requests.Session()\n",
    "\n",
    "for club in tqdm(db.collection('clubs').stream()):\n",
    "  # add a description field\n",
    "  club_dict = club.to_dict()\n",
    "\n",
    "  if club.get('description'):\n",
    "    continue\n",
    "  \n",
    "  club_dict['description'] = ''\n",
    "\n",
    "  uri = club_dict.get('uri')\n",
    "  \n",
    "  if not uri:\n",
    "    continue\n",
    "\n",
    "  url = f\"https://api.presence.io/virginia/v1/organizations/{uri}\"\n",
    "  response = session.get(url)\n",
    "\n",
    "  if response.status_code == 200:\n",
    "    data = response.json()\n",
    "    club_dict['description'] = data.get('description')\n",
    "    club.reference.set(club_dict)\n",
    "\n",
    "  else:\n",
    "    print(\"failed to get\", uri)"
   ]
  },
  {
   "cell_type": "code",
   "execution_count": 17,
   "metadata": {},
   "outputs": [
    {
     "name": "stdout",
     "output_type": "stream",
     "text": [
      "\n",
      "\u001b[1m[\u001b[0m\u001b[34;49mnotice\u001b[0m\u001b[1;39;49m]\u001b[0m\u001b[39;49m A new release of pip is available: \u001b[0m\u001b[31;49m23.3.2\u001b[0m\u001b[39;49m -> \u001b[0m\u001b[32;49m24.0\u001b[0m\n",
      "\u001b[1m[\u001b[0m\u001b[34;49mnotice\u001b[0m\u001b[1;39;49m]\u001b[0m\u001b[39;49m To update, run: \u001b[0m\u001b[32;49mpip install --upgrade pip\u001b[0m\n"
     ]
    }
   ],
   "source": [
    "!pip install -qU \\\n",
    "  pinecone-client==3.0.0 \\\n",
    "  pandas==2.0.3\n",
    "\n",
    "from pinecone import Pinecone, ServerlessSpec\n",
    "import time\n",
    "import os\n",
    "\n",
    "# initialize connection to pinecone (get API key at app.pc.io)\n",
    "api_key = os.environ.get('PINECONE_API_KEY')\n",
    "\n",
    "# configure client\n",
    "pc = Pinecone(api_key=api_key)\n",
    "spec = ServerlessSpec(cloud='aws', region='us-west-2')\n",
    "\n",
    "# pc.create_index(\n",
    "#     name=\"clubs\", \n",
    "#     dimension=1536, \n",
    "#     metric=\"euclidean\",\n",
    "#     spec=spec\n",
    "# )\n",
    "\n",
    "pc.create_index(\n",
    "    name=\"courses\", \n",
    "    dimension=1536, \n",
    "    metric=\"euclidean\",\n",
    "    spec=spec\n",
    ")"
   ]
  },
  {
   "cell_type": "code",
   "execution_count": 18,
   "metadata": {},
   "outputs": [],
   "source": [
    "from openai import OpenAI\n",
    "\n",
    "OPENAIKEY = os.environ.get('OPENAI_API_KEY') \n",
    "client = OpenAI(\n",
    "    # This is the default and can be omitted\n",
    "    api_key=OPENAIKEY,\n",
    ")"
   ]
  },
  {
   "cell_type": "code",
   "execution_count": null,
   "metadata": {},
   "outputs": [
    {
     "name": "stderr",
     "output_type": "stream",
     "text": [
      "0it [00:00, ?it/s]"
     ]
    },
    {
     "name": "stdout",
     "output_type": "stream",
     "text": [
      "name Net Impact at the University of Virginia description Net Impact focuses on the intersection of sustainability, social impact, and business. We aim to create a positive impact on Grounds by raising awareness of careers in sustainability, educating students by offering events such as dinner series with Professors and panels with business leaders, providing a community for like-minded individuals, and equipping students with the necessary tools to intertwine business with sustainability and social impact. tags McIntire School of Commerce, Sustainability, Academic & Professional, Contracted Independent Organization (CIO) members 22\n"
     ]
    },
    {
     "name": "stderr",
     "output_type": "stream",
     "text": [
      "2it [00:00,  4.51it/s]"
     ]
    },
    {
     "name": "stdout",
     "output_type": "stream",
     "text": [
      "name Virginia Players description Players tags Department Group or Program, Social & Hobby, Visual & Performing Arts members 12\n",
      "name Accessible Theatre Project description Accessible Theatre Project strives to offer safe, judgement-free environments for audiences who would benefit from accessibility accommodations. We provide inclusive theater experiences for neurodiverse audience members and their families by partnering with theater organizations to create sensory-friendly productions. tags Contracted Independent Organization (CIO), Visual & Performing Arts, Social & Hobby, Public Service, No Application or Interview Required members 11\n"
     ]
    },
    {
     "name": "stderr",
     "output_type": "stream",
     "text": [
      "4it [00:00,  5.82it/s]"
     ]
    },
    {
     "name": "stdout",
     "output_type": "stream",
     "text": [
      "name Darden Latter-day Saint Student Association description The Darden LDS Student Association (Darden LDSSA) is a club to help members of the Darden community (students, faculty and families) maintain balance between their professional, personal and spiritual lives and live consistently with the teachings of Jesus Christ. Additionally, Darden LDSSA serves as a resource for members of The Church of Jesus Christ of Latter-day Saints (LDS or Mormons) within the Darden community, including applicants, students, and alumni interested in the LDS environment at the Darden School of Business. tags Darden School, Contracted Independent Organization (CIO), Religious & Spiritual, No Application or Interview Required members 9\n",
      "name Shoes 4 Hope description S4H, founded in December 2021, is inspired by (although independent of) Coaches vs. Cancer, a collaboration between the American Cancer Society and the NABC that encourages coaches and communities to fight cancer. S4H focuses specifically on pediatric oncology patients, and works with partnering companies to provide children in various areas nationwide with the opportunity to custom paint a pair of Nike Air Force Ones. These shoes are then worn by the coaching staff, and other leadership during a game, with each coach or individual wearing a unique pair created by one of the participating children. After the game, the shoes are signed, returned to S4H, and donated to local health systems, which auction them off to raise funds for their pediatric oncology departments.In addition to the shoe painting, participating children are given tickets to a game, stadium tours, access to a basketball practice and halftime recognition during the aforementioned game. S4H aims to increase public awareness of pediatric cancer and provide children with the chance to express themselves creatively, while also bringing attention to an underfunded area of cancer research. tags Public Service members 0\n"
     ]
    },
    {
     "name": "stderr",
     "output_type": "stream",
     "text": [
      "7it [00:02,  2.52it/s]"
     ]
    },
    {
     "name": "stdout",
     "output_type": "stream",
     "text": [
      "name Virginia Women's Rugby description We are a Division I collegiate women's rugby club team at UVA. We are consistently ranked as one of the top 5 teams in the country, even though the majority our players have never played rugby before arriving at college. Rugby is a great way for anyone who played sports in high school to stay involved with a team. Some of our players have done other sports, like soccer or basketball, before deciding to give rugby a try, but it really is a sport for any and everybody. We are a fun team both on and off the field, and we are always looking for new players! tags Club Sport, Contracted Independent Organization (CIO) members 21\n",
      "name Virginia Riding Team description The Virginia Riding Team is a club sport, allowing students to build their equestrian skills. Our members have the opportunity to get outside and ride horses at the Barracks, a private equestrian facility about 15 minutes from UVA grounds. All members take 2 lessons per week, and each lesson is 1 hour long. We pride ourselves on being an inclusive organization, with riders of all skill level. In addition to riding for leisure, the team competes in IHSA, which allows us to travel to and host other colleges at the regional and national level.  tags Social & Hobby, Club Sport, Contracted Independent Organization (CIO) members 32\n"
     ]
    },
    {
     "name": "stderr",
     "output_type": "stream",
     "text": [
      "9it [00:02,  3.40it/s]"
     ]
    },
    {
     "name": "stdout",
     "output_type": "stream",
     "text": [
      "name The Intramural Golf Club at UVA description We are an intramural golf league that is available to everyone, regardless of previous golf experience. Our club features individual tournament-style competitions as well as team ladder competitions where people can join with a team and challenge others to move up on the ladder. We hope to receive funding from the school to be able to subsidize tee times and equipment for members. Contact us if you'd like to join! tags Social & Hobby, Public Service, Contracted Independent Organization (CIO), No Application or Interview Required members 12\n",
      "name HRL SR - Language Houses description HRL tags Residence Hall, Administrative Unit members 0\n"
     ]
    },
    {
     "name": "stderr",
     "output_type": "stream",
     "text": [
      "11it [00:03,  4.37it/s]"
     ]
    },
    {
     "name": "stdout",
     "output_type": "stream",
     "text": [
      "name Quidditch at the University of Virginia description The club is a nationally competitive team. The team is self-coached and practices three times a week year-round. The team travels to other universities for tournaments, such as the University of Maryland, George Mason, Virginia Tech, and more. Our nationally competitive team participates in regionals and nationals hosted by the US Quadball organization.  tags Contracted Independent Organization (CIO), Club Sport, Social & Hobby members 8\n",
      "name Chi Phi (Alpha Chapter) description FSL tags Political & Advocacy, Social & Hobby, Public Service, Fraternity or Sorority members 0\n"
     ]
    },
    {
     "name": "stderr",
     "output_type": "stream",
     "text": [
      "13it [00:03,  5.32it/s]"
     ]
    },
    {
     "name": "stdout",
     "output_type": "stream",
     "text": [
      "name Project Code description Project: Code aims to empower UVA students by emphasizing a problem solving process through real-life applications of computer science. Connecting passionate individuals with various skills and similar interests presents a high priority. Numerous students have never attempted a CS project before, and we hope to offer them the opportunity to prepare for life outside of UVA. These projects will provide students with necessary skills and a creative outlet. tags Contracted Independent Organization (CIO), Social & Hobby members 36\n",
      "name Inter-Fraternity Council description FSL tags Contracted Independent Organization (CIO), Public Service, Political & Advocacy, Social & Hobby, Fraternity or Sorority members 10\n"
     ]
    },
    {
     "name": "stderr",
     "output_type": "stream",
     "text": [
      "15it [00:03,  6.07it/s]"
     ]
    },
    {
     "name": "stdout",
     "output_type": "stream",
     "text": [
      "name HRL SR - Page-Emmet description HRL tags Administrative Unit, Residence Hall members 0\n",
      "name Rocketry Club at UVA description The UVA Rocketry Club is dedicated to designing, building, and launching high-power rockets. We offer members the opportunity to gain hands-on experience in all aspects of rocketry, including designing and building the rocket, testing and analysis, and launching. Our club is open to all students regardless of their background, major, or experience level. We regularly participate in regional and national competitions, and our members have the chance to earn certifications from the Tripoli Rocketry Association. Through our activities, members develop technical skills, leadership abilities, and a passion for innovation and exploration. tags No Application or Interview Required, Contracted Independent Organization (CIO), Academic & Professional, Social & Hobby members 49\n"
     ]
    },
    {
     "name": "stderr",
     "output_type": "stream",
     "text": [
      "17it [00:04,  6.66it/s]"
     ]
    },
    {
     "name": "stdout",
     "output_type": "stream",
     "text": [
      "name Office for Academic Outreach description The Office for Academic Outreach connects UVA with the community and the world through public-facing programming that educates and engages individuals and enriches our society. A respectful exchange of views, data, and information is crucial to our work. Academic Outreach augments UVA’s mission to graduate ethically-minded leaders by amplifying programs that clearly serve the public and by supporting research that leads the Commonwealth, the nation, and the world toward a better future. You can find our team, led by Vice Provost Louis Nelson, on the 2nd floor of O'Neil Hall on Rugby Road right next to Beta Bridge. tags Department, Schools, or Centers members 0\n",
      "name HRL SR - Kellogg description HRL tags Administrative Unit, Residence Hall members 0\n"
     ]
    },
    {
     "name": "stderr",
     "output_type": "stream",
     "text": [
      "19it [00:04,  6.74it/s]"
     ]
    },
    {
     "name": "stdout",
     "output_type": "stream",
     "text": [
      "name Latinx Nursing Student Union description The Latinx Nursing Student Union is established in order to empower and connect the Latinx Nursing students at UVA, help serve the community, promote the nursing profession to other Latinx students in the Charlottesville area, and educate and provide support to the latinx students in the school of nursing. tags No Application or Interview Required, Contracted Independent Organization (CIO), Academic & Professional, Cultural & Ethnic members 10\n",
      "name OFFScreen description We meet weekly to watch and discuss foreign and classic films.  tags Contracted Independent Organization (CIO), Social & Hobby, Visual & Performing Arts, Media & Publications members 32\n"
     ]
    },
    {
     "name": "stderr",
     "output_type": "stream",
     "text": [
      "21it [00:04,  6.91it/s]"
     ]
    },
    {
     "name": "stdout",
     "output_type": "stream",
     "text": [
      "name Moneyed Interest description At Moneyed Interest, our goal is to make personal finance and investment education available to all. We hold weekly meetings about finance topics we find interesting, stock pitch opportunities, and educational presentations. We also manage a club portfolio. Feel free to email with any questions! tags Contracted Independent Organization (CIO), No Application or Interview Required members 12\n",
      "name Runway at UVA description \"Empowering and teaching students at UVA to acquire the skills necessary to produce clothing/creative concepts, offering hands-on experience working in the fashion industry by allowing students to collaborate together and put on a production to showcase their designs, and investing in philanthropic causes through the use of student talent and RunWay showcases, while expressing our mission of exploring fashion through a limitless lens within the UVA Community.\" tags Visual & Performing Arts, Cultural & Ethnic, Contracted Independent Organization (CIO) members 5\n"
     ]
    },
    {
     "name": "stderr",
     "output_type": "stream",
     "text": [
      "23it [00:04,  7.47it/s]"
     ]
    },
    {
     "name": "stdout",
     "output_type": "stream",
     "text": [
      "name Club Table Tennis at UVA description Looking for a fun way to stay active and meet new people at UVA? Look no further than Club Table Tennis! Whether you're a seasoned pro or a beginner, our club provides a welcoming space for all skill levels to come together and enjoy the fast-paced excitement of table tennis. With plenty of opportunities for both friendly matches and competitive play, our club is the perfect way to stay sharp and have fun all year round. If you make it to the team there will be NCTTA(National Collegiate Table Tennis Association) competitions with schools all over the country. Don't miss out on the chance to join a community of like-minded table tennis enthusiasts - come join us today!Please check out our Instagram and Groupme for the most up-to-date information. Feel free to message us on both platforms if you have any questions!Instagram: @tabletennisatuvaGroupme: https://groupme.com/join_group/70072736/4BotDVcQFacebook: @tabletennisatuva tags No Application or Interview Required, Contracted Independent Organization (CIO), Social & Hobby, Club Sport members 72\n",
      "name Virginia Consulting Group description Virginia Consulting Group provides hands-on consulting opportunities for students at UVA. Members work in semester-long project teams to provide pro-bono and paid consulting services, helping clients solve real-world problems. VCG also assists with personal development through training workshops, professional mentorship programs, networking events, and club social events. tags Social & Hobby, Public Service, Contracted Independent Organization (CIO), Academic & Professional, McIntire School of Commerce, Media & Publications members 46\n"
     ]
    },
    {
     "name": "stderr",
     "output_type": "stream",
     "text": [
      "25it [00:05,  7.49it/s]"
     ]
    },
    {
     "name": "stdout",
     "output_type": "stream",
     "text": [
      "name Dissenters at UVA description Dissenters at UVA is a collective of anti-militarist, abolitionist organizers here at the University of Virginia. We are part of a new national movement organization that is leading our generation to reclaim our resources from the war industry, reinvest in life-giving institutions, and repair collaborative relationships with the earth and people around the world. Join us today to help turn the tide against militarism! tags Contracted Independent Organization (CIO), Political & Advocacy, No Application or Interview Required members 11\n",
      "name Young Life Leadership description Young Life Leadership at the University of Virginia exists to train and equip the members in the skills and techniques of leadership in Christ in regards to adolescent ministry as described by the Young Life statement of purpose. tags Religious & Spiritual, Leadership Development, Contracted Independent Organization (CIO) members 10\n"
     ]
    },
    {
     "name": "stderr",
     "output_type": "stream",
     "text": [
      "27it [00:05,  6.63it/s]"
     ]
    },
    {
     "name": "stdout",
     "output_type": "stream",
     "text": [
      "name The Writer's Club at the University of Virginia (UVA) description The Writer’s Club at the University of Virginia is dedicated to enhancing the creative community at UVA and providing an environment for all students to grow and succeed both creatively and professionally. We welcome students from all backgrounds of creative writing experience. We meet weekly to review each other's work, talk about our personal writing goals, and talk about our projects! Our meetings are designed to encourage new members to share their fiction writing in an open environment. We also provide resources to support and encourage the creative growth of each of our members.Although this organization has members who are University of Virginia students and may have University employees associated or engaged in its activities and affairs, the organization is not a part of or an agency of the University. It is a separate and independent organization, which is responsible for and manages its own activities and affairs. The University does not direct, supervise or control the organization and is not responsible for the organization’s contracts, acts or omissions. tags Social & Hobby, Contracted Independent Organization (CIO), Academic & Professional, No Application or Interview Required members 39\n",
      "name HRL SR - Watson-Webb description HRL tags Residence Hall, Administrative Unit members 1\n"
     ]
    },
    {
     "name": "stderr",
     "output_type": "stream",
     "text": [
      "29it [00:05,  6.74it/s]"
     ]
    },
    {
     "name": "stdout",
     "output_type": "stream",
     "text": [
      "name Data Science and Analytics Club description The Data Science and Analytics Club (DSAC) exists to promote student led exploration of data science topics and opportunities. As a club, we actively work to reduce entrance barriers while simultaneously creating a vibrant community of practice where students from all backgrounds and skill levels can find inspiration while they grow, share and apply their skills.Here are our links: https://linktr.ee/DSACatUVA tags No Application or Interview Required, Academic & Professional, Contracted Independent Organization (CIO) members 356\n",
      "name Club Bowling at UVA description Club Bowling at UVA is a club where members go bowling at Bowlero in Charlottesville. At these bowling events, members have the chance to improve their bowling skills and have fun with other members. Additionally, we have a competition squad that competes in bowling competitions against other schools. tags Social & Hobby, Club Sport, Contracted Independent Organization (CIO) members 22\n"
     ]
    },
    {
     "name": "stderr",
     "output_type": "stream",
     "text": [
      "31it [00:05,  7.26it/s]"
     ]
    },
    {
     "name": "stdout",
     "output_type": "stream",
     "text": [
      "name College Council description The Council shall represent the interests, ambitions, and academic needs specific to the students in the College of Arts and Sciences to the larger University of Virginia community. tags Administrative Unit, Academic & Professional, Special Status Organization (SSO) members 12\n",
      "name International Genetically Engineered Machines Team at the University of Virginia description iGEM stands for International Genetically Engineered Machine, and is an annual ~9 month long science and engineering organization and competition for Undergraduates, Overgraduates and a few Highschool teams.-----------------------------------------------------------------------------iGEM serves a dual role of promoting synthetic biology among students, as well as creating a conference for the presentation of novel technologies in the field of synthetic biology. As of 2018, iGEM consisted of 340 teams with 5790 total participants, not including staff, sponsors and visitors, spanning 42 different countries.Virginia iGEM has been one of these teams from 2007 to present day; we have won gold medals, multiple best-of-competition nominations and prizes, and we get better and better every year. tags Academic & Professional, Contracted Independent Organization (CIO) members 7\n"
     ]
    },
    {
     "name": "stderr",
     "output_type": "stream",
     "text": [
      "32it [00:06,  7.02it/s]"
     ]
    },
    {
     "name": "stdout",
     "output_type": "stream",
     "text": [
      "name Omega Phi Beta Sorority, Inc. description The Iota Chapter of Omega Phi Beta Sorority, Inc. ?The purpose of Omega Phi Beta Sorority Incorporated is to Serve and Educate people of diverse backgrounds through sisterhood, leadership, and guidance. As positive role models, we promote unity of all cultures, focus on the empowerment of our gender and raise the standards of excellence in our academic, social, and personal endeavors.Serving and Educating Through Our Diversity; Sirviendo y Educando a Través de Nuestra Diversidad. tags Public Service, Social & Hobby, Political & Advocacy, Fraternity or Sorority, Multicultural Greek Council (MGC) members 2\n"
     ]
    },
    {
     "name": "stderr",
     "output_type": "stream",
     "text": [
      "34it [00:06,  5.95it/s]"
     ]
    },
    {
     "name": "stdout",
     "output_type": "stream",
     "text": [
      "name Greener Housing Coalition description The Greener Housing Coalition is an organization started by UVA students in 2020, as an effort aimed at making off-grounds student housing more sustainable. While the university has a stated goal to become carbon neutral by 2030 and fossil fuel free by 2050, off-grounds studenthousing is not under the purview of the university. Yet, 70% of UVA students live off-grounds, in residences with significant greenhouse gas profiles. The student-led Greener Housing Coalition seeks to mirror the university’s progress towards reducing the climate impact of its operations, by focusing upon the emissions of student residences in the Charlottesville community. tags No Application or Interview Required, Contracted Independent Organization (CIO), Public Service, Political & Advocacy members 9\n",
      "name Peer Health Educators description PHE tags Administrative Unit, Peer Mentors, Department Group or Program members 10\n"
     ]
    },
    {
     "name": "stderr",
     "output_type": "stream",
     "text": [
      "36it [00:06,  6.13it/s]"
     ]
    },
    {
     "name": "stdout",
     "output_type": "stream",
     "text": [
      "name Blossom Together description Blossom Together is a student-led humanitarian organization dedicated to supporting living standards in developing African countries. Established as an official student organization at the University of Virginia, the effort is active in five countries and has formed a reliable international network to further their initiatives. Since inception, the team has raised over $200,000 in charitable funding, providing a variety of humanitarian services from water wells to cataract surgeries to food packages.At the start of every year, Blossom Together identifies new relief initiatives to tackle, outlining the relevant countries, networks, and necessary funding. Management of operations is based at the University of Virginia with chapter extensions in Texas, South Carolina, North Carolina, and Northern Virginia. Chapters are sub-teams of high school students, who independently coordinate and fundraise towards our shared targets. Working in collaboration, fundraising goals are met by the start of each summer, and a team of students fly abroad to Africa for an immersive expedition.﻿ tags Public Service, Contracted Independent Organization (CIO) members 15\n",
      "name Political Latinxs United for Movement and Action in Society description The mission of Political Latinxs United for Movement and Action in Society (PLUMAS) is to engage the Latinx community, its supporters at UVa, and the surrounding area by providing a safe, proactive space for students to vocalize and discuss substantive social justice issues affecting the Latinx community both on Grounds, the Greater Charlottesville Community, the United States and Latin America. PLUMAS seeks to create civic engagement and awareness of social and political issues through education, advocacy, and direct action. We recognize the diversity within the movement as our membership comprises of individuals from various nationalities, ethnicities, and genders. As such, membership in PLUMAS is not limited to members who are of Latinx ancestry. We welcome any individual no matter their creed, religion, race, sexual orientation, individual identity, and experience level. All offices shall be held by currently enrolled students. tags Contracted Independent Organization (CIO), Cultural & Ethnic, Political & Advocacy, Public Service members 20\n"
     ]
    },
    {
     "name": "stderr",
     "output_type": "stream",
     "text": [
      "38it [00:07,  6.68it/s]"
     ]
    },
    {
     "name": "stdout",
     "output_type": "stream",
     "text": [
      "name Global Business and Culture Club description The Global Business and Culture Club (GBCC) is an organization with the aim to bring people of multicultural backgrounds together to share their diverse experiences to grow personally, academically and professionally. The GBCC sponsors and organizes programs that support academic diversity, enhances professional opportunities for its members, maintains ties with international alumni, promotes Darden to prospective students and offers cultural events to the entire Darden and University of Virginia communities.Although this organization has members who are University of Virginia students and may have University employees associated or engaged in its activities and affairs, the organization is not a part of or an agency of the University. It is a separate and independent organization which is responsible for and manages its own activities and affairs. The University does not direct, supervise or control the organization and is not responsible for the organization’s contracts, acts or omissions. tags Contracted Independent Organization (CIO), Darden School, No Application or Interview Required members 14\n",
      "name United Against Inequities in Disease at the University of Virginia description UAID is a student-led nonprofit organization that trains students in public health practices and supports them in building communitypartnerships and developing research-based community projects that improve local health outcomes. Our mission is to empowerstudents and communities to eliminate health inequities locally. tags Contracted Independent Organization (CIO), Public Service members 13\n"
     ]
    },
    {
     "name": "stderr",
     "output_type": "stream",
     "text": [
      "40it [00:07,  6.64it/s]"
     ]
    },
    {
     "name": "stdout",
     "output_type": "stream",
     "text": [
      "name Virginia Dance Company description The Virginia Dance Company is a student-run organization that allows incoming dancers to maintain and expand their dancing skills. Known around grounds as “DCO,” the company rehearses throughout the academic year and performs every semester. Pieces are student-choreographed and span a variety of dance styles, including but not limited to contemporary, lyrical, jazz, and hip-hop. The company is now home to over 60 talented members. Auditions are held one week after the semester begins in both the fall and the spring. Once you are a member of the company you stay a member for the rest of your time at the University! tags Contracted Independent Organization (CIO), Club Sport, Visual & Performing Arts members 9\n",
      "name The Whethermen description The Whethermen are a student-led improv comedy group at UVA. The Whethermen perform both shortform and longform improv. We have two large shows per semester, and we perform at other gigs and festivals throughout the year. We hold auditions at the beginning of the spring and fall semesters – no experience necessary.  tags Contracted Independent Organization (CIO), Visual & Performing Arts members 12\n"
     ]
    },
    {
     "name": "stderr",
     "output_type": "stream",
     "text": [
      "42it [00:07,  6.58it/s]"
     ]
    },
    {
     "name": "stdout",
     "output_type": "stream",
     "text": [
      "name Darden Private Equity Club description DPEC cultivates a network of students and alumni professionals with interests across a range of private equity investment strategies and fund sizes. The club facilitates career training, recruitment support, and networking opportunities for students interested in learning about and recruiting for private equity at Darden or later in their careers. tags No Application or Interview Required, Contracted Independent Organization (CIO), Academic & Professional, Darden School members 6\n",
      "name Turkish Student Association at UVA description Merhaba! Turkish Student Association at the University of Virginia is open to all UVA students regardless of their race, ethnicity, and background. Our purpose is to share and spread Turkish culture and foster interaction among Turkish students and those who are interested in Turkish culture. TSA holds different kinds of activities including, but not limited to, dinners, movie screenings, networking events, informative speeches, and celebrations of Turkish holidays. Most activities are open to the public. Follow our instagram page to stay up to date @tsa.uva tags Cultural & Ethnic, Contracted Independent Organization (CIO), No Application or Interview Required members 34\n"
     ]
    },
    {
     "name": "stderr",
     "output_type": "stream",
     "text": [
      "44it [00:07,  7.26it/s]"
     ]
    },
    {
     "name": "stdout",
     "output_type": "stream",
     "text": [
      "name The Bass Fishing Club at UVA description We want to spread the love of bass fishing to the UVA community. Our goal is to gather members to educate them about everything bass fishing has to offer. We also wish to aid the Heroes on the Water Organization with a semesterly fundraiser. tags Contracted Independent Organization (CIO), Social & Hobby, Public Service, No Application or Interview Required, Health and Wellness members 27\n",
      "name Pre-Student Osteopathic Medical Association at the University of Virginia description Pre-SOMA is designed for premed students interested in applying to osteopathic medical schools (D.O.) or who simply want to learn more about the profession to help inform their decision when applying. We intend to spread more awareness to the concept of osteopathic medicine and pillars of holistic and preventative care as well as guide students in applying to medical schools.  We plan to have D.O. guest speakers, clinical skills lectures & workshops, service opportunities, upperclassmen and medical student advising, and more! tags No Application or Interview Required, Academic & Professional, Contracted Independent Organization (CIO) members 15\n"
     ]
    },
    {
     "name": "stderr",
     "output_type": "stream",
     "text": [
      "46it [00:08,  6.27it/s]"
     ]
    },
    {
     "name": "stdout",
     "output_type": "stream",
     "text": [
      "name Asian Student Union at UVA description The mission of the Asian Student Union is to serve the University of Virginia and Charlottesville community on behalf of the Asian Pacific Islander South Asian/American (APISAA) community. We strive to unite, advocate, and empower through social, political, cultural, and educational avenues. tags Political & Advocacy, Cultural & Ethnic, Contracted Independent Organization (CIO), L2K members 93\n",
      "name Midwestern Wahoos description Heartland Hoos - Heartland Hoos is an organization for students who are from the Midwest, are interested in practicing in the Midwest, or both. The purpose of the group is part social: connecting students from the Midwest; and part career-oriented: connecting and networking with employers across the Midwest. “Heartland” is loosely defined, and all students are welcome. The largest market Heartland Hoos serves is Chicago, but members are interested in markets across the Midwest, including Minneapolis, Columbus, Kansas City and more. Wherever members are interested in, the organization is happy to act as the intermediary or networking in those markets. tags Contracted Independent Organization (CIO), Law School, No Application or Interview Required members 5\n"
     ]
    },
    {
     "name": "stderr",
     "output_type": "stream",
     "text": [
      "48it [00:08,  6.11it/s]"
     ]
    },
    {
     "name": "stdout",
     "output_type": "stream",
     "text": [
      "name Hillel Jewish Leadership Council description The Hillel Jewish Leadership Council exists to expand and enhance Jewish life at the University of Virginia by creating diverse opportunities for Jewish students. JLC incubates student leadership through program creation and peer engagement, encourages the expression of religious and cultural beliefs amongst peers and is committed to promoting a welcoming, pluralistic community built on mutual respect. tags Social & Hobby, Political & Advocacy, Public Service, Leadership Development, Cultural & Ethnic, Contracted Independent Organization (CIO), No Application or Interview Required, Religious & Spiritual members 20\n",
      "name Computer and Network Security Club at the University of Virginia description We are the cybersecurity club here at UVA! We welcome all levels and provide something for everyone whether you are just getting started or are a seasoned veteran. We usually hold general body meetings Wednesdays at 7 PM but join the Discord (link below) for the most up to date info. These meetings usually last an hour and will range from talks on cyber topics, guest speakers like professors, UVA alumni, etc., hands on activities, problem solving, competitions and practice, networking events, and so much more! Be sure to come out. We also have no dues!If you are interested in joining either email immel@virginia.edu or join our discord at https://discord.gg/2pAe4C3sg tags Academic & Professional, Contracted Independent Organization (CIO), No Application or Interview Required members 64\n"
     ]
    },
    {
     "name": "stderr",
     "output_type": "stream",
     "text": [
      "50it [00:08,  7.12it/s]"
     ]
    },
    {
     "name": "stdout",
     "output_type": "stream",
     "text": [
      "name Afro-Hoos description Afro-Hoos is an Afro-fusion dance team that strives to demonstrate and celebrate the complexity of cultural dance throughout the African diaspora at the University of Virginia and the Charlottesville Community. We represent traditional and modern dance styles from all over the continent of Africa by learning about the different dance styles of African nations and implementing our knowledge of those styles to construct dynamic dance performances that work to include and unite the community.Although this organization has members who are University of Virginia students and may have University employees associated or engaged in its activities and affairs, the organization is not a part of or an agency of the University. It is a separate and independent organization that is responsible for and manages its own activities and affairs. The University does not direct, supervise or control the organization and is not responsible for the organization’s contracts, acts or omissions. tags Social & Hobby, Contracted Independent Organization (CIO), Cultural & Ethnic members 20\n",
      "name Smart Woman Securities at the University of Virginia description Smart Woman Securities (SWS) is a McIntire-affiliated investment fund run entirely by undergraduate women at the University of Virginia. In SWS, we prepare aspiring female professionals for careers in finance and investing by providing educational training from the introductory level, exposure to industry professionals, and hands-on investing experience. Through our wide array of resources and enrichment opportunities, SWS not only educates and prepares its members to enter the finance industry, but also creates a movement that leads to the increased financial empowerment of women. tags McIntire School of Commerce, Academic & Professional, Contracted Independent Organization (CIO) members 73\n"
     ]
    },
    {
     "name": "stderr",
     "output_type": "stream",
     "text": [
      "52it [00:09,  6.79it/s]"
     ]
    },
    {
     "name": "stdout",
     "output_type": "stream",
     "text": [
      "name Theta Chi (Xi Chapter) description FSL tags Social & Hobby, Political & Advocacy, Public Service, Fraternity or Sorority members 0\n",
      "name The Darden Part-Time MBA Student Association description Mission Statement: The PSA empowers our classmates to have transformational learning and life experiences by enabling lasting traditions, advocating for opportunity, and delivering meaningful connections across the Darden community.Committee Members: Aman Dar, Cindy Kang, Eugene Cho, Evan Artley, Jason Carrier, Maxwell Godwin (Co-lead), Nathan Hukill, Parker Lapeyre (Co-lead), Sarah Hechtman, Steven DaleyThe PSA is a student government organization that connects to the Darden ecosystem and advocates for students within the Part-Time MBA Program. tags Darden School, Leadership Development, Public Service, Social & Hobby, Contracted Independent Organization (CIO), Academic & Professional, Department Group or Program, Internships and Employment members 0\n"
     ]
    },
    {
     "name": "stderr",
     "output_type": "stream",
     "text": [
      "54it [00:09,  7.29it/s]"
     ]
    },
    {
     "name": "stdout",
     "output_type": "stream",
     "text": [
      "name Law Christian Fellowship description LCF is an interdenominational Christian fellowship dedicated to understanding the person of Jesus Christ. LCF is committed to presenting Christianity to the Law School and the surrounding Charlottesville community through fellowship, service, and outreach. tags Religious & Spiritual, Contracted Independent Organization (CIO), Law School members 24\n",
      "name Fujianese Student Association description The Fujianese Student Association at UVA is established for the expressed purposes of bringing other Fujianese (FJ) students and those interested together for cultural related activities to provide a sense of community and belonging at UVA. In addition, we will also represent an underrepresented minority group in order to further promote diversity and spread more cultural awareness at UVA. tags Contracted Independent Organization (CIO), Cultural & Ethnic, Social & Hobby, No Application or Interview Required members 10\n"
     ]
    },
    {
     "name": "stderr",
     "output_type": "stream",
     "text": [
      "55it [00:09,  7.21it/s]"
     ]
    },
    {
     "name": "stdout",
     "output_type": "stream",
     "text": [
      "name Cavalier Christian Fellowship description Cavalier Christian Fellowship is a non-denominational Christian fellowship on grounds at the University of Virginia that welcomes Christians and non-Christians alike. We seek to honor God in all we do, and recognize Christ as our Lord and Savior. Our main focuses are fellowship, evangelism, and discipleship for University of Virginia students. We have weekly small group Bible studies, a Church on Grounds service on Sundays, monthly large group activities, and several community service projects throughout the year. We also emphasize personal fellowship outside of group activities.Cavalier Christian Fellowship does not restrict itsmembership, programs, or activities on the basis of age, color, disability,family medical or genetic information, gender identity or expression, maritalstatus, military status (which includes active duty service members, reserveservice members, and dependents), national or ethnic origin, politicalaffiliation, pregnancy, race, religion, sex, sexual orientation, and veteranstatus, absent an approved petition to restrict. tags Religious & Spiritual, No Application or Interview Required, Contracted Independent Organization (CIO) members 11\n"
     ]
    },
    {
     "name": "stderr",
     "output_type": "stream",
     "text": [
      "57it [00:10,  3.77it/s]"
     ]
    },
    {
     "name": "stdout",
     "output_type": "stream",
     "text": [
      "name Virginia Law Weekly description The Law Weekly publishes 12 editions a semester to the law school community. We cover current events, humor, and various items of interest in the community.  tags Contracted Independent Organization (CIO), Law School, Media & Publications members 14\n",
      "name The Women's Network description The Women’s Network (TWN) is the largest collegiate women’s networking organization in the United States with over 37,000 members in our community and a presence on over 100 college campuses. Our mission is to connect collegiate and recently graduated women to each other and to leaders across many industries, while celebrating women’s ambition along the way. TWN holds a variety of experiential events: speaker events, professional development workshops, networking trips, alumnae receptions, community-based discussions, and more. Being a part of TWN is a great way to authentically expand your network, build confidence, gain exposure to different industries, and discover new career opportunities. Joining TWN has opened doors for tens of thousands of women across the country, and it could open a door for you as well. tags Academic & Professional, Contracted Independent Organization (CIO), No Application or Interview Required members 151\n"
     ]
    },
    {
     "name": "stderr",
     "output_type": "stream",
     "text": [
      "59it [00:10,  4.98it/s]"
     ]
    },
    {
     "name": "stdout",
     "output_type": "stream",
     "text": [
      "name The Virginia Medical Review description The Virginia Medical Review is an undergraduate student publication focused on developments in science and medicine. The Review seeks to inform readers on current research, new biotechnology, public health policy and legislation, the work of individual physicians, and many other content areas in a format enjoyable by a general audience. Simultaneously, we work to cultivate our members' scientific communication skills and bridge gaps between the humanities and STEM fields. tags Contracted Independent Organization (CIO), No Application or Interview Required, Media & Publications members 12\n",
      "name HRL SR - Shannon description HRL tags Residence Hall, Administrative Unit members 0\n"
     ]
    },
    {
     "name": "stderr",
     "output_type": "stream",
     "text": [
      "61it [00:11,  5.28it/s]"
     ]
    },
    {
     "name": "stdout",
     "output_type": "stream",
     "text": [
      "name Student Council description Student Council is the student governing body, leveraging the bargaining power of all 25,000 students at the University in policy negotiations and lobbying as well as direct resource distribution. tags Special Status Organization (SSO), Public Service, Academic & Professional, Administrative Unit, L2K, Agency members 11\n",
      "name UI/UX Design at UVA description UI/UX Design at UVA is a vibrant and innovative organization at the University of Virginia, dedicated to fostering a community of aspiring designers. User interface and user experience work is a widely sought-after career path, and our club provides a welcoming space for students to explore, share, and collaborate on their creative processes, with an emphasis on professional development and skill building.Through a variety of workshops, events, and interactive sessions, we aim to cultivate a culture of learning and achievement. Our meetings offer opportunities to connect with fellow designers, gain insight into resources offered on and off grounds, and engage in hands-on activities that enhance your UI/UX skills. We also emphasize networking and the opportunity to receive valuable feedback from peers and mentors, through guest speaker sessions, portfolio reviews, and social events. These experiences will broaden your horizons and provide valuable connections for your future career.Overall, our organization aims to establish a strong foundation for a design-centric culture at UVA. We are committed to building an inclusive and supportive environment, where students from various academic backgrounds can come together, forming a dynamic community of designers. Together, we will commit to designing with empathy and exploring the endless possibilities of UI/UX. tags Contracted Independent Organization (CIO), Academic & Professional, Social & Hobby, Visual & Performing Arts, Internships and Employment, Media & Publications, No Application or Interview Required, Architecture members 6\n"
     ]
    },
    {
     "name": "stderr",
     "output_type": "stream",
     "text": [
      "62it [00:11,  5.96it/s]"
     ]
    },
    {
     "name": "stdout",
     "output_type": "stream",
     "text": [
      "name Community Cleanup Club at the University of Virginia description The Community Cleanup Club at the University of Virginia was founded on the belief that the UVA community should be the pinnacle of community respect, leadership, and helping the less fortunate. Every Sunday Morning, the club will meet on Madison Bowl, where we will scout out areas affected with litter from post-football game parties, Fraternities and Sororities, and other parties and clean waste from cans, glass, plastic, etc. There is no application to join, and be free to reach out to Aidan Palys at zcq3xy@virginia.edu if you have any questions about joining or in general! tags Sustainability, No Application or Interview Required, Public Service members 0\n"
     ]
    },
    {
     "name": "stderr",
     "output_type": "stream",
     "text": [
      "64it [00:11,  5.42it/s]"
     ]
    },
    {
     "name": "stdout",
     "output_type": "stream",
     "text": [
      "name Society of Asian Scientists and Engineers description The Society of Asian Scientist and Engineers (SASE): Our mission is to prepare Asian heritage students for success, promote diversity and tolerance, and provide career potential opportunities. In addition to professional development, SASE also encourages members to contribute to the enhancement of the communities in which they live. tags No Application or Interview Required, Contracted Independent Organization (CIO), Academic & Professional, Cultural & Ethnic members 35\n",
      "name Virginia Literary Review description Since 1979, the VLR has worked to empower writers and artists through publication opportunities. The Review accepts poetry, prose, and art submissions from Virginia college students through the first three quarters of each semester.Our Editorial Board typically consists of 10-15 students with passions for writing, art, or publishing. We accept hardworking individuals from all schools and majors at UVA. tags Contracted Independent Organization (CIO), Media & Publications members 7\n"
     ]
    },
    {
     "name": "stderr",
     "output_type": "stream",
     "text": [
      "66it [00:11,  6.41it/s]"
     ]
    },
    {
     "name": "stdout",
     "output_type": "stream",
     "text": [
      "name Business Ethics at Darden description Business Ethics at Darden is an organization at the Darden School of Business with a mission to foster a community of individuals who believe in the inextricable tie between business and ethics. tags Darden School, Contracted Independent Organization (CIO), No Application or Interview Required members 4\n",
      "name Outdoors at Virginia Law description Outdoors at Virginia Law is committed to enhancing the law school experience by organizing local outdoor excursions such as nature walks, hikes, caving, rafting, climbing, skiing and snow-shoeing. OVAL aims to help students achieve a balanced approach to life and the study of law. tags Social & Hobby, Law School, Contracted Independent Organization (CIO) members 8\n"
     ]
    },
    {
     "name": "stderr",
     "output_type": "stream",
     "text": [
      "68it [00:12,  6.08it/s]"
     ]
    },
    {
     "name": "stdout",
     "output_type": "stream",
     "text": [
      "name Tau Beta Sigma description Be it known that Tau Beta Sigma, National Honorary Sorority for members of the college band, is anorganization operating exclusively in the field of the college and university bands, for the followingpurposes:1. To promote the existence and welfare of the collegiate bands and to create a respect and appreciationfor band activities and achievements among the listening public everywhere.2. To honor outstanding members of the band through privilege of membership, in the sisterhood,extended in recognition of musical achievement, demonstrated leadership, and an enthusiastic approach toband activities.3. To develop leadership through active participation with the band, and through it, to strengthen thosetraits of conduct, thought, and idealism which characterize the responsible membership of the band.4. To encourage a close relationship between collegiate bands and promote a high average of attainmentby the performance of good music and selection of worthwhile projects.5. To provide a meaningful and worthwhile social experience for all engaged in collegiate band work, andto cooperate with other musical organizations and societies in every manner consistent with our mutualpurposes and those of the institution at which chapters are located. tags Public Service, Honor Society, Visual & Performing Arts, Contracted Independent Organization (CIO) members 10\n",
      "name Society of Culturally Competent Pre-Health Students description The Society of Culturally Competent Pre-Health Students (SCCPS) is dedicated to fostering a diverse and inclusive community of aspiring healthcare professionals committed to advancing their cultural competence through guest speaker events, workshops and community engagement. Our mission is to empower pre-health students with the knowledge, skills, and awareness needed to provide equitable and compassionate healthcare to individuals from all backgrounds. tags Cultural & Ethnic, Academic & Professional, Contracted Independent Organization (CIO), No Application or Interview Required members 21\n"
     ]
    },
    {
     "name": "stderr",
     "output_type": "stream",
     "text": [
      "70it [00:12,  6.43it/s]"
     ]
    },
    {
     "name": "stdout",
     "output_type": "stream",
     "text": [
      "name Women's Club Water Polo at the University of Virginia description To establish and maintain an active collegiate women's water polo team at the University. The team hopes to participate as an independent women's team in several existing tournaments along the Atlantic Coast, sponsor an annual water polo tournament in the fall and be available to host a league tournament in the spring.Through its activities the team hopes to promote good sportsmanship, team athletics, swimming proficiency and close friendships. The team also hopes to join in the confidence of other teams to promote women's water polo as a college sport. The team also wishes to expose itself to a different skill level of the game by participating in a training trip. tags Club Sport, Contracted Independent Organization (CIO), No Application or Interview Required members 18\n",
      "name Painting and Crafting Club at UVA description The Painting and Crafting Club at UVA is a low-commitment, fun way to paint and craft. Our purpose is to create a community for all students regardless of skill level to come together and be creative. We host craft as well as paint nights throughout the year where members gather and learn how to do that night's craft or painting. All supplies will be provided! tags Contracted Independent Organization (CIO), Social & Hobby members 36\n"
     ]
    },
    {
     "name": "stderr",
     "output_type": "stream",
     "text": [
      "71it [00:12,  6.75it/s]"
     ]
    },
    {
     "name": "stdout",
     "output_type": "stream",
     "text": [
      "name The Fiction Writing and Editing Organization description Hoos Writing is an organization designed to provide a supportive and creative environment for aspiring fiction writers. Our primary focus is to assist members to progress their writing skills and provide a platform for them to showcase their work. Even if you have limited time outside of classwork, or haven't been able to study English during your time at the University of Virginia, we believe that everyone has the potential to write captivating stories that can entertain and inspire others. Our club meetings offer a space for members to share their work, receive constructive feedback, and participate in writing exercises that promote creativity. In addition to fostering a creative environment, Hoos Writing is dedicated to publishing the work of its members. We aim to provide opportunities for writers to have their work read by others, both in our club's semesterly literary magazine and in online forums. This not only gives members a sense of accomplishment and validation but also helps them build their portfolios and gain exposure to a wider audience. Whether you're a seasoned writer or just starting out, Hoos Writing is designed to hone your skills, meet like-minded individuals, and have your work acknowledged and appreciated.  tags No Application or Interview Required, Contracted Independent Organization (CIO), Social & Hobby members 7\n"
     ]
    },
    {
     "name": "stderr",
     "output_type": "stream",
     "text": [
      "73it [00:13,  4.32it/s]"
     ]
    },
    {
     "name": "stdout",
     "output_type": "stream",
     "text": [
      "name Sigma Pi (Beta Pi Chapter) description FSL tags Public Service, Social & Hobby, Political & Advocacy, Fraternity or Sorority members 0\n",
      "name Latinx/Hispanic Peer Mentor Program description The PMP was founded in 1999 as a structure of support for students of Hispanic/Latinx origin during their first year at the University.  The goal: to help students make the transition to University life in academics, co-curriculars and socially, by enlisting the help of the people best equipped to help, namely, young men and women of Hispanic/Latinx origin or affinity already succeeding at the University and enjoying life here. tags Peer Mentors, L2K, Cultural & Ethnic, Administrative Unit members 6\n"
     ]
    },
    {
     "name": "stderr",
     "output_type": "stream",
     "text": [
      "75it [00:13,  4.90it/s]"
     ]
    },
    {
     "name": "stdout",
     "output_type": "stream",
     "text": [
      "name Global Medical Training description Global Medical Training is an international humanitarian organization, providing free medical services to underprivileged communities in Mexico, Central America and the Caribbean. Global Medical Training club at The University of Virginia will co-ordinate trips, fundraise, teach about tropical diseases and prepare students and members of the UVA community for the travel and work at GMT sites. GMT@UVA will also provide opportunities for volunteering and involvement on Grounds.   \"Although this organization has members who are University of Virginia students and may have University employees associated or engaged in its activities and affairs, the organization is not a part of or an agency of the University. It is a separate and independent organization which is responsible for and manages its own activities and affairs. The University does not direct, supervise or control the organization and is not responsible for the organization's  contracts, acts, or omissions.\" tags No Application or Interview Required, Academic & Professional, Contracted Independent Organization (CIO), Public Service members 55\n",
      "name Club Wrestling at UVa description   Our mission is to provide a safe, accepting environment for all members of the UVA student body and to build a community centered on an appreciation for and interest in wrestling as a sport. We have three optional practices per week for members of the club, where both new and experienced wrestlers will be able to practice the sport and have fun as well. We are a relaxed club centered around having fun and getting in a good workout, and we never make any member cut weight. We wrestle in at least one tournament per semester and also scrimmage with other clubs around the state. tags Club Sport, Contracted Independent Organization (CIO), No Application or Interview Required members 35\n"
     ]
    },
    {
     "name": "stderr",
     "output_type": "stream",
     "text": [
      "77it [00:14,  3.44it/s]"
     ]
    },
    {
     "name": "stdout",
     "output_type": "stream",
     "text": [
      "name Collegiate 100 of The University of Virginia description We, the members of the Collegiate 100 of the University of Virginia, in order to form a more permanent organization, provide fellowship amongst our membership, support one another in our efforts to nurture and enhance the growth, development and opportunities for young African American males in central Virginia, and serve as valuable role models to the University of Virginia and Charlottesville communities tags Public Service, Contracted Independent Organization (CIO), Academic & Professional, Black Presidents Council members 10\n",
      "name Sigma Sigma Sigma (Delta Chi Chapter) description FSL tags Public Service, Social & Hobby, Political & Advocacy, Fraternity or Sorority members 1\n"
     ]
    },
    {
     "name": "stderr",
     "output_type": "stream",
     "text": [
      "79it [00:14,  4.21it/s]"
     ]
    },
    {
     "name": "stdout",
     "output_type": "stream",
     "text": [
      "name Black Voices description ?Black Voices at the University of Virginia is a choir that sings music of the African American culture (i.e. anthems, spirituals, classical music, contemporary gospel, etc). The purpose of the choir is to show the members, the University community, and all those whom we encounter about Christian love through gospel music, worship/service, and true fellowship. tags No Application or Interview Required, Religious & Spiritual, Contracted Independent Organization (CIO), Visual & Performing Arts members 15\n",
      "name Student Bar Association description We are the governing organization for the student body at the University of Virginia School of Law. We work to plan programming to build community, advocate for student concerns, and otherwise engage the student community at the law school. tags Political & Advocacy, Special Status Organization (SSO), Law School, Administrative Unit members 9\n"
     ]
    },
    {
     "name": "stderr",
     "output_type": "stream",
     "text": [
      "81it [00:15,  5.39it/s]"
     ]
    },
    {
     "name": "stdout",
     "output_type": "stream",
     "text": [
      "name Immigration Law Society description The Immigration Law Society will provide a community, career development resources, and pro bono opportunities for students interested in immigration law.  tags Law School, Contracted Independent Organization (CIO), No Application or Interview Required members 31\n",
      "name HRL SR - Balz-Dobie description HRL tags Residence Hall, Administrative Unit members 0\n"
     ]
    },
    {
     "name": "stderr",
     "output_type": "stream",
     "text": [
      "83it [00:15,  6.43it/s]"
     ]
    },
    {
     "name": "stdout",
     "output_type": "stream",
     "text": [
      "name Clash of Clans Club at UVA description Clash of Clans Club at UVA is an organization where players of the mobile video game, Clash of Clans, come together and play! We meet to compete in clan wars, clan league, and clan games. We welcome players of all experience levels and town halls, and offer help and strategies for those seeking to become better clashers. If you're interested in being apart of a unified clan with your friends and having fun, join COC Club at UVA!﻿ tags Contracted Independent Organization (CIO), Social & Hobby, No Application or Interview Required members 3\n",
      "name Theta Delta Chi (Nu Chapter) description FSL tags Fraternity or Sorority, Public Service, Political & Advocacy, Social & Hobby members 2\n"
     ]
    },
    {
     "name": "stderr",
     "output_type": "stream",
     "text": [
      "85it [00:15,  6.89it/s]"
     ]
    },
    {
     "name": "stdout",
     "output_type": "stream",
     "text": [
      "name American Cancer Society Cancer Action Network at UVA description American Cancer Society Cancer Action Network (ACS CAN) at UVA works to bring together students interested in public policy, healthcare, and service to educate and make an impact in our community. We work at the local, state and national levels to help lobby for legislation and also work along the National ACS CAN Chapter and the UVA Cancer Center to help educate our community about health policies impacting all people groups.Please contact uva.acscan@gmail.com if you have any questions! tags Contracted Independent Organization (CIO), Public Service, Political & Advocacy, No Application or Interview Required members 33\n",
      "name Graduate School of Arts & Sciences Council description The Graduate School of Arts & Sciences Council (GSASC) serves the interests of A&S Graduate Students. tags Special Status Organization (SSO), Academic & Professional, No Application or Interview Required members 11\n"
     ]
    },
    {
     "name": "stderr",
     "output_type": "stream",
     "text": [
      "87it [00:15,  7.50it/s]"
     ]
    },
    {
     "name": "stdout",
     "output_type": "stream",
     "text": [
      "name Society of Sustainability description The Society for Sustainability (SoS) is a student-led organization aimed at improving the sustainability practices of the University of Virginia’s Architecture School. SoS aims to host space for dialogue on the environment, sustainable practice, and ethical engagement as designers. SoS advocates for specific student concerns by collaborating with faculty and administrators, developing action plans, and hosting events aimed at bettering our impact on the environment and communities around the University. tags Architecture, Sustainability members 0\n",
      "name test description test tags Department Group or Program members 0\n"
     ]
    },
    {
     "name": "stderr",
     "output_type": "stream",
     "text": [
      "89it [00:16,  7.14it/s]"
     ]
    },
    {
     "name": "stdout",
     "output_type": "stream",
     "text": [
      "name Arab Student Organization description The Arab Student Organization shall coordinate services and activities for itsmembers and the community at large. Such services and activities shall include but shallnot be limited to sponsoring educational programs to present Arab culture, history, andpolitics at the university and surrounding area such as;• Organizing seminars, forums, and lectures.• Inviting guest speakers.• Organize and participate in cultural activities that will increase awareness aboutthe Arab World, such as Layaleena (Spring Semester)• Organizing events to foster unity among our members such as coordinatingpicnics, BBQs, parties, dinners.• Participating in intramural sporting events• Showing films from different Arab countries tags Cultural & Ethnic, Academic & Professional, Contracted Independent Organization (CIO), Social & Hobby, Visual & Performing Arts, Political & Advocacy, No Application or Interview Required members 72\n",
      "name Darden Basketball Club description The Darden Basketball Club is an organization whose purpose is to promote camaraderie through friendly basketball competition among Darden students and between various UVA graduate schools and programs. Club membership is restricted to Darden students and their partners.  tags Contracted Independent Organization (CIO), Darden School, Social & Hobby, No Application or Interview Required members 8\n"
     ]
    },
    {
     "name": "stderr",
     "output_type": "stream",
     "text": [
      "91it [00:16,  5.52it/s]"
     ]
    },
    {
     "name": "stdout",
     "output_type": "stream",
     "text": [
      "name The Minority Rights Coalition description The purpose of the Minority Rights Coalition (MRC) at the University of Virginia is to foster solidarity among people of marginalized status. The MRC oversees 11 organizations at UVA, each dealing with a specific minority community: the Asian Leadership Council (ALC), the Asian Student Union (ASU), the Black Student Alliance (BSA), Cultural Organization for Latin American Students (COLA), the Middle Eastern Leadership Council (MELC), the Muslim Students Association (MSA), the Native American Student Union (NASU), Muslim United (MU) and the Queer Student Union (QSU) Political Latinxs United for Movement and Action in Society at UVA (PLUMAS), UndocUVA, and the Organization of African Students (OAS). Working with these organizations, the MRC creates various programs and initiatives to further develop each minority community and facilitate greater cooperation and collective learning between the minority community.  tags Contracted Independent Organization (CIO), Cultural & Ethnic, Political & Advocacy members 11\n",
      "name Alpha Kappa Lambda description FSL tags Fraternity or Sorority, Political & Advocacy, Social & Hobby, Public Service members 2\n"
     ]
    },
    {
     "name": "stderr",
     "output_type": "stream",
     "text": [
      "93it [00:17,  6.25it/s]"
     ]
    },
    {
     "name": "stdout",
     "output_type": "stream",
     "text": [
      "name Aerial Dance Club at The University of Virginia description UVA Aerial Dance Club is a group of aerial artists that learn, practice, and perform on aerial silks. We take members regardless of experience by lottery every fall semester and occasionally in the spring. tags No Application or Interview Required, Visual & Performing Arts, Social & Hobby, Contracted Independent Organization (CIO) members 16\n",
      "name Journal of Law and Politics description The Journal of Law & Politics is an entirely student-run publication at the University of Virginia School of Law. It was founded in 1983 to provide a forum through which to analyze, discuss and debate the role of law in the political process and the role of politics in the legal system.Published two to three times a year, the Journal consists of articles, essays, book reviews, and commentaries by scholars, practitioners, national political leaders, and students focusing on issues at the cross-roads of law and politics: the role of the judiciary in making law, the relationship of the three branches of government, federalism, the politics of the judicial appointment process, voting rights, campaign finance, redistricting, voter initiatives, ethics investigations, the politics of education, and religious freedom in a pluralist society. tags Academic & Professional, Contracted Independent Organization (CIO), Law School, Media & Publications members 32\n"
     ]
    },
    {
     "name": "stderr",
     "output_type": "stream",
     "text": [
      "95it [00:17,  6.60it/s]"
     ]
    },
    {
     "name": "stdout",
     "output_type": "stream",
     "text": [
      "name National Society of Black Physicists description Our mission is to promote the Professional well-being of African American Physicists and Physics students within the international scientific community and within society at large.We Seek To:Develop and support efforts to increase opportunities for African Americans in Physics and to increase our numbers and visibility of our scientific work.Develop activities and programs that enhance the benefits of the scientific contributions that African American physicists provide for the international community.Raise the general knowledge and appreciation of Physics in the African American community in Charlottesville and beyond. tags Black Presidents Council, Contracted Independent Organization (CIO), Academic & Professional, Cultural & Ethnic members 10\n",
      "name My Sister's Keeper description My Sister’s Keeper is community-based mentorship organization that unites women of color from Charlottesville High School to the University of Virginia. The recent non-profit aims to connect women of color through peer mentorship, weekly activities, and outside events that establish a firm foundation from which high school women can successfully navigate and explore their personal and professional endeavors.  tags Black Presidents Council, Public Service, Leadership Development, Contracted Independent Organization (CIO), Cultural & Ethnic, Academic & Professional members 6\n"
     ]
    },
    {
     "name": "stderr",
     "output_type": "stream",
     "text": [
      "97it [00:17,  6.59it/s]"
     ]
    },
    {
     "name": "stdout",
     "output_type": "stream",
     "text": [
      "name The Wesley Foundation at UVA description Wesley at UVA tags Contracted Independent Organization (CIO), Religious & Spiritual members 12\n",
      "name X-Tasee Dance Crew description X-TASEE Dance Crew was founded in 2005 and paved the way for hip-hop groups at UVA by being the first-ever hip-hop competing dance crew here. We are grateful to say that we are inclusive to all UVA students as well as residents of Charlottesville, making it so that anyone in the area has a chance to be selected for this team.  tags Visual & Performing Arts, Contracted Independent Organization (CIO) members 12\n"
     ]
    },
    {
     "name": "stderr",
     "output_type": "stream",
     "text": [
      "99it [00:17,  6.52it/s]"
     ]
    },
    {
     "name": "stdout",
     "output_type": "stream",
     "text": [
      "name Afghan Student Association at UVA description The Afghan Student Association is dedicated to promoting awareness about Afghan culture at the University of Virginia. We are a space for Afghans to come together and engage in our culture and art, and spread this to others. Our organization is a place for all members of the community, not just Afghans, to meet others and bond.  tags Contracted Independent Organization (CIO), Cultural & Ethnic members 14\n",
      "name Ceramics Club at the University of Virginia description The purpose of this organization is to provide an opportunity for students of the University of Virginia who wish to partake in the recreational and educational benefits of pottery. The mission of Ceramics Club at UVA is to make wheel throwing ceramics easily accessible for UVA students at a discounted price, while providing guidance, tools, and materials. Ceramics Club also offers students the opportunity to engage with the Charlottesville community outside of on-grounds activities. In addition to off-campus activities, we have an on-campus handbuilding studio. To join our open studio, please fill out the following interest and information form:https://virginia.az1.qualtrics.com/jfe/form/SV_1TgSJiWikFipEyO tags Visual & Performing Arts, Social & Hobby, Contracted Independent Organization (CIO), No Application or Interview Required members 137\n"
     ]
    },
    {
     "name": "stderr",
     "output_type": "stream",
     "text": [
      "101it [00:18,  6.46it/s]"
     ]
    },
    {
     "name": "stdout",
     "output_type": "stream",
     "text": [
      "name Native American Student Union at the University of Virginia description The Native American Student Union at the University of Virginia strives to increase awareness of the Native community on Grounds. Our group promotes relationships with the surrounding Virginia Indian tribes, collaborates with other student organizations, holds cultural events relating to American Indians, and allows students and community members to join together to explore Native American heritage and identity. The NASU welcomes all students, both Native and non-Native to join! Please visit us on Facebook, Twitter, and Instagram for more information! tags Cultural & Ethnic, Contracted Independent Organization (CIO), Political & Advocacy, No Application or Interview Required members 12\n",
      "name The National Security Law Forum description The National Security Law Forum seeks to foster discourse on national security law and its many related topics. The group also works to connect UVA Law students with career opportunities, support their efforts to publish work in journals and other fora, and allow students to work on meaningful projects during law school. tags Law School, Contracted Independent Organization (CIO), No Application or Interview Required members 20\n"
     ]
    },
    {
     "name": "stderr",
     "output_type": "stream",
     "text": [
      "103it [00:18,  6.99it/s]"
     ]
    },
    {
     "name": "stdout",
     "output_type": "stream",
     "text": [
      "name Friends of Appalachia description Friends of Appalachia is a cultural organization dedicated to furthering the Appalachain experience in higher education through community building and support from Appalachains at UVA and the larger UVA student body. We hold weekly meetings in which we talk about our experiences at UVA as Appalachains. If you wish to find out more information about the club or wish to pursue a collab, contact the president, Sam, at 2768804866 tags Cultural & Ethnic, Academic & Professional, Contracted Independent Organization (CIO) members 4\n",
      "name Asian Pacific American Law Students Association description APALSA provides an academic and social network for the Asian-American law students at UVA; promotes the welfare of its members through educational, professional, cultural and social programs; and reaches out to the Law School community on local and national issues pertaining to Asian-Americans. tags Contracted Independent Organization (CIO), Cultural & Ethnic, Academic & Professional, No Application or Interview Required members 16\n"
     ]
    },
    {
     "name": "stderr",
     "output_type": "stream",
     "text": [
      "105it [00:18,  6.74it/s]"
     ]
    },
    {
     "name": "stdout",
     "output_type": "stream",
     "text": [
      "name Detachment 890 Drill Team description The purpose of the Detachment 890 Drill Team is to provide professional color guard and honor guard ceremonies for the university and community. The CIO is for fundraising and financial support for activities for the Drill Team at the University of Virginia. tags Academic & Professional, Contracted Independent Organization (CIO), Social & Hobby members 12\n",
      "name Enactus at the University of Virginia description Enactus at the University of Virginia is a McIntire-affiliated organization that educates and empowers students to develop impactful, innovative, and sustainable solutions for socially responsible businesses in Charlottesville. By providing pro-bono consulting work for local companies, we present our members with the unique opportunity to work alongside business owners and entrepreneurial leaders and gain hands-on consulting experience. With a diverse portfolio of socially-minded companies, including those that are minority-owned and environmentally conscious, our members gain the professional knowledge and skills to create lasting value for real companies while giving back to their local community. tags Contracted Independent Organization (CIO), Academic & Professional, McIntire School of Commerce members 13\n"
     ]
    },
    {
     "name": "stderr",
     "output_type": "stream",
     "text": [
      "107it [00:19,  6.82it/s]"
     ]
    },
    {
     "name": "stdout",
     "output_type": "stream",
     "text": [
      "name The Declaration description The Declaration is a forty-year-old alt-weekly newsmagazine at U.Va. that serves the community by providing a showcase for student-run news coverage, humor, arts and culture reviews, personal essays, interviews, and creative non-fiction pieces. We provide all students with a voice on Grounds through our open-source publication format, and provide writers and editors with hands-on experience creating and running a magazine.If you're interested in submitting something to be considered for publishing, email declaration.submit@gmail.com. If you want to learn more about joining The Dec staff, email Addy Gannon at declaration.editor@gmail.com. tags Political & Advocacy, Visual & Performing Arts, Social & Hobby, Academic & Professional, Contracted Independent Organization (CIO), Media & Publications members 6\n",
      "name McIntire Investment Institute description We are an entirely student-run, long/short equity investment organization at the University of Virginia with over $800,000 in assets under management. Founded in 1994 by an endowment from \"Tiger Cub\" John Griffin of Blue Ridge Capital, we operate as a non-profit under the McIntire Foundation. We employ a fundamental, value-oriented investment strategy. tags Contracted Independent Organization (CIO), McIntire School of Commerce members 7\n"
     ]
    },
    {
     "name": "stderr",
     "output_type": "stream",
     "text": [
      "109it [00:19,  5.44it/s]"
     ]
    },
    {
     "name": "stdout",
     "output_type": "stream",
     "text": [
      "name West Coast Wahoos at UVA Law description The purpose of the West Coast Wahoos is to create a network for students interested in West Coast legal markets and provide these students with employment opportunities and alumni resources in these markets. We will also arrange for social events during the school year and provide students employed on the West Coast with opportunities to meet with one another over the summer. tags Contracted Independent Organization (CIO), Law School members 11\n",
      "name Multiple Sclerosis Society at UVA description The Multiple Sclerosis Society at UVA raises awareness, creates fundraisers, and empowers their members to create a world free of Multiple Sclerosis. tags Public Service, Academic & Professional, Contracted Independent Organization (CIO), No Application or Interview Required members 14\n"
     ]
    },
    {
     "name": "stderr",
     "output_type": "stream",
     "text": [
      "111it [00:19,  5.95it/s]"
     ]
    },
    {
     "name": "stdout",
     "output_type": "stream",
     "text": [
      "name Graduate Consulting Club at UVA description The Graduate Consulting Club is dedicated to educating graduate students and postdocs at the University of Virginia about the consulting industry and helping members prepare for a successful career. The objective of the club is to provide its members with opportunities to explore other career options in the consulting industry. The club will arrange various networking events to enable students to interact with professionals, like consultants from top firms, in an informal atmosphere. This will enable students to better understand the industries in which the professionals work.Additionally, the club will educate graduate students about the skills and knowledge required to succeed in the consulting recruiting and interview process. The club will provide both case interview practice materials and coordinate practice groups to help members prepare for case interviews.The Graduate Consulting Club does not restrict its membership, programs, or activities on the basis of age, color, disability, gender identity, marital status, national or ethnic origin, political affiliation, race, religion, sex (including pregnancy), sexual orientation, veteran status, and family and genetic information. tags No Application or Interview Required, Academic & Professional, Contracted Independent Organization (CIO) members 13\n",
      "name Connoisseurs of Code description Our Computer Science Club is a vibrant and intellectually stimulating community dedicated to exploring the ever-evolving world of computer science. We're passionate about delving into a diverse range of topics, from data science and machine learning to the intricacies of large language models, and everything in between. Our primary mission is to foster a strong learning environment where members can engage in hands-on exploration and discussion of cutting-edge technologies and trends. We will divide members up into research groups, where they can collaborate as they explore a relevant topic. They will then create and present an interactive project that demonstrates the fruits of their learning.  tags No Application or Interview Required, Academic & Professional members 1\n"
     ]
    },
    {
     "name": "stderr",
     "output_type": "stream",
     "text": [
      "113it [00:20,  6.42it/s]"
     ]
    },
    {
     "name": "stdout",
     "output_type": "stream",
     "text": [
      "name Outdoors Club at UVA, Ltd. description Outdoors at UVA is a group of students and community members united by their desire to enjoy outdoor activities with friends, while promoting safety and environmental preservation, educating others about nature, and developing leadership skills. tags Social & Hobby, Contracted Independent Organization (CIO) members 28\n",
      "name Dark Skies, Bright Kids description Dark Skies, Bright Kids is a primarily volunteer-run program seeking to enhance science education in Virginia elementary schools, primarily in underserved areas. Operating out of the UVa Astronomy Department, The program seeks to foster the natural curiosity of children in the surrounding community by helping them to explore the Universe in a social setting with fun, hands-on activities. tags Public Service, Contracted Independent Organization (CIO), Academic & Professional, No Application or Interview Required members 11\n"
     ]
    },
    {
     "name": "stderr",
     "output_type": "stream",
     "text": [
      "115it [00:20,  7.06it/s]"
     ]
    },
    {
     "name": "stdout",
     "output_type": "stream",
     "text": [
      "name The Virginia No-Tones description We are The Virginia No Tones, the oldest and only Acapella group for the musically inept. tags Contracted Independent Organization (CIO), Public Service, Social & Hobby, Visual & Performing Arts members 6\n",
      "name Cavalier Judo description The Cavalier Judo Club promotes practicing and studying judo, an Olympic sport, and martial arts. The Japanese word \"judo\" means \"the gentle way,\" referring to how judo players often turn an opponent's movement against them rather than trying to use raw force. Cavalier Judo members practice off grounds at CVille BJJ at 1731 Allied St in Charlottesville, VA. Practices are Tuesdays and Thursdays from 7:30-8:30 p.m. and Saturdays from 12 p.m.-2 p.m.All levels of experience are welcome.Membership dues cover full access to the workout and practice facility. The cost of engagement includes Judo Gi, the proper uniform needed for practice. You may visit us on a trial membership and purchase the judo gi when ready. New members can use loaner gis for a short period. Please contact us for additional information or if you need help with transportation @ https://discord.gg/VqvR43hfhE or @ https://www.facebook.com/groups/624562315863746The most up-to-date information can be found on our Insta: @cavalierjudo tags Cultural & Ethnic, Contracted Independent Organization (CIO), Social & Hobby, No Application or Interview Required members 17\n"
     ]
    },
    {
     "name": "stderr",
     "output_type": "stream",
     "text": [
      "117it [00:20,  6.50it/s]"
     ]
    },
    {
     "name": "stdout",
     "output_type": "stream",
     "text": [
      "name Protect our Breasts description POB's mission is to spread awareness about risk factors of breast cancer and teach our community how to make safer choices in order to protect our breasts. We are part of a national organization started at UMass Amherst. Our chapter was founded in 2019 and has three main branches all working together to advance women's health: advocacy, education, and communications. We practice advocacy by organizing donation baskets of non-toxic food and personal products for vulnerable populations in Charlottesville, work with UVA sustainability and UVA women's center to inspire change at an institutional level, and work with Breast Cancer Prevention Partners (BCPP) to lobby special topics like regulation of feminine hygiene products at the state government level. We practice education by tabling non-toxic products on Grounds and organizing workshops and educational events with guest speakers. Lastly, we practice communications by sending out a monthly newsletter and through social media. You can get involved in all of theses areas or just the ones that interest you. We also do other fun activities like organic tie-dying, trips to the farmer's market, and movie nights! Since our organization is relatively new, it presents a great opportunity to be able to take on leadership positions and expand our reach. Each year, two exec members are invited to the national POB conference in Amherst, MA where you can gain inspiration from other chapters and travel expenses and lodging are paid for! tags Social & Hobby, Political & Advocacy, Contracted Independent Organization (CIO), No Application or Interview Required members 10\n",
      "name Pride at McIntire description Pride at McIntire is dedicated towards fostering a diverse and inclusive environment within McIntire for pre-Commerce and Commerce students who identify as members or allies of the LGBTQ+ community. The group serves as a resource for pre-professional students by hosting various employer-sponsored events and workshops throughout the academic year. tags No Application or Interview Required, McIntire School of Commerce, Contracted Independent Organization (CIO), Academic & Professional, Social & Hobby members 7\n"
     ]
    },
    {
     "name": "stderr",
     "output_type": "stream",
     "text": [
      "119it [00:21,  5.58it/s]"
     ]
    },
    {
     "name": "stdout",
     "output_type": "stream",
     "text": [
      "name Graduate Data Science Council description The purpose of the Graduate Data Science Council is to enhance the experience of graduate students at the School of Data Science. The council will accomplish this purpose by building a sense of community among residential graduate data science students and facilitating interactions with students in other graduate programs at the University of Virginia as well as the Charlottesville community.The Graduate Data Science Council is committed to being a national leader in the creation and sharing of data knowledge within a culture that promotes equity, diversity, and inclusion. tags Special Status Organization (SSO), Data Sciences members 1\n",
      "name Orthodox Christian Law Student Association description The Orthodox Christian Law Student Association is an organization designed to support the community of Orthodox Christians at UVA Law through fellowship, as well as provide a place for all those interested in Orthodoxy to learn more about the faith and to meet with Orthodox students. The OCLSA seeks to support the spiritual life of UVA Law students in their journey through law school and their legal careers. Additionally, the OCLSA seeks to promote the diversity of the UVA Law community by hosting  social events relating to the culture and heritage of Orthodox countries. The OCLSA is not affiliated with any particular branch or church of Orthodoxy; rather, it is a place for all those interested the Orthodox faith and culture. Contact ms7mn@virginia.edu for more information! tags No Application or Interview Required, Religious & Spiritual, Religious and Spiritual, Contracted Independent Organization (CIO), Cultural & Ethnic members 12\n"
     ]
    },
    {
     "name": "stderr",
     "output_type": "stream",
     "text": [
      "121it [00:21,  6.41it/s]"
     ]
    },
    {
     "name": "stdout",
     "output_type": "stream",
     "text": [
      "name Muslim Students Association description The Muslim Students Association was established at the University of Virginia in 1985 to serve as a community for Muslim students at the University. This year's MSA Council is dedicated to upholding that same sense of community and openness, and invites everyone to join MSA regardless of your background, sect, or place on the religious spectrum. Joining MSA is a great opportunity to learn more about Islam and to also meet new people and become part of the Muslim Community here at UVA. We have a variety of activities planned this year, including community potlucks, Islamic discussions, social gatherings, outdoor sports, speakers, & workshops. We look forward to an exciting year ahead with you!Make sure to like our page on Facebook and follow us on Instagram for the latest news and announcements. Please don't hesitate to reach out to us so that we can add you to our listserv as well as our GroupMe. Email us at msacouncil@gmail.com for any questions or concerns.Although this organization has members who are University of Virginia students and may have, University employees associated or engaged in its activities and affairs, the organization is not a part of or an agency. It is a separate and independent organization, which is responsible for and manages its own activities and affairs. The University does not direct, supervise or control the organization and is not responsible for the organization’s contracts, acts or omissions. tags Religious & Spiritual, L2K, Public Service, Social & Hobby, Contracted Independent Organization (CIO), Cultural & Ethnic members 29\n",
      "name Delta Upsilon (Virginia Chapter) description FSL tags Fraternity or Sorority, Public Service, Political & Advocacy, Social & Hobby members 2\n"
     ]
    },
    {
     "name": "stderr",
     "output_type": "stream",
     "text": [
      "123it [00:21,  6.36it/s]"
     ]
    },
    {
     "name": "stdout",
     "output_type": "stream",
     "text": [
      "name Graduate English Students Association description The Graduate English Students Association (GESA), established in 1975, is the primary graduate student organization within the University of Virginia’s English Department. GESA advances the interests of all graduate English students to departmental and university administrators, fosters and supports a vibrant intellectual community, and provides valuable resources to members at every phase of the University’s program in English. tags No Application or Interview Required, Academic & Professional, Contracted Independent Organization (CIO) members 10\n",
      "name Forge description Forge is a 501(c)(3) non-profit that prepares students with the modern skills they need to make an impact in the world. Each year, over 1,000 students learn things like design, marketing, and data science through our fun, engaging, community-driven projects and programs. We strive to empower students to realize their own potential while creating opportunities for them to make an impact for good. tags No Application or Interview Required, Media & Publications, Social & Hobby, Visual & Performing Arts, Contracted Independent Organization (CIO), Academic & Professional members 41\n"
     ]
    },
    {
     "name": "stderr",
     "output_type": "stream",
     "text": [
      "125it [00:22,  6.72it/s]"
     ]
    },
    {
     "name": "stdout",
     "output_type": "stream",
     "text": [
      "name The Lebanese Club at the University of Virginia (UVA) description The Lebanese Club at UVA is a club that strives to provide community for UVA students of Lebanese and Middle-Eastern descent, and anyone interested in learning more! We host cultural events, eat a lot of Lebanese food, and love to have fun!  tags Cultural & Ethnic, Contracted Independent Organization (CIO), Social & Hobby members 27\n",
      "name Virginia Alzheimer's Alliance description The Virginia Alzheimer’s Alliance is a student-led organization that focuses on increasing awareness and education about Alzheimer’s disease within the UVA community. Through training sessions, fundraising activities, and engagements with Alzheimer’s patients, we hope to help increase funding for Alzheimer’s research, as well as to provide friendly faces for local Alzheimer’s patients to spend time with. We want to emphasize the importance of connecting with Alzheimer’s patients on an individual level, so we will be spending as much time as possible interacting with local nursing homes and UVA Health to engage with patients. We hope to create an organization that outlives our time here at UVA, and we hope that through our work, UVA students and the Charlottesville community as a whole will be able to contribute to a worldwide effort to find a cure for Alzheimer’s. tags Public Service, Contracted Independent Organization (CIO) members 23\n"
     ]
    },
    {
     "name": "stderr",
     "output_type": "stream",
     "text": [
      "127it [00:22,  6.95it/s]"
     ]
    },
    {
     "name": "stdout",
     "output_type": "stream",
     "text": [
      "name Organization of African Students description The Organization of African Students welcomes EVERYONE who has an interest and/or love for Africa.We strive to bring together those who share similar experiences and those who are looking for new experiences, creating a welcoming and comfortable environment for Africans at the university, while also embracing non-Africans who are interested in learning about the continent or being a part of a community of great people. In addition, we hope to discredit the myths about Africa and promote its various cultures as we strive to break down cultural, ethical, and racial barriers. We also hope to expand and unite African Students here at the University with the Charlottesville community all while celebrating our most popular events during the year known as Africa Day & Umoja Ball. tags Contracted Independent Organization (CIO), Cultural & Ethnic, Public Service, Social & Hobby, Political & Advocacy, No Application or Interview Required, Black Presidents Council members 21\n",
      "name Cavalier Symphony Orchestra description Founded in 2016, the Cavalier Symphony Orchestra is the first and only student-run full symphony orchestra at the University of Virginia. Having grown to support two full symphonies, the Main orchestra and the smaller, auditioned Philharmonic, as well as several small Chamber ensembles, CSO provides a musical home to more than 130 musicians! In addition to our semesterly concerts, CSO ensembles have performed at numerous festivals, weddings, businesses, and events around Grounds and the greater Charlottesville community. tags No Application or Interview Required, Social & Hobby, Visual & Performing Arts, Contracted Independent Organization (CIO) members 35\n"
     ]
    },
    {
     "name": "stderr",
     "output_type": "stream",
     "text": [
      "129it [00:22,  7.06it/s]"
     ]
    },
    {
     "name": "stdout",
     "output_type": "stream",
     "text": [
      "name Lone Star Lawyers at Virginia Law description Lone Star Lawyers works to create a network for students interested in the Texas legal market by connecting them with employers, alumni and fellow students working in the state. LSL helps students find employment opportunities in Texas and provide a social atmosphere for students interested in Texas and alumni working in Texas to interact. tags Contracted Independent Organization (CIO), Academic & Professional, Social & Hobby, Law School, No Application or Interview Required members 10\n",
      "name Darden Soccer Club description The Darden Soccer Club is the place where MBA students can share their passion for the most popular sport in the world. The club gives the chance to meet amazing people while enjoying this beautiful sport. Our purpose is to help people play and watch this sport and increase its awareness within Darden and UVA. Our core values are Diversity, Respect, Effort, Teamwork, Humility, and Competition.Some of the activities are scheduling regular pick-up games, social events related to soccer and form teams from the Darden School of Business to compete in soccer tournaments, including SOCA Leagues, IM leagues and MBA tournaments around the country. tags Darden School, Club Sport, Social & Hobby, Contracted Independent Organization (CIO), No Application or Interview Required members 5\n"
     ]
    },
    {
     "name": "stderr",
     "output_type": "stream",
     "text": [
      "131it [00:23,  4.66it/s]"
     ]
    },
    {
     "name": "stdout",
     "output_type": "stream",
     "text": [
      "name The StarCraft Club at The University of Virginia description The StarCraft Club at the University of Virginia is a way to meet new people and socialize over the art of StarCraft.  Join our tight nit community where we learn and practice all things related to StarCraft and RTS games!We hold weekly community games and participate in the Corporate/Collegiate Esports League. With no skill requirements for any activity and no fees our organization is welcome to all! tags Contracted Independent Organization (CIO), Social & Hobby, No Application or Interview Required members 5\n",
      "name Inter-Sorority Council description The Inter-Sorority Council (ISC) is the governing body of 15 social sororities on the Grounds.  tags Contracted Independent Organization (CIO), Public Service, Social & Hobby, Political & Advocacy members 10\n"
     ]
    },
    {
     "name": "stderr",
     "output_type": "stream",
     "text": [
      "132it [00:23,  3.33it/s]"
     ]
    },
    {
     "name": "stdout",
     "output_type": "stream",
     "text": [
      "name NAMI on Grounds at the University of Virginia description NAMI, National Alliance on Mental Illnesses, is the nation’s largest grassroots mental health organization dedicated to building better lives for the millions of Americans affected by mental illness. NAMI on Campus is a sub-branch from NAMI that focuses on student's lives and activities at the university level.By creating a NAMI on Campus charter at UVA, we aim to provide and assist students and established resources at the university through extensive collaboration efforts and publicity.  Our main goal is to reduce the stigmas that prevent individuals from seeking help. We hope to do this by breaking the silences, shame, secrecy, and myths which have been attached to one’s mental health. Additionally, NAMI on Grounds at University of Virginia strives to generate a supportive space where students, faculty members, and members of the community feel safe and secure.Although this organization has members who are University of Virginia students and may have University employees associated or engaged in its activities and affairs, the organization is not a part of or an agency of the University. It is a separate and independent organization which is responsible for and manages its own activities and affairs. The University does not direct, supervise or control the organization and is not responsible for the organization’s contracts, acts or omissions. tags Contracted Independent Organization (CIO), Public Service, Political & Advocacy, Social & Hobby members 41\n"
     ]
    },
    {
     "name": "stderr",
     "output_type": "stream",
     "text": [
      "134it [00:24,  4.23it/s]"
     ]
    },
    {
     "name": "stdout",
     "output_type": "stream",
     "text": [
      "name The Fralin Student Docents at the University of Virginia description The Fralin Student Docents at the University of Virginia are one of the oldest volunteer university student docent programs in the country. Student Docents facilitate close-looking with original works of art at the Fralin Museum of Art, gain vital experience as museum educators, and serve the community by leading tours for thousands of area school children every year. The Fralin Student Docents are dedicated to furthering the educational and cultural development of its members and the community, as well as increasing the visibility and recognition of the Fralin Museum of Art.New docents participate in a semester-long training course in dialogic teaching, public speaking, and education theory, and are given ample opportunity to practice these skills. Some knowledge of basic art history is helpful but not required. After the training semester, student docents attend weekly education meetings Fridays from 1-2pm. Docent education meeting topics vary semester to semester, but always include education specific to the art and exhibitions on view. tags Contracted Independent Organization (CIO), Academic & Professional, Visual & Performing Arts, Public Service members 22\n",
      "name Club Field Hockey at UVA description The Club Field Hockey at UVA, established in 1991, provides a highly competitive level of play for both males and females, while requiring a lesser commitment than a varsity squad. The aim of this sport is to foster a team atmosphere while promoting the sport of field hockey at the University of Virginia. The team travels regularly to various colleges and universities along the east coast for tournaments and games, participates in various fundraising activities as well as bonding events. Our club team is the 2005, 2007, 2009, and 2019 National Field Hockey League Champions, as well as winning 2nd place in 2011, 2012, 2013, and 2018.  tags Social & Hobby, Club Sport, Contracted Independent Organization (CIO) members 11\n"
     ]
    },
    {
     "name": "stderr",
     "output_type": "stream",
     "text": [
      "137it [00:24,  6.27it/s]"
     ]
    },
    {
     "name": "stdout",
     "output_type": "stream",
     "text": [
      "name Peer Advisors at UVA Law description The Peer Advisors at UVA Law (PAs at UVA Law) serves to help ease 1L and LL.M. students into life at theUniversity of Virginia School of Law. PAs at UVA Law is designed to function as a community-building space for 1Ls and LL.M.s from all backgrounds, and members of the organization will do so by providing  mentorship, peer support, and guidance to the 1L and LL.M. class each year to help them acclimate to the law school community. tags Law School, Contracted Independent Organization (CIO), Peer Mentors members 33\n",
      "name Darden Energy Club description The Darden Energy Club’s mission is to foster a collaborative community of students, alumni, faculty, and employers across the energy industry. We aim to enable our members to become responsible leaders who consider the financial, environmental, and social impacts of energy in their careers and personal lives. Following from this Mission Statement, the Darden Energy Club has set the following list of objectives:Opening doors to careers in energy  Educating members on the energy transition through events and experiences Building meaningful connections tags No Application or Interview Required, Darden School, Academic & Professional, Contracted Independent Organization (CIO) members 1\n"
     ]
    },
    {
     "name": "stderr",
     "output_type": "stream",
     "text": [
      "139it [00:24,  6.40it/s]"
     ]
    },
    {
     "name": "stdout",
     "output_type": "stream",
     "text": [
      "name Batten Graduate Council description The Batten Graduate Council of the Frank Batten School of Leadership and Public Policy exists to represent the needs and interests of Batten School students.  It helps to enrich their academic experience by encouraging community outreach, special events and professional development activities.  The council also provides opportunities for interaction among students, faculty and alumni, in order to foster a strong culture and close-knit Batten community. tags Academic & Professional, Administrative Unit, Special Status Organization (SSO) members 7\n",
      "name Society of Women Engineers description The Society of Women Engineers is an organization that stimulates women to achieve full potential in careers as engineers and leaders, expands the image of the engineering profession as a positive force in the quality of life, and demonstrates the value of diversity. Our Student Chapter at the University of Virginia seeks to achieve these goals through professional development workshops, service projects, and community-building activities. tags No Application or Interview Required, Contracted Independent Organization (CIO), Academic & Professional members 82\n"
     ]
    },
    {
     "name": "stderr",
     "output_type": "stream",
     "text": [
      "141it [00:25,  6.19it/s]"
     ]
    },
    {
     "name": "stdout",
     "output_type": "stream",
     "text": [
      "name IfYou'reReadingThis description The mission of IfYoureReadingThis.org is to serve as an open-ended university-wide support network to help students struggling with their mental health to feel comfortable talking to somebody, by identifying the people who want to listen, and by showing an outpouring of love and understanding. tags Public Service, Contracted Independent Organization (CIO), Health and Wellness, Media & Publications members 9\n",
      "name Accounting Society at McIntire description Among its objectives, the Accounting Society at McIntire recognizes scholastic and professional excellence in the field of accounting, finance, and information technology. It provides a forum in which students interested in business may interact with, learn more about, and create networks with working professionals. The Accounting Society promotes leadership, integrity, continuous learning, and service through participation in a variety of rewarding professional, social, and community activities. It recognizes individuals whose time and efforts contribute significantly to promoting the organization and serve the student body, the University, and the greater community. tags McIntire School of Commerce, Honor Society, Contracted Independent Organization (CIO), Academic & Professional, Administrative Unit members 36\n"
     ]
    },
    {
     "name": "stderr",
     "output_type": "stream",
     "text": [
      "143it [00:25,  6.85it/s]"
     ]
    },
    {
     "name": "stdout",
     "output_type": "stream",
     "text": [
      "name Profit With Purpose description At Profit with Purpose we teach by doing. Beyond teaching core fundamentals, and connecting members with professionals in the impact investing industry, we hope to simulate the investment process. Our initiative looks for members from all majors, aims at helping beginners and experienced impact investing enthusiasts, and seeks to work closely with all other social entrepreneurship ventures on Grounds. We hope to provide alternative career opportunities for students who are passionate about social, environmental, and financial impact. Ultimately, PwP is building the impact investing network UVA lacks, and provides members real-world experience with investing in mission-driven startups. tags Public Service, Contracted Independent Organization (CIO), Academic & Professional members 31\n",
      "name Futures in Fashion Association description The purpose of Futures in Fashion Association is to present the University of Virginia with a forum to connect all UVA students interested in the fashion industry. Through regular meetings, organized speakers, and fashion education and career-related events, FFA works to create an open dialogue between UVA students interested in fashion and industry professionals to raise awareness within the student body about working in the fashion industry. The goal of FFA is to be a networking organization on Grounds where students interested in working in the Fashion Industry can meet; discuss career goals and Industry opportunities; and generally grow and learn from each other’s experiences and interests. You may know us from our semesterly thrift shop where we sell over 1,000 items or from our fashion shows at the Fralin.  tags Contracted Independent Organization (CIO), Academic & Professional, Visual & Performing Arts, Social & Hobby, No Application or Interview Required, Media & Publications members 39\n"
     ]
    },
    {
     "name": "stderr",
     "output_type": "stream",
     "text": [
      "145it [00:25,  6.74it/s]"
     ]
    },
    {
     "name": "stdout",
     "output_type": "stream",
     "text": [
      "name Fantasy Sports Club at UVA description A club for those who want the latest information and tips to take over and win their fantasy leagues. tags Social & Hobby, Contracted Independent Organization (CIO), No Application or Interview Required members 50\n",
      "name HRL SR - Hereford Residential College description HRL tags Residence Hall, Administrative Unit members 0\n"
     ]
    },
    {
     "name": "stderr",
     "output_type": "stream",
     "text": [
      "147it [00:25,  7.06it/s]"
     ]
    },
    {
     "name": "stdout",
     "output_type": "stream",
     "text": [
      "name Student Nurses' Association of Virginia description SNAV's mission is to foster the personal development of future nurses by encouraging involvement in service, leadership, and nursing professionalism. Through our events, we aim to cultivate nursing students into responsible leaders who actively participate in the nursing profession.  tags Academic & Professional, Contracted Independent Organization (CIO) members 4\n",
      "name UNCUT at UVA description UNCUT at UVA is a student-athlete storytelling platform. As the first and only platform of its kind at the University of Virginia, we prioritize the humanity of UVA student-athletes takes precedence over statistics because we believe that the person > the player. With a genuine commitment to authenticity, we let athletes explore their identities, share what's important to them, be themselves, and tell their stories in their own words. tags Contracted Independent Organization (CIO), Media & Publications members 9\n"
     ]
    },
    {
     "name": "stderr",
     "output_type": "stream",
     "text": [
      "149it [00:26,  6.70it/s]"
     ]
    },
    {
     "name": "stdout",
     "output_type": "stream",
     "text": [
      "name Muslims United description Muslims United aims to create an inclusive space in order to empower Muslim folx to connect spiritually, form community through faith, and resist systems of oppression. Core to this mission is the transformation of ourselves and our community through collective healing, mutual support, and an unwavering dedication to fighting for justice both within our community and externally. To these ends, Muslims United is dedicated to centering marginalized voices and fostering growth through intersectional religious, political, and social education and advocacy, while also working in solidarity with other minority communities. This mission statement is dynamic as is our organization and its membership. tags Contracted Independent Organization (CIO), Social & Hobby, Political & Advocacy, Religious & Spiritual members 10\n",
      "name Black Student Alliance description The purpose of the Black Student Alliance (BSA) is to articulate the problems and voice the concerns of Black students at the University of Virginia, conduct political action against unjust policies or programs mandated by the University, and serve as a liaison between Black students (Undergraduate and Graduate), faculty, alumni and the administration. In addition, BSA aims to establish communication within the Black community and achieve the common goals of Black students at UVa and the Black community in Charlottesville. To achieve these goals, the Black Student Alliance hosts numerous events throughout the year in order to unify the Black community.  tags Black Presidents Council, L2K, Contracted Independent Organization (CIO), Cultural & Ethnic, Academic & Professional, Political & Advocacy, Social & Hobby, Public Service members 115\n"
     ]
    },
    {
     "name": "stderr",
     "output_type": "stream",
     "text": [
      "151it [00:26,  6.57it/s]"
     ]
    },
    {
     "name": "stdout",
     "output_type": "stream",
     "text": [
      "name International Relations Organization at the University of Virginia description The International Relations Organization is a student-run non-profit which seeks to spread awareness on issues of international importance, and advocates for the use of diplomacy in foreign affairs. Founded in the 1970s by University of Virginia students, IRO has since grown to host thousands of student members in regular meetings and annual conferences. We host weekly meetings on Wednesday at 7pm in Jefferson Hall (Hotel C) with guest speakers and fun activities like trivia! All are welcome.  In addition, the club has several branches including the Virginia Journal, the Global Inquirer podcast, VICS, VAMUN, VIGMUN, and a  Model UN travel team.  tags Political & Advocacy, Social & Hobby, Contracted Independent Organization (CIO), Academic & Professional, No Application or Interview Required, Media & Publications members 93\n",
      "name Pool and Billiards Club at UVA description The Pool and Billiards Club at UVA is an organization founded with the purpose of bringing together those who enjoy learning and playing pool. This organization encourages everyone with interest in the game of pool to join, ranging from those who have never touched a pool cue to those who play regularly. The club is divided into two groups (though there is a lot of overlap between both groups): a recreational team and a competitive team. The recreational team meets once a week to engage in casual, friendly competition with other members of the club. Recreational team members are also taught and guided throughout the learning experience by returning members and members of the competitive team. The competitive team meets at least once a week for mandatory team practices and travels to VT and JMU every year to participate in intercollegiate tournaments with their pool teams. Players need to try-out in order to join the competitive team. The club normally meets at the 1515 on the corner, or occasionally at the Madhouse.  tags Club Sport, Social & Hobby, Contracted Independent Organization (CIO), No Application or Interview Required, Health and Wellness members 14\n"
     ]
    },
    {
     "name": "stderr",
     "output_type": "stream",
     "text": [
      "153it [00:26,  7.09it/s]"
     ]
    },
    {
     "name": "stdout",
     "output_type": "stream",
     "text": [
      "name oSTEM at Virginia description We work to empower and celebrate LGBTQIA+ STEM majors at the University of Virginia through professional, academic, and social initiatives.  tags Academic & Professional, Contracted Independent Organization (CIO), Political & Advocacy, Social & Hobby members 22\n",
      "name Kappa Sigma (Zeta Chapter) description FSL tags Political & Advocacy, Social & Hobby, Public Service, Fraternity or Sorority members 0\n"
     ]
    },
    {
     "name": "stderr",
     "output_type": "stream",
     "text": [
      "154it [00:26,  6.68it/s]"
     ]
    },
    {
     "name": "stdout",
     "output_type": "stream",
     "text": [
      "name Virginia Journal of Law & Technology description The Virginia Journal of Law & Technology (VJOLT) is one of the law school's most dynamic journals. The articles published in VJOLT examine legal issues that have arisen as a result of innovative technological change. Wherever technology moves, it creates technological, regulatory, and social welfare impacts. The issues that arise are truly cutting-edge and comprise many of the growth areas in professional practice and academic scholarship today. A technical or science background is not required in order to thrive on the journal. While some articles do have a technical focus, the majority of articles deal with the non-technical effects of technology on legal and social structures. Current members have a wide range of backgrounds and career interests. The journal publishes its issues exclusively online at https://www.vjolt.org/ and is indexed through Hein, Lexis, and Westlaw. This arrangement provides VJOLT with greater exposure, lower cost, and the ability to publish in a more timely fashion than most print journals. If you have any questions, please feel free to talk to any of the current managing board and editorial board members, or contact us by e-mail at vjolt@vjolt.org. tags Law School, Contracted Independent Organization (CIO), Academic & Professional, Media & Publications members 7\n"
     ]
    },
    {
     "name": "stderr",
     "output_type": "stream",
     "text": [
      "156it [00:27,  5.13it/s]"
     ]
    },
    {
     "name": "stdout",
     "output_type": "stream",
     "text": [
      "name PAFN - (Asian/Pacific Islander/South Asian American) Peer Advising Family Network description Established in 1998, the Asian/Pacific Islander/South Asian American Peer Advising Family Network (PAFN) was created to provide transitional support to incoming first year and transfer students who identify as Asian/Pacific Islander/South Asian. tags L2K, Peer Mentors, Cultural & Ethnic, Administrative Unit members 5\n",
      "name Alternative Investment Fund description AIF is a student run, McIntire-affiliated club at the University of Virginia that trains young professionals for careers in investment management and other functions within the financial markets.  AIF strives to expose members to the full spectrum of financial instruments and trading strategies, beyond the long-short equity model commonly employed by student investment funds.  We deploy capital in a wide array of assets, including equities, fixed income, options, futures, currencies, commodities and other alternative investments. tags Contracted Independent Organization (CIO), Academic & Professional, McIntire School of Commerce members 14\n"
     ]
    },
    {
     "name": "stderr",
     "output_type": "stream",
     "text": [
      "158it [00:27,  5.95it/s]"
     ]
    },
    {
     "name": "stdout",
     "output_type": "stream",
     "text": [
      "name The Running Club at UVA description Please see our linked website for more information about our club!  tags Club Sport, Contracted Independent Organization (CIO) members 36\n",
      "name Association for Women in Sports Media description AWSM is the UVA chapter of the Association of Women in Sports Media, a national organization that works to promote and increase diversity in sports media through career-enhancement networking and mentoring initiatives in the Sports Media industry! tags Social & Hobby, Academic & Professional, Contracted Independent Organization (CIO), Media & Publications, No Application or Interview Required members 31\n"
     ]
    },
    {
     "name": "stderr",
     "output_type": "stream",
     "text": [
      "160it [00:28,  6.15it/s]"
     ]
    },
    {
     "name": "stdout",
     "output_type": "stream",
     "text": [
      "name Rivanna Investments description The purpose of Rivanna Investments is to promote opportunities at the University of Virginia School of Law to learn about the art of investing through active participation in the global markets, to facilitate discussions about the markets on campus, and to create a platform to provide scholarship funding should the group earn positive returns on the fund. tags No Application or Interview Required, Law School, Social & Hobby, Contracted Independent Organization (CIO), Academic & Professional members 28\n",
      "name Growing for Change description GFC works to dissolve social barriers between the University of Virginia and Westhaven residents though collaborative garden design and developing relationships with residents. These gardens will tackle the problem of limited space and land ownership posed by public housing arrangements through design, provide access to nutritional foods and gardening programs, and work to empower community residents. We seek to create a vision of a healthy and inclusive community among all stakeholders in which harmonious social relationships will prosper and access to a healthier food environment is possible. tags Political & Advocacy, Public Service, Contracted Independent Organization (CIO), No Application or Interview Required members 12\n"
     ]
    },
    {
     "name": "stderr",
     "output_type": "stream",
     "text": [
      "162it [00:28,  6.19it/s]"
     ]
    },
    {
     "name": "stdout",
     "output_type": "stream",
     "text": [
      "name John Paul Jones Arena description John Paul Jones Arena tags Department, Schools, or Centers members 0\n",
      "name Bengali Student Organization description The Bengali Student Organization is a student-run organization that serves to educate and bring together members of the University community who are interested in and/or directly affiliated with the culture and experiences of Bengal, a region encompassing both the People’s Republic of Bangladesh and the Indian state of West Bengal. BSO also serves to bring attention to issues that affect the Bengal region including but not limited to: poverty, economic instability, human rights, environmental concerns, inequality, racial and religious strife, and the Rohingya refugee crisis. We aim to be an inclusive organization with our goal to teach others the Bengali culture/language!Links: https://linktr.ee/BSOatUVAInstagram: www.instagram.com/BSOatUVA/Facebook: https://www.facebook.com/BSOatUVAGroupMe: https://web.groupme.com/join_group/62321098/zGwivpAe tags Contracted Independent Organization (CIO), Cultural & Ethnic, No Application or Interview Required members 20\n"
     ]
    },
    {
     "name": "stderr",
     "output_type": "stream",
     "text": [
      "164it [00:28,  6.66it/s]"
     ]
    },
    {
     "name": "stdout",
     "output_type": "stream",
     "text": [
      "name Nepalese Student Association description The purpose of the Nepali Student Association is to increase awareness about Nepal through cultural, educational, and social events. The club is designed to provide a means to share Nepali culture to the University and to provide support to Nepali students. tags Social & Hobby, Cultural & Ethnic, Contracted Independent Organization (CIO) members 12\n",
      "name Legal Research Forum description The Legal Research Forum is a student-led initiative devoted to empowering law students with resources and support in their research endeavors, aimed at nurturing an environment of intellectual curiosity.Our mission is to establish an engaging platform that encourages students to explore legal issues in depth, thereby enriching the body of legal knowledge and influencing the wider academic discourse. Our activities are primarily focused on four essential areas. We conduct regular research workshops, providing practical guidance on legal research methodologies that include the effective use of various legal databases, understanding legal citations, and enhancing proficiency in legal writing and comprehensive research strategies. We also invite distinguished legal scholars and researchers to share their insights on current legal issues and o er guidance on research practices, enriching the intellectual exchange among our members.An integral part of our support mechanism involves collaborating to assist LL.M. and JD students in their research projects. We provide them with advice during their topic selection process, guide them in correctly citing sources using Bluebook citations, and assist them in utilizing library resources effectively. Furthermore, we facilitate study groups that focus on specific areas of law, offering a platform for peers to learn from and support each other.The presence of the Legal Research Forum within a university setting is crucial due to its role in fostering a culture of in-depth research and enhancing academia. The organization serves as a catalyst, driving students to delve deeper into their areas of interest, question existing knowledge and theories, and contribute novel insights and perspectives to the broader legal discourse. By offering guidance in research methodologies and providing practical support, the Forum enables students to navigate the complex landscape of legal research effectively. It also creates opportunities for cross-disciplinary interaction, allowing students to learn from diverse fields, thereby enriching their research projects and broadening their intellectual horizons. The presence of such an organization in a university also helps bridge the gap between various academic programs, fostering a cohesive intellectual community. This environment of academic enrichment, facilitated by the Legal Research Forum, is vital for nurturing well-rounded, critically-thinking legal professionals who can contribute meaningfully to the legal eld and society at large. It ensures that the university is not just a place for learning existing knowledge but also a hub for creating new knowledge. tags Law School, Academic & Professional, Contracted Independent Organization (CIO), International members 6\n"
     ]
    },
    {
     "name": "stderr",
     "output_type": "stream",
     "text": [
      "166it [00:29,  6.45it/s]"
     ]
    },
    {
     "name": "stdout",
     "output_type": "stream",
     "text": [
      "name Virginia Case Club description The Virginia Case Club (VCC) is UVA's premier case consulting organization.We introduce UVA students to and prepare them for careers in consulting. We partner with consulting firms and help students develop concrete presentation, problem-solving, and analysis skills by competing in mock business situations. VCC also is the founder and organizer of UVA's first annual intercollegiate consulting case competition. Our members graduate to firms such as Bain&Co, Boston Consulting Group (BCG), McKinsey&Co., PwC, Deloitte, Disney, Warner Bros., Uber, Evercore, Bank of America, and so on. tags Contracted Independent Organization (CIO), Academic & Professional, McIntire School of Commerce members 10\n",
      "name East Coast Showdown description East Coast Showdown is the intercollegiate Bhangra and Raas dance competition in Charlottesville, Virginia. At the University of Virginia, this culture of dance has been spread to other places of the nation with our premier competitive Raas team, HooRaas, and our premier competitive Bhangra team, UVA Di-Shaan. Through ECS, we hope to start a long standing tradition of dance culture that can be performed and appreciated by participants and audience members of UVA and the surrounding community. tags Visual & Performing Arts, Contracted Independent Organization (CIO), Cultural & Ethnic members 10\n"
     ]
    },
    {
     "name": "stderr",
     "output_type": "stream",
     "text": [
      "168it [00:29,  6.59it/s]"
     ]
    },
    {
     "name": "stdout",
     "output_type": "stream",
     "text": [
      "name Science Policy Initiative at UVA description The Science Policy Initiative at UVA is established for the expressed purpose of:Enhancing awareness among graduate students in engineering and science disciplines about fellowship and career opportunities in science policy.Providing support and resources for graduate students pursuing opportunities in science policy.Conducting professional development events to prepare graduate students for careers in science policy.Advocating to the university administration for support of graduate students pursuing policy careers.Facilitating community outreach events to increase awareness and understanding of scientific research among the community. tags Academic & Professional, Contracted Independent Organization (CIO), Public Service, Political & Advocacy members 6\n",
      "name Hoos First description Hoos First tags Department, Schools, or Centers members 3\n"
     ]
    },
    {
     "name": "stderr",
     "output_type": "stream",
     "text": [
      "170it [00:29,  6.71it/s]"
     ]
    },
    {
     "name": "stdout",
     "output_type": "stream",
     "text": [
      "name Grace Christian Fellowship description Grace Christian Fellowship is an inter-denominational campus ministry at the University of Virginia. It is a community of Christ-followers and Christ-seekers. We are mainly made up of Asian American students, but we welcome those of all cultural backgrounds. Come join us as we seek to grow in the grace and knowledge of Jesus Christ! (2 Peter 3:18) tags No Application or Interview Required, Religious & Spiritual, Contracted Independent Organization (CIO) members 20\n",
      "name The Art Club at the University of Virginia description The purpose of the Art Club is to provide a space for students of all majors to create art in a social and light-hearted environment. Events include getting together to paint, going to workshops, and creating an art community for artists to collaborate and share ideas. tags Visual & Performing Arts, Social & Hobby, Contracted Independent Organization (CIO), No Application or Interview Required members 110\n"
     ]
    },
    {
     "name": "stderr",
     "output_type": "stream",
     "text": [
      "172it [00:29,  6.55it/s]"
     ]
    },
    {
     "name": "stdout",
     "output_type": "stream",
     "text": [
      "name Indian Student Association description The Indian Student Association at the University of Virginia (ISA at UVA) is a sociocultural organization dedicated to fostering a community that welcomes all kinds of students to grounds. As the largest multicultural organization on grounds, our organization hosts a variety of events - from cultural celebrations to socials (big/little programs, year bondings, etc.), sporting events and debates, to career advising and more - there is something for everyone! Whether it’s your first week on grounds, or you’re walking the lawn at graduation, we’re here for you. Come find your home away from home by joining our family today! tags Contracted Independent Organization (CIO), Cultural & Ethnic, Social & Hobby members 25\n",
      "name Darden Wine and Cuisine Club description The mission of the Darden Wine and Cuisine Club is to:?        Educate members on culinary and beverage topics - including beer, wine, and spirits.?        Promote the appreciation for and enjoyment of a diverse range of various beverages and cuisines.?        Provide socially and culturally engaging events.?        Build an inclusive Darden community. tags No Application or Interview Required, Contracted Independent Organization (CIO), Social & Hobby, Darden School members 6\n"
     ]
    },
    {
     "name": "stderr",
     "output_type": "stream",
     "text": [
      "174it [00:30,  7.65it/s]"
     ]
    },
    {
     "name": "stdout",
     "output_type": "stream",
     "text": [
      "name National Society of Black Engineers at UVA description NSBE at UVA is dedicated and committed to achieve excellence in our underrepresented engineers. It’s this standard of excellence that has led us to create influential leaders in our communities nationwide today.We believe in increasing the representation of black engineers - and that means providing financial resources, study information, and volunteer help to create a new generation of black engineers. Get in touch today to learn more about what we have to offer! tags Contracted Independent Organization (CIO), Academic & Professional, Cultural & Ethnic, Public Service, Black Presidents Council members 14\n",
      "name Mainland Student Network description Founded in 2005, Mainland Student Network (MSN) is an active on-ground CIO at the University of Virginia. MSN aims to build a platform, where international Chinese students could better their understanding of American Culture, and smoothly adapt to university life as fast as possible. Also, we focus on cultural events and other on-grounds / off-grounds activities. We promote the positive image of UVA in mainland China. Throughout the years, MSN is very grateful to have your support, from students, from alumni, and from parents. We are determined to ameliorate your UVA life and create a better future for you. tags Contracted Independent Organization (CIO), Academic & Professional, Cultural & Ethnic members 14\n"
     ]
    },
    {
     "name": "stderr",
     "output_type": "stream",
     "text": [
      "177it [00:30,  9.64it/s]"
     ]
    },
    {
     "name": "stdout",
     "output_type": "stream",
     "text": [
      "name Future Physician Assistant Society description The Future Physician Assistant Society (FPAS) serves both to raise awareness about the PA profession and its distinction from other pre-health professions and to help pre-PA students throughout the process of applying to PA programs. FPAS members collaborate to gather information about various PA Programs across the US and bring in guest speakers to our club meetings, including PAs in various fields of medicine, representatives from various organizations which may be of help to pre-PA students, and recruiters from PA programs. FPAS hopes to connect students with current PAs to facilitate shadowing opportunities and potential mentorships. In addition, newer goals going forward with the 2023-2024 school year are to potentially collaborate with other CIOs in workshops and integrate service event participation. Finally, FPAS facilitates connections and friendships between pre-PA students at UVAs to share support and resources throughout their undergraduate career.Follow us on IG! @fpas_uva  tags No Application or Interview Required, Academic & Professional, Contracted Independent Organization (CIO) members 64\n",
      "name Office of Undergraduate Research description Undergraduate Research + Creative InquiryWhat is research and creative inquiry? These terms are used to encompass active experiences of discovery. Every experience and project is unique, but students typically work under the direction of a faculty mentor who guides them through the research or creative process.When should I get started? There is no “right” time to get started, your college experience is your own and you should pursue a research or creative endeavor when you feel prepared to incorporate it into your schedule. That said, finding an opportunity is a journey in itself. It will take thought, effort, and likely a bit of time to find the right fit.How can I get started? Every path to involvement in research is different, and often the process of pursuing an opportunity is one of research and self-discovery.Visit this webpage: https://undergraduateresearch.virginia.edu/our-opportunities/getting-startedAttend Undergraduate Research + Creative Inquiry Workshops: 1st and 3rd Wednesday of each Monday from 4 – 5 p.m. in Clemons Library Room 204 || Schedule: https://undergraduateresearch.virginia.edu/office-hours tags Academic & Professional, Department, Schools, or Centers, Leadership Development, Public Service, Visual & Performing Arts, Internships and Employment, Department Group or Program, Honors and Awards members 2\n"
     ]
    },
    {
     "name": "stderr",
     "output_type": "stream",
     "text": [
      "179it [00:30,  8.29it/s]"
     ]
    },
    {
     "name": "stdout",
     "output_type": "stream",
     "text": [
      "name Virginia Law Ski & Snowboard Society description The Virginia Law Ski and Snowboard Society (VLSASS) is designed to foster a community through the sports of skiing and snowboarding. VLSASS organizes various opportunities for students to build relationships amongst their peers and to develop and improve their skills. In addition to providing a means of socialization on campus, VLSASS presents opportunities of day-long and weekend trips to local mountains and longer excursions over Winter and Spring Break for those looking to test their skills on more advanced terrain. We welcome anyone, regardless of their skill level in the sports, and encourage all who are interested in the sports of skiing and snowboarding to join VLSASS. Membership is inclusive of all skill levels including those who are interested in learning to ski or snowboard, looking for opportunities to advance their skills, or just looking for a fun, casual winter activity to partake in with friends. tags No Application or Interview Required, Law School, Social & Hobby, Contracted Independent Organization (CIO) members 5\n",
      "name undocUVA description undocUVA strives to create a more inclusive environment and an overall safe space for undocumented students through education and advocacy. In order to obtain this desired environment we plan to help students expand their intellectual, creative and social horizons while empowering a sense of belonging. We will strive to foster an understanding in the UVa and Greater Charlottesville community about the unique issues and challenges undocumented students undergo. We believe it is important to acknowledge that we are not affiliated with any cultural or Latinx organization. All are welcome, regardless of background or status.  We will also provide faculty and staff with tools and information to help in their interactions with undocumented students. We are committed to have strong ties with administrations, most importantly Student Financial Services, in order to provide students with the necessary resources to make their experience a successful one. tags Public Service, Political & Advocacy, Contracted Independent Organization (CIO), L2K members 20\n"
     ]
    },
    {
     "name": "stderr",
     "output_type": "stream",
     "text": [
      "181it [00:31,  7.51it/s]"
     ]
    },
    {
     "name": "stdout",
     "output_type": "stream",
     "text": [
      "name Student Planners Association description The purpose of the Student Planners Association at UVA (“SPA”) is to promote the general understanding of urban planning practice at the University of Virginia (“UVA”) and UVA School of Architecture (“A-School”) and to support the professional and academic development of our members. SPA is a Planning Student Organization (PSO) as defined by the American Planning Association (APA).SPA performs the following services, but is not limited to:Assisting members with conference funding;Serving as a liaison between the student body, department faculty, and the A-School;Organizing events for students, the department, and the A-School;Assisting students with professional development through training and networking opportunities with the APA and other professional organizations;Equally incorporate graduate and undergraduate students; Helping to orient incoming students. tags Academic & Professional, Contracted Independent Organization (CIO), Social & Hobby, Public Service, Architecture members 33\n",
      "name Phi Eta Sigma Honor Society description We are an academic honor society that celebrates first-year academic achievement. Any university student who maintains a 3.5+ GPA for the entirety of their first year at UVA is eligible to join and will receive notice of this by email and/or mail during their second year. Our induction ceremony usually coincides with Parents' Weekend so that students' parents can attend (optional). During the year we try to do social and volunteer events for our members, but as of right now, there are no mandatory events (low commitment, good resume builder, all about trying to benefit our members).  tags Honor Society, Contracted Independent Organization (CIO), Academic & Professional members 25\n"
     ]
    },
    {
     "name": "stderr",
     "output_type": "stream",
     "text": [
      "183it [00:31,  7.41it/s]"
     ]
    },
    {
     "name": "stdout",
     "output_type": "stream",
     "text": [
      "name Advocates for Life at Virginia Law description AFL is the pro-life student organization at UVA Law. tags Contracted Independent Organization (CIO), Political & Advocacy, Public Service, Law School, No Application or Interview Required members 11\n",
      "name The Darden Food and Agribusiness Club at UVA description The mission of the Food and Agribusiness Club at Darden is to bring students together to learn and grow their knowledge of agribusines in the wider business community. We will cultivate curiosity, rooted in sustainability, through lasting learning experiences.  tags Darden School, Contracted Independent Organization (CIO), No Application or Interview Required, Internships and Employment members 2\n"
     ]
    },
    {
     "name": "stderr",
     "output_type": "stream",
     "text": [
      "185it [00:31,  7.25it/s]"
     ]
    },
    {
     "name": "stdout",
     "output_type": "stream",
     "text": [
      "name Honor Committee description Honor tags Agency, Administrative Unit members 1\n",
      "name Virginia Rifle and Pistol Club description The Virginia Rifle and Pistol Club offers students of all skill levels the opportunity to participate in marksmanship. We offer full instruction in pistol and rifle marksmanship as well as shotgun sports. All participants are given instruction in firearms safety and have the option of shooting for fun or for the competitive teams.Practices are held twice a week and serve as a chance for new shooters to develop proper form and technique and allow experienced shooters to develop their skills for competition. Each semester, the competitive teams will travel to several local competitions as well as one regional or national competition where we compete against some of the best collegiate shooters in the country.  tags Contracted Independent Organization (CIO), Social & Hobby members 12\n"
     ]
    },
    {
     "name": "stderr",
     "output_type": "stream",
     "text": [
      "187it [00:31,  8.08it/s]"
     ]
    },
    {
     "name": "stdout",
     "output_type": "stream",
     "text": [
      "name North Grounds Track Club description North Grounds Track Club is the law school’s running club. We welcome runners of all backgrounds and experience to join us in creating a lifelong relationship with fitness and wellness for law students. We offer weekly light runs, speed work, and long runs as well as have two dedicated workout coordinators who tailor training plans to your running goals. We host cooking classes and pasta dinners and work to foster an inclusive running community at the law school.   tags Contracted Independent Organization (CIO), Law School members 8\n",
      "name The Speaking Center at UVA description Following a year of development, the UVa Speaking Center launched in Spring 2021 as a student-led organization to help students improve their public speaking skills. Central to the Center’s mission is providing free and accessible resources. Through online scheduling, students (undergraduate or graduate) can book a 15, 30, or 50-minute consulting session with a student consultant who provides in-depth and hands-on assistance for pre-recorded or live speeches/presentations, group projects, job interviews, and general anxiety. Ultimately, students help their fellow students improve their public speaking skills in a welcoming and accessible way. tags Academic & Professional, Contracted Independent Organization (CIO), Leadership Development, Public Service, Visual & Performing Arts members 13\n"
     ]
    },
    {
     "name": "stderr",
     "output_type": "stream",
     "text": [
      "189it [00:32,  7.42it/s]"
     ]
    },
    {
     "name": "stdout",
     "output_type": "stream",
     "text": [
      "name Lambda Law Alliance description Lambda provides professional, social, and academic support for bisexual, lesbian, gay, trans, queer, intersex, and asexual members of the University of Virginia School of Law community. Lambda also aims to educate and advocate on issues concerning the LGBTQ+ community. This includes raising awareness and advocating on issues regarding members of the community who have intersectional identities and the ways in which identities operate within systems of power, privilege, and oppression. tags Law School, Social & Hobby, Political & Advocacy, Contracted Independent Organization (CIO), Cultural & Ethnic members 13\n",
      "name Singapore Students Association description The Singapore Students Association at the University of Virginia is a student-run, contract-independent organization (CIO) that strives to establish a bond and feeling of togetherness among Singaporean students in University of Virginia (UVA) and to promote UVA as a viable college choice to students in Singapore. We deal extensively with helping incoming students from Singapore adjust smoothly to life at UVA. The SSA also intends to deepen cultural understanding within the University community and to enrich the student body through the showcasing of Singaporean values, customs and culture. tags Contracted Independent Organization (CIO), Cultural & Ethnic, Social & Hobby, No Application or Interview Required members 10\n"
     ]
    },
    {
     "name": "stderr",
     "output_type": "stream",
     "text": [
      "190it [00:32,  6.89it/s]"
     ]
    },
    {
     "name": "stdout",
     "output_type": "stream",
     "text": [
      "name HRL SR - Kent-Dabney description HRL tags Residence Hall, Administrative Unit members 0\n"
     ]
    },
    {
     "name": "stderr",
     "output_type": "stream",
     "text": [
      "192it [00:32,  5.59it/s]"
     ]
    },
    {
     "name": "stdout",
     "output_type": "stream",
     "text": [
      "name Rhapsody Ballet Ensemble description Rhapsody Ballet Ensemble is a small group of UVA students who have come together through a shared passion for dance. Founded in 2000, the organization serves as an expressive outlet for these student artists, who devote many hours in and out of the studio to developing and rehearsing original ballet choreography. Semi-annual performances, which may include pieces that are classical or contemporary in style, allow Rhapsody members the opportunity to showcase their efforts and artistry. In addition to its performances, Rhapsody offers free member-led dance classes each week on Grounds. These open classes allow dancers to develop leadership skills, express themselves, and share the joy of dance with members and nonmembers alike. tags Visual & Performing Arts, Social & Hobby, Contracted Independent Organization (CIO) members 12\n",
      "name CubeSat Design Team at UVA description This is an engineering organization that specializes in CubeSats which is a nanosatellite. We learn about and build CubeSats using skills in mechanical, aerospace, electrical, and computer engineering. Our goal is to get people interested in space engineering by creating spacecrafts. We also hold workshops for students to gain experience in engineering skills, and we also hold professional development events for people interested in space engineering. tags No Application or Interview Required, Contracted Independent Organization (CIO), Academic & Professional members 19\n"
     ]
    },
    {
     "name": "stderr",
     "output_type": "stream",
     "text": [
      "194it [00:33,  6.24it/s]"
     ]
    },
    {
     "name": "stdout",
     "output_type": "stream",
     "text": [
      "name Agape Christian Fellowship description Agape is a Christian legal fellowship that seeks to uphold the \"greatest commandment,\" to love God and love others. Agape is committed to being an affirming and inclusive community, growing together to become better Christians, friends, community members and law students. tags Law School, Religious & Spiritual members 0\n",
      "name Orthodox Christian Fellowship description We are a group of students and community members who practice the ancient and eternal Christian faith, the Orthodox Christian Church. We open our doors to anyone who is interested in the preserved truths of the Apostolic Church. We hold weekly meetings, offer rides to church, engage in social events and community service, and provide spiritual support and fellowship. We practice our Orthodox faith here at UVA by helping students participate in the life of the Church in a community that supports one another through worship, service, and fellowship.JOIN OUR GROUPME HERE -->  https://groupme.com/join_group/52539301/WUDGNm6m  All info will be communicated through the GroupMe! tags Cultural & Ethnic, Contracted Independent Organization (CIO), Public Service, No Application or Interview Required, Religious & Spiritual members 11\n"
     ]
    },
    {
     "name": "stderr",
     "output_type": "stream",
     "text": [
      "196it [00:33,  5.64it/s]"
     ]
    },
    {
     "name": "stdout",
     "output_type": "stream",
     "text": [
      "name College Mentors for Kids at UVA description As a mentor, you'll get paired with an elementary schooler (your \"little buddy\") who you'll get to know over the course of the entire year. After their school day ends at 3:00 PM, we bring our little buddies to grounds by bus so you can meet them in our activity space by New Dorms once a week for a 2-hour pre-planned session of fun. During each activity, you, your little buddy, and the rest of the pairs in your \"buddy family\" listen to guest speakers, go on field trips around grounds, and play games.We've introduced the kids to UVA football players, firemen, and professors. We've visited UVA sports facilities, toured the lawn, and done nature walks around grounds. We've hosted lemonade stands, made slime, played countless rounds of Simon says.At College Mentors for Kids, you'll inspire growth, confidence, and a brighter future in your little buddy. tags Contracted Independent Organization (CIO), Social & Hobby, Public Service members 14\n",
      "name Mixed Race Student Coalition description The Mixed Race Student Coalition (MRSC) serves to build a community for multi-ethnic and multiracial people in the Charlottesville community around their shared experiences. MRSC seeks to increase awareness and appreciation of the culture of people of mixed race and/or ethnicity. As members of MRSC, mixed and multiracial students don’t need to answer the much anticipated “What are you?” question or experience the feeling of having someone categorize them according to different racial stereotypes. They can simply exist as who they feel they truly are. tags Cultural & Ethnic, Contracted Independent Organization (CIO) members 42\n"
     ]
    },
    {
     "name": "stderr",
     "output_type": "stream",
     "text": [
      "198it [00:33,  6.48it/s]"
     ]
    },
    {
     "name": "stdout",
     "output_type": "stream",
     "text": [
      "name MEDLIFE at UVA description MEDLIFE is a non-profit organization that partners with low-income communities in Latin America and Africa to improve their access to medicine, education, and community development projects. As a student organization, our goal is to promote awareness of global health issues and also provide those interested with the opportunity to participate in mobile clinics throughout South America. On these clinics, students work in cooperation with local healthcare professionals to provide healthcare to communities who otherwise have no access to healthcare. We also empower students and volunteers to become advocates for change by not only helping internationally, but also locally in the Charlottesville community. tags No Application or Interview Required, Public Service, Contracted Independent Organization (CIO), Academic & Professional members 17\n",
      "name Darden Dance Club description DDC will enrich the experiences of Darden students, partners, and faculty by providing opportunities for members to express themselves through dance. This will be achieved by focusing on the following elements: learning and application of new dance styles, dance-based exercise and workouts, and exposure to international dances. tags Contracted Independent Organization (CIO), Cultural & Ethnic, Darden School, Social & Hobby, Visual & Performing Arts, No Application or Interview Required members 10\n"
     ]
    },
    {
     "name": "stderr",
     "output_type": "stream",
     "text": [
      "200it [00:33,  6.78it/s]"
     ]
    },
    {
     "name": "stdout",
     "output_type": "stream",
     "text": [
      "name Culture of Respect Educators at UVA description Culture of Respect Educators (CORE) is a peer education and advocacy group committed to preventing sexual violence and promoting sexual respect at The University. We carry out dorm norms programming every Fall to initiate conversations in each first year residence hall about consent, survivor support, bystander intervention, and the history and context of sexual violence at UVA. We also carry out Respectful Interactions and Support Education (RISE) programming for each incoming IFC pledge class in the Spring, holding discussions about healthy masculinity and contributing to a culture of respect and support. We're available to hold discussions with any group, school, team, or other entity on grounds year round and are happy to tailor presentation topics to the needs of the audience. You can contact us anytime by emailing coreatuva@gmail.com. tags Contracted Independent Organization (CIO), Political & Advocacy members 9\n",
      "name The Phillip C. Jessup International Moot Court Team description The Phillip C. Jessup International Moot Court team seeks to strengthen the international reputation of the University of Virginia School of Law through consistent advancement to the international rounds of the Phillip C. Jessup International Moot Court competition and continued success at those advanced stages. tags Academic & Professional, Contracted Independent Organization (CIO), Law School members 7\n"
     ]
    },
    {
     "name": "stderr",
     "output_type": "stream",
     "text": [
      "202it [00:34,  6.63it/s]"
     ]
    },
    {
     "name": "stdout",
     "output_type": "stream",
     "text": [
      "name CE+ description CE+ is the formal CIO for the students and candidates in the Doctoral Program in the Constructed Environment at the UVA School of Architecture. tags Contracted Independent Organization (CIO), Academic & Professional, Architecture members 18\n",
      "name Amnesty International at the University of Virginia description Amnesty International at UVA is part of the larger Amnesty International movement and fights injustice by campaigning for human rights causes ranging from gun control to women's rights to refugee rights. Our chapter organizes educational events, fundraisers, and letter-writing and social media campaigns to advance Amnesty International’s objectives. We also support the Charlottesville community through fundraisers and advocacy for local causes. tags Contracted Independent Organization (CIO), Political & Advocacy, No Application or Interview Required members 79\n"
     ]
    },
    {
     "name": "stderr",
     "output_type": "stream",
     "text": [
      "204it [00:34,  8.69it/s]"
     ]
    },
    {
     "name": "stdout",
     "output_type": "stream",
     "text": [
      "name Animal Justice Advocates at UVa description Animal Justice Advocates at UVA is an organization that upholds students as valued participants in our education, committed to “leading lives of honor.\" The UVA Honor Committee frames our honor code as one that “calls us to be honorable to each other not merely by not committing transgressions, but also by doing reverence to the other in our midst.” We challenge our university not only to divest from violence against animals, but also to become a leader in progressive and compassionate education. Moving forward with great hope in the university, we are nonetheless mindful of the university’s history of oppression, and while committed to and focused on issues specific to animals, we aim to promote an understanding of the intersections of systems of oppression affecting animals, humans, and the environment. At a university founded on the principle of student governance, it is our responsibility as students to insist that the pursuit of knowledge be rooted in compassion; the alternative is a university grounded in oppression. tags Contracted Independent Organization (CIO), Political & Advocacy, No Application or Interview Required members 35\n"
     ]
    },
    {
     "name": "stderr",
     "output_type": "stream",
     "text": [
      "206it [00:35,  5.09it/s]"
     ]
    },
    {
     "name": "stdout",
     "output_type": "stream",
     "text": [
      "name She Writes History at UVA description She Writes History is an organization dedicated to women's history, scholarship, and community engagement. She Writes History was founded on the notion that women have been largely marginalized in our written history and spaces of public history, like the memorials we dedicate to individuals on UVA grounds. She Writes History was founded with the belief that narratives of women from the past must be elevated so that our understanding of the world and society is more complete. Women's narratives should also be put in conversation with other marginalized narratives to understand the complexity of our past and present. She Writes History is dedicated to elevating past female narratives, and creating platforms where women from the present can preserve their voice and achievements for future generations. tags Academic & Professional, Contracted Independent Organization (CIO) members 8\n",
      "name Mock Trial Association at UVA Law description The Mock Trial team at the University of Virginia School of Law provides an opportunity for law students to hone their trial advocacy skills. The program participates in competitive Mock Trial competitions throughout the country. tags Law School, Academic & Professional, Contracted Independent Organization (CIO) members 18\n"
     ]
    },
    {
     "name": "stderr",
     "output_type": "stream",
     "text": [
      "208it [00:35,  5.60it/s]"
     ]
    },
    {
     "name": "stdout",
     "output_type": "stream",
     "text": [
      "name College of Arts and Sciences description College of Arts and Sciences tags Department, Schools, or Centers members 1\n",
      "name Radio Music Society description It's modern with a classical twist. Radio Music Society is a string-based music ensemble that specializes in playing modern pop music- anything that can be heard on the radio can be heard from our instruments. Our mission is to bring the love of string music to th﻿e University of Virginia and the Charlottesville communities.  tags Contracted Independent Organization (CIO), Social & Hobby, Visual & Performing Arts members 13\n"
     ]
    },
    {
     "name": "stderr",
     "output_type": "stream",
     "text": [
      "210it [00:35,  5.72it/s]"
     ]
    },
    {
     "name": "stdout",
     "output_type": "stream",
     "text": [
      "name Alpha Tau Omega (Delta Chapter) description FSL tags Fraternity or Sorority, Political & Advocacy, Social & Hobby, Public Service members 1\n",
      "name Sports Business Society at UVA description The goal of this club is to offer a place where students of any year can come and learn and discuss the rapidly expanding world of analytics and sabermetrics in sports, and how this information is changing the market that is professional sports. This club helps to bring together the worlds of academia and professional sports. The club has a website that will host all posts written and edited by club members. This will be a platform for students to publish their ideas and demonstrate their skills. The website will keep all posts available, and it will serve as the focal point of the club’s activities. Also, the club will invite guest speakers to speak during club meetings—either in person or through video conferencing software. Guest speakers will be a combination of UVA alumni involved in sports and general members in the sports business or analytics industry. The club would like to bring speakers in person for networking opportunities for club members. tags Social & Hobby, Contracted Independent Organization (CIO), Academic & Professional, No Application or Interview Required, Media & Publications members 76\n"
     ]
    },
    {
     "name": "stderr",
     "output_type": "stream",
     "text": [
      "213it [00:36,  7.52it/s]"
     ]
    },
    {
     "name": "stdout",
     "output_type": "stream",
     "text": [
      "name Hoos for Life description Hoos for Life seeks to promote awareness and understanding of all aspects of the pro-life movement at UVA and in the surrounding community by hosting speakers and educational events, distributing informational flyers around grounds, and tabling on the lawn. It seeks to educate students about pro-life issues and encourage them to support and promote the dignity of human life. Hoos for Life also works to serve women who have been affected by abortions and to improve resources for current UVA students who have children or are currently pregnant. tags No Application or Interview Required, Contracted Independent Organization (CIO), Political & Advocacy members 23\n",
      "name University Salsa Club description The University Salsa Club is the Spiciest CIO at UVA! We won \"Most Fun CIO\" of 2011-2012 and \"Best CIO in the Arts\" of 2012-2013.We believe that anyone can dance and are excited to create a space welcome to dancers of all levels. The club is open to all University students, faculty, and staff interested in learning, dancing, and even performing a variety of dance styles including Salsa, Bachata, Cha Cha, Merengue, and more Latin styles of dance. Salsa Club is fully student-run with an Executive Board and team of Instructors that organize our weekly lessons, showcase performances each semester, annual Salsa Fest dance congress, and many social events. Come dance with us! tags Visual & Performing Arts, Social & Hobby, Contracted Independent Organization (CIO), Cultural & Ethnic, No Application or Interview Required members 62\n"
     ]
    },
    {
     "name": "stderr",
     "output_type": "stream",
     "text": [
      "215it [00:36,  6.78it/s]"
     ]
    },
    {
     "name": "stdout",
     "output_type": "stream",
     "text": [
      "name Astronomy Club at the University of Virginia description The purpose of the Astronomy Club is to promote interest in Astronomy in the University community; further knowledge about Astronomy in a \"hands-on\" atmosphere; provide opportunities for better interactions between students and the Astronomy Department; and discuss and challenge conventional ideas of Astrophysics among members.  tags No Application or Interview Required, Contracted Independent Organization (CIO), Academic & Professional, Social & Hobby, Public Service members 62\n",
      "name Contemplative Sciences Center description The mission of the Contemplative Sciences Center (CSC) is to advance the study and application of human flourishing at all levels of education—K-12, undergraduate, graduate, professional, and lifelong. In particular we are focused on how educational institutions can better understand and facilitate the types of knowledge, mindsets, and practices that promote flourishing. tags Sustainability, Academic & Professional, Department, Schools, or Centers members 8\n"
     ]
    },
    {
     "name": "stderr",
     "output_type": "stream",
     "text": [
      "217it [00:36,  6.32it/s]"
     ]
    },
    {
     "name": "stdout",
     "output_type": "stream",
     "text": [
      "name The Baking Club at UVA description The baking club is a place to enjoy baking and eating baked goods. The purpose of our club is to explore our passions for baking and eating, while learning new tricks and recipes from our friends. Meetings can be planned by anyone at any time - whenever a craving for baking hits! We welcome bakers and eaters of all levels. Beyond baking for ourselves, we also host Baked Good Giveaways occasionally around grounds to boost students' spirits and give our bakers the freedom to bake as much as they please.  tags Contracted Independent Organization (CIO), Social & Hobby, Public Service, No Application or Interview Required members 54\n",
      "name Kappa Kappa Gamma (Epsilon Sigma Chapter) description FSL tags Political & Advocacy, Social & Hobby, Public Service, Fraternity or Sorority members 0\n"
     ]
    },
    {
     "name": "stderr",
     "output_type": "stream",
     "text": [
      "219it [00:37,  4.50it/s]"
     ]
    },
    {
     "name": "stdout",
     "output_type": "stream",
     "text": [
      "name Hoo's Motor Club description Hoo's Motor Club was founded to promote the hands-on study and appreciation of automotive history and culture among students and faculty at the University of Virginia. HMC hopes to achieve this goal at UVA through hands-on peer-to-peer teaching and support, while organizing social events in a manner that builds a tightly-knit student community of support, teamwork, and leadership within the organization. tags Contracted Independent Organization (CIO), Social & Hobby members 20\n",
      "name Biomedical Engineering Society description The Biomedical Engineering Society is the professional society for the Biomedical Engineering Major. BMES provides academic, professional, service, and social events for its members. tags Academic & Professional, Contracted Independent Organization (CIO), No Application or Interview Required members 74\n"
     ]
    },
    {
     "name": "stderr",
     "output_type": "stream",
     "text": [
      "221it [00:38,  2.95it/s]"
     ]
    },
    {
     "name": "stdout",
     "output_type": "stream",
     "text": [
      "name International Justice Mission at UVA description International Justice Mission is a human rights agency that is dedicated to securing justice for victims of slavery, sexual exploitation and other forms of violent oppression in response to the biblical call to justice. As the IJM Campus Chapter at UVa, we seek to further the mission of IJM and work towards the eradication of modern-day slavery and human trafficking by taking a three-pronged approach: • Awareness- raising university-wide and community-wide awareness of the issue • Action- engaging the community through awareness-raising events and advocacy• Aid- fundraising to further the work of IJM both locally and internationally tags Contracted Independent Organization (CIO), Public Service, Political & Advocacy, Religious and Spiritual, No Application or Interview Required members 11\n",
      "name United2Heal at UVA description United2Heal at UVA is working to reduce the disparities in treatment quality between privileged and underprivileged areas of the world by providing overseas health care workers with the basic medical resources they need to save and improve lives. To this end, our organization reaches out to local hospitals and clinics, and accepts in-kind donations of medical goods. Medical equipment considered unusable by strict U.S. packaging and expiration regulations can still be effectively used abroad. Moreover, many medical organizations have no established program or protocol to donate surplus resources. Last academic year, we collected nearly $180,000 worth of medical supplies that otherwise would have been needlessly wasted and, with the help of our sister chapter at VCU, shipped the donations to Haiti. The long-term vision we have for this program isn’t just to manage a static set of supply chains. We intend to turn United2Heal into an umbrella organization providing medical supplies and financing to student-led humanitarian efforts. Future undergraduate students will have the opportunity to lead their own initiatives with our organization serving in a support role. Ultimately, the purpose of executive board members will be to secure medical supplies from local contacts, review student proposals of equipment use, and financing shipping to the destination country. Although this organization has members who are University of Virginia students and may have, University employees associated or engaged in its activities and affairs, the organization is not a part of or an agency. It is a separate and independent organization, which is responsible for and manages its own activities and affairs. The University does not direct, supervise or control the organization and is not responsible for the organization’s contracts, acts or omissions.  tags Public Service, Contracted Independent Organization (CIO) members 24\n"
     ]
    },
    {
     "name": "stderr",
     "output_type": "stream",
     "text": [
      "223it [00:38,  3.97it/s]"
     ]
    },
    {
     "name": "stdout",
     "output_type": "stream",
     "text": [
      "name Interprofessional Service Education Research and Volunteering Endeavor description Interdisciplinary service organization open to the UVA SON Nurse Practitioner students as well as UVA SOM medical students. New members by application only. tags Public Service, Contracted Independent Organization (CIO), Academic & Professional members 6\n",
      "name IM-Rec description IM-Rec Sports is passionate about providing first-class recreation for the University community. Membership is available to anyone affiliated with UVA and their families who want to maintain a healthy, active lifestyle. We offer state-of-the-art facilities and recreational sports teams, exercise instruction and wellness services. Members have access to all recreation centers and enjoy discount program registration fees. tags Department, Schools, or Centers members 2\n"
     ]
    },
    {
     "name": "stderr",
     "output_type": "stream",
     "text": [
      "224it [00:38,  4.57it/s]"
     ]
    },
    {
     "name": "stdout",
     "output_type": "stream",
     "text": [
      "name Flux Poetry & Spoken Word description Flux Poetry & Spoken Word is a family of community organizers working to provide a space for the exchange of cultural interflow through poetry, music, and other forms of artistic enterprise. This is a safe space meant to lend itself into the hands of topics including race, gender, sexuality, mental illness and ability, and other politics of identity. tags Contracted Independent Organization (CIO), Visual & Performing Arts, Social & Hobby, No Application or Interview Required members 19\n"
     ]
    },
    {
     "name": "stderr",
     "output_type": "stream",
     "text": [
      "225it [00:39,  4.48it/s]"
     ]
    },
    {
     "name": "stdout",
     "output_type": "stream",
     "text": [
      "name New Dominions description The New Dominions is the University of Virginia’s oldest co-ed a cappella group, with over 30 years of rich history. The completely student-run group dedicates itself to bringing a dynamic edge to the University’s proudest traditions, growing in strength and ability over the last 30 years and performing at events and concerts across the country. The New Dominions is guaranteed to please any crowd with its varied repertoire including music of all genres, from pop artists like Ariana Grande and Lizzo to older staples like George Michael. Be sure to check out our discography on all streaming platforms!Often referred to by students as the “NewDos,” the group was was founded in 1990 by Burt Kann, Stephen Murray and Joanna Parsons, students at the University of Virginia. The group initially served as a temporary way to teach first years the basics of a cappella so they could audition for existing groups around Grounds. However, the strong bonds between members mixed with the unique co-ed atmosphere kept NewDos together, over the years transforming NewDos into what it is today. We have been recording albums, touring the nation, and maintaining those strong bonds. Today, the Newdos have become the University’s premier co-ed a cappella group. Auditions are held every Fall and some Spring semesters and are open to all interested UVa students. Follow us on our Facebook and Instagram pages to keep up with us. tags Visual & Performing Arts, Contracted Independent Organization (CIO) members 13\n"
     ]
    },
    {
     "name": "stderr",
     "output_type": "stream",
     "text": [
      "227it [00:39,  4.79it/s]"
     ]
    },
    {
     "name": "stdout",
     "output_type": "stream",
     "text": [
      "name Blacksmithing Club description The Blacksmithing Club promotes knowledge and interaction with the art of blacksmithing through hands-on experience. Club members have the opportunity to smith at the Stokes of England Forge in Keswick, VA each week in order to create anything from swords to keychain decorations. Please reach out to learn more! tags No Application or Interview Required, Contracted Independent Organization (CIO), Social & Hobby, Visual & Performing Arts members 26\n",
      "name Peanuts and Crackerjacks description The mission of Peanuts and Crackerjacks, or PCJ for short, is to provide Charlottesville children with positive role models through weekly tutoring and playing with the kids. We look to improve the faculty-to-student ratio during after school programs at some of Charlottesville's underfunded elementary schools. We are a low commitment club requiring 1-2 hours of volunteering a week and travel to the schools Monday-Thursday afternoons. Through various fundraisers we intend to raise money in order to purchase new sporting equipment, school supplies, or gift cards to host small events for each school we work with.  tags Public Service, Contracted Independent Organization (CIO) members 26\n"
     ]
    },
    {
     "name": "stderr",
     "output_type": "stream",
     "text": [
      "229it [00:39,  5.27it/s]"
     ]
    },
    {
     "name": "stdout",
     "output_type": "stream",
     "text": [
      "name Roller Derby Club at UVA description Roller Derby Club at UVA is a team open to members of all genders and skating experience.  Members may rent for free all necessary equipment (skates, knee pads, helmets, elbow pads, wrist guards) and come to flexible practices (2x/week) as often as they are able. tags Contracted Independent Organization (CIO), Social & Hobby, No Application or Interview Required members 24\n",
      "name Darden Military Association description The mission of the Darden Military Association (DMA) is to enhance Veteran career opportunities, build esprit de corps and camaraderie within the Darden community, and showcase the uniqueness of active duty service members and Veterans in the greater Charlottesville area, in collaboration and partnership with other student clubs. tags No Application or Interview Required, Contracted Independent Organization (CIO), Academic & Professional, Darden School members 10\n"
     ]
    },
    {
     "name": "stderr",
     "output_type": "stream",
     "text": [
      "231it [00:40,  5.71it/s]"
     ]
    },
    {
     "name": "stdout",
     "output_type": "stream",
     "text": [
      "name Academic Competition Club description The Academic Competition Club is an organization dedicated to attending and hosting trivia tournaments. The club practices on a weekly basis and hosts several tournaments throughout the year. The club is open to members of all skill levels, from newcomers to high school veterans. We participate in intercollegiate quizbowl tournaments. Whether you want to be on a nationally competitive team or just play for fun, this club is a great way to learn new stuff and meet smart people! tags No Application or Interview Required, Contracted Independent Organization (CIO), Social & Hobby members 40\n",
      "name Central Asian Student Association description Central Asian Student Association is an organization of Central Asians and people interested in the history, culture, and languages of the region. The aim of CASA is to enhance unity among Central Asians and raise awareness about the region among the student body of UVA. We will have Central Asian themed activities, language learning lessons, movie nights, and a Nowruz celebration. tags No Application or Interview Required, Contracted Independent Organization (CIO), Cultural & Ethnic members 10\n"
     ]
    },
    {
     "name": "stderr",
     "output_type": "stream",
     "text": [
      "233it [00:40,  5.81it/s]"
     ]
    },
    {
     "name": "stdout",
     "output_type": "stream",
     "text": [
      "name Swing Club at UVA description The Swing Club at UVA exists to provide members of the University community a forum to learn many of the dances that exist under the general \"Swing Dance\" label.  These include Lindy Hop, Charleston, Collegiate Shag, Balboa, Blues, and Solo Jazz. tags No Application or Interview Required, Contracted Independent Organization (CIO), Visual & Performing Arts, Social & Hobby, Club Sport members 38\n",
      "name Autism Allies description Autism Allies is a CIO that strives to make connections with the autism community in Charlottesville through volunteering, mentoring, fundraising, and raising awareness for local organizations that provide services for individuals on the autism spectrum. We have general body meetings about once a month, as most of our work involves volunteering in the community throughout the semester, usually on weeknights or weekends. There are two main components to our club - general volunteering opportunities that you sign up for online on a first-come first-serve basis and a mentorship program where you are matched with someone in the community with autism and meet up at least 6 times per semester, in both one-on-one and larger group settings. General volunteering opportunities have included holiday cookie decorating, Halloween and Valentines’ Day dances, and volunteering at Ben and Jerry’s for Free Cone Day. Additionally, President Rachel teaches a Hip Hop class. Mentorship activities have included eating on the Corner, playing sports together, or group activities like going to Carters’ Mountain or bowling! tags No Application or Interview Required, Contracted Independent Organization (CIO), Public Service, Social & Hobby, Political & Advocacy members 137\n"
     ]
    },
    {
     "name": "stderr",
     "output_type": "stream",
     "text": [
      "235it [00:40,  6.48it/s]"
     ]
    },
    {
     "name": "stdout",
     "output_type": "stream",
     "text": [
      "name College Science Scholars Council description The mission of the College Science Scholars Council is to support the College Science Scholars program and to further the academic, intellectual, and social exchange between the Scholars themselves and the University Community. The Council organizes events, runs the mentorship program, and has oversight over all scholar activities. tags No Application or Interview Required, Academic & Professional, Contracted Independent Organization (CIO), Honor Society members 16\n",
      "name Virginia Aviation Club description The Aviation Club at UVA is designed to expose students to concepts of flight, facilitate the use of the Aerospace Engineering Flight Simulator, and provide aspiring student pilots with resources and knowledge to succeed. The club is made to inform students about local aviation events such as airshows and flight education events, as well as to host guest speakers in the aviation field. A student taught class during the Spring semester will equip students with all the necessary ground knowledge to become a private pilot and students can be endorsed at the end of the semester to take their private pilot knowledge test. It is a new club, and there are a lot of ideas developing of what else the club can do, such as building a real-life kit plane and restoring vintage aircraft at Charlottesville Airport. tags No Application or Interview Required, Contracted Independent Organization (CIO), Academic & Professional, Social & Hobby members 24\n"
     ]
    },
    {
     "name": "stderr",
     "output_type": "stream",
     "text": [
      "237it [00:41,  6.65it/s]"
     ]
    },
    {
     "name": "stdout",
     "output_type": "stream",
     "text": [
      "name Darden Finance Club description Darden Finance Club tags Contracted Independent Organization (CIO), Academic & Professional, Darden School, No Application or Interview Required members 11\n",
      "name Darden Technology Club description Darden Technology Club is a career club that is focused on: (1) Helping students recruit into careers in technology; (2) tech education; and 3) forming a community of members with interests in tech. tags No Application or Interview Required, Darden School, Contracted Independent Organization (CIO) members 10\n"
     ]
    },
    {
     "name": "stderr",
     "output_type": "stream",
     "text": [
      "239it [00:41,  7.01it/s]"
     ]
    },
    {
     "name": "stdout",
     "output_type": "stream",
     "text": [
      "name Virginia Law First Generation Professionals description VLFGP was created to provide a welcoming community for first-generation law students at UVA. We define first-ten very broadly, so that we can provide helpful resources, a tight-knit community, and valuable information to as many students at UVA Law as possible! Join VLFGP to meet your first-gen peers!  tags Law School, Contracted Independent Organization (CIO), Academic & Professional, FGLI members 6\n",
      "name aNoether Physics Club description aNoether Physics Club seeks to empower women and other minority students in physics, as well as their allies, through student-led activities, open dialogue, and mentorship. We aim to create a community that enables members to be change-makers in the field of physics and become role models for the next generation. All students who share our goal are welcome to join! tags No Application or Interview Required, Contracted Independent Organization (CIO), Academic & Professional members 12\n"
     ]
    },
    {
     "name": "stderr",
     "output_type": "stream",
     "text": [
      "241it [00:41,  6.96it/s]"
     ]
    },
    {
     "name": "stdout",
     "output_type": "stream",
     "text": [
      "name Pi Kappa Phi (Beta Upsilon Chapter) description FSL tags Social & Hobby, Political & Advocacy, Public Service, Fraternity or Sorority members 1\n",
      "name Bhakti Yoga Club description The Bhakti Yoga Club was established in order to unite spirituality and sustainability. The club holds weekly programs at the Bhakti House in order to make the lifestyle of a Bhakti Yoga practitioner available to the student body and Charlottesville community.  The programs welcome students with no previous exposure to yogic philosophy to participate in mantra meditation, hear thoughtful lectures on the spiritual science of Bhakti Yoga (devotional yoga), and enjoy a free and delicious vegetarian feast at the close of each meeting. The dynamic principles found in the Bhagavad-Gita are non-sectarian and contain the building blocks of spiritual life. Open questioning and free discourse on the subjects presented is encouraged!  tags Religious & Spiritual, No Application or Interview Required, Visual & Performing Arts, Social & Hobby, Contracted Independent Organization (CIO), Cultural & Ethnic members 20\n"
     ]
    },
    {
     "name": "stderr",
     "output_type": "stream",
     "text": [
      "243it [00:41,  6.54it/s]"
     ]
    },
    {
     "name": "stdout",
     "output_type": "stream",
     "text": [
      "name Sigma Phi Epsilon description fsl tags Fraternity or Sorority members 0\n",
      "name Ronald McDonald House at the University of Virginia description We raise awareness of the circumstances of families of sick children and offer support and help to the nonprofit organization: The Ronald McDonald House of Charlottesville. tags No Application or Interview Required, Leadership Development, Public Service, Social & Hobby members 8\n"
     ]
    },
    {
     "name": "stderr",
     "output_type": "stream",
     "text": [
      "246it [00:42,  8.45it/s]"
     ]
    },
    {
     "name": "stdout",
     "output_type": "stream",
     "text": [
      "name Student Council Appropriations Committee description Dummy organization for Appropriations Committee. tags Special Status Organization (SSO), Administrative Unit members 12\n",
      "name American Institute of Chemical Engineers description AIChE at UVA is an academic organization that promotes the professional development of the Chemical Engineering students at UVA. AIChE helps organize several events such as plant tours to nearby manufacturing facilities, speaker panels with alumni, career-focused events such as internship panels, and an annual Networking Night. It also plans social events for Chemical Engineering students to create bonds with peers.One major purpose of AIChE at UVA is to provide opportunities for students to interact with other members of the AIChE nationally, including students from other chapters, alumni of the university, and professional chemical engineers. Students to go to the National and Regional AIChE conferences each year hosted by different AIChE chapters around the country each year to give them an opportunity to help them gain career advice and learn about the industry and the profession. AIChE also has two subsidiaries: Wahoo Wizards is a service-based organization that visits local elementary schools and shows kids science experiments to educate them about science in an interesting and engaging manner. ChemE Car is a group of students that build a car all year long that is powered by a chemical reaction and designed by the students. This team competes at the Regional Conference in the spring semester against other teams of students from other chapters of AIChE. tags No Application or Interview Required, Contracted Independent Organization (CIO), Academic & Professional, Public Service, Social & Hobby members 14\n"
     ]
    },
    {
     "name": "stderr",
     "output_type": "stream",
     "text": [
      "248it [00:42,  7.92it/s]"
     ]
    },
    {
     "name": "stdout",
     "output_type": "stream",
     "text": [
      "name Darden Catholic Student Association description The Darden Catholic Student Association exists to support Darden students, faculty, and families by enabling them to know, love, and serve God more fully. The club will be a resource for those seeking to practice their faith at Darden and in the future and for those interested in learning about Catholic values. tags Contracted Independent Organization (CIO), Darden School, No Application or Interview Required, Religious & Spiritual members 10\n",
      "name Darden Photography Club description Create and maintain an active community of current and budding photographers tags Darden School, Social & Hobby, Visual & Performing Arts, Cultural & Ethnic, Contracted Independent Organization (CIO), Media & Publications members 5\n"
     ]
    },
    {
     "name": "stderr",
     "output_type": "stream",
     "text": [
      "250it [00:42,  6.80it/s]"
     ]
    },
    {
     "name": "stdout",
     "output_type": "stream",
     "text": [
      "name Hoos In Treble description Formed in 1999, Hoos in Treble is an all-treble a cappella group in the ACPC at the University of Virginia. We have auditions in the fall and spring and always are looking for talented new members. HIT sings in a variety of musical genres, and we love to perform on a regular basis for events at UVA and in greater Charlottesville. We pride ourselves in being surrounded by such an incredibly diverse group of women! HIT has recorded 10 full-length albums, including our most recent, Bloom, which you can stream anywhere you get your music. Don't forget- you can always spot us by our pink shoes!Although this organization has members who are University of Virginia students and may have University employees associated or engaged in its activities and affairs, the organization is not a part of or an agency of the University. It is a separate and independent organization which is responsible for and manages its own activities and affairs. The University does not direct, supervise or control the organization and is not responsible for the organization’s contracts, acts or omissions. tags Visual & Performing Arts, Social & Hobby, Contracted Independent Organization (CIO) members 11\n",
      "name The Virginia Gentlemen description With a history like ours dating back to 1953, we have a lot to live up to; being a VG today involves rehearsing our massive repertoire for weekly gigs, putting on two concerts a year, and traveling the world singing! With recent tours in Washington DC, China, Hong Kong, Peru, Southeast Asia, and Spain, and nearly 100 performances each school year, we keep ourselves as busy as possible! During 2018’s 65th anniversary celebration, when we sang with over 80 alumni, including members of The Original Eight VGs, we learned that even though so much has changed at the University and beyond, a VG is in the group for life. We have been to some amazing places and experienced some incredible things, but at our core, we are a group of folks who love to sing. tags Contracted Independent Organization (CIO), Social & Hobby, Visual & Performing Arts members 14\n"
     ]
    },
    {
     "name": "stderr",
     "output_type": "stream",
     "text": [
      "252it [00:43,  6.94it/s]"
     ]
    },
    {
     "name": "stdout",
     "output_type": "stream",
     "text": [
      "name Japanese Student Association description The Japanese Student Association at the University of Virginia is dedicated to promoting and facilitating interest for the Japanese language and culture within the University and the Charlottesville community. JSA provides various culturally immersive opportunities for individuals to deepen their understanding of Japan and its language. It also provides a social platform for individuals looking to share their interests or for those looking to learn more about Japan. Students of all backgrounds and Japanese language levels are encouraged to join! tags Social & Hobby, Cultural & Ethnic, Academic & Professional, Contracted Independent Organization (CIO), No Application or Interview Required members 20\n",
      "name Spikeball Club at the University of Virginia (UVA) description We are the Spikeball Club. We aim to create a platform where anyone on grounds can connect with other ballers to enjoy the sport. We also have a tournament team that travels and participates in Spikeball's College Roundnet Tournaments. tags Social & Hobby, Club Sport, Contracted Independent Organization (CIO), No Application or Interview Required, Peer Mentors, Health and Wellness members 113\n"
     ]
    },
    {
     "name": "stderr",
     "output_type": "stream",
     "text": [
      "253it [00:43,  6.86it/s]"
     ]
    },
    {
     "name": "stdout",
     "output_type": "stream",
     "text": [
      "name Alpha Chi Sigma Co-ed Professional Chemistry Fraternity description The Alpha Kappa chapter of Alpha Chi Sigma is the one and only professional chemistry fraternity at UVA! We are a diverse and close-knit group of individuals from various fields of study and different backgrounds in education united by a passion for chemistry and science. We aim to promote an interest in science and chemistry throughout the Charlottesville-UVA community through a variety of service and outreach projects and to create a network of scientists and science enthusiasts, including professors and students, here at UVA. Many of our brothers are highly involved in the science departments at UVA as teaching assistants, researchers, and tutors. We work closely with the Chemistry department to create events and opportunities for students to get involved in the sciences. tags Social & Hobby, Public Service, Academic & Professional, Contracted Independent Organization (CIO) members 31\n"
     ]
    },
    {
     "name": "stderr",
     "output_type": "stream",
     "text": [
      "255it [00:43,  4.60it/s]"
     ]
    },
    {
     "name": "stdout",
     "output_type": "stream",
     "text": [
      "name Veritas description Veritas is the University of Virginia School of Medicine’s arts & literary magazine. Published annually in the spring since 1994 and student-edited since 2000, Veritas showcases original writing, art, and photography by UVA medical students. In addition to the magazine, our organization holds an annual winter exhibit open to the public. tags Visual & Performing Arts, Contracted Independent Organization (CIO), Academic & Professional, Media & Publications members 8\n",
      "name Hoos in the Stairwell description Hoos in the Stairwell (HoosITS) is the only Broadway a cappella group at the University of Virginia. It was founded in the fall of 2012 by Meredith Zettlemoyer and Arianna Sherman. The group performs pieces from a variety of different musicals, as well as mash-ups with popular music. It aims to introduce musical theater to the realm of a cappella at UVA and in the greater Charlottesville community, as well as foster an appreciation for the genre and its versatility. tags Contracted Independent Organization (CIO), Social & Hobby, Visual & Performing Arts members 15\n"
     ]
    },
    {
     "name": "stderr",
     "output_type": "stream",
     "text": [
      "257it [00:44,  5.66it/s]"
     ]
    },
    {
     "name": "stdout",
     "output_type": "stream",
     "text": [
      "name Men's Club Volleyball at UVA description Participates in local, regional, and national intercollegiate tournaments. We have approximately 20-25 members and practice three times a week. The season runs throughout both the fall and spring semester, culminating with a five-day national tournament in the spring.Although this organization has members who are University of Virginia students and may have University employees associated or engaged in its activities and affairs, the organization is not a part of or an agency of the University. It is a separate and independent organization which is responsible for and manages its own activities and affairs. The University does not direct, supervise or control the organization and is not responsible for the organization’s contracts, acts or omissions. tags Contracted Independent Organization (CIO), Social & Hobby, Club Sport members 12\n",
      "name Plaintiffs' Law Association at the University of Virginia (PLAVA) description PLAVA supports law students interested in plaintiffs’ side law by educating students on different varieties of plaintiffs’ work, career opportunities in plaintiffs’ law, and the benefits of pursuing a career representing plaintiffs as a societally enhancing endeavor. tags Law School members 16\n"
     ]
    },
    {
     "name": "stderr",
     "output_type": "stream",
     "text": [
      "259it [00:44,  5.52it/s]"
     ]
    },
    {
     "name": "stdout",
     "output_type": "stream",
     "text": [
      "name Taiwanese Graduate Student Association at UVa description The TGSA at UVA is established for the expressed purpose of:1. Create a welcoming environment for incoming, current, and former UVa students to safely celebrate the Taiwanese cultural heritage2. When applicable, collaborate with other CIOs and departments to host Taiwan themed events on or near grounds tags Contracted Independent Organization (CIO) members 4\n"
     ]
    },
    {
     "name": "stderr",
     "output_type": "stream",
     "text": [
      "260it [00:44,  5.87it/s]"
     ]
    },
    {
     "name": "stdout",
     "output_type": "stream",
     "text": [
      "name Unbeauty Mark at UVA description Unbeauty Mark is dedicated to creating a broader definition of beauty for adolescents, teens, and young adults. We aim to accomplish this mission through events, such as the Beauty Within Project (a video campaign that asks participants to share their definitions in written or video form), Honesty Hour (weekly discussions about self-image, body-image, and beauty standards), fundraising for organizations such as Girl Up and NEDA, and self-image workshops on Grounds and in Charlottesville middle schools and high schools.  tags Contracted Independent Organization (CIO), Social & Hobby, Public Service, No Application or Interview Required, Peer Mentors members 11\n",
      "name Bond House description HRL tags Residence Hall members 1\n"
     ]
    },
    {
     "name": "stderr",
     "output_type": "stream",
     "text": [
      "262it [00:45,  4.44it/s]"
     ]
    },
    {
     "name": "stdout",
     "output_type": "stream",
     "text": [
      "name {in}Visible Magazine at UVA description {in}Visible Magazine is the first literary publication at the University of Virginia dedicated to the Asian Pacific Islander South Asian American (APISAA) community on Grounds. It was founded to fill the absence and need for a creative outlet specifically for the APISAA creators. {in}Visible Magazine aims to create a space where we can explore our identities and unique experiences through writing and art. {in}Visible will not only help build community among the APISAA undergraduates at UVA but also be a tool to bridge across difference and connect with other cultural groups and literary magazines. tags Contracted Independent Organization (CIO), Media & Publications members 18\n",
      "name The Fralin Museum of Art description The Fralin Museum of Art at the University of Virginia encourages the spirit of curiosity and promotes diversity of thought through the study, care, and celebration of art.  tags Visual & Performing Arts, Department, Schools, or Centers members 0\n"
     ]
    },
    {
     "name": "stderr",
     "output_type": "stream",
     "text": [
      "264it [00:45,  5.31it/s]"
     ]
    },
    {
     "name": "stdout",
     "output_type": "stream",
     "text": [
      "name Batten Undergraduate Council description The Batten Undergraduate Council (BUC) is a council of students dedicated to enhancing the Batten student experience through event planning, community building, professional development, and networking opportunities for the Batten community. BUC is dedicated to fostering an inclusive community environment for students with different identities and perspectives.  tags L2K, Academic & Professional, Special Status Organization (SSO), Leadership Development, Public Service, Political & Advocacy members 15\n",
      "name BridgeUSA at UVA description BridgeUSA is a youth-led 501(c)(3) nonprofit organization that creates spaces on high school and college campuses for open discussion between students about political issues. Political division is one of our biggest challenges in the United States. Today’s youth are being taught that tribalism is better than unity and that having conversations across our differences is impossible. Spoiler Alert: This isn’t true!We began in 2016 at the universities of Notre Dame, CU-Boulder, and UC Berkeley in response to growing polarization on campus. Our work emphasizes the importance of empathy and understanding, ideological diversity and solution-oriented politics. By engaging America’s youth in constructive discussions, we are equipping the next generation of leaders with the skills necessary for navigating conflict, finding solutions across differences and building bridges in their communities.BridgeUSA’s 50 college chapters bring together students from across the ideological spectrum for constructive dialogue on topics happening across the nation. These discussions are not meant to change one’s mind on a subject, but to encourage participants to seek an understanding of alternate viewpoints in effort for better political dialogue. tags No Application or Interview Required, Political & Advocacy, Contracted Independent Organization (CIO) members 4\n"
     ]
    },
    {
     "name": "stderr",
     "output_type": "stream",
     "text": [
      "266it [00:45,  6.06it/s]"
     ]
    },
    {
     "name": "stdout",
     "output_type": "stream",
     "text": [
      "name First Year Players description FYP at the University of Virginia is a student-run organization dedicated to providing first years and transfer students with a safe, supportive, and fun community as they navigate putting on a show starring an entirely first year and first year transfer student cast.But if you don't fit into either of those categories, don't worry! FYP has a place for anyone, experienced or not, with a love of theater and a desire for friendship. If you're not a first year, we still invite you to join our tech team or our orchestra pit!So, whether you're a first year who's starred in many shows, a transfer who's always wanted to learn about lighting design but never did, or a fourth year who wants to pick up the triangle for the first time, FYP will be the place for you to Find Your People! tags Contracted Independent Organization (CIO), Social & Hobby, Visual & Performing Arts members 55\n",
      "name Mariachi Noche Hermosa at the University of Virginia description Founded in January 2023, Mariachi Noche Hermosa at the University of Virginia is UVA’s only mariachi band. It was created to give students interested in mariachi music the opportunity to perform it together, to learn about its history and traditions, and to foster connections with other members of the UVA and Charlottesville communities. The group is completely student run, with newer members learning the craft from older members. Members come from a variety of backgrounds ranging from mariachi to classical to folk, though all share a love of mariachi music. Last semester, the group met twice a week to rehearse. This semester, the group is meeting four times a week for rehearsal, with the additional goal of setting up some public performances and fun social events. tags Contracted Independent Organization (CIO), Cultural & Ethnic, Visual & Performing Arts, No Application or Interview Required members 3\n"
     ]
    },
    {
     "name": "stderr",
     "output_type": "stream",
     "text": [
      "268it [00:46,  4.03it/s]"
     ]
    },
    {
     "name": "stdout",
     "output_type": "stream",
     "text": [
      "name Warm Up America @ UVA description Warm-Up America is a service-oriented organization here on grounds. We knit and crochet 7x9 inch patches that we then sew together to make blankets; these blankets are donated to local shelters in our community. In the past our blankets have gone to local women’s shelters as well as homeless shelters. No experience or supplies are necessary, just come ready to learn! tags Social & Hobby, Public Service, Contracted Independent Organization (CIO), No Application or Interview Required members 240\n",
      "name Virginia Journal of Criminal Law description VJCL is an academic law journal run by law students. It publishes yearly on developments in criminal law and procedure and accepts submissions of articles, essays, book reviews, and notes discussing criminal law topics. VJCL also sponsors legal symposia on criminal law issues and hosts criminal law-related events for students. tags Contracted Independent Organization (CIO), Academic & Professional members 21\n"
     ]
    },
    {
     "name": "stderr",
     "output_type": "stream",
     "text": [
      "270it [00:46,  5.15it/s]"
     ]
    },
    {
     "name": "stdout",
     "output_type": "stream",
     "text": [
      "name Marine Science Society description We are a social club committed to inspiring and connecting members to marine science. Past activities include:Whale-watching excursionTrip to the eastern shore (peninsula) of VirginiaParties, socialsProfessor talksMovie nightsQuarry tripTrick or treating on the LawnHumpback hikeStudy breaks & snacksCome check us out! tags Social & Hobby, Contracted Independent Organization (CIO), Academic & Professional members 32\n",
      "name Black Economic Empowerment Society at UVA description The goals of the Black Economic Empowerment Society are to increase financial literacy, emphasize the importance of asset ownership, and empower Black students to start their own businesses.The 6 principles/aims of our organization are:Connecting Black students to venture capitalists who will help them execute their entrepreneurial vision Encouraging economic cooperation and a group economics mentality for Black students at UVA Improving financial literacy within the Black community at UVA Empowering Black students at UVA to start their entrepreneurial ventures by holding events that will contribute to their entrepreneurial abilities Improving relationships between the Black business community in Charlottesville and the Black community at UVA Connect and integrate Black businesses at UVA within the broader UVA and Charlottesville community                                         tags Cultural & Ethnic, Academic & Professional, Contracted Independent Organization (CIO), Leadership Development, No Application or Interview Required, Black Presidents Council members 10\n"
     ]
    },
    {
     "name": "stderr",
     "output_type": "stream",
     "text": [
      "272it [00:47,  5.61it/s]"
     ]
    },
    {
     "name": "stdout",
     "output_type": "stream",
     "text": [
      "name Department of Economics description Economics tags Department, Schools, or Centers members 1\n",
      "name Association of Bangladeshi Students at University of Virginia description The Association of Bangladeshi Students at the University of Virginia (ABS@UVA) is a non-profit student organization. Although this organization has members who are University of Virginia students and may have University employees associated or engaged in its activities and affairs, the organization is not a part of or an agency of the University.  It is a separate and independent organization that is responsible for managing its own activities and affairs. The mission of ABS@UVA at the University of Virginia isTo form a platform to unite all students and alumni of the University of Virginia, and friends and families around the surrounding areas who belong to (either by citizenship or family heritage) or are interested in Bangladesh and share closeness to the cause of the birth of the great nation, Bangladesh and her prosperity.To represent Bangladesh (History, Culture, Literature, Social values, Scholarly achievements, Concerns & Prospects) in all aspects in a formal way (as permitted by regulations for student organizations) at the University of Virginia.To uplift the uniting spirit of freedom of the great nation by offering tribute to all martyrs (including but not limited to those during the Language movement and Liberation war) who laid the foundation to give birth to Bangladesh.To help in the development of Bangladesh in all possible means such as (but not limited to) donations, technical assistance, and intellectual contribution on a priority basis.To assist new students to blend in the academic and social environmentThe organization can also extend its assistance (in any form) to any other cause (not related to Bangladesh). However, considering the limited scope of the organization, issues related to Bangladesh will have clear priority over other issues. tags No Application or Interview Required, Contracted Independent Organization (CIO), Cultural & Ethnic members 48\n"
     ]
    },
    {
     "name": "stderr",
     "output_type": "stream",
     "text": [
      "273it [00:47,  5.72it/s]"
     ]
    },
    {
     "name": "stdout",
     "output_type": "stream",
     "text": [
      "name Virginia Law Prison Project description The Virginia Law in Prison Project is a  student organization dedicated to advancing the civil and human rights of people who are currently and formerly incarcerated. The group will foster conversation at the law school amongst stakeholders, including law students, on prison and the law. The group will also provide educational opportunities for law students, incarcerated, and formerly-incarcerated people to become better advocates for prisoners’ rights. tags No Application or Interview Required, Academic & Professional, Contracted Independent Organization (CIO), Law School, Public Service, Political & Advocacy members 10\n"
     ]
    },
    {
     "name": "stderr",
     "output_type": "stream",
     "text": [
      "275it [00:48,  3.21it/s]"
     ]
    },
    {
     "name": "stdout",
     "output_type": "stream",
     "text": [
      "name Virginia Chess Club description Virginia Chess Club has been consistently one of the top competitive chess teams and we are currently the Virginia State Collegiate Champion. While we encourage competitive players to join, we always welcome new players with open arms. We host lessons, casual games, and compete in tournaments. We're dedicated to helping any player of any level improve their chess skills! In the past, we've attended several major tournaments, including the United States Amateur Team East in Parsippany, New Jersey, and The Virginia State Chess Championship in Virginia. Come out to the weekly meetings to kickback and play with us, and we look forward to seeing everyone Wednesdays 8-10 PM! tags Contracted Independent Organization (CIO), Social & Hobby, No Application or Interview Required members 70\n",
      "name Girls Who Code at the University of Virginia description Girls Who Code is an organization designed to empower women in tech through organizing hackathons, career fairs, workshops and socials. We host events to inspire women and allies to create a safe space for women in the field of technology and encourage everyone interested to join the club. tags Contracted Independent Organization (CIO), Academic & Professional, No Application or Interview Required members 83\n"
     ]
    },
    {
     "name": "stderr",
     "output_type": "stream",
     "text": [
      "277it [00:48,  4.59it/s]"
     ]
    },
    {
     "name": "stdout",
     "output_type": "stream",
     "text": [
      "name V Magazine at UVA description V Magazine is a student publication that focuses on fashion, art, and culture at the University of Virginia, featuring students and organizations, as well as other events and topics of interest at and outside of UVA. V Mag provides students opportunities to work with writing, photography, layout and business. tags Media & Publications, Contracted Independent Organization (CIO), Visual & Performing Arts members 41\n",
      "name Executive Health Care Alliance description The Darden Executive Health Care Alliance delivers a diverse platform of opportunities and activities for EMBA and GEMBA students to gain awareness, develop relevant skill sets, and build successful careers in the healthcare industry. tags Contracted Independent Organization (CIO), Darden School members 11\n"
     ]
    },
    {
     "name": "stderr",
     "output_type": "stream",
     "text": [
      "279it [00:48,  5.74it/s]"
     ]
    },
    {
     "name": "stdout",
     "output_type": "stream",
     "text": [
      "name Chinese Christian Fellowship at UVA description A Christ-loving community for students who are in the Chinese-speaking community or students who are interested in the Chinese-speaking community through Bible study meetings and fellowship events. tags Contracted Independent Organization (CIO), No Application or Interview Required, Religious & Spiritual members 10\n",
      "name Ethiopian Eritrean Student Association description The Ethiopian Eritrean Student Association will strive to achieve but will not be limited to the following objectives:1.      To promote Ethiopian and Eritrean culture within the university community and contribute to its diversity.2.      To foster a sense of service toward pressing issues regarding the Ethiopian and Eritrean community both locally and globally.3.      To bring together Ethiopian and Eritrean students and alumni at UVA and work towards specific goals set by the members.4.      To increase the number of Ethiopian and Eritrean students at UVA by actively recruiting and serving as a resource during the application process tags Social & Hobby, Public Service, Academic & Professional, Cultural & Ethnic, Contracted Independent Organization (CIO), No Application or Interview Required, Black Presidents Council members 13\n"
     ]
    },
    {
     "name": "stderr",
     "output_type": "stream",
     "text": [
      "281it [00:49,  6.37it/s]"
     ]
    },
    {
     "name": "stdout",
     "output_type": "stream",
     "text": [
      "name Lambda Phi Epsilon - Alpha Tau Chapter description FSL tags Cultural & Ethnic, Political & Advocacy, Social & Hobby, Public Service, Fraternity or Sorority, Multicultural Greek Council (MGC) members 1\n",
      "name Dunglison-Fitzhugh description HRL tags Residence Hall members 0\n"
     ]
    },
    {
     "name": "stderr",
     "output_type": "stream",
     "text": [
      "283it [00:49,  6.74it/s]"
     ]
    },
    {
     "name": "stdout",
     "output_type": "stream",
     "text": [
      "name The Student Hip-Hop Organization at the University of Virginia description  The organization’s purpose is to network with the University of Virginia’s thriving hip-hop community and to utilize hip-hop as a tool for creating unity within this vibrant culture on campus. Students are able to share and showcase their talents, love, and passion for the culture and music.  tags Cultural & Ethnic, Contracted Independent Organization (CIO), Visual & Performing Arts, Social & Hobby members 23\n",
      "name InterVarsity Christian Fellowship description InterVarsity Christian Fellowship is an inter-denominational witnessing community of students who follow Jesus as Savior and Lord: growing in love for God, God's Word, God's people of every ethnicity and culture, and God's purposes in the world. tags Contracted Independent Organization (CIO), Religious & Spiritual, No Application or Interview Required members 13\n"
     ]
    },
    {
     "name": "stderr",
     "output_type": "stream",
     "text": [
      "285it [00:49,  6.96it/s]"
     ]
    },
    {
     "name": "stdout",
     "output_type": "stream",
     "text": [
      "name Advertising and Marketing Association at the University of Virginia description Founded in 1978, the Advertising and Marketing Association at UVa provides students with the opportunity to learn about the advertising and marketing industries, as well as career paths in various areas of marketing through speakers, panels, and other events throughout the year. AMA exposes its members to top careers in consumer market research, social media management, entertainment marketing, account management, creative art design, copywriting, brand management, strategic planning, sports marketing, public relations, media buying, consulting, and other major advertising and marketing careers.Admission into the club is application-based at the start of each semester. Please visit our Instagram (ama_uva) to learn more about the club and to apply. tags McIntire School of Commerce, Contracted Independent Organization (CIO), Academic & Professional members 70\n",
      "name Delta Gamma (Epsilon Gamma Chapter) description FSL tags Public Service, Political & Advocacy, Social & Hobby, Fraternity or Sorority members 0\n"
     ]
    },
    {
     "name": "stderr",
     "output_type": "stream",
     "text": [
      "287it [00:50,  6.66it/s]"
     ]
    },
    {
     "name": "stdout",
     "output_type": "stream",
     "text": [
      "name Virginia Journal of International Law description The Virginia Journal of International Law is one of the top ranked international law journals in the world. Founded in 1960, we are located at the University of Virginia School of Law in Charlottesville, Virginia. We publish three times annually, and our issues contain Articles, Notes, and Essays. We also host an annual symposium.For an overview of who we are, where we've been, and our contributions to the field of international law, please read then-Dean Paul Mahoney's commemorative letter from the fiftieth anniversary Volume in 2010, copied below:\"We are all internationalists now. Fifty years ago, when the Virginia Journal of International Law began publication, international law was a narrowly-defined field concerned with the legal obligations of nation states vis-à-vis one another. International law scholars had relatively little to say to their domestic law counterparts and vice versa. Scholars of comparative law, although engaged in an analytically different exercise, shared much of the culture of international lawyers and published in the same journals, including VJIL. Today the barriers between international and domestic law are diminishing. In part, this is a simple result of the dramatic growth in cross-border movements of people and capital. But it is also, interestingly, a consequence of intellectual and cultural conflict between international and domestic law. Reflecting its origins, international law has a decidedly European sensibility. That sensibility is frequently out of step with American domestic law on matters relating to war, criminal punishment, the environment, and so on. It therefore matters whether international law limits or informs domestic law on those issues. In recent years, U.S. courts have partly opened the door to such influence. Barring a reversal of that trend or a substantial cultural shift on one side of the Atlantic or the other, the underlying policy conflicts will guarantee increasing debate between international and domestic law scholars. The era when each could ignore the other’s substantive commitments is over. A third reason for the convergence is methodological. International and comparative scholars were relative latecomers to the interdisciplinary movement in legal scholarship. More recently, international law scholars have come to rely on insights from international relations theory, which is in turn informed by game theory and institutional economics. The methodological distance between international law and domestic law scholarship, which widened with the creation of “law and” movements in the middle of the last century, has narrowed again. If international law scholars found political science and economics, we might say that economics found comparative law. In the past decade there has been an explosion of empirical work in macroeconomics that looks for the determinants of cross-country differences in the organization and operation of the economy. A striking conclusion of that literature is that the design of a country’s legal system is strongly related to the organization of its financial, product, and labor markets. This has sparked an outpouring of interest among economists in the differences among legal systems. Comparative law scholars have not been entirely welcoming of this interest, but here too it seems clear that the barriers separating comparative law and previously domestically-focused law and economics are breaking down. We can see the results in the pages of recent issues of VJIL, which discuss financial and environmental regulation, intellectual property, antitrust, and taxation, each only dimly on the minds of internationalists fifty years ago. This widening of the interests and concerns of international and comparative law is healthy and bodes well for the intellectual promise of VJIL’s next fifty years. VJIL has been a major forum for the development of scholarly ideas about international and comparative law over the past fifty years, and I congratulate the Journal and its editors, past and present, for their contribution to the advancement of those fields. I have no doubt that the future will be equally bright.\" tags Media & Publications, Academic & Professional, Contracted Independent Organization (CIO), Law School members 40\n",
      "name Youth Education and Maternal Support Assocation @ UVA description The Youth Education and Maternal Support Association (YEMSA) chapter at UVA is an organization centered around raising youth literacy rates, and providing support for mothers and children in need (YEMSA’s two arms). The organization aims to provide its members with service opportunities in Charlottesville and beyond, catering to its mission. tags Public Service, Contracted Independent Organization (CIO), No Application or Interview Required members 9\n"
     ]
    },
    {
     "name": "stderr",
     "output_type": "stream",
     "text": [
      "289it [00:50,  6.91it/s]"
     ]
    },
    {
     "name": "stdout",
     "output_type": "stream",
     "text": [
      "name Gizmologists description Gizmologists is an organization that supports student-run small-scale engineering projects. We pride ourselves on encouraging students of any major to try their luck at engineering (including non-engineers); whether you have a wealth of experience or none at all we have a place for you! Most projects are interdisciplinary so as to allow you to find what you enjoy/what you don't. The more experienced engineers will lead demos and take a lead role in projects so as to ensure everyone is constantly learning and those with less experience are never feeling overwhelmed. tags No Application or Interview Required, Academic & Professional, Contracted Independent Organization (CIO), Social & Hobby members 18\n",
      "name Volunteers with International Students, Staff, and Scholars (VISAS) description VISAS (Volunteers with International Students, Staff, and Scholars) is a free English language and cultural exchange program that serves UVA’s international community and their families. Through VISAS programs, volunteers and international participants practice English together, meet new people, build meaningful relationships, and learn about other cultures. We offer a variety of programs with flexible commitment levels. We invite English learners and English speakers to come join us now!  tags Public Service members 1\n"
     ]
    },
    {
     "name": "stderr",
     "output_type": "stream",
     "text": [
      "291it [00:50,  7.22it/s]"
     ]
    },
    {
     "name": "stdout",
     "output_type": "stream",
     "text": [
      "name Extramural Moot Court Team description The Moot Court Team exists to provide UVA Law students with an opportunity to develop writing and oral advocacy skills through the route of appellate advocacy. We endeavor to provide unique opportunities through external competitions, workshops, and events where our team members can develop their advocacy skills and represent the University of Virginia. We aim to be a competitive organization, as well as inclusive for students who want to participate. tags Contracted Independent Organization (CIO), Academic & Professional, Law School members 11\n",
      "name Club Dodgeball at the University of Virginia description Club Dodgeball hosts weekly pick-up dodgeball games and practices, travels competitively for regional and national tournaments, and hosts social events. Anyone is welcome and there are no cuts. We practice at Slaughter Recreation Center on Fridays 4-5:30pm and Tuesdays 8-9:30pm. Please reach out to our President, Wyndham White (wrw2ztk@virginia.edu) with any questions you may have. tags No Application or Interview Required, Contracted Independent Organization (CIO), Club Sport, Social & Hobby members 42\n"
     ]
    },
    {
     "name": "stderr",
     "output_type": "stream",
     "text": [
      "294it [00:50,  8.35it/s]"
     ]
    },
    {
     "name": "stdout",
     "output_type": "stream",
     "text": [
      "name Lutheran Campus Ministry description We are an open, supportive group that welcomes and affirms all students who are seeking Christian fellowship. We are LGBTQIA+ affirming. We worship together, enjoy social activities, share lunch after church, and talk about faith and the challenges of life. Come and check us out at St. Mark Lutheran Church on the corner of Alderman and Ivy Road. tags Contracted Independent Organization (CIO), No Application or Interview Required, Religious & Spiritual members 5\n",
      "name The Navigators description The Navigators Christian Fellowship is a community of students who are seeking to grow in our relationship with God and impact the world around us. Our community believes in authenticity and is a place where you can come as you are and be the real you.  Are you looking to get plugged in to a community where you can grow and pursue God with like minded people? The Navigators is a place where you will find encouragement, spiritual growth, fun, and deep friendships. Come and check out our large group meeting on Thursday nights at 8pm and get plugged in to a small group. tags No Application or Interview Required, Religious & Spiritual, Contracted Independent Organization (CIO), Leadership Development members 22\n"
     ]
    },
    {
     "name": "stderr",
     "output_type": "stream",
     "text": [
      "296it [00:51,  7.71it/s]"
     ]
    },
    {
     "name": "stdout",
     "output_type": "stream",
     "text": [
      "name Alpha Rho Chi - Kallikrates Chapter at UVA description Alpha Rho Chi is an architecture and design-based national academic fraternity, and here at UVA, a student-led organization that aims to create relationships among students of all years and disciplines, relating to the School of Architecture, through philanthropic, educational, and social events within the school and local community. Members have opportunities to participate in events and programs to further their leadership involvement, career development, and connections with other students through consistent programming that is centered around the three main pillars of philanthropy, professional development, and relationship-building. APX has an extensive list of activities planned for this semester, including partnering with the Career Center for professional development-centered events, firm crawls, days of service and volunteering opportunities, peer mentoring, and much more. Being a chapter of a widespread national organization also gives us access to a broad network of APX alumni and fellow design students at other universities, as well as opportunities for major scholarships and leadership conferences. We welcome students of all backgrounds and design disciplines, at both the graduate and undergraduate levels. Even though we are known nationally as a provisional chapter of a “fraternity,” our organization is open to and made up of a gender-inclusive group of students. Note: The included website URL is technically for our chapter, given by the National Organization; however, it is not a primary form of organization or contact for our group. Other forms of contact/outreach/communication include our Instagram, GroupMe, and emailing list. More information about APX's National Organization can be found here: https://alpharhochi.org tags Contracted Independent Organization (CIO), Academic & Professional, Leadership Development, No Application or Interview Required, Internships and Employment, Sustainability, Architecture members 7\n",
      "name St. Elmo Hall (Delta Phi, Rho Chapter) description FSL tags Public Service, Political & Advocacy, Social & Hobby, Fraternity or Sorority members 0\n"
     ]
    },
    {
     "name": "stderr",
     "output_type": "stream",
     "text": [
      "298it [00:51,  6.73it/s]"
     ]
    },
    {
     "name": "stdout",
     "output_type": "stream",
     "text": [
      "name Association for Computing Machinery description ACM @ UVA is the student chapter of the Association for Computing Machinery at the University of Virginia. We provide Computer Science/Engineering majors and enthusiasts with events to provide all academic, professional, and social opportunities.Social Engagement : We aim to promote the robust relationships amongst persons in the graduate and undergraduate bodies that have an interest in computing, believing that the computer science community is strengthened when we are able to befriend and learn from the diverse perspectives of others.Educational Opportunities : It is our objective to provide learning environments in which students can increase their knowledge of and interest in the science, design, development, construction, languages, management and applications of modern computing.Professional Development : Our goal is to encourage and assist students’ growth and preparation for the workforce. We aim to assist through helping prepare for real world jobs and problems. We also seek to encourage the formation of contacts with professionals in industry and graduate degree programs. tags No Application or Interview Required, Department Group or Program, Contracted Independent Organization (CIO), Academic & Professional, Social & Hobby members 48\n",
      "name National Student Speech Language Hearing Association description National Student Speech Language Hearing Association (NSSLHA) is a pre-professional membership association for students interested in the study of communication sciences and disorders.NSSLHA is an association for students managed by students. National policy and activities are governed by 10 students (Regional Councilors) and five ASHA members (Faculty). tags Contracted Independent Organization (CIO), Academic & Professional members 13\n"
     ]
    },
    {
     "name": "stderr",
     "output_type": "stream",
     "text": [
      "300it [00:51,  6.37it/s]"
     ]
    },
    {
     "name": "stdout",
     "output_type": "stream",
     "text": [
      "name Hearts for the Homeless Charlottesville description Hearts for the Homeless UVA chapter contributes to the well-being of one of the most vulnerable populations in our nation through education, blood pressure screening opportunities, and granting students the ability to volunteer and truly understand the Charlottesville community. Specifically, students will perform blood pressure screenings, mental health assessments, and make care packages for the local homeless population. tags Public Service, Contracted Independent Organization (CIO) members 25\n",
      "name Egyptian Student Organization description Our organization is open to everyone of all genders, race, and ethnicity, although it is specifically designed for students from Egyptian origin who have an interest in meeting others from a similar cultural background.  It is also a way in which Egyptians can engage in their culture - home away from home! We do encourage anyone interested in the Egyptian culture to join as well! tags Contracted Independent Organization (CIO), Cultural & Ethnic members 10\n"
     ]
    },
    {
     "name": "stderr",
     "output_type": "stream",
     "text": [
      "302it [00:52,  7.02it/s]"
     ]
    },
    {
     "name": "stdout",
     "output_type": "stream",
     "text": [
      "name Student Association of Graduate Architects description The purpose of SAGA is to be twofold: (1) to represent the graduate students of the School of Architecture in relations with the faculty and administration of the school; and (2) to promote and encourage activities and the dissemination of information of academic or professional interest to the field of architecture.  tags Internships and Employment, Department Group or Program, Architecture, Peer Mentors, Leadership Development, Social & Hobby, Contracted Independent Organization (CIO), Academic & Professional members 10\n",
      "name Gamma Sigma Tau description FSL tags Political & Advocacy, Social & Hobby, Public Service, Cultural & Ethnic, Multicultural Greek Council (MGC), Fraternity or Sorority members 4\n"
     ]
    },
    {
     "name": "stderr",
     "output_type": "stream",
     "text": [
      "304it [00:52,  5.77it/s]"
     ]
    },
    {
     "name": "stdout",
     "output_type": "stream",
     "text": [
      "name Alpha Kappa Psi description As the largest and oldest business fraternity in the United States, Alpha Kappa Psi offers endless opportunities. As a brother of such a vast, diverse, and successful organization, you will join a network with hundreds of alumni that are willing to help you reach your career goals. With over 75 active brothers in the organization, you will get to know everyone on a more personal level and foster lifelong friendships. During their time in Alpha Kappa Psi at the University of Virginia, members enjoy many opportunities to grow and hone their business skills through mock interviews, resume critiques, career workshops, and much more. When our members graduate, they join the business world ready for success. tags Public Service, Social & Hobby, Academic & Professional, Contracted Independent Organization (CIO), McIntire School of Commerce members 61\n",
      "name Virginia Product Circle description The Virginia Product Circle (VPC) is designed to provide students interested in Product Management and related fields in the intersection of technology, business, and design an opportunity to gain industry-relevant experience and skills. VPC transforms students into future product leaders by giving members the chance to create and analyze meaningful, high-impact semester-long projects. We teach students from various backgrounds how to excel at each step of the product development process through workshops, mentorship programs, and speaker series from experienced professionals. VPC strives to provide a supportive and engaging environment for students to collaborate, share ideas and inspire each other while advancing careers in the product space. tags McIntire School of Commerce, Contracted Independent Organization (CIO), Leadership Development members 3\n"
     ]
    },
    {
     "name": "stderr",
     "output_type": "stream",
     "text": [
      "306it [00:52,  6.43it/s]"
     ]
    },
    {
     "name": "stdout",
     "output_type": "stream",
     "text": [
      "name The Health Policy Group at UVA School of Medicine description The Health Policy Group at the UVA School of Medicine organizes educational discussions and meetings with medical students and faculty about health policy and related current events. We are a group of medical school students who are interested in learning more about current issues in health policy and ways that future physicians can be involved in policy decision-making. tags No Application or Interview Required, Contracted Independent Organization (CIO), Academic & Professional, Political & Advocacy members 13\n",
      "name Transfer Advisory Board description While Transfer Student Peer Advisors introduce transfers to the University, the Transfer Advisory Board (TAB) introduces the University to the students. TAB advocates for transfer students within the University, teaching the community more about the transfer student experience.TAB recognizes the different needs of transfer students as they begin transitioning to life on Grounds, providing support, outreach, and advocacy. TAB organizes a number of transfer initiatives and social events to ensure the success of new and continuing transfer students. tags Administrative Unit, Department Group or Program members 7\n"
     ]
    },
    {
     "name": "stderr",
     "output_type": "stream",
     "text": [
      "308it [00:53,  5.98it/s]"
     ]
    },
    {
     "name": "stdout",
     "output_type": "stream",
     "text": [
      "name The Genomics Society at the University of Virginia (UVa) description The Genomics Society at the University of Virginia has the purpose of:1. Promoting undergraduate research by equipping our members with the skills for conducting biological research.2. Fostering interactions between underclassmen, upperclassmen, and industry experts.3. Building a community of individuals interested in genomics.We encourage our members to start a guided research project to best get a feel for what research is like.Check out our Instagram for our most recent updates/events: @genomicsocietyatuvaKeywords: science, biomedical engineering, research, education, genomics tags Academic & Professional, Contracted Independent Organization (CIO), No Application or Interview Required members 28\n",
      "name Christian Students at UVA description Fellowship club for Christian UVA students. tags Religious & Spiritual, Contracted Independent Organization (CIO) members 11\n"
     ]
    },
    {
     "name": "stderr",
     "output_type": "stream",
     "text": [
      "310it [00:53,  5.67it/s]"
     ]
    },
    {
     "name": "stdout",
     "output_type": "stream",
     "text": [
      "name Bioethics Society at UVA description Bioethics Society at UVA is a casual club of diverse students brought together by a common interest in the growing field of bioethics. If you're unfamiliar with bioethics, think genome editing, A.I. in healthcare, organ transplantation decisions, healthcare for prisoners, end-of-life care, vaccinations, and so much more! If any of these topics sound interesting to you, feel free to join our monthly meetings where we typically read, listen to, or watch something together and informally discuss our thoughts over light refreshments. All opinions are welcome, and no experience with bioethics is required!  tags Social & Hobby, Academic & Professional, Contracted Independent Organization (CIO), No Application or Interview Required members 175\n",
      "name Surfrider at UVA description Surfrider at UVA is a student club of the Surfrider Foundation. We are a dedicated community of students who seek to protect the coasts and oceans that we love. Surfrider at UVA provides a welcoming and inclusive environment for anyone who wants to engage in environmental service and learn more about sustainability advocacy. We organize 2-3 trips to Virginia Beach and the Outer Banks a semester to perform beach clean-ups with the VA and OBX Surfrider Chapters, design curriculums for local schools about the importance of protecting the environment, and travel to DC to learn about the policy process. Most importantly, we foster an environment where Hoos can share their love of the ocean (whether you can surf or not!) by cultivating leaders amongst our members who can organize effectively and think critically. At its core, Surfrider is a culture in which anyone is welcome to come and explore the East Coast while learning how to work collaboratively to achieve the Surfrider Foundation's mission. tags Contracted Independent Organization (CIO), Political & Advocacy, No Application or Interview Required, Sustainability members 28\n"
     ]
    },
    {
     "name": "stderr",
     "output_type": "stream",
     "text": [
      "312it [00:53,  6.00it/s]"
     ]
    },
    {
     "name": "stdout",
     "output_type": "stream",
     "text": [
      "name Zeta Zeta Chapter of Sigma Delta Pi description The Zeta Zeta Chapter of Sigma Delta Pi has the same driving purposes as the National organization and are as follows: To honor those who attain excellence in the study of the Spanish language and in the study of the literature and culture of the Spanish-speaking peoples; to honor those who have made the Hispanic contributions to modern culture better known in the English-speaking world; to encourage college and university students to acquire a greater interest in and a deeper understanding of Hispanic culture; to foster friendly relations and mutual respect between the nations of Hispanic speech and those of English speech; to serve its membership in ways which will contribute to the attainment of the goals and ideals of the society. tags No Application or Interview Required, Honor Society, Visual & Performing Arts, Social & Hobby, Cultural & Ethnic, Academic & Professional, Contracted Independent Organization (CIO) members 6\n",
      "name Undergraduate Women in Law at UVA description Undergraduate Women in Law at UVA aims to create a space for femme-identifying pre-law students to prepare for law school and navigate legal careers through professional development, mentorship with law students at the UVA School of Law, and connecting with pre-law peers -- with a few Legally Blonde viewings along the way!  tags Law School, Contracted Independent Organization (CIO), Academic & Professional, No Application or Interview Required members 71\n"
     ]
    },
    {
     "name": "stderr",
     "output_type": "stream",
     "text": [
      "314it [00:54,  6.62it/s]"
     ]
    },
    {
     "name": "stdout",
     "output_type": "stream",
     "text": [
      "name Darden Business Innovation & Design Club description The Darden Business Innovation & Design Club exists to:foster a community around,promote the ideals of,and encourage career paths... that incorporate design methodologies in leading business organizations. tags No Application or Interview Required, Darden School, Contracted Independent Organization (CIO), Academic & Professional members 2\n",
      "name Athletes in Action description Athletes in Action exists to embody and proclaim the love and truth of Jesus Christ tothose uniquely impacted by sport at The University of Virginia, in the greaterCharlottesville community, and throughout the world.                                         tags Contracted Independent Organization (CIO), Religious & Spiritual members 9\n"
     ]
    },
    {
     "name": "stderr",
     "output_type": "stream",
     "text": [
      "316it [00:54,  6.61it/s]"
     ]
    },
    {
     "name": "stdout",
     "output_type": "stream",
     "text": [
      "name Omicron Delta Kappa description ODKOmicron Delta Kappa, the National Leadership Honor Society, recognizes and encourages superior leadership and exemplary character. O?K encourages collaboration among members across the five pillars of leadership celebrated by O?K: academics, athletics, service, communications, and arts. We recognize students through their service and leadership.  tags Academic & Professional, Contracted Independent Organization (CIO), Public Service, Honor Society, Social & Hobby members 5\n",
      "name Archery Club at UVA description The Archery Club at UVA is established for the expressed purposes of allowing members to learn the fundamentals of shooting an Olympic style recurve bow, providing a space for members to consistently practice their technique, and developing athletes capable of competing in state and national competitions. tags Contracted Independent Organization (CIO), Social & Hobby, No Application or Interview Required members 14\n"
     ]
    },
    {
     "name": "stderr",
     "output_type": "stream",
     "text": [
      "318it [00:54,  6.49it/s]"
     ]
    },
    {
     "name": "stdout",
     "output_type": "stream",
     "text": [
      "name The American Red Cross Club at the University of Virginia description The American Red Cross prevents and alleviates human suffering in the face of emergencies by mobilizing the power of volunteers and the generosity of donors. Get involved with the American Red Cross Club at UVA through blood drives around grounds, disaster relief efforts, international service projects, service to armed forces, and more! tags No Application or Interview Required, Contracted Independent Organization (CIO), Public Service members 75\n",
      "name Afro Latinx Student Organization description Our mission is to educate the student population about the nuances of one’s body: accounting for the dynamics of race/color, ethnicity, and other intersecting identities that affect one’s navigation through the world: gender, sexual preference, class, ability, etc. It is through advocacy, education, and community events that we wish to build this awareness. It is not exclusive to this demographic but highlights afro-latinidad cultures and experiences. ALSO seeks to make the University of Virginia a more supportive, mindful, and knowledgeable environment for Afro-Latinx students and allies.  tags Contracted Independent Organization (CIO), Cultural & Ethnic members 7\n"
     ]
    },
    {
     "name": "stderr",
     "output_type": "stream",
     "text": [
      "320it [00:54,  7.37it/s]"
     ]
    },
    {
     "name": "stdout",
     "output_type": "stream",
     "text": [
      "name manifestA description manifestA is a collectively-led organization facilitated by students and open to all members of the A-School community (students, faculty, and staff)–past and present. We welcome participation from all disciplines, backgrounds, sexual orientations, genders (including trans and non-binary folx), ethnicities, races, and abilities. manifestA seeks to challenge the explicit and implicit inequities and biases that have been perpetuated within the allied design professions and the built environment. We acknowledge our professions’ complicity in creating and reinforcing unjust systems. manifestA stands against white supremacy and systemic racism. We stand with the Black Lives Matter movement in solidarity for the dignity, protection, and empowerment of Black, Indigenous, and Peoples of Color. manifestA is a platform to address these institutions of injustice as they intersect with design and the built environment. In alliance with the Inclusion + Equity Committee of the School of Architecture, the National Organization for Minority Architecture Students (NOMAS), A-School International Student Association (AISA), and others, we aim to foster meaningful conversations and educational programming that will strengthen the A-School community's ability to address issues of justice and equity in academic and professional work. tags No Application or Interview Required, Architecture, Contracted Independent Organization (CIO) members 15\n",
      "name The Roosevelt Society description The Roosevelt Society is a nonpartisan political discussion club welcoming members from all across the political spectrum.  Members may participate in weekly, hour-long (or less) discussions on a predefined topic (usually related to pertinent current events).  The Roosevelt Society is discussion-based (as opposed to debate) and encourages members to question and reflect on their own political views.  The variety of topics discussed serve as an important reminder that one does not need to side with a specific party on every political issue. tags No Application or Interview Required, Academic & Professional, Contracted Independent Organization (CIO), Political & Advocacy members 30\n"
     ]
    },
    {
     "name": "stderr",
     "output_type": "stream",
     "text": [
      "322it [00:55,  7.51it/s]"
     ]
    },
    {
     "name": "stdout",
     "output_type": "stream",
     "text": [
      "name CVille Solar Project description Cville Solar Project is a student-run organization that aims to make solar more accessible in the local community and give students the ability to be able to learn about solar and renewable energy in a way that is highly interactive and hands on. tags Academic & Professional, Contracted Independent Organization (CIO), Public Service, Social & Hobby, No Application or Interview Required members 51\n",
      "name Hoos Playing Bridge description Hoos Playing Bridge is a group of students that plays the card game bridge. Bridge is a trick-taking and strategy card game played with a partner. Bridge is a great game to play casually with friends and competitively, and we facilitate both. Some members come weekly to hang out, have snacks and play cards; others play in local tournaments bimonthly; and still others will compete at Nationals and Worlds. Hoos Playing Bridge has no interview or application process, everyone is welcome to join! tags Contracted Independent Organization (CIO), Social & Hobby, No Application or Interview Required members 10\n"
     ]
    },
    {
     "name": "stderr",
     "output_type": "stream",
     "text": [
      "324it [00:55,  6.93it/s]"
     ]
    },
    {
     "name": "stdout",
     "output_type": "stream",
     "text": [
      "name Delta Zeta (Lambda Delta Chapter) description FSL tags Social & Hobby, Political & Advocacy, Public Service, Fraternity or Sorority members 102\n",
      "name Undergraduate Black Law Students Association description The purpose of the Undergraduate Black Law Student Association is to articulate and promote the educational, professional, political and social needs and goals of black pre-law students at the University of Virginia. tags Black Presidents Council, Political & Advocacy, Contracted Independent Organization (CIO), Cultural & Ethnic, Academic & Professional members 23\n"
     ]
    },
    {
     "name": "stderr",
     "output_type": "stream",
     "text": [
      "326it [00:55,  6.90it/s]"
     ]
    },
    {
     "name": "stdout",
     "output_type": "stream",
     "text": [
      "name Office of African American Affairs description The Office of African-American Affairs (OAAA) was established in 1976 as an integral part of the Division of Student Affairs at the University of Virginia.  It is charged with the responsibility of assisting academic and non-academic units in meeting the challenges of service delivery to African-American students.  The Office assumes broad responsibility for the creation of a supportive environment which promotes the students’ full participation in the University’s extracurricular life and enhances the sensitivity of the larger community to the needs, interests, and culture of African-American students.   At the same time, it recognizes the intellectual and social diversity among the students and strives to gear its programs and services accordingly.In addition to providing services, the Office also seeks to foster interest in African-American culture as a major force in a pluralistic society.  It maintains on-going cooperative relationships with students, faculty/staff, alumni, parents, and the community.  These liaisons exchange information and advice, enhance the opportunities for the educational growth and successful matriculation and retention of African-American students.Finally, the Office of African-American Affairs serves as a change agent, seeking to assist the University in addressing a range of issues related to students.  It advocates their interests and fosters the modification of institutional structures, policies, and practices which may inhibit the development of a genuinely pluralistic institution. tags Cultural & Ethnic, Department, Schools, or Centers members 48\n",
      "name Society for the Promotion of Indian Classical Music and Culture Amongst Youth description Founded in India in 1977, the Society for the Promotion of Indian Classical Music And Culture Amongst Youth (SPICMACAY) aims to bring the rich and diverse culture and the heritage of India to communities across the world. Since its inception, SPICMACAY has become one of India’s foremost music non-profit organizations and has established chapters all over the world, many located at university campuses. The organization's chapter at the University of Virginia, SPICMACAY at UVA, was established in 1990 and promotes Indian classical art forms in the UVA and Charlottesville community. Led by students and faculty advisors, the chapter presents concerts, lecture demonstrations, and small showcases, drawing participation from students, faculty, staff, community members, and professional artists from around the world. UVA's chapter looks to continue serving the greater mission of SPICMACAY by bringing people from different cultures together and fostering greater understanding through the arts. tags Contracted Independent Organization (CIO), Cultural & Ethnic, Visual & Performing Arts members 9\n"
     ]
    },
    {
     "name": "stderr",
     "output_type": "stream",
     "text": [
      "328it [00:56,  5.60it/s]"
     ]
    },
    {
     "name": "stdout",
     "output_type": "stream",
     "text": [
      "name L.E.A.D. at UVA (Learning through Experimentation, Awareness, and Demonstration) description The L.E.A.D. program is dedicated to promoting chemistry through science education and awareness at the local level, through programs at the University of Virginia (such as BLAST), and within classrooms across Virginia. Graduate and undergraduate students perform exciting demonstrations and facilitate classroom science experiments for elementary and middle school students in the Charlottesville area and beyond through hands-on, inquiry-based activities. L.E.A.D. is dedicated to improving graduate student leadership and communication skills through the dissemination of science literacy and accessibility, thereby providing an avenue for more engaging scientific experts. All lessons are developed to be in accordance with the Science Standards of Learning for Virginia Public Schools. tags Political & Advocacy, Public Service, Academic & Professional, Contracted Independent Organization (CIO) members 9\n",
      "name Beta Theta Pi description FSL tags Social & Hobby, Political & Advocacy, Public Service, Fraternity or Sorority members 2\n"
     ]
    },
    {
     "name": "stderr",
     "output_type": "stream",
     "text": [
      "330it [00:56,  5.69it/s]"
     ]
    },
    {
     "name": "stdout",
     "output_type": "stream",
     "text": [
      "name Scholars of Finance at UVA description Scholars of Finance is a rapidly growing organization on a mission to inspire character and integrity in the finance leaders of tomorrow with 50+ chapters across the USA and partnerships with some of the top firms in the finance industry including Goldman Sachs, Blackstone, and Morgan Stanley. tags McIntire School of Commerce, Contracted Independent Organization (CIO), Academic & Professional members 38\n",
      "name Virginia Women's Chorus description The Virginia Women’s Chorus is committed to excellence in the performance of classical, contemporary and diverse music from the challenging choral literature for women’s voices. The Chorus seeks to inspire and enrich others through the choral art form.The Chorus is unique in that it is a student-run organization with a hired professional conductor. It is comprised of undergraduate and graduate students from numerous degree programs. Several singers from the Charlottesville community have participated in the Chorus as well.The Chorus meets for rehearsal twice a week, on Mondays and Wednesdays. Our programming includes the Candlelight Concert series in the fall semester, an annual spring concert, and the Women Against Violence benefit concert, as well as performance gigs around the university and wider Charlottesville. Auditions are held at the beginning of each semester and consist of a voice quality and range check, singing scales a cappella, singing back pitches, and a few short sight-reading passages. Sight-reading is not a determining factor.VWC is affiliated with the University of Virginia Department of Music. Although this organization has members who are University of Virginia students and may have University employees associated or engaged in its activities and affairs, the organization is not a part of or an agency of the University. It is a separate and independent organization which is responsible for and manages its own activities and affairs. The University does not direct, supervise or control the organization and is not responsible for the organization’s contracts, acts or omissions. tags Social & Hobby, Visual & Performing Arts, Contracted Independent Organization (CIO) members 25\n"
     ]
    },
    {
     "name": "stderr",
     "output_type": "stream",
     "text": [
      "332it [00:57,  3.69it/s]"
     ]
    },
    {
     "name": "stdout",
     "output_type": "stream",
     "text": [
      "name University Career Center description UNIVERSITY OF VIRGINIA CAREER CENTER ENGAGES AND SUPPORTS STUDENTS IN THE DISCOVERY AND PURSUIT OF MEANINGFUL LIVES. tags Department, Schools, or Centers members 3\n",
      "name Ektaal A Cappella description Founded in 1999, Ektaal (\"one beat\" in Hindi) is University of Virginia's only gender-inclusive South Asian-American Fusion A Capella group. The group performs a variety of songs that fuse together elements of South Asian music and English pop tunes. Not only do we perform on Grounds and around Charlottesville, but we also compete nationally. Check us out on Facebook, Instagram, and Tiktok.If you are interested in auditioning, please visit https://ektaalacappella.org/ or email us at ektaalacapella@gmail.com! tags Media & Publications, Contracted Independent Organization (CIO), Cultural & Ethnic, Social & Hobby, Visual & Performing Arts members 11\n"
     ]
    },
    {
     "name": "stderr",
     "output_type": "stream",
     "text": [
      "334it [00:57,  4.61it/s]"
     ]
    },
    {
     "name": "stdout",
     "output_type": "stream",
     "text": [
      "name American Lung Cancer Screening Initiative at UVA description Lung cancer is the most deadly cancer in the United States with an overall 5-year survival rate of only 18.6%. The 16% of cases caught in an early stage have a survival rate of 56%, while those that are not caught early have a 5% survival rate, which proves the need for more widespread screening and prevention efforts. Only 5.7% of Americans at high risk for lung cancer get screened each year- this organization aims to increase that percentage by spreading awareness and advocating for bills that will expand lung cancer screening guidelines.  tags Political & Advocacy, Academic & Professional, Contracted Independent Organization (CIO), No Application or Interview Required members 9\n",
      "name Team Handball Club at the University of Virginia description A Club Sports team that plays the Olympic Sport of Team Handball. We practice weekly as a club, and compete against other college and semi-professional teams in national tournaments hosted by the USA Team Handball Association. All skill levels are welcome and no prior experience is required to tryout for the team.  tags Club Sport, Social & Hobby, Contracted Independent Organization (CIO) members 10\n"
     ]
    },
    {
     "name": "stderr",
     "output_type": "stream",
     "text": [
      "336it [00:58,  3.03it/s]"
     ]
    },
    {
     "name": "stdout",
     "output_type": "stream",
     "text": [
      "name Graduate Society of Women Engineers at UVA description Our mission is to support female graduate engineers as they achieve academic and life goals.  We host events to foster a more diverse and inclusive engineering community and advocate for changes that result in a more supportive environment for engineers at the university. We strive to create a more welcoming environment for all students. tags No Application or Interview Required, Academic & Professional, Contracted Independent Organization (CIO) members 10\n",
      "name Biokind Analytics at UVA description Biokind Analytics is an undergraduate 501(c)(3) organization that uses data science to further the mission of healthcare nonprofits. Our organization, originally founded at Rice University, is currently located in six states and has worked with 6 non-profit organizations, analyzing more than 100 million dollars in combined donations. We are currently working with nonprofits in Virginia to analyze organization-specific data and provide healthcare solutions. tags Public Service, Academic & Professional, Contracted Independent Organization (CIO), Data Sciences members 22\n"
     ]
    },
    {
     "name": "stderr",
     "output_type": "stream",
     "text": [
      "338it [01:00,  1.82it/s]"
     ]
    },
    {
     "name": "stdout",
     "output_type": "stream",
     "text": [
      "name Phi Kappa Psi (Virginia Alpha Chapter) description FSL tags Fraternity or Sorority, Political & Advocacy, Social & Hobby, Public Service members 1\n",
      "name Darden Capital Management description Darden Capital Management (“DCM”) has the responsibility of managing six investment portfolios for the Darden School Foundation (“DSF”). The managers report in person to the Investment Committee twice annually, at the October and April meetings, or any other time as requested by DSF and its Trustees. Please see Mayo Center website or visit Linkedin page for more information. tags Darden School, Contracted Independent Organization (CIO) members 3\n"
     ]
    },
    {
     "name": "stderr",
     "output_type": "stream",
     "text": [
      "340it [01:01,  2.24it/s]"
     ]
    },
    {
     "name": "stdout",
     "output_type": "stream",
     "text": [
      "name Fraternity & Sorority Life description The Office of the Dean of Students/ Fraternity & Sorority Life was founded in 2001 by an initiative of the Board of Visitors to educate and support our students in recognized chapters as they shape organizations promoting principles of scholarship, leadership, service, diversity, and honor. We are committed to strengthening student self-governance and leadership on the individual chapter and governing council levels. Our office team also serves as the University liaison to alumnae, alumni and chapter headquarters' staff. tags Department, Schools, or Centers members 4\n",
      "name Alpha Epsilon Delta Premedical Society description Alpha Epsilon Delta is the only national premedical honor society. It was founded in 1926 at the University of Alabama and is currently one of the 57 members of the Association of College Honor Societies. Alpha Epsilon Delta supports collegiate chapters in identifying premedical students of excellence and imposing an obligation of continuing achievement upon such students. Alpha Epsilon Delta is not only an honor society, it is also a service organization. AED members are active in their efforts to promote premedical education in the University community through many diverse programs such as the speaker series, premedical newsletters and handbooks, MCAT reviews, tutoring and peer-advising, mentoring, interviewing, and social events. For many students, AED is a principal extracurricular activity. The varied functions of AED provided activities for intellectual development and stimulation of the individual members and a program of service to the Grounds that will include activities of benefit to non-members as well as members. tags No Application or Interview Required, Public Service, Honor Society, Contracted Independent Organization (CIO), Academic & Professional members 153\n"
     ]
    },
    {
     "name": "stderr",
     "output_type": "stream",
     "text": [
      "342it [01:01,  3.34it/s]"
     ]
    },
    {
     "name": "stdout",
     "output_type": "stream",
     "text": [
      "name Seriatim Journal of American Politics description Welcome! Our mission is to support an engaged citizenry by fostering an open marketplace of ideas and encouraging the productive exchange of political speech.Seriatim was conceived in the winter of 2012 and founded on a simple premise: everyone has a voice. We hope to provide an avenue through which the genuine political speech of undergraduate students may better be heard and shared with the community at large. Thus, Seriatim was born—an attempt to tangibly create Justice Oliver Wendell Holmes’s conception of the “marketplace of ideas,” in which different opinions freely compete for the validation of the many. By using academic papers as well as original work, we hope to bring greater meaning to students’ work inside the classroom by making it accessible to a wider audience. We encourage you to contribute to the undergraduate marketplace of ideas, either by submitting a paper you wrote for your politics class or by writing an original article on an issue of your choosing.Jefferson once said of the University, “For here we are not afraid to follow truth wherever it may lead, nor to tolerate any error so long as reason is left free to combat it.” At Seriatim, we seek to embody this ideal, and we invite you to join us along the way. tags Political & Advocacy, Academic & Professional, Contracted Independent Organization (CIO), Media & Publications members 23\n",
      "name J Street U description J Street U at UVa is a pro-peace, anti-occupation political home for Hoos of diverse opinion, knowledge, and background. We provide a space for nuanced dialogue, empowering education, and human-rights-oriented advocacy surrounding the Israel-Palestine conflict. Our access to a network of campus chapters and an influential national PAC allows us to push for progressive policy change with a common goal of determination for the Israelis and Palestinian people. tags Contracted Independent Organization (CIO), Cultural & Ethnic, Political & Advocacy, Public Service members 4\n"
     ]
    },
    {
     "name": "stderr",
     "output_type": "stream",
     "text": [
      "344it [01:01,  4.34it/s]"
     ]
    },
    {
     "name": "stdout",
     "output_type": "stream",
     "text": [
      "name UYoga description UYoga was founded in the Spring of 2014 to bring mindfulness and movement to the UVA community. We strive not only to provide a means through which yogis can practice but also through which yogis can connect and create a community. As such, we hold officer-guided bi-weekly drop-in, All-Levels practices for free. We have mats and blocks to borrow if you do not have your own. We also coordinate events and service opportunities with other clubs and within the local yoga scene.Our goal is to help support the yoga community at the University of Virginia by providing the space and support it needs to grow. Please drop in, send us a message at hac4mm@virginia.edu, or DM us on Instagram @yogaatuva if you have any questions. We can't wait to meet and flow with you! tags Social & Hobby, Contracted Independent Organization (CIO), No Application or Interview Required, Health and Wellness members 113\n",
      "name Shotokan Karate Club at The University of Virginia description The Shotokan Karate Club at UVA was founded in 1997, and we train year-round. Members include undergraduate students, graduate students, staff, and faculty of the university. The club practices traditional Japanese Shotokan karate, and fosters strength and confidence in a friendly, controlled environment.In addition to regular training, the Shotokan Karate Club offers other activities like outings after class, movies, hiking, parties, and beach trips. We have gone kayaking and even sky-diving! We travel to optional camps and tournaments, host guest instructors, and have rank tests three times a year.?Students learn and develop blocking and striking techniques, forms and sparring, with an emphasis on strong basic techniques and body connection. Classes include warm-up exercises, kihon (basic techniques), kumite (sparring and partner combinations), and kata (series of blocks and attacks against imaginary opponents.) The classes offer cardiovascular and strength training, and benefits include self-defense, confidence, focus, and fitness. Frequent repetition is required to progress in any study of martial arts, so students should be able to attend two classes per week. tags Visual & Performing Arts, Social & Hobby, Club Sport, Contracted Independent Organization (CIO), Cultural & Ethnic members 11\n"
     ]
    },
    {
     "name": "stderr",
     "output_type": "stream",
     "text": [
      "345it [01:02,  5.09it/s]"
     ]
    },
    {
     "name": "stdout",
     "output_type": "stream",
     "text": [
      "name Middle Eastern and Islamic Student Organization description Middle Eastern and Islamic Student Association (MEISA) will help promote awareness and understanding about Middle Eastern and Islamic regions and cultures, particularly related to doing business with people from or in those communities, and work to increase the community at Darden through recruitment efforts in cooperation with admissions. MEISA will do this by holding social and cultural events for both members and non-members and by locating additional opportunities for Darden students to learn about this increasingly important region, culture, and religion. Although this organization has members who are University of Virginia students and may have University employees associated or engaged in its activities and affairs, the organization is not a part of or an agency of the University. It is a separate and independent organization which is responsible for and manages its own activities and affairs. The University does not direct, supervise or control the organization and is not responsible for the organization’s contracts, acts or omissions.  tags Contracted Independent Organization (CIO), Cultural & Ethnic, Darden School members 4\n"
     ]
    },
    {
     "name": "stderr",
     "output_type": "stream",
     "text": [
      "347it [01:02,  5.29it/s]"
     ]
    },
    {
     "name": "stdout",
     "output_type": "stream",
     "text": [
      "name Southeastern Wahoos description Southeastern Wahoos seeks to provide a space for law students interested in the Southeast, both professionally and personally, to interact with employers, alumni, and fellow students. The Southeast has a vibrant legal market filled with UVA alumni and a family-friendly atmosphere with a low cost of living. We offer events with firms, student panels, in-house counsel, and public service programming. tags Law School, Contracted Independent Organization (CIO), Academic & Professional, No Application or Interview Required members 17\n",
      "name Graduate Commerce Council description An elected body of 10 students to serve all graduate residential students at the McIntire School of Commerce  tags Academic & Professional, Special Status Organization (SSO), McIntire School of Commerce, No Application or Interview Required members 3\n"
     ]
    },
    {
     "name": "stderr",
     "output_type": "stream",
     "text": [
      "350it [01:02,  6.66it/s]"
     ]
    },
    {
     "name": "stdout",
     "output_type": "stream",
     "text": [
      "name HRL SR - Tuttle-Dunnington description HRL tags Administrative Unit, Residence Hall members 0\n",
      "name Global Development Organization description The Global Development Organization exists at UVA to foster a community of students interested in and able to reduce global poverty and inequality and to make globalization work for the poor. How do we do this? Through an event series (of speakers, discussions and debates, career panels, presentations, etc.), research support, the global studies department, and public service events that pertain to global development. tags Social & Hobby, Political & Advocacy, Public Service, Contracted Independent Organization (CIO), Academic & Professional, Cultural & Ethnic, No Application or Interview Required, Sustainability members 97\n"
     ]
    },
    {
     "name": "stderr",
     "output_type": "stream",
     "text": [
      "352it [01:03,  6.27it/s]"
     ]
    },
    {
     "name": "stdout",
     "output_type": "stream",
     "text": [
      "name The Wheelchair Tennis Team at the University of Virginia description The Wheelchair Tennis Club at University of Virginia is one of the only adaptive collegiate sports programs on the East Coast and the only organization of its kind in Virginia. We are a group dedicated to introducing/continuing the development of disabled athletes in the sport of wheelchair tennis with the goal of competing in collegiate tournaments and expanding the scale of adaptive programs at the university.  tags Club Sport, Contracted Independent Organization (CIO) members 6\n",
      "name Women in Computing Sciences description WiCS at UVA is organized and operated for educational and scientific purposes to promote spread awareness about issues confronting women in the field of technology, providing a network and community to inspire women to explore educational and professional opportunities in technology, grow interest in and knowledge of science and applications of modern computing, and increase recruitment and retention of women in computing science.  tags Contracted Independent Organization (CIO), Academic & Professional, Public Service, Social & Hobby members 61\n"
     ]
    },
    {
     "name": "stderr",
     "output_type": "stream",
     "text": [
      "354it [01:03,  6.30it/s]"
     ]
    },
    {
     "name": "stdout",
     "output_type": "stream",
     "text": [
      "name Women's Business Forum at McIntire description We are a student-run organization at the University of Virginia, providing an open forum to discuss issues that are unique to gender and explore the challenges faced in the workplace. This group also focuses on networking with top companies and providing female students exposure to the business world. tags Academic & Professional, Contracted Independent Organization (CIO), No Application or Interview Required, McIntire School of Commerce, Peer Mentors members 227\n",
      "name Young Democratic Socialists of America at UVA description YDSA at UVA is a part of the youth section of the Democratic Socialists of America. YDSA and DSA are committed to building economic, social, and political power for the mulit-racial working class through strategic issue campaigns, labor organizing, mutual aid, political education, and more. YDSA at UVA is currently the largest YDSA chapter in the country with 150 dues-paying members! Join us today and get involved in building the movement!  tags Contracted Independent Organization (CIO), Political & Advocacy, No Application or Interview Required members 39\n"
     ]
    },
    {
     "name": "stderr",
     "output_type": "stream",
     "text": [
      "356it [01:03,  6.06it/s]"
     ]
    },
    {
     "name": "stdout",
     "output_type": "stream",
     "text": [
      "name International Student Union at the University of Virginia description The mission of the International Student Union at the University of Virginia is to create acommunity that welcomes students of all national backgrounds to connect with and support eachother, as well as make an impact on the UVA community by celebrating multiculturalism. tags No Application or Interview Required, Cultural & Ethnic, Social & Hobby members 6\n",
      "name BlackFin Investment Group at UVA description The vision for BlackFin is to serve minorities that are underrepresented in the financial services and business world. Underrepresented minorities in the financial services are students that identify as Black/African American, Hispanic, or Native American. The organization's purpose of most importance is to reduce the barriers that said minorities face when trying to access these fields by cultivating an environment that is not only educating but acts as a platform & network that members can professionally leverage. Consequently, under these conditions it is imperative that the organization remain welcoming to students with or without experience in this industry, with or without knowledge of finance/business, with or without relevant connections to members in the organization.  tags Contracted Independent Organization (CIO), McIntire School of Commerce members 13\n"
     ]
    },
    {
     "name": "stderr",
     "output_type": "stream",
     "text": [
      "359it [01:04,  7.21it/s]"
     ]
    },
    {
     "name": "stdout",
     "output_type": "stream",
     "text": [
      "name Thirst Project at UVA description The Thirst Project at UVA is created to help END the global water crisis through fundraising and education. This is a chapter of Thirst Project a nonprofit organization whose goal is to with \"with the support of young people to END the global water crisis by building freshwater wells in developing communities that need safe, clean drinking water.\" (Source: https://thirstproject.org/about/our-mission/) tags Public Service, Contracted Independent Organization (CIO), Sustainability, International members 6\n",
      "name SERP (Sigma Phi) description FSL tags Fraternity or Sorority, Political & Advocacy, Social & Hobby, Public Service members 2\n"
     ]
    },
    {
     "name": "stderr",
     "output_type": "stream",
     "text": [
      "361it [01:04,  6.55it/s]"
     ]
    },
    {
     "name": "stdout",
     "output_type": "stream",
     "text": [
      "name Muslim Law Students Association description MLSA is a student organization open to all students at the Law School, Muslim and non-Muslim. MLSA is dedicated to furthering a discussion of issues related to Islamic Law as well as contemporary issues facing the peoples of the Islamic world. It is also committed to creating an awareness of and celebrating Islamic culture. MLSA also serves as an affinity group that addresses the needs of Muslim law students, both spiritual and cultural. MLSA's mission is twofold: (1) to create and sustain an academic forum in which the Law School community can engage in dialogue on Islam as well as benefit from expertise of Muslim scholars and practitioners, and (2) to establish an inclusive community for Muslims at the law school.  tags Academic & Professional, Cultural & Ethnic, Contracted Independent Organization (CIO), Law School, Religious & Spiritual members 7\n",
      "name Pi Kappa Alpha (Alpha Chapter) description FSL tags Fraternity or Sorority, Public Service, Political & Advocacy, Social & Hobby members 0\n"
     ]
    },
    {
     "name": "stderr",
     "output_type": "stream",
     "text": [
      "363it [01:04,  6.30it/s]"
     ]
    },
    {
     "name": "stdout",
     "output_type": "stream",
     "text": [
      "name Harmonious Hoos description The Harmonious Hoos is an all-gender a cappella group at the University of Virginia that was founded in 2010. Our goal is to bring together undergraduate students who are passionate about singing and performing a variety of musical genres. Each of our members has the opportunity to select a song, arranged for them, that they wish to solo before graduation. We have performed at Rotunda Sing, UVA Basketball Games, UVA Baseball Games, Virginia Marching Band Winter Concert at John Paul Jones Arena, Rotunda Dinners, Dorm Sings, Lighting of the Lawn, SingFest, Political Campaign Office Openings, and local high school performances, as well as many joint concerts and our large individual concerts each semester. We also record and release our music on streaming platforms, including our most recent album, Venn Diagrams. If you or your organization is interested in booking a performance with the Harmonious Hoos feel free to email our president, Taylor Sibley at nht2xz@virginia.edu. tags Contracted Independent Organization (CIO), Visual & Performing Arts members 13\n",
      "name HRL SR - Echols-Humphreys description HRL tags Residence Hall, Administrative Unit members 0\n"
     ]
    },
    {
     "name": "stderr",
     "output_type": "stream",
     "text": [
      "365it [01:05,  6.35it/s]"
     ]
    },
    {
     "name": "stdout",
     "output_type": "stream",
     "text": [
      "name The Diabetes Link at UVA description Diabetes Link is a national organization with the objective of helping students with diabetes navigate college and create a support group on campuses. Within our chapter specifically, in addition to connecting with one another through discussions and social events, we look to promote diabetes awareness and advocacy on grounds, plan a large scale event for World Diabetes Day, create an emergency supplies network, and become active in the Charlottesville diabetes community. tags Public Service, Political & Advocacy, Contracted Independent Organization (CIO), No Application or Interview Required members 18\n",
      "name Rex E. Lee Law Society description RELLS is a community of members of The Church of Jesus Christ of Latter-day Saints and others who strive to incorporate a perspective of faith into the study and practice of law. The organization promotes high ethical and moral values, provides assistance and information to those interested in studying at UVA Law, and serves as a resource for the Law School community. RELLS is a chapter of the J. Reuben Clark Law Society. tags No Application or Interview Required, Religious & Spiritual, Contracted Independent Organization (CIO), Academic & Professional, Public Service, Law School members 9\n"
     ]
    },
    {
     "name": "stderr",
     "output_type": "stream",
     "text": [
      "367it [01:05,  6.38it/s]"
     ]
    },
    {
     "name": "stdout",
     "output_type": "stream",
     "text": [
      "name Sigma Psi Zeta Sorority, Inc. (Lambda Chapter) description FSL tags Fraternity or Sorority, Multicultural Greek Council (MGC), Political & Advocacy, Social & Hobby, Public Service, Cultural & Ethnic members 3\n",
      "name Association for Women in Mathematics at UVA description The Association for Women in Mathematics at UVA is open to all undergraduate and graduate students. The mission of our national parent organization is to create a community in which women and girls can thrive in their mathematical endeavors, and to promote equitable opportunity and treatment of women and others of marginalized genders and gender identities across the mathematical sciences. Some of our specific chapter goals are to build a community that provides support to women and other underrepresented individuals in math, create an affinity space that allows for open dialogue about gender-based experiences in mathematical spaces, and advocate for minority members to be seen as valued contributors in all their mathematical endeavors. We hold biweekly general meetings to host activities such as roundtable discussions, panels, and informal meet-and-greets. We also occasionally host lunches with speakers visiting for Math Department events. tags Academic & Professional, Contracted Independent Organization (CIO), Department, Schools, or Centers, No Application or Interview Required, Department Group or Program, Peer Mentors members 11\n"
     ]
    },
    {
     "name": "stderr",
     "output_type": "stream",
     "text": [
      "369it [01:05,  6.72it/s]"
     ]
    },
    {
     "name": "stdout",
     "output_type": "stream",
     "text": [
      "name Towards a Better Latin America description This organization has a two-part mission, to increase awareness of Latin American culture on UVa grounds, and to raise funds to aid Latin American social institutions in their improvement and development. tags Social & Hobby, Political & Advocacy, Public Service, Cultural & Ethnic, Contracted Independent Organization (CIO) members 12\n",
      "name Zeta Psi (Beta Chapter) description FSL tags Fraternity or Sorority, Public Service, Political & Advocacy, Social & Hobby members 0\n"
     ]
    },
    {
     "name": "stderr",
     "output_type": "stream",
     "text": [
      "371it [01:06,  5.98it/s]"
     ]
    },
    {
     "name": "stdout",
     "output_type": "stream",
     "text": [
      "name Women in STEM at UVA description AboutWomen in STEM is a social and professional organization for women in the STEM fields to collaborate and encourage one another. We work within UVA and in the Charlottesville community to help members gain meaningful opportunities. tags Contracted Independent Organization (CIO), Academic & Professional, Social & Hobby members 89\n",
      "name Brown Residential College description HRL tags Residence Hall members 3\n"
     ]
    },
    {
     "name": "stderr",
     "output_type": "stream",
     "text": [
      "373it [01:06,  6.39it/s]"
     ]
    },
    {
     "name": "stdout",
     "output_type": "stream",
     "text": [
      "name The Human Factors and Ergonomics Society at UVA description The HFES Student Chapter at the University of Virginia is organized to support and serve the needs of the human factors profession at the University of Virginia. Our purpose is to promote and advance the understanding of human factors involved in the design, manufacture, and use of machines, systems, environments, and devices. We accomplish this goal through the exchange of knowledge and methodology practices in the behavioral, biological, and physical sciences that are relevant to psychology, computer science, and systems engineering disciplines. tags Academic & Professional, Contracted Independent Organization (CIO) members 21\n",
      "name Engineering Student Council description What is ESC?Engineering Student Council (ESC) is the representative body for undergraduate students of the University of Virginia’s School of Engineering and Applied Science (SEAS). The council is composed of ten standing committees, as well as two representative groups. Each committee is led by a chair and a vice-chair. Together, the committee chairs and representatives make up the ESC Board, which is led by the executive members of the council. The council is representative of the general undergraduate Engineering student population in that council members are from a variety of disciplines and class years. Throughout, the council serves as a learning experience, providing opportunities for increased responsibilities and professional development.What does ESC do?ESC provides a voice for the school’s undergraduate student body to the administration and faculty, as well as the general public. Council members serve on administrative and faculty committees and engage in regular communication between members and officers with the Dean of SEAS. In addition, the council organizes social, academic, and service events and programs for the undergraduate student body, and it strives to encourage SEAS school spirit and pride. tags Social & Hobby, Public Service, Special Status Organization (SSO), Academic & Professional, L2K members 20\n"
     ]
    },
    {
     "name": "stderr",
     "output_type": "stream",
     "text": [
      "374it [01:07,  2.32it/s]"
     ]
    },
    {
     "name": "stdout",
     "output_type": "stream",
     "text": [
      "name Women's Recreational Lacrosse Club at the University of Virginia description Women's Recreational Lacrosse Club at UVA was created in order to give young women the opportunity to play lacrosse in a more relaxed atmosphere than the Club team. Each semester, a number of teams will be drafted and balanced according to position and experience level. These teams will each receive a game schedule, and will scrimmage each other every Sunday at The Park. Players will be required to provide their own protective equipment (eye goggles, mouthguard) as well as their own stick in order to play. Off the field, social events will be promoted, including team dinners/lunches and outings to Women's Varsity games. tags Social & Hobby, Contracted Independent Organization (CIO) members 38\n"
     ]
    },
    {
     "name": "stderr",
     "output_type": "stream",
     "text": [
      "376it [01:07,  3.27it/s]"
     ]
    },
    {
     "name": "stdout",
     "output_type": "stream",
     "text": [
      "name DivestUVA description Divest UVA is a group of students pushing for the University to divest its endowment from the fossil fuel industry. We host educational events, fundraise for environmental causes, lobby UVA admin,  engage in direct action, and have social events!  tags Political & Advocacy, Contracted Independent Organization (CIO), No Application or Interview Required, Sustainability members 10\n",
      "name Phi Sigma Pi National Honor Fraternity (Alpha Omicron Chapter) description Phi Sigma Pi Gender-Inclusive National Honor Fraternity strives to personify and encourage three ideals: 1. Scholarship: The acquisition and dissemination of information and knowledge. 2. Leadership: The application of professional skills and the fostering of leadership qualities by promoting and advancing the welfare of humanity. 3. Fellowship: The fostering of non-discriminatory, fraternal fellowship within Phi Sigma Pi's ranks. tags Social & Hobby, Public Service, Academic & Professional, Contracted Independent Organization (CIO) members 15\n"
     ]
    },
    {
     "name": "stderr",
     "output_type": "stream",
     "text": [
      "378it [01:08,  4.28it/s]"
     ]
    },
    {
     "name": "stdout",
     "output_type": "stream",
     "text": [
      "name WUVA description WUVA, Inc. was created in 1947 to educate University of Virginia students in the art of commercial radio broadcasting.  From 1947 to 1978, WUVA Radio operated as a commercial carrier-current (or closed circuit) station at UVA. In 1978, WUVA obtained an FCC license to operate WUVA(FM) on 92.7mHz, and WUVA’s mission necessarily expanded to serve Charlottesville, WUVA’s FCC-designated city of license. Later with the growth of the internet WUVA’s mission expanded to train students in digital media as well.  Our platform for that purpose is WUVA News, wuvanews.com. In 2017 WUVA Inc. made the next generational step with its sale of the 92.7 FCC license to build WUVA News into a 21st century fully functional digital media company. Today, following its historical radio roots, WUVA Inc. seeks to train students in the most cutting edge media skills demanded by the job market.WUVA Inc’s mission is to serve the needs of the University of Virginia community in Charlottesville, nationally, and worldwide.  Specifically, WUVA’s audience includes:University of Virginia studentsUniversity of Virginia faculty, staff, and administrationUVA alumni locally, nationally, and world-wideOur audience generally in Charlottesville and surrounding countiesWUVA also works closely with the Media Studies Department in the University of Virginia’s College of Arts & Sciences, and is a co-founder of the Center for Media and Citizenship at the University of Virginia (http://www.mediaandcitizenship.org/ ). tags Media & Publications, Contracted Independent Organization (CIO) members 34\n",
      "name Virginia Polo description Virginia Polo provides University of Virginia students with the opportunity to learn, play and compete in the sport of polo. The club is divided into three talent levels: Men and Women's Varsity, Club, and semester \"Bootcampers\". Whether you have never picked up a mallet before, or been playing since you could walk, there is a place at Virginia Polo for you. Our Men and Women's Varsity teams compete at the highest level of the sport and have more National titles to their names than any other sport at UVA with 22 total. Both the Men's and Women's teams won their respective intercollegiate national titles in 2022. The Club team offers students with less experience a chance to play fun chukkers and develop their polo skills. Like Varsity, Club practices weekly and plays against other teams in the area. Many students who began playing at UVA through our Bootcamp program will go on to play on the Club team! Our \"Bootcamp\" program is how most students begin playing at Virginia Polo. It is a semester-long, once a week program where students learn the rules of the game, how to ride for polo, and various other skills necessary to playing polo. No polo experience is necessary to join Bootcamp, and the first lesson is free! At all levels, Virginia Polo provides horses and necessary equipment. Visit our website to find out more!UVA Club Tournament 2020  tags Contracted Independent Organization (CIO), Social & Hobby, Club Sport members 22\n"
     ]
    },
    {
     "name": "stderr",
     "output_type": "stream",
     "text": [
      "380it [01:08,  5.12it/s]"
     ]
    },
    {
     "name": "stdout",
     "output_type": "stream",
     "text": [
      "name Charlottesville Community Church at the University of Virginia description Students gather to discuss the Bible and pray for one another. tags Religious & Spiritual, Contracted Independent Organization (CIO) members 11\n",
      "name Pulsar Observation Group at UVA description ?We are the Pulsar Observation Group at the University of Virginia.  Our undergraduate-run club was founded to time the signals from pulsars using radio astronomy data repositories and new observations scheduled through the Long Wavelength Array. Our goal is to introduce students of all backgrounds to astronomical research and teach skills that can be applied to a wide breadth of STEM domains. Through pulsar research, students learn how to use the command line, work through a remote desktop, and use analytical programs. We also aim to educate students on the history of pulsars and associated research topics, such as gravitational waves and radio astronomy.  tags Academic & Professional, Contracted Independent Organization (CIO), No Application or Interview Required members 25\n"
     ]
    },
    {
     "name": "stderr",
     "output_type": "stream",
     "text": [
      "382it [01:08,  5.93it/s]"
     ]
    },
    {
     "name": "stdout",
     "output_type": "stream",
     "text": [
      "name UVA Esports description ?Students focused on bringing together the community of gamers at UVA and fostering an environment for those passionate about Esports or gaming. We provide information and opportunities for all careers in esports (coach, analyst, manager, shout caster, graphic designer, game designer, social media manager, agent, etc.). We participate in intercollegiate competitions for scholarship money and in-game prizes, and tournaments within the club for players of all skill levels. You will develop real-life skills such as leadership, teamwork, problem-solving, creative thinking, decisiveness, adaptability, discipline, resilience, and communication. We hold various social events as well throughout the semester. tags No Application or Interview Required, Social & Hobby, Contracted Independent Organization (CIO) members 5\n",
      "name Students for Peace and Justice in Palestine description Students for Justice in Palestine is a diverse, student-led organization advocating for peace and justice in modern-day Israel/Palestine and around the world. We offer educational programming about Palestinian history and politics, run direct action campaigns, and hold social events for our members. tags Cultural & Ethnic, Contracted Independent Organization (CIO), Political & Advocacy, No Application or Interview Required members 9\n"
     ]
    },
    {
     "name": "stderr",
     "output_type": "stream",
     "text": [
      "384it [01:09,  5.80it/s]"
     ]
    },
    {
     "name": "stdout",
     "output_type": "stream",
     "text": [
      "name Virginia Sports and Entertainment Law Journal description VaSE is dedicated to selecting and publishing innovative, important scholarship in the field of sports and entertainment law. Membership on the Journal is open to law students and members are selected based on the annual Journal tryout, which happens each spring semester at the law school.   tags Academic & Professional, Contracted Independent Organization (CIO), Law School, Media & Publications members 1\n",
      "name AJAR: Improv Club at UVA description AJAR: Improv Club at UVA offers weekly improv comedy workshops to any UVA student interested in learning or developing their comedy skills. No experience is necessary and there is no audition required to join. Participating in AJAR is a low-barrier-to-entry, low-stress way to join and make connections within the UVA comedy scene. tags No Application or Interview Required, Visual & Performing Arts, Contracted Independent Organization (CIO) members 20\n"
     ]
    },
    {
     "name": "stderr",
     "output_type": "stream",
     "text": [
      "386it [01:09,  6.18it/s]"
     ]
    },
    {
     "name": "stdout",
     "output_type": "stream",
     "text": [
      "name Pre-Dental Society description The Pre-Dental Society serves as a resource for students interested in pursuing the field of dentistry. The Society helps students familiarize themselves with the dental school application processes, the requirements for admission, the AADSAS and ADEA programs, and guidelines of the DAT (dental admissions test). The Society invites and welcomes area speakers, organizes tours (dental schools, dental laboratories, private practices, free clinics, etc.), holds monthly meetings, distributes informational resources, and promotes opportunities for dental volunteering, local outreach opportunities, in-office observation, and networking for involved members. tags Contracted Independent Organization (CIO), Academic & Professional members 30\n",
      "name The Chinese Students and Scholars Society at UVA description The Chinese Students and Scholars Society (CSSS) at the University of Virginia consists mainly of UVA students and scholars from mainland China. CSSS is dedicated to providing support for the Chinese community with a strong focus on helping Chinese international students in transitioning to life at UVA. CSSS is also dedicated to hosting social, intellectual and cultural events for Chinese students and scholars at UVA as well as other interested members in Charlottesville community. CSSS was first registered as an Official Contracted Independent Organizations (CIO) of UVa in Feb. 1998.Although this organization has members who are University of Virginia students and may have, University employees associated or engaged in its activities and affairs, the organization is not a part of or an agency. It is a separate and independent organization, which is responsible for and manages its own activities and affairs. The University does not direct, supervise or control the organization and is not responsible for the organization’s contracts, acts or omissions.  tags Social & Hobby, Visual & Performing Arts, Cultural & Ethnic, Contracted Independent Organization (CIO) members 17\n"
     ]
    },
    {
     "name": "stderr",
     "output_type": "stream",
     "text": [
      "388it [01:10,  3.12it/s]"
     ]
    },
    {
     "name": "stdout",
     "output_type": "stream",
     "text": [
      "name The German Society description The German Society aims to bring together a body of students interested in the culture, history, politics and language of all German-speaking countries. This collection of individuals will create and sustain an open forum for the free exchange of ideas, opinions and understandings of the German Society's interests while promoting German cultural events to increase awareness in the University population.Although this organization has members who are University of Virginia students and may have University employees associated or engaged in its activities and affairs, the organization is not a part of or an agency of the University. It is a separate and independent organization, which is responsible for and manages its own activities and affairs. The University does not direct, supervise or control the organization and is not responsible for the organization’s contracts, acts or omissions. tags Contracted Independent Organization (CIO), Cultural & Ethnic, Social & Hobby members 19\n",
      "name The Lorax Society description The Lorax Society aims to conserve and protect existing trees on and around the University of Virginia from excessive and inexcusable removal through education and advocacy. Moreover, The Lorax Society will participate in the planting of additional trees on and off grounds. Finally we hope to facilitate the creation of tree identification placards around trees on campus. All of this is in response to a number of recent removal of trees on part of different grounds management departments, but also to the deplenished forest environment of the wider Charlottesville community–In the last two decades, more than 15% of Charlottesville's tree cover has been removed/destroyed and we wish to play our part in stopping this rapid decline. Thus, The Lorax Society’s purpose is to support sustainability efforts of the University of Virginia through improved protection of our ecological environment and the ecosystem services that trees provide.  tags No Application or Interview Required, Sustainability, Contracted Independent Organization (CIO), Political & Advocacy members 11\n"
     ]
    },
    {
     "name": "stderr",
     "output_type": "stream",
     "text": [
      "390it [01:10,  3.91it/s]"
     ]
    },
    {
     "name": "stdout",
     "output_type": "stream",
     "text": [
      "name Education Club description The Education Club strives to generate energy, passion, appreciation and focus around the education industry by presenting career pathways for business students interested in education, raising awareness of education issues among future business leaders and promoting mutually beneficial opportunities with the Curry School of Education, Albemarle/Charlottesville education organizations and the Darden/Curry Partnership for Leadership in Education (PLE). tags Contracted Independent Organization (CIO), Academic & Professional, Social & Hobby, Darden School, No Application or Interview Required members 6\n",
      "name Plant Club At UVA description The UVA Plant club is focused on connecting fellow plant enthusiasts across the UVA community, and giving them a place where they can show off their collections, give advice to others, create a centralized catalog, and more. At our meetings members are strongly encouraged to bring their plants, extra nursery pots, and cuttings they would like to give away. At our meetings we will also have a short care presentation or plant showcase presentation by one of our members. We are creating a central catalog of all unique plants that our members have, so please update us when you get a new plant! tags Social & Hobby, Sustainability, No Application or Interview Required members 2\n"
     ]
    },
    {
     "name": "stderr",
     "output_type": "stream",
     "text": [
      "393it [01:11,  6.24it/s]"
     ]
    },
    {
     "name": "stdout",
     "output_type": "stream",
     "text": [
      "name Simple Charity at UVA description Simple Charity is a nonprofit organization that helps students grow in solidarity with people experiencing poverty and injustice. We do this via our UVA chapter plus other chapters around the US. A movement of UVA students fighting poverty in Jesus’ name. We learn in community about standing in solidarity with people experiencing poverty, give and fundraise for trustworthy charities, and put faith into action by volunteering locally. tags No Application or Interview Required, Contracted Independent Organization (CIO) members 13\n",
      "name Sharaara at UVA description As the premier competitive Bollywood fusion team of women and non-binary folk on grounds, we represent UVA all across the nation at competitions during the spring. We are a group of passionate dancers spreading awareness of South Asian culture by performing on and off grounds throughout the entire school year. Styles we incorporate into our routines include: Bollywood, Hip Hop, Contemporary, Raas/garbha, Classical (Bharathnatyam, Kuchipudi, Kathak, etc), Bhangra, etc. We hold tryouts every fall and no prior experience is necessary to join!  tags Visual & Performing Arts, Social & Hobby, Club Sport, Cultural & Ethnic, Contracted Independent Organization (CIO) members 19\n"
     ]
    },
    {
     "name": "stderr",
     "output_type": "stream",
     "text": [
      "395it [01:12,  2.53it/s]"
     ]
    },
    {
     "name": "stdout",
     "output_type": "stream",
     "text": [
      "name Club Baseball at the University of Virginia description Club Baseball at the University of Virginia is a group of highly skilled baseball players that compete in the National Club Baseball Association (NCBA) Division 1 Mid-Atlantic Region. We practice in the evening, 2-3 times per week, and play games on the weekend. Our Fall season consists of about 8-12 games and our official Spring season consists of about 15-20 games. Tryouts are required to join the team. tags Contracted Independent Organization (CIO), Club Sport members 27\n",
      "name Circle K International description Circle K International is the world’s largest student-led collegiate service organization, with thousands of members on hundreds of campuses on five continents across the globe. The collegiate branch of the Kiwanis International family, CKI is committed to developing leaders by offering unique service, leadership and fellowship opportunities that not only change the world but change members’ lives. CKI members leave college with real-life networking and advocating skills AND service leadership. CKI members are dedicated to childhood development, environmental justice, serving those who are food insecure or lack housing and mental health. We also partner with UNICEF USA to raise awareness about the need of clean drinking water worldwide.  tags Public Service, Social & Hobby, Contracted Independent Organization (CIO) members 9\n"
     ]
    },
    {
     "name": "stderr",
     "output_type": "stream",
     "text": [
      "397it [01:13,  3.54it/s]"
     ]
    },
    {
     "name": "stdout",
     "output_type": "stream",
     "text": [
      "name Pride at Darden description Founded in 1991 as the Darden Gay Network, Pride at Darden (PAD) is a student club that is dedicated to promoting an inclusive, open, and welcoming environment for LGBTQ students; educating and improving awareness of LGBTQ issues within Darden; and creating and strengthening connections with diversity-friendly employers, other business schools, and other LGBTQ communities in the Charlottesville area. tags No Application or Interview Required, Contracted Independent Organization (CIO), Social & Hobby, Political & Advocacy, Darden School members 8\n",
      "name Ducks Unlimited chapter at the University of Virginia description Ducks Unlimited at the University of Virginia is a collegiate chapter of DU, a nonprofit organization 501 dedicated to the conservation of wetlands and associated upland habitats for waterfowl, other wildlife, and people. Each year the executive committee plans and orchestrates a banquet at King Family Vineyards with dinner, a live auction, a raffle, and more fun activities. Last fall, we raised over $49,000 from sponsors and from our event that went directly towards wetlands conservation.  tags Contracted Independent Organization (CIO), Social & Hobby, No Application or Interview Required members 22\n"
     ]
    },
    {
     "name": "stderr",
     "output_type": "stream",
     "text": [
      "399it [01:13,  4.34it/s]"
     ]
    },
    {
     "name": "stdout",
     "output_type": "stream",
     "text": [
      "name Women of Color at Virginia Law description The purpose of this organization is to provide social support to the diverse population of women at the law school; to promote the welfare of its members through educational, professional, cultural, social and community service programs; and to provide a forum for the discussion of issues affecting women of color in the law school and the University community as a whole. Women of Color seeks to achieve these goals through service projects and fundraisers benefiting the University community and the greater Charlottesville-Albemarle community; social gatherings to promote fun and friendship; and open communication and involvement with the administration, professors, other student organizations and the undergraduate community. tags Social & Hobby, Law School, Academic & Professional, Cultural & Ethnic, Contracted Independent Organization (CIO), No Application or Interview Required members 10\n",
      "name Marketing & General Management Club at Darden description Our mission is to empower and support Darden students pursuing careers in Marketing and General Management by facilitating educational events, opportunities for connection, and serving our peers. Specifically, we aim to:1. Strengthen the community of students interested in Marketing and General Management roles and career paths by facilitating opportunities for professional impact and growth.2. Educate members of the Darden community about the vast world of Marketing and General Management and the leadership opportunities these roles offer.3. Build relationships between and among students, faculty and staff, mentors, and prospective companies that improve recruiting outcomes and the recruiting experience for all stakeholders.4. Leverage our platform to better support international students and advance diversity, equity, and inclusion within the Marketing and General Management space.We will collaborate closely with the Career Center, Corporate Engagement, Faculty, OSA, current and potential employers, and other Darden clubs to achieve these goals. tags Academic & Professional, Contracted Independent Organization (CIO), Darden School, No Application or Interview Required members 3\n"
     ]
    },
    {
     "name": "stderr",
     "output_type": "stream",
     "text": [
      "402it [01:13,  6.90it/s]"
     ]
    },
    {
     "name": "stdout",
     "output_type": "stream",
     "text": [
      "name Office of Citizen Scholar Development description The Office of Citizen Scholar Development is the fellowships office of the University of Virginia. We use the process of applying for fellowships as a catalyst to further the personal, social, intellectual, and professional development of UVA students and alumni as citizens and scholars, people who are thoughtful, ethical, and mutually connected to their communities.Dedicated to fairness, equity, and accessibility, we provide students with accurate information; guide them through reflection and discernment; equip them to seek wise counsel and healthy mentoring relationships; challenge them to articulate their goals, to think, and then to act; and support them in competing at the highest level.To learn more about fellowships and undergraduate research opportunities visit the following webpages: https://citizenscholars.virginia.edu/fellowship-series https://citizenscholars.virginia.edu/awards-database tags Academic & Professional, Visual & Performing Arts, Leadership Development, Department, Schools, or Centers, Public Service, Internships and Employment, Department Group or Program, Honors and Awards members 0\n",
      "name The Medical Dancers description We are medical students that dance for fun! tags Contracted Independent Organization (CIO), Visual & Performing Arts, No Application or Interview Required members 8\n"
     ]
    },
    {
     "name": "stderr",
     "output_type": "stream",
     "text": [
      "404it [01:14,  7.01it/s]"
     ]
    },
    {
     "name": "stdout",
     "output_type": "stream",
     "text": [
      "name University of Virginia School of Medicine Mulholland Society description Student Government for School of Medicine tags Administrative Unit, Academic & Professional, Special Status Organization (SSO), Public Service members 13\n",
      "name Rotaract Club description Rotaract Club empowers students at UVA to actively contribute internationally and to the local Charlottesville community In the club students also maintain professional networks in local Rotary Clubs. Members are encouraged to seek new NGOs to partner with and to start their own projects within the organization to suit their interests. tags Social & Hobby, Public Service, Contracted Independent Organization (CIO), Academic & Professional members 37\n"
     ]
    },
    {
     "name": "stderr",
     "output_type": "stream",
     "text": [
      "406it [01:14,  7.17it/s]"
     ]
    },
    {
     "name": "stdout",
     "output_type": "stream",
     "text": [
      "name University Advancement description Office of Engagement, University Advancement tags Department, Schools, or Centers members 0\n",
      "name Axiom at UVA description We're a diverse community of students seeking to investigate the claims of the Bible and what it means to follow Jesus in our modern world. Whether you're a Christian looking to grow in your faith or someone just interested in checking out what Christians believe, we invite you to join us! This semester we're offering small group Bible Studies with our small groups, Axiom and 1Eighty, an investigatory course on the foundations of Christianity and mentorship on career advice, working in the tech industry, adjusting to college as a first-gen student and more. Check out our website and social media to find out more! tags Contracted Independent Organization (CIO), No Application or Interview Required, Religious and Spiritual members 12\n"
     ]
    },
    {
     "name": "stderr",
     "output_type": "stream",
     "text": [
      "408it [01:14,  6.73it/s]"
     ]
    },
    {
     "name": "stdout",
     "output_type": "stream",
     "text": [
      "name Consulting Club at Darden description The Consulting Club at Darden abides by its mission of educating its membership about the consulting industry, connecting them with consulting firms and companies looking to fill internal strategy positions for recruiting purposes, and preparing its members for success during the networking and interview process. tags Darden School, Academic & Professional, Contracted Independent Organization (CIO), No Application or Interview Required members 7\n",
      "name Virginia Squash Club description Virginia club squash allows experienced players to continue playing squash and beginners to learn the game. We offer opportunities for coaching, round-robin play, and team matches. Players are able to participate as much or as little as their schedule allows - there are no requirements or expectations. Additionally, club squash now offers students the opportunity to join a competitive team that competes in tournaments and ultimately CSA Nationals. Please reach out for more information. tags Contracted Independent Organization (CIO), Club Sport, Social & Hobby members 25\n"
     ]
    },
    {
     "name": "stderr",
     "output_type": "stream",
     "text": [
      "410it [01:15,  6.66it/s]"
     ]
    },
    {
     "name": "stdout",
     "output_type": "stream",
     "text": [
      "name Nursing Students Without Borders description Nursing Students Without Borders (NSWB) empowers underserved communities through health education, the creation of networks to access health care resources, and the distribution of material donations, all while expanding the global health perspective of nursing students. Once a year, we send students to El Salvador to manage a clinic, promote the importance of healthcare, and extend support to the Salvadoran community. We are also involved in our local Charlottesville community and hold educational events about health and wellness for everyone from the homeless population to the local children. tags Public Service, Social & Hobby, Contracted Independent Organization (CIO), Cultural & Ethnic members 46\n",
      "name Virginia Alpine Ski and Snowboard Team description VASST is a club sport that serves to provide male and female students with the opportunity to ski and snowboard in either a racing or free-riding environment twice a week at the nearby Wintergreen Ski resort, as well as the opportunity to ski and snowboard competitively at various mountains across the southeast. Skiers and snowboarders can be of all ability levels. Members may simply come to participate in the winter snow sports, or they may come to train and compete as racers in the Southeast Conference of the United States Collegiate Ski and Snowboard Association. Skiers and boarders compete in Slalom, Giant Slalom, Slopestyle, Rail Jam, and Boardercross or Skiercross, respectively. Instruction and training camps are offered in an effort maintain our status as one of the top teams in the region. Team trips are sponsored to the Northeast over Winter Break for race training and freeskiing opportunties, and a trip out West for freeskiing occurs annually over Spring Break.  tags Contracted Independent Organization (CIO), Club Sport, No Application or Interview Required members 410\n"
     ]
    },
    {
     "name": "stderr",
     "output_type": "stream",
     "text": [
      "413it [01:15,  7.69it/s]"
     ]
    },
    {
     "name": "stdout",
     "output_type": "stream",
     "text": [
      "name Virginia Policy Review description The Virginia Policy Review strives to publish work that will impact the wider policy debate. Our mission is to do this through a variety of journalistic mediums including research, opinion pieces, interviews, and podcasts. We value our responsibility to promote the work produced by students at UVA alongside professionals and policymakers. Founded in the fall of 2009, VPR has been curating meaningful insights on modern policy issues for over a decade. tags Contracted Independent Organization (CIO), Academic & Professional, Media & Publications members 14\n",
      "name Common Law Grounds description The purpose of Common Law Grounds is to encourage discussion and debate among students and faculty across the ideological spectrum with the goal of identifying and articulating areas of agreement about core values and practices, isolating points of substantive disagreement while also looking for common ground, and fostering a culture of open and civil dialogue about legal and political issues. We pursue these goals not under the naïve impression that compromise on important questions of policy is always possible or even desirable. Rather, we do so out of a conviction that for a constitutional democracy to survive and thrive, citizens—especially lawyer-citizens—must remain as attuned to what they have in common as they are to what divides them. Common Law Grounds hopes to expand beyond the University of Virginia School of Law and reach communities across the country. tags No Application or Interview Required, Contracted Independent Organization (CIO), Law School members 14\n"
     ]
    },
    {
     "name": "stderr",
     "output_type": "stream",
     "text": [
      "415it [01:15,  6.89it/s]"
     ]
    },
    {
     "name": "stdout",
     "output_type": "stream",
     "text": [
      "name Chi Psi description FSL tags Fraternity or Sorority, Public Service, Social & Hobby members 0\n",
      "name Beach Volleyball Club description The Beach Volleyball Club at UVA is established for the expressed purpose of:Allowing people who enjoy playing volleyball, regardless of skill-level, to play volleyball weekly in an environment which has friendly competition. The environment allows anyone interested in playing to learn the sport. tags Social & Hobby, Contracted Independent Organization (CIO), No Application or Interview Required members 137\n"
     ]
    },
    {
     "name": "stderr",
     "output_type": "stream",
     "text": [
      "417it [01:15,  6.99it/s]"
     ]
    },
    {
     "name": "stdout",
     "output_type": "stream",
     "text": [
      "name Ballroom Dance Club at the University of Virginia description The Ballroom Dance Club at the University of Virginia is a contracted independent organization (CIO) and a club sport at UVA. The club seeks to promote ballroom dancing on and off Grounds, socially and competitively. Membership is open to all students, faculty, and staff of the University, regardless of prior dance experience. The Ballroom Dance Club at UVA offers lessons in ballroom dancing ranging from beginner lessons to advanced technique. Our primary instructor, Lee Santos, is a professional who has won multiple national ballroom dancing championships. Throughout the year, students can learn over 16 dances, in standard, Latin, rhythm, and smooth styles. The club hosts a series of social dances throughout the year, travels to five or more DanceSport competitions to face off against dancers from other schools across the country, and holds a showcase of dancing with student-generated and performed routines. We are always looking for new members to join us!  tags No Application or Interview Required, Contracted Independent Organization (CIO), Club Sport, Visual & Performing Arts, Social & Hobby members 11\n",
      "name Global Markets Group description The Global Markets Group is a student-run investment fund at the University of Virginia. We manage a $20,000 portfolio of securities across asset classes and geographies. Through member training and workshops, we expose our members to the skills they need for successful careers in finance and investing.We create a collaborative environment focused on professional and personal development. Our culture of mentorship helps members reach their full potential, as students and as investors. tags McIntire School of Commerce, Contracted Independent Organization (CIO), Academic & Professional members 43\n"
     ]
    },
    {
     "name": "stderr",
     "output_type": "stream",
     "text": [
      "419it [01:16,  6.80it/s]"
     ]
    },
    {
     "name": "stdout",
     "output_type": "stream",
     "text": [
      "name Sigma Alpha Mu (Beta Psi Chapter) description FSL tags Public Service, Social & Hobby, Political & Advocacy, Fraternity or Sorority members 1\n",
      "name Virginia Poker Club description Virginia Poker Club is UVA's premier hub for playing and learning about the strategy card game Poker. We meet weekly on Tuesdays from 7:00pm to 9:00pm in ***ROOM TBD***. For our standard meetings, we play poker the entire time, but on occasion will host special events like talks from guest speakers or competitions sponsored by quantitative finance firms. Every member is allocated a set amount of points per month that acts as their bankroll, and members' profit and loss is tracked over the course of the semester. The top three members each month are featured on our club Instagram (@virginiapokerclub), and the top members of the year are nominated to UVA's Intercollegiate Poker League team. tags No Application or Interview Required, Social & Hobby, Contracted Independent Organization (CIO), Academic & Professional members 66\n"
     ]
    },
    {
     "name": "stderr",
     "output_type": "stream",
     "text": [
      "421it [01:16,  6.32it/s]"
     ]
    },
    {
     "name": "stdout",
     "output_type": "stream",
     "text": [
      "name Biology Outreach and Inclusion Program at UVA description The Biology Outreach and Inclusion Program is an organized outreach effort between graduate students, post-docs, staff, and faculty of the biology department and other associated departments:?      To establish an enduring outreach relationship between the biology department and schools in our local communities. ?      To help nurture an excitement for inquiry-based science, as well as an understanding of all the different things that it means to be a “scientist.”?      To serve public schools located in the local Charlottesville and Central Virginia area.?      To focus specifically on outreach to elementary, middle, and high school students, as well as community members who are not involved in academia.?      To create an outreach curriculum that will be easy to conduct and pass on to future generations of biology volunteers.  ?      To build infrastructure to support ongoing outreach projects, as well provide the opportunity for students/faculty to develop their own outreach projects. tags No Application or Interview Required, Contracted Independent Organization (CIO), Academic & Professional members 24\n",
      "name American Medical Student Association at the University of Virginia (UVA) description AMSA at the University of Virginia (UVA) is comprised of premeds dedicated to helping each other develop the knowledge and skills necessary to become great physicians. Through AMSA, you will have the opportunity to attain valuable clinical experience, knowledge of the field of medicine, leadership positions, community service opportunities, and more! We offer a wide variety of events, including workshops, panels, and speakers to help facilitate your journey into your health career. Additionally, AMSA at UVA is a great way to find a support network who understand what it's like to be pre-health. Bring your enthusiasm and your love for medicine, and we can't wait to meet you!AMSA is a national organization, and local chapters are found at almost all major colleges across the country. In fact, AMSA is the largest group of premeds and medical students in the nation. Although this organization has members who are University of Virginia students and may have University employees associated or engaged in its activities and affairs, the organization is not a part of or an agency of the University. It is a separate and independent organization which is responsible for and manages its own activities and affairs. The University does not direct, supervise or control the organization and is not responsible for the organization’s contracts, acts or omissions. tags Social & Hobby, Public Service, Academic & Professional, Contracted Independent Organization (CIO), No Application or Interview Required members 65\n"
     ]
    },
    {
     "name": "stderr",
     "output_type": "stream",
     "text": [
      "423it [01:16,  7.15it/s]"
     ]
    },
    {
     "name": "stdout",
     "output_type": "stream",
     "text": [
      "name Latinx Student Network at McIntire description The Latinx Student Network at McIntire is a commerce-related undergraduate student organization with the goal to recruit, support, and develop current and prospective Latinx/Hispanic commerce students. LSN facilitates a Latinx business community by working alongside McIntire faculty/staff,  professional sponsors, and other student organizations to provide resources to our members. Beyond facilitating the application process for prospective McIntire students, we also seek to cultivate a close-knit Hispanic/Latinx student body through bonding events that celebrate our cultural background. tags Cultural & Ethnic, Academic & Professional, Contracted Independent Organization (CIO), Social & Hobby, McIntire School of Commerce, No Application or Interview Required members 41\n",
      "name Pi Beta Phi (Virginia Epsilon Chapter) description FSL tags Social & Hobby, Political & Advocacy, Public Service, Fraternity or Sorority members 4\n"
     ]
    },
    {
     "name": "stderr",
     "output_type": "stream",
     "text": [
      "425it [01:17,  7.38it/s]"
     ]
    },
    {
     "name": "stdout",
     "output_type": "stream",
     "text": [
      "name The Platypus Affiliated Society at UVA description The Platypus Affiliated Society at UVA officially formed in February, 2022. Its originates from the international Platypus Affiliated Society, which was founded in December 2006. It organizes reading groups, public fora, research and journalism focused on problems and tasks inherited from the Old, New, and post-political Left, and works towards the possibilities of emancipatory politics today. A student-led initiative at UVA sought to participate in its education and debate of leftists history and ideas, hence the founding of its chapter at UVA (us). The Platypus Affiliated Society at UVA is established for the expressed purpose of education concerning the history of the international liberal and socialist lefts. We intend to clarify possibilities for liberalism and the left in future and promote an energetic environment for debate and critique of liberalism and the left in the present. We will foster the next generation of liberal and leftist thinkers and critics as well as provide a safe space for discussion of views across the political spectrum, regardless of popularity.Meetings consist of free-form discussion of syllabus readings for the week and the opportunity to offer questions on related topics.Please join our listserv mailing list here ( https://lists.virginia.edu/sympa/subscribe/platypus ) to keep up with events.We encourage you to join our Discord server as well! ( discord.gg/25gANw3d4c ) tags Contracted Independent Organization (CIO), Academic & Professional, Political & Advocacy, Social & Hobby, No Application or Interview Required members 12\n",
      "name HRL SR Bonnycastle-Hancock description HRL tags Residence Hall, Administrative Unit members 0\n"
     ]
    },
    {
     "name": "stderr",
     "output_type": "stream",
     "text": [
      "427it [01:17,  6.97it/s]"
     ]
    },
    {
     "name": "stdout",
     "output_type": "stream",
     "text": [
      "name Office of Engagement description Office of Engagement tags Administrative Unit, Department, Schools, or Centers members 0\n",
      "name The Philosophy Club at UVA description The Philosophy Club at UVA has formed to achieve three main goals: to explore new ideas, create a common forum for those interested in philosophizing, and to encourage a stronger connection between students and the faculty in the Philosophy Department. In this organization, we gather four times a semester to explore one topic each meeting using the tools that we acquire from philosophical studies. We also host guest speakers at other events to have students engage with an expert in real time. Additionally, we conduct interviews of willing philosophy faculty to explore certain issues at a greater depth than it otherwise possible. All of this will ultimately help promote the study of philosophy.  tags Academic & Professional, Contracted Independent Organization (CIO) members 2\n"
     ]
    },
    {
     "name": "stderr",
     "output_type": "stream",
     "text": [
      "430it [01:17,  9.05it/s]"
     ]
    },
    {
     "name": "stdout",
     "output_type": "stream",
     "text": [
      "name Building Goodness in April description Building Goodness in April (BGiA) repairs and rehabilitates the homes owned by low income, elderly and disable persons in the City of Charlottesville, Albemarle County, and the surrounding area that need repair and in which the owners are unable to affect such repairs themselves. These repairs shall be affected at no cost to the homeowners. Other community projects in support of the BGiA mission will be considered as well (i.e. repair of community group facilities) tags Darden School, Public Service, Contracted Independent Organization (CIO), No Application or Interview Required members 11\n",
      "name Gamma Phi Beta (Zeta Beta Chapter) description FSL tags Fraternity or Sorority, Inter-Sorority Council (ISC), Public Service, Social & Hobby, Political & Advocacy members 1\n"
     ]
    },
    {
     "name": "stderr",
     "output_type": "stream",
     "text": [
      "432it [01:17,  8.91it/s]"
     ]
    },
    {
     "name": "stdout",
     "output_type": "stream",
     "text": [
      "name Barristers United of the University of Virginia description Barristers United organizes weekly recreational pickup soccer games and represents UVA Law School in the Soccer Organization of Charlottesville-Albermarle (SOCA). Our mission is to offer an outlet outside of the classroom to contribute to the overall health and well-being of the law school student body. In addition to organizing weekly pickup sessions, we field a competitive team in the SOCA unrestricted league each semester. Our teams have won several championships in the past. Barristers additionally strives to allow students to appreciate the professional side of the sport, historically organizing social events to watch televised games for both the U.S. Men's and Women's national teams. tags Social & Hobby, Law School, Contracted Independent Organization (CIO), No Application or Interview Required, Health and Wellness members 13\n",
      "name The Kinesiology Club at UVA description The Kinesiology Club welcomes students from all majors to learn more about the major, career path, and opportunities within kinesiology. We host events for club members like exam study breaks, ankle taping labs, and lectures by professionals in the field. We also do fun things like yoga or cycle classes!  tags Social & Hobby, Contracted Independent Organization (CIO), Academic & Professional members 19\n"
     ]
    },
    {
     "name": "stderr",
     "output_type": "stream",
     "text": [
      "434it [01:18,  7.28it/s]"
     ]
    },
    {
     "name": "stdout",
     "output_type": "stream",
     "text": [
      "name Lean On Me at UVA description Lean On Me is a student-led text line for anonymous, non-crisis mental health support. We are a group of about 22 students who are dedicated to uplifting fellow students and improving the mental health of our peers, as well as de-stigmatizing regular discourse around mental health. We have a hotline number (434-300-3434) to which users may text in from their own device and engage in a conversation with one of our peer Supporters. All of our Supporters have completed a thorough training process designed to give them the tools they need to chat with fellow students who may be going through a tough time, or who need advice. While these training tools are not intended to address crisis situations or emergencies, we collaborate with a national hotline called Samaritans, to which we are able to seamlessly transfer students if a crisis is recognized or if it is deemed necessary. We have monthly meetings in which we refresh our skills in peer counseling, discuss topics that may arise when talking to users, and go over previous text conversations to continuously improve the quality of support we provide. Overall our mission is to foster a welcoming, nonjudgmental environment within our group and UVA in general as well as to make mental health support more accessible to students on an everyday basis. tags Peer Mentors, Public Service, Contracted Independent Organization (CIO) members 16\n",
      "name Turnaround & Restructuring Club description Build and develop a network of students and alumni professionals with common interest in the turnaround and restructuring industry and create an informal environment to promote mentorship and alliances between T&RC members. tags Leadership Development, Darden School, Contracted Independent Organization (CIO), Academic & Professional, No Application or Interview Required members 3\n"
     ]
    },
    {
     "name": "stderr",
     "output_type": "stream",
     "text": [
      "436it [01:18,  7.13it/s]"
     ]
    },
    {
     "name": "stdout",
     "output_type": "stream",
     "text": [
      "name Nursing Student Council 2024 description AboutThe Student Council of the School of Nursing is composed of officers of the Student Association, the class presidents, a chairperson elected by the student body, and is responsible for all student functions within the School of Nursing. tags Academic & Professional, Administrative Unit, Contracted Independent Organization (CIO), Special Status Organization (SSO), Public Service, No Application or Interview Required members 9\n",
      "name Diversity in Nursing for a Better Community description The purpose of Diversity in Nursing for a Better Community (DNBC) is to promote the importance of creating a diverse and inclusive environment in both the School of Nursing and the nursing profession and unite nursing students by building camaraderie and teamwork through community service and humanitarian efforts abroad.                                                             tags Contracted Independent Organization (CIO), Academic & Professional, Cultural & Ethnic, Public Service, No Application or Interview Required members 11\n"
     ]
    },
    {
     "name": "stderr",
     "output_type": "stream",
     "text": [
      "438it [01:20,  2.15it/s]"
     ]
    },
    {
     "name": "stdout",
     "output_type": "stream",
     "text": [
      "name Child Advocacy Research & Education description CARE brings together law students interested in taking a legal approach to issues affecting children, including education, juvenile justice, foster care and immigration. Through partnerships with local and national children’s law and advocacy organizations and CARE-generated projects, CARE members assist in the direct representation of children and strive for broader systemic change through policy research and advocacy. tags Political & Advocacy, Public Service, Law School, Contracted Independent Organization (CIO), Academic & Professional, No Application or Interview Required members 14\n",
      "name National Security, Intelligence, and Defense Club at UVA description NSID is established for the expressed purpose of:Helping members learn about the different aspects of the Intelligence Community/National Security Branches of the U.S. Government and possible career paths in public serviceProvide an area where people with similar interests (e.g. National Security) can gain an understanding of and debate pressing security issues Hosting different national security themed crisis simulationsHost guest speakers–ranging from professors to government officials–to share their expertise on the problems facing the United States and its interests tags Public Service, Political & Advocacy, Academic & Professional, Contracted Independent Organization (CIO) members 113\n"
     ]
    },
    {
     "name": "stderr",
     "output_type": "stream",
     "text": [
      "440it [01:20,  3.39it/s]"
     ]
    },
    {
     "name": "stdout",
     "output_type": "stream",
     "text": [
      "name Sigma Kappa (Theta Zeta Chapter) description FSL tags Fraternity or Sorority, Political & Advocacy, Social & Hobby, Public Service members 37\n",
      "name Darden African Business Organization description DABO is the student club that represents Africa's interest at Darden. The primary goal of the Darden African Business Organization (DABO) is to contribute to the learning environment, diversity and global leadership initiative at Darden by providing students and faculty an opportunity to learn more about African businesses, economics, cultures and politics. tags Black Presidents Council, No Application or Interview Required, Darden School, Cultural & Ethnic, Contracted Independent Organization (CIO) members 1\n"
     ]
    },
    {
     "name": "stderr",
     "output_type": "stream",
     "text": [
      "442it [01:20,  4.63it/s]"
     ]
    },
    {
     "name": "stdout",
     "output_type": "stream",
     "text": [
      "name Queer Student Union description QSU organizes its activities at the University around three central pillars. By educating ourselves and others about queer identity, we are cultivating an empathetic community that understands and respects us. By building community through social activities and special events, we are bringing LGBTQ students together for friendship and solidarity. And by pursuing activism on behalf of UVA’s queer community, we are helping to ensure that we have a united voice with which to work toward a more accepting University. From meetings to social events to advocacy projects, everything we do falls under one of these three categories. QSU values and protects the privacy of its members. No photos or information about anyone involved in QSU will be shared without explicit consent. tags Cultural & Ethnic, Academic & Professional, Contracted Independent Organization (CIO), Public Service, Social & Hobby, Political & Advocacy members 50\n",
      "name Women in Cybersecurity at UVA description The Women in Cybersecurity Chapter is UVA’s first cybersecurity focused community that specializes in supporting women and non-binary individuals.We aim to bring the resources of the national organization WiCyS to the UVA community and balance sharing technical skills and a social community.  tags Social & Hobby, Academic & Professional, Contracted Independent Organization (CIO) members 7\n"
     ]
    },
    {
     "name": "stderr",
     "output_type": "stream",
     "text": [
      "444it [01:21,  5.69it/s]"
     ]
    },
    {
     "name": "stdout",
     "output_type": "stream",
     "text": [
      "name The English Student Association description The English Student Association at UVA seeks to foster a sense of community among students of English, provide students of English with events to attend that connect them to the department and other English students, and circulate information about the department and its programs.  tags Academic & Professional, Contracted Independent Organization (CIO), Social & Hobby, No Application or Interview Required members 14\n",
      "name One For The World Darden description One For The World Darden (OFTW DARDEN) seeks to change charitable giving in order to end extreme poverty. To this end, One for the World Darden has a triple mandate:1.       Advocate for those living in extreme poverty by providing programming and content that raises awareness about the problem of extreme poverty.  2.       Educate students about a possible solution to extreme poverty called effective giving. 3.       Motivate students to consider pledging at least 1% of their post-grad income to a portfolio of highly effective charities serving those living in extreme poverty. tags Contracted Independent Organization (CIO), Darden School members 0\n"
     ]
    },
    {
     "name": "stderr",
     "output_type": "stream",
     "text": [
      "446it [01:21,  5.23it/s]"
     ]
    },
    {
     "name": "stdout",
     "output_type": "stream",
     "text": [
      "name Alpha Phi Omega - Theta Chapter description Alpha Phi Omega is a gender-inclusive service fraternity that provides community service to the Charlottesville area and beyond. We put an emphasis on prioritizing the needs of all of our sites to ensure we can provide the best service possible, and we encourage all members to both find meaning with our several service opportunities like Midweeks (~1 hour long service projects during the week) and Saturday Projects (~3 hour long service projects on Saturdays), and to put in the effort to actually get to know all of our various sites. At the same time, we also have an active social aspect of our chapter as we encourage all members to get to know one another and bond through several social events throughout the semester. Members also have numerous opportunities to work on leadership skills, both within the organization and during our service projects, as we believe leading is one of the best ways to provide the best service. So, if you're looking for an organization that is all about doing meaning service alongside people who enjoy doing community service just as much, APO is for you! tags Contracted Independent Organization (CIO), Public Service members 31\n",
      "name Inter-Fraternity Council Chapters description FSL tags Fraternity or Sorority, Administrative Unit members 0\n"
     ]
    },
    {
     "name": "stderr",
     "output_type": "stream",
     "text": [
      "447it [01:21,  5.61it/s]"
     ]
    },
    {
     "name": "stdout",
     "output_type": "stream",
     "text": [
      "name Virginia Glee Club description The Virginia Glee Club is the oldest musical organization at the University of Virginia. Although founded in 1871, its goals remain the same as they have been for fifteen decades: to foster lifelong friendships in a spirit of brotherhood, and to share the beauty and perfection of choral music through concerts that meet the highest standards of excellence. We perform about 8 times a year, with our main events including our Annual Christmas Concert, Finals Concert, and our Tour (domestic or international). The Virginia Glee Club is a democratic organization. We have a constitution: the Virginia Glee Club Bylaws. There are two decision-making bodies of the Virginia Glee Club: the Executive Council and the Board. The members of both bodies, with the exception of the director, who sits on the Executive Council, are elected by the club members. tags Contracted Independent Organization (CIO), Visual & Performing Arts members 9\n"
     ]
    },
    {
     "name": "stderr",
     "output_type": "stream",
     "text": [
      "449it [01:22,  5.62it/s]"
     ]
    },
    {
     "name": "stdout",
     "output_type": "stream",
     "text": [
      "name Club Powerlifting at UVA description Powerlifting club is a team of lifters who compete in the sport of powerlifting. We train together to support and encourage each other, provide educational resources on powerlifting at all levels, and offer competition support through open meets, state meets, and national meets. tags Contracted Independent Organization (CIO), Club Sport, No Application or Interview Required members 15\n",
      "name Private Equity at UVA description Our organization distinguishes itself from other organizations due to several reasons, one of them being its sole focus on Private Equity. We are more inclusive of UVA students. Commerce-related organizations at the University tend to impose several requirements for membership approval, deterring people who have no prior business knowledge from applying. Private Equity at UVA is a club to help students engage with Private Equity and determine whether it is a path that fits with their ambitions. In joining, students will build meaningful relationships with UVA faculty, which will further help prepare students to take on the recruiting process. tags McIntire School of Commerce members 1\n"
     ]
    },
    {
     "name": "stderr",
     "output_type": "stream",
     "text": [
      "451it [01:22,  6.33it/s]"
     ]
    },
    {
     "name": "stdout",
     "output_type": "stream",
     "text": [
      "name Active Minds at UVA description Active Minds is established for the expressed purpose ofIncreasing the University of Virginia students’, faculty’s, and staff’s awareness of:issues surrounding mental healthsymptoms related to mental health disordersmental health resources available both on campus and in the surrounding communityReducing stigma toward people living with mental illness so that students will feel more comfortable seeking help when it is needed and openly discussing mental-health related issuesPromoting a general awareness of comprehensive “self health” by emphasizing techniques that care for the body as well as the mind tags Contracted Independent Organization (CIO), Public Service, Social & Hobby, Political & Advocacy, No Application or Interview Required members 148\n",
      "name Taiwanese Student Association description The Taiwanese Student Association at UVA is dedicated to promoting Taiwanese culture and creating a social platform for the community to learn and participate in the rich cultural heritage of Taiwan. Membership is open to all students, regardless of cultural background, and any who possess an interest in Taiwanese culture are encouraged to join. tags Social & Hobby, Cultural & Ethnic, Contracted Independent Organization (CIO) members 19\n"
     ]
    },
    {
     "name": "stderr",
     "output_type": "stream",
     "text": [
      "453it [01:22,  7.52it/s]"
     ]
    },
    {
     "name": "stdout",
     "output_type": "stream",
     "text": [
      "name American Constitution Society description The American Constitution Society for Law and Policy is a group of students concerned about the pervasive conservative orthodoxy in American law and politics. We believe deeply in the importance of law as the mechanism which governs the relationships between and among the individuals and institutions that form our society, and we recognize the direct relationship between legal theory and the broader political debate about the kind of society in which we live. tags No Application or Interview Required, Political & Advocacy, Public Service, Law School, Contracted Independent Organization (CIO), Academic & Professional members 8\n",
      "name Community Honor Fund description The Community Honor Fund seeks to financially empower University of Virginia  employees, University of Virginia-affiliated employees, and other persons in the  Charlottesville community through the student-led provision of short term affordable  capital and personalized financial education programs. As an organization we have three main objectives. First, we aim to strengthen the financial position of Charlottesville workers through a personalized, student-led approach. Second, we seek to leverage  University resources, student flexibility, and a culture of trust to offer competitive, short  term financial solutions. Finally, we aim to foster University wide student/client  relationships to build a stronger community and relieve asset poverty. Ultimately, we  want to disrupt the sizable predatory lending industry in Charlottesville by providing a  more affordable alternative to traditional low income lenders, such as payday and title  lenders.  tags Public Service, Contracted Independent Organization (CIO), Academic & Professional members 15\n"
     ]
    },
    {
     "name": "stderr",
     "output_type": "stream",
     "text": [
      "455it [01:22,  7.42it/s]"
     ]
    },
    {
     "name": "stdout",
     "output_type": "stream",
     "text": [
      "name Community Consultants of Darden description Community Consultants of Darden (CCoD) is an incorporated not-for-profit organization founded in 1956. CCoD provides marketing, operational, and strategic evaluation and planning services to visionary non-profit organizations and small business in the Charlottesville community. CCoD delivers a unique and valuable experience for both students and clients, and furthers the Darden brand in the community. tags Contracted Independent Organization (CIO), Darden School, Public Service members 11\n",
      "name La Unidad Latina, Lambda Upsilon Lambda Fraternity, Inc. (Alpha Epsilon Chapter) description FSL tags Cultural & Ethnic, Political & Advocacy, Fraternity or Sorority, Multicultural Greek Council (MGC) members 3\n"
     ]
    },
    {
     "name": "stderr",
     "output_type": "stream",
     "text": [
      "456it [01:23,  7.32it/s]"
     ]
    },
    {
     "name": "stdout",
     "output_type": "stream",
     "text": [
      "name Virginia Motorsports description Virginia Motorsports is a group of mostly undergraduate students who are passionate about design in the context of automotive engineering and racing. Members of the organization have opportunities to learn about and acquire skills relating to the design, manufacture, and operation of vehicles. Each year we design, build, and race an open-wheel, off-road buggy as part of the Baja SAE competition, along with an on-road Formula car as a part of the Formula SAE competition. The year culminates in multiple Baja SAE and Formula SAE competitions across the country. Additionally, members of the team work on several interesting side projects through a multitude of different committees throughout the year that allow for an immersive hands-on experience for everyone, even those not interested in racing.  tags Social & Hobby, Contracted Independent Organization (CIO), Academic & Professional, Media & Publications members 26\n"
     ]
    },
    {
     "name": "stderr",
     "output_type": "stream",
     "text": [
      "457it [01:23,  6.24it/s]"
     ]
    },
    {
     "name": "stdout",
     "output_type": "stream",
     "text": [
      "name Bice House description HRL tags Residence Hall members 0\n"
     ]
    },
    {
     "name": "stderr",
     "output_type": "stream",
     "text": [
      "459it [01:23,  5.90it/s]"
     ]
    },
    {
     "name": "stdout",
     "output_type": "stream",
     "text": [
      "name Hispanic American Network at Darden description HAND’s objective is to create, maintain, and strengthen ties with Hispanic American alumni; support career development opportunities for its members; and partner with the greater Darden community to promote a forum for inclusion, exploration, and diversity within Darden. tags Cultural & Ethnic, Academic & Professional, Darden School members 0\n",
      "name Alzheimer's Foundation of America at the University of Virginia description If you are interested in meaningful support and want to provoke CHANGE for the state and culture of Alzheimer’s Disease in the United States, join UVA’s first chapter of the Alzheimer’s Foundation of America (AFA at UVA)! Unlike other organizations centered around disease, AFA is about supporting the forgotten victims of Alzheimer’s: the affected friends and families. As members, you will take an active role in leading discussion and constructing projects that will reach not only caregivers and healthcare providers, but also legislators, leaders in medicine, and beyond. tags Contracted Independent Organization (CIO), Public Service, No Application or Interview Required members 13\n"
     ]
    },
    {
     "name": "stderr",
     "output_type": "stream",
     "text": [
      "461it [01:23,  6.28it/s]"
     ]
    },
    {
     "name": "stdout",
     "output_type": "stream",
     "text": [
      "name The Barbell Club at UVA description The Barbell Club at UVA is the home to all lifting and fitness lovers, including powerlifters, bodybuilders, weightlifters, and any/all gym goers. We have monthly educational and social events as well as support systems for our members that choose to compete in strength sport. Any level of knowledge, interest, and training experience [or lack thereof:)] is welcome! tags Contracted Independent Organization (CIO), Social & Hobby members 47\n",
      "name Habitat for Humanity Club at the University of Virginia description ﻿The Habitat for Humanity Club at the University of Virginia (HUVA) partners with Habitat for Humanity of Greater Charlottesville (HFHGC) by providing volunteers for build sites and the ReStore, supporting their mission through education and advocacy, and raising money to fund local projects, all of which directly support the dreams of local families seeking to become first-time homeowners.HFHGC is a local affiliate of Habitat for Humanity (HFH), a global nonprofit housing organization working in local communities across all fifty states in the United States of America and in approximately seventy countries around the world. HFH’s vision is of a world where everyone has a decent place to live. HFH works toward this vision by building strength, stability and self-reliance in partnership with families in need of decent and affordable housing. HFH homeowners help build their own homes alongside volunteers and pay an affordable mortgage.HUVA has been established in accordance with the Agreement for a Contracted Independent Organization (CIO), which is updated annually by the University of Virginia’s Student Council, to assist HFHGC to carry out the mission, vision, and principles of HFH. tags Social & Hobby, Political & Advocacy, Public Service, Contracted Independent Organization (CIO), No Application or Interview Required members 101\n"
     ]
    },
    {
     "name": "stderr",
     "output_type": "stream",
     "text": [
      "464it [01:24,  7.26it/s]"
     ]
    },
    {
     "name": "stdout",
     "output_type": "stream",
     "text": [
      "name Tennis Club at the University of Virginia description Virginia Club Tennis brings together advanced and intermediate players at the University of Virginia who wish to play tennis actively at a competitive level. Practices are held several days per week and Club Tennis routinely competes against other schools from around the country by traveling to tournaments nationwide. Fall 2023 tryout sign-ups are now OPEN.  Sign up HERE! Deadline to sign up is August 23rd at 12:00 PM (noon). We will send more info via email regarding time slots and how to pay after this form is due. Please keep an eye-out for an email from us on August 23rd. Time slot sign-ups will close on August 25th at 12:00 PM (noon).Based on tryout performance (which is a combination of match play and overall performance), the club team may offer you a position on either the travel or social team:Travel members are more advanced players whereas our social members are more intermediateTravel team members are required to practice at least once a week, but many play more to stay competitive. They are also the club members who are able to travel to other schools on the weekends for tournamentsOur social team is a lower commitment and practice is encouraged but is not mandatory. Social members are not able to travel for tournamentsRegardless of team, every member has access to all of our club events, court reservations, and other benefits throughout the yearPlease do NOT request to join the roster unless you are an active member of club tennis!Please reach out to Presidents Natalie Kim and Miriam Moghtader atvirginiaclubtennispresident@gmail.com for additional questions!  tags Contracted Independent Organization (CIO), Club Sport, Social & Hobby members 24\n",
      "name Cold Call Chorus description Cold Call Chorus (CCC) is an acapella group that seeks to infuse vocal music into the Darden experience and connect cultures through song. We hold our concerts at Darden's main events, and sing pieces that unify and uplift the student body. CCC offers its members an opportunity to step back from the rigors of academic life at Darden and mingle with fellow singers during the one-hour weekly rehearsal. tags No Application or Interview Required, Darden School, Visual & Performing Arts, Contracted Independent Organization (CIO) members 2\n"
     ]
    },
    {
     "name": "stderr",
     "output_type": "stream",
     "text": [
      "466it [01:24,  6.80it/s]"
     ]
    },
    {
     "name": "stdout",
     "output_type": "stream",
     "text": [
      "name Mind&Body at UVA description Mind&Body@UVA is a student group focused on mental and physical health, bringing awareness to all aspects of our lives to cultivate healthy habits during college life. Founded in 2019, we have worked in direct partnership with the Contemplative Sciences Center to create a thriving space on Grounds through offering free events, such as meditation sessions, group exercise classes, all-level yoga classes, art sessions, retreats, and more. We provide a variety of resources to all communities of students at UVA to help handle life as a college student and fuel positive momentum. We believe that in order to succeed in college, students should rest and recharge in a sustainable way that helps to continuously create communities that are supportive and compassionate. All UVA students are welcome.You can find out more about our events on our Facebook page here or Instagram page here if you have any questions or suggestions. We would love to meet you! tags Contracted Independent Organization (CIO), Social & Hobby members 80\n",
      "name G.K. Chesterton Society description Discussion club to read and discuss literature of the Christian tradition in the spirit of G.K. Chesterton tags Religious & Spiritual, No Application or Interview Required, Social & Hobby, Academic & Professional, Contracted Independent Organization (CIO) members 10\n"
     ]
    },
    {
     "name": "stderr",
     "output_type": "stream",
     "text": [
      "468it [01:24,  6.50it/s]"
     ]
    },
    {
     "name": "stdout",
     "output_type": "stream",
     "text": [
      "name The Yellow Journal description The Yellow Journal is UVA's oldest/secretest/premier/only satire publication. Since its inception in 1912 A.D., the Yellow Journal's name has struck fear into the hearts of hapless administrators, humorless students, and anyone else unfortunate enough to draw the ire of our wicked pen.We publish new issues—jam-packed with fighting words and depraved witticisms—at the end of each semester.  tags Media & Publications, Contracted Independent Organization (CIO) members 11\n",
      "name The Hooligans Breakdance Club description The Hooligans is the only club at the University of Virginia focused on breaking (breakdance) and freestyle hip hop dance. From the beginning, we've been a close-knit community trying to spread our love of dance and freestyle. For that reason, we do not hold auditions, try outs, or membership dues. We require no experience whatsoever and welcome beginners to give us a try! Another goal of this club is to raise awareness of breaking, which a major component of Hip-Hop culture. If you're interested in joining, please get in touch!Our email is hooligansexec@virginia.edu or find us @hooligans.uva on instagram. tags Contracted Independent Organization (CIO), Cultural & Ethnic, Social & Hobby, Visual & Performing Arts members 19\n"
     ]
    },
    {
     "name": "stderr",
     "output_type": "stream",
     "text": [
      "470it [01:25,  6.67it/s]"
     ]
    },
    {
     "name": "stdout",
     "output_type": "stream",
     "text": [
      "name Fill The Hill description Fill The Hill aims to improve the overall football culture at the University of Virginia.  More specifically, we strive to boost student attendance, generate excitement on game-day, and increase enthusiasm for the UVA football experience as a whole. tags Contracted Independent Organization (CIO), Social & Hobby, No Application or Interview Required members 3\n",
      "name Spectrum Theatre description Mission Statement: Spectrum Theatre exists to engage and challenge the University and Charlottesville communities through provocative, socially relevant, universal, inspiring, and innovative performance with artistic passion, the full spectrum of the human expierence.That's a lot of fancy words. In a nutshell, Spectrum Theatre is a student-run theatre organization at the University of Virginia that produces theatrical productions every semester. Students, as well as members of the Charlottesville community (include UVA staff and faculty members), have been a part of Spectrum Theatre's productions and we welcome all members of the UVA and Charlottesville community to be a part of our productions! We have put on well-known shows such as Heathers, Spring Awakening, and Avenue Q as well as student written musicals such as Believer: A cult musical. We work hard to put on great shows, but we also love to have fun , and want YOU to join us! tags Contracted Independent Organization (CIO), Visual & Performing Arts, Social & Hobby members 28\n"
     ]
    },
    {
     "name": "stderr",
     "output_type": "stream",
     "text": [
      "472it [01:25,  6.74it/s]"
     ]
    },
    {
     "name": "stdout",
     "output_type": "stream",
     "text": [
      "name Sri Lankan Student Association at Univesity of Virginia description The Sri Lankan Student Association at University of Virginia, herein abbreviated as SLSA@UVA is solely responsible for introducing Sri Lankan Proud History, Culture and Heritage while providing opportunities and possibilities for UVA and Charlottesville Community to explore and experience Sri Lanka's Unique  Traditions, Cuisines and Culture. tags Contracted Independent Organization (CIO) members 32\n",
      "name Gayner Family Sustainable Investment Fund description The vision of the Gayner Family Sustainable Investment Fund (“GFSIF” or “The Gayner Fund”) is to empower and educate students at UVA in the field of investing for the long-term while creating a lasting impact on the university community. Our objective is to provide a platform where students can learn the art of long-term investing while gaining practical experience through managing a real investment fund.By joining the GFSIF, students have the opportunity to develop valuable skills that will serve them throughout their lives. Through our monthly lectures, workshops, and pitch competitions, members will gain in-depth knowledge of investment strategies, stock selection, and portfolio management. They will have the chance to learn directly from industry veterans, such as Tom Gayner, CEO of Markel, and other prominent guest speakers who will share their expertise and insights. Each year's fund is held uninterrupted for 25 years. After that, the fund is liquidated, with half of the proceeds going into the next available fund and the other half directly funding scholarships for UVA students. Our hope is that through our work, one day every student who attends UVA will have an education fully funded through this investment club.Members will gain a solid foundation in long-term investing, a investment approach the first of its kind among the funds at UVA . This knowledge will be applicable not only to their personal finances but also to potential careers in finance, asset management, or entrepreneurship. Furthermore, the GFSIF offers every member a chance to actively manage a real investment fund and contribute to scholarships for future UVA students. This hands-on experience is invaluable, as it allows members to apply theoretical knowledge in a practical setting, enhancing their understanding of financial markets, while building a brighter future for our university. tags Academic & Professional, Contracted Independent Organization (CIO) members 27\n"
     ]
    },
    {
     "name": "stderr",
     "output_type": "stream",
     "text": [
      "474it [01:25,  6.36it/s]"
     ]
    },
    {
     "name": "stdout",
     "output_type": "stream",
     "text": [
      "name Division for Diversity, Equity, and Inclusion description Division for Diversity, Equity, Inclusion tags Cultural & Ethnic, Department, Schools, or Centers members 2\n",
      "name P2L - Peer Led Learning description P2L supports selected STEM courses by providing optional opportunities, outside of class, for students to get additional time to practice and engage with material. P2L sessions are led by trained, paid, peer coaches who work closely with each course's faculty to make sessions as effective as possible. Contact Laura Devlin, Academic Support Program Coordinator, at ld8fd@virginia.edu for information. tags Department, Schools, or Centers members 6\n"
     ]
    },
    {
     "name": "stderr",
     "output_type": "stream",
     "text": [
      "476it [01:26,  6.47it/s]"
     ]
    },
    {
     "name": "stdout",
     "output_type": "stream",
     "text": [
      "name Alternative Spring Break description Alternative Spring Break (ASB) is an entirely student-run service organization established in 1992 to conduct service projects during spring break for University of Virginia students. Originally, the trips were designed to function as a simple, service-oriented alternatives to the standard college break experience. Over time the organization has expanded upon this original set of aspirations and experienced incredible growth in both the quantity and quality of service projects that make up an ASB experience. Signing up to participate in an ASB service project has grown from a simple one-week commitment into a year-round experience that emphasizes self-awareness through educational and cultural programs that take place before, during, and after the projects for the purpose of encouraging a more meaningful trip environment. Participants are able to cultivate their ambitions as service leaders at the University and make positive, meaningful change at sites across the country and around the world. ASB is committed to making trips accessible for every UVA student, offering extensive financial aid and support to any student interested in participating in an ASB trip.ASB is an inclusive community composed of a fun, passionate, and diverse group of students from across the University! tags Contracted Independent Organization (CIO), Public Service members 13\n",
      "name BAPS Campus Fellowship at University of Virginia description The organization will hold events throughout the semester open to the campus community, where students will learn and engage in activities prepared by the organization. Students will also get a chance to join the organization through these events. ﻿ tags Religious & Spiritual, Contracted Independent Organization (CIO) members 5\n"
     ]
    },
    {
     "name": "stderr",
     "output_type": "stream",
     "text": [
      "478it [01:26,  6.56it/s]"
     ]
    },
    {
     "name": "stdout",
     "output_type": "stream",
     "text": [
      "name Entrepreneurship & Venture Capital Club at the Darden School description Entrepreneurship & Venture Capital (EVC) is a community that supports, develops, and enables current and future Entrepreneurs and Venture Capitalists to change the world through creativity, smarts, and grit. We do this by: Facilitating integration of Darden with the greater Charlottesville and UVA entrepreneurial community, Complimenting and influencing existing academic curriculum with more experiential and entrepreneurial thinking opportunities, Being a platform that encourages and guides students through the process of starting and funding new ventures or acquiring existing businesses, Providing a mentorship and support network for our members, and Cultivating a sense of community among our members tags No Application or Interview Required, Academic & Professional, Contracted Independent Organization (CIO), Darden School members 6\n",
      "name Student Organization for Caribbean Awareness description The Student Organization for Caribbean Awareness (SOCA) is a University of Virginia student-run organization that is committed to promoting awareness of issues facing the Caribbean and creating a community based around Caribbean cultures. The goal of SOCA is to bring together peoples with Caribbean descent, heritage and/or interest, in an effort to foster educational, cultural and social growth. SOCA welcomes and encourages all people to join and contribute to the organization, regardless of national or ethnic origin. tags Contracted Independent Organization (CIO), Cultural & Ethnic, No Application or Interview Required, Black Presidents Council members 21\n"
     ]
    },
    {
     "name": "stderr",
     "output_type": "stream",
     "text": [
      "480it [01:26,  7.02it/s]"
     ]
    },
    {
     "name": "stdout",
     "output_type": "stream",
     "text": [
      "name Flying Virginians description The Flying V’s are UVA’s only rock acapella group (rockapella if you will), but don’t let that fool you! We perform a variety of genres including indie, alternative, and pop music—there’s something for everyone! Our group specializes in combining the classic rock of the past with new hits by contemporary artists, rounding out our unique and electric sound. We are an extremely tight-knit group of friends who are passionate about making music and elevating each other to reach our fullest potential as musicians and as individuals. tags Social & Hobby, Visual & Performing Arts, Contracted Independent Organization (CIO) members 14\n",
      "name Delta Sigma Phi (Alpha Mu Chapter) description FSL tags Public Service, Political & Advocacy, Social & Hobby, Fraternity or Sorority members 0\n"
     ]
    },
    {
     "name": "stderr",
     "output_type": "stream",
     "text": [
      "482it [01:26,  7.38it/s]"
     ]
    },
    {
     "name": "stdout",
     "output_type": "stream",
     "text": [
      "name Tae Kwon Do Club at the University of Virginia description The goal of the Tae Kwon Do Club is to teach members self-improvement and self-discipline through martial training involving discipline of the mind and conditioning of the body. tags No Application or Interview Required, Contracted Independent Organization (CIO), Cultural & Ethnic, Social & Hobby, Visual & Performing Arts members 12\n",
      "name qMD description UVA School of Medicine's LGBTQ student organization  tags Political & Advocacy, Social & Hobby, Public Service, Contracted Independent Organization (CIO), Academic & Professional, Cultural & Ethnic, No Application or Interview Required members 12\n"
     ]
    },
    {
     "name": "stderr",
     "output_type": "stream",
     "text": [
      "484it [01:27,  6.97it/s]"
     ]
    },
    {
     "name": "stdout",
     "output_type": "stream",
     "text": [
      "name Hindu Students Council description The mission of the Hindu Students Council is to provide a forum for both the Hindu and non-Hindu students at the University of Virginia to observe and practice the Hindu religion and the Hindu philosophies. The goal of the Hindu Students Council is to serve as an instrument for the spiritual and intellectual growth of those who are willing to learn and / or practice the Hindu traditions. tags Religious & Spiritual, No Application or Interview Required, Contracted Independent Organization (CIO), Cultural & Ethnic members 22\n",
      "name If/When/How: Lawyering for Reproductive Justice at UVA Law description If/When/How is a pro-choice, pro-information student organization that educates, organizes and supports law students to ensure that a new generation of advocates will be prepared to protect and expand reproductive rights as basic civil and human rights. It is the organization’s position that reproductive justice will exist when all people can exercise the rights and access the resources they need to thrive and to decide if, when and how to create and sustain their families with dignity and free from discrimination, coercion or violence. tags No Application or Interview Required, Health and Wellness, Contracted Independent Organization (CIO), Political & Advocacy, Public Service, Law School members 18\n"
     ]
    },
    {
     "name": "stderr",
     "output_type": "stream",
     "text": [
      "486it [01:27,  7.23it/s]"
     ]
    },
    {
     "name": "stdout",
     "output_type": "stream",
     "text": [
      "name Law, Innovation, Security, & Technology Society description LIST is a diverse community of students interested in the intersection of law and technology. Our organization encompasses those interested in AI, Cybersecurity, FinTech, Healthcare, IP, Life Sciences, National Security, and Privacy, among other issues. We aim to help members explore these diverse practice areas, learn more about the field, and network with industry practitioners.  tags Contracted Independent Organization (CIO), Law School members 17\n",
      "name Polar Plunge at UVA description Polar Plunge at UVA is a club set on exploring the psychological and physiological benefits, among others, that one finds through continuous practice of deliberate cold exposure. We seek to step out of the comfortable lives many of us have been accustomed to in order to strengthen our minds, our bodies, and our spirits. We welcome you to take the plunge with us on our journey towards a healthier and happier life! tags Religious & Spiritual, Health and Wellness, Contracted Independent Organization (CIO), Social & Hobby members 7\n"
     ]
    },
    {
     "name": "stderr",
     "output_type": "stream",
     "text": [
      "488it [01:27,  6.93it/s]"
     ]
    },
    {
     "name": "stdout",
     "output_type": "stream",
     "text": [
      "name Men's Basketball Club at UVA description We are the Mens Club Basketball team at UVA. We play against Mens club basketball teams from other universities. tags Social & Hobby, Club Sport, Contracted Independent Organization (CIO) members 7\n",
      "name Club Cycling at UVA description The Cycling Team is comprised of serious racers to novice enthusiasts. The Team competes throughout the year in the ACCC conference and holds regular weekly training rides. Team events such as training seminars, parties, fundraisers, and meetings are held throughout the year. New riders are always welcome, and racers receive significant support for racing. UVA has a long tradition of excellence in collegiate cycling. tags Club Sport, Contracted Independent Organization (CIO), No Application or Interview Required members 26\n"
     ]
    },
    {
     "name": "stderr",
     "output_type": "stream",
     "text": [
      "490it [01:28,  6.81it/s]"
     ]
    },
    {
     "name": "stdout",
     "output_type": "stream",
     "text": [
      "name United Nations Children's Fund at UVA description The United Nations Children's Fund at the University of Virginia is an organization for those interested in the welfare and rights of children and their betterment under the affiliate status of the United States Fund for UNICEF. The mission of UNICEF at UVA is to raise funds for international and local child survival projects funded by the US Fund, to educate and address the rights of children in the United States and abroad. tags Contracted Independent Organization (CIO), Political & Advocacy, Public Service, International members 27\n",
      "name Lacrosse the Nations Club at The University of Virginia description Lacrosse the Nations Club at the University of Virginia is dedicated to sustainably improving health and education and creating opportunity for children in need through the sport of lacrosse.  We work directly with the national LtN organization, focusing on their programs at local Boys & Girls Clubs and their international programs in Nicaragua, Panama, and ColombiaMost club events revolve around raising funds to assist Lacrosse the Nations programs, as well as volunteering at the Cherry Ave Boys & Girls Club to mentor community kids and coach lacrosse.  tags Contracted Independent Organization (CIO), Public Service, Leadership Development members 14\n"
     ]
    },
    {
     "name": "stderr",
     "output_type": "stream",
     "text": [
      "492it [01:28,  6.84it/s]"
     ]
    },
    {
     "name": "stdout",
     "output_type": "stream",
     "text": [
      "name The Fitness Commission description A workout group seeking to grow physically and spiritually! tags Social & Hobby, Contracted Independent Organization (CIO), Religious & Spiritual members 8\n",
      "name The Gin Rummy Club at UVA description The Gin Rummy Club builds a community of members who enjoy the card game Gin Rummy, providing an enjoyable environment to play the card game Gin Rummy. The club educates its members on the game, teaching the basics to advanced strategies.  tags Contracted Independent Organization (CIO), Social & Hobby, No Application or Interview Required members 10\n"
     ]
    },
    {
     "name": "stderr",
     "output_type": "stream",
     "text": [
      "494it [01:28,  7.24it/s]"
     ]
    },
    {
     "name": "stdout",
     "output_type": "stream",
     "text": [
      "name The Virginia Law Emerging Companies and Venture Capital Society description ECVC is the Law School’s hub for transactional work. While we have a focus on emerging companies and venture capital, the organizations as a whole seeks to create opportunities to learn, network, and socialize for students who are interested in transactional practice. We plan on fulfilling our mission statement by setting up crash courses for law students interested in entrepreneurial law, venture capital, and other transactional law practices, by establishing a mentorship program to foster growth and connection, hosting an annual transactional law competition along with networking events, and bringing guest speakers to the Law School. We also plan to co-host and collaborate with organizations both within the Law School and other schools within the University (iLab, Darden, Batten, etc.). tags Social & Hobby, Law School, Leadership Development, Contracted Independent Organization (CIO), Academic & Professional, Peer Mentors members 31\n",
      "name Virginia Law Veterans description Virginia Law Veterans - Virginia Law Veterans provides an on-campus resource for veterans interested in the field of law, whether they be currently enrolled at the School of Law, or interested in pursuing a legal career down-the-road. In support of this objective, our organization shares information about veterans’ benefits and issues; sponsors speakers on issues of concern to the veteran and military community; encourages public interest in, and pro bono work on, issues related to the welfare and interests of military personnel and veterans; identifies members of the Law School community who, based on previous military experience, can serve as information resources for anyone conducting research on national security or international law and policy issues; provides support to Law School admissions staff by encouraging military veterans and active-duty personnel to attend the Law School; supports veterans in their transition, to both a civilian and a law student; and provides a communal space for the diverse population of military and Coast Guard veterans, active duty, national guard and reserve personnel at the Law School. Membership is open to anyone with no requirement of any past or present tie to the military. tags No Application or Interview Required, Social & Hobby, Law School, Contracted Independent Organization (CIO), Academic & Professional members 7\n"
     ]
    },
    {
     "name": "stderr",
     "output_type": "stream",
     "text": [
      "497it [01:28,  9.46it/s]"
     ]
    },
    {
     "name": "stdout",
     "output_type": "stream",
     "text": [
      "name Men's Club Soccer at UVa description The purpose of Virginia Men's Club Soccer is to provide the highest level of non-varsity soccer competition to members of the University of Virginia community. The team is consistently competitive on both the regional and national level.Tryouts are held early in the fall semester and are open to students of all years, graduate and undergraduate, as well as those who have tried out before.We train 3 days a week, have at least 6 league games and travel to a minimum of 3 tournaments on weekends during the Fall semester.  tags Club Sport, Social & Hobby, Contracted Independent Organization (CIO) members 23\n",
      "name Delta Sigma Pi description Delta Sigma Pi is a professional business fraternity organized to foster the study of business in universities; to encourage scholarship, social activity, and the association of students for their mutual advancement by research and practice; to promote closer affiliation between the commercial world and students of commerce, and to further a higher standard of commercial ethics and culture and the civic and commercial welfare of the community. tags Contracted Independent Organization (CIO), Academic & Professional members 43\n"
     ]
    },
    {
     "name": "stderr",
     "output_type": "stream",
     "text": [
      "499it [01:29,  8.10it/s]"
     ]
    },
    {
     "name": "stdout",
     "output_type": "stream",
     "text": [
      "name National Pan-Hellenic Council description The National Pan-Hellenic is made of 9 historically Black fraternities and sororities. We are committed to community service, civil, and social action, and improving the experience of Black students on Grounds. tags Public Service, Political & Advocacy, Visual & Performing Arts, Social & Hobby, Contracted Independent Organization (CIO), Academic & Professional, Cultural & Ethnic, No Application or Interview Required members 4\n",
      "name Effective Altruism at UVA description Effective Altruism is a philosophical and social movement focused on answering one question: How can we best help others?EA@UVA exists to promote the ideas of effective altruism and facilitate conversations on how to do good better. Every year, we host an introductory fellowship on the philosophy and practice of effective altruism. We also organize discussion groups, student presentations, social events, and more! tags Academic & Professional, Contracted Independent Organization (CIO), No Application or Interview Required members 13\n"
     ]
    },
    {
     "name": "stderr",
     "output_type": "stream",
     "text": [
      "501it [01:29,  9.91it/s]"
     ]
    },
    {
     "name": "stdout",
     "output_type": "stream",
     "text": [
      "name Alpha Chi Omega (Zeta Lambda Chapter) description FSL tags Public Service, Social & Hobby, Political & Advocacy, Fraternity or Sorority members 97\n",
      "name Order of Omega description National Honor Society to recognize leaders and academically high-achieving members of Greek Life tags Honor Society, Contracted Independent Organization (CIO) members 6\n"
     ]
    },
    {
     "name": "stderr",
     "output_type": "stream",
     "text": [
      "503it [01:29,  8.16it/s]"
     ]
    },
    {
     "name": "stdout",
     "output_type": "stream",
     "text": [
      "name College of Arts and Sciences Life Skills description College of Arts and Sciences Life Skills tags Department, Schools, or Centers members 0\n"
     ]
    },
    {
     "name": "stderr",
     "output_type": "stream",
     "text": [
      "505it [01:30,  6.25it/s]"
     ]
    },
    {
     "name": "stdout",
     "output_type": "stream",
     "text": [
      "name Student Affairs description The Division of Student Affairs advocates for students and supports their development as citizen-leaders. Six core values guide the work of Student Affairs in serving both undergraduate and graduate students: academic rigor, honor, student self-governance, service, wellness, and diversity. In addition to the vice president’s office, the division includes the following units: Office of the Dean of Students, Student Health, the Career Center, and Office of African-American Affairs. tags Department, Schools, or Centers members 0\n",
      "name Asia Business Club at Darden Business School at the University of Virginia description ABCD is one of the largest affinity clubs at Darden. Our purpose is to help ABCD members succeed at Darden by providing support in recruiting, social, and personal development. We are dedicated to increasing diversity and inclusion by promoting Asian culture in the Darden community. ABCD also supports admission events in Asia and helps promote Darden to Asian prospective students.To this end, we organize various events that cater to the social, professional, and academic needs of our club members. Below is a list of events that we have planned throughout the years.Social/Networking Programs:·      Welcome party – First Year/Second Year mixer·      Mixers with other professional schools, i.e., the Law School·      Asia week, Gala night, Fashion show & Lunar New Year Celebration·      Karaoke nights·      Cherry blossom trip and ski trip·      Around-Asia Thanksgiving Dinner·      Co-events with other clubs Professional and Academic Programs:·      First Year/Second Year Mentor Programo   30-second pitch, resume, cover lettero   Mock networking sessiono   Interview workshop·      Career panel discussionso   Investment Banking / Consulting / General Management / Marketing / Strategy / Corporate Finance tags Darden School, Social & Hobby, Academic & Professional, Cultural & Ethnic, Contracted Independent Organization (CIO), No Application or Interview Required members 5\n"
     ]
    },
    {
     "name": "stderr",
     "output_type": "stream",
     "text": [
      "507it [01:30,  6.49it/s]"
     ]
    },
    {
     "name": "stdout",
     "output_type": "stream",
     "text": [
      "name Link Lab Student Committee description The Link Lab Committee on Culture and Livability is a student-run organization that aims to elevate theLink Lab experience, for both residents and non-residents, through(i) encouraging comradery among our diverse community, and(ii) acting as the liaison between students, staff, and faculty. tags Academic & Professional, Contracted Independent Organization (CIO) members 10\n",
      "name Croquet at UVA description We are a group of students who play weekly games of croquet. Croquet is like mini golf with hammers, and it can be played by anyone. Whether you have never played before or are a pro, we encourage you to come and give it a try. Formal attire encouraged! tags Social & Hobby, Contracted Independent Organization (CIO), No Application or Interview Required members 11\n"
     ]
    },
    {
     "name": "stderr",
     "output_type": "stream",
     "text": [
      "509it [01:30,  6.78it/s]"
     ]
    },
    {
     "name": "stdout",
     "output_type": "stream",
     "text": [
      "name Law Republicans at UVA description Republicans at UVA promotes a welcoming environment for political discourse. The organization focuses on presenting conservative viewpoints at UVA, ensuring mutual respect for Republicans ideas, and supporting local, state, and federal Republican candidates running for office. tags Law School, Public Service, Political & Advocacy, Contracted Independent Organization (CIO), Academic & Professional, No Application or Interview Required members 9\n",
      "name Phi Alpha Delta Pre-Law Fraternity at the University of Virginia description Phi Alpha Delta Pre-Law Fraternity at UVA is the premiere pre-law organization on Grounds. Each year, we welcome numerous guest attorneys, LSAT prep companies, and admissions consultants to speak at our bi-weekly Chapter meetings. We participate in many service initiatives on Grounds, as well as create some of our own. Additionally, our coed Brotherhood boasts a strong community and support network of other future lawyers with various fun social events. tags Academic & Professional, Contracted Independent Organization (CIO), Social & Hobby, Public Service, No Application or Interview Required members 62\n"
     ]
    },
    {
     "name": "stderr",
     "output_type": "stream",
     "text": [
      "511it [01:31,  6.78it/s]"
     ]
    },
    {
     "name": "stdout",
     "output_type": "stream",
     "text": [
      "name Tau Kappa Epsilon - Gamma Omicron Chapter description FSL tags Social & Hobby, Public Service, Fraternity or Sorority members 1\n",
      "name TroUVAille Winter Guard description TroUVAille- a chance encounter with something wonderfulTroUVAille Winter Guard is a competitive winter guard that is open to new and returning members, no experience necessary!During the fall semester, we meet once a week to practice new skills, create a community, and express ourselves through dance and equipment choreography, including flags, color guard rifles, and color guard sabres. We work with beginners through advanced levels to encourage growth and learning from basic skills to creating and teaching choreography.During the spring semester we meet two to three times a week to learn a winter guard show to compete in the Atlantic Indoor Association North competition circuit. This show has a theme and involves a higher level of skill due to the competitive nature of the winter guard season. tags No Application or Interview Required, Contracted Independent Organization (CIO), Visual & Performing Arts members 19\n"
     ]
    },
    {
     "name": "stderr",
     "output_type": "stream",
     "text": [
      "513it [01:31,  6.87it/s]"
     ]
    },
    {
     "name": "stdout",
     "output_type": "stream",
     "text": [
      "name Darden Latin American Student Association description LASA’s mission is to provide students interested in Latin American cultures with a forum topursue cultural, professional, and social opportunities with initiatives designed to encourage a mutually beneficialintegration of Latin American Students with the rest of the Darden Community. Also by maintaining andstrengthening ties with Latin American alumni and supporting career development opportunities in the US and inLatin America for its members. LASA acts as an academic, professional, and social resource; promoting andsupporting the efforts of the Darden Community to increase diversity in the curriculum, faculty, and student body.Our efforts are aimed not only at increasing Latin American awareness in Darden but also at increasing Dardenawareness in Latin America. To achieve these goals, Darden LASA hosts a wide variety of events throughout the yearincluding an annual conference, networking events, and social events to promote and share Latin America’straditions and culture. tags Contracted Independent Organization (CIO), Cultural & Ethnic, Academic & Professional, Darden School, Social & Hobby members 5\n",
      "name Environmental Sciences Organization description The Environmental Sciences Organization (ESO) provides a link between the Environmental Sciences Department and the students of the University. While the organization is mainly geared toward undergraduate majors and minors in the department, it has its share of members from many different disciplines of the University. However, all members have one thing in common--an interest in the Environmental Sciences. ESO aims to aid students in becoming more involved in and educated about the Environmental Sciences Department. Members are provided with many opportunities to get to know the professors in the department as well as what the department has to offer outside of a major or minor. One of the organization's core components is the aid, advice, and support that members have to offer each other about courses, activities, and resources within the department. ESO is able to do this through its many activities such as peer advising about courses, seminars about the department and professions in the Environmental sciences, and career and job search resources. Other enjoyable activities sponsored by ESO include the department barbeque, hiking trips, canoe trips, whitewater rafting, and a variety of fun outdoor activities. All University students are welcome to join and participate in any activity. tags No Application or Interview Required, Contracted Independent Organization (CIO), Academic & Professional, Social & Hobby members 98\n"
     ]
    },
    {
     "name": "stderr",
     "output_type": "stream",
     "text": [
      "515it [01:31,  5.90it/s]"
     ]
    },
    {
     "name": "stdout",
     "output_type": "stream",
     "text": [
      "name Summer and Special Academic Programs description Summer and Special Academic Programs tags Department, Schools, or Centers members 0\n",
      "name Student Virginia Education Association description The Student Virginia Education Association (SVEA) is professional preservice organization sponsored by the Virginia Education Association. SVEA provides opportunities for undergraduate and graduate students to explore the field of education through community outreach and professional development. The UVA chapter of the SVEA seeks to provide pre-professionals with meaningful opportunities to engage with the education community on- and off-grounds. This organization is open not only to those who wish to pursue teaching as a career but to any students seeking to enter the field of education. We aim to serve as a space for those interested in education to make connections in the field! tags Contracted Independent Organization (CIO), Academic & Professional, Political & Advocacy, Social & Hobby, Public Service members 10\n"
     ]
    },
    {
     "name": "stderr",
     "output_type": "stream",
     "text": [
      "517it [01:31,  6.55it/s]"
     ]
    },
    {
     "name": "stdout",
     "output_type": "stream",
     "text": [
      "name Central Americans for Empowerment at UVA description Central Americans for Empowerment at UVA aims to serve as the primary organization on Grounds focusing on anything and everything related to Central America. Our mission is to create an inclusive space for Central American folx in an effort to increase visibility and representation of the diversity within the Latinx community at the University of Virginia. CAFÉ will strive to center the intersectional identities related to Central America, while being cognisant of the greater Latin American region/communities on Grounds, Charlottesville, Virginia, The United States, Latin America, and abroad. We aim to gain a collective voice and foster empowerment through civic engagement and political, social and cultural education and advocacy while simultaneously building solidarity with other marginalized communities. tags Cultural & Ethnic, Contracted Independent Organization (CIO), Political & Advocacy members 10\n",
      "name The Jefferson Independent description Our Mission To hold the University of Virginia accountable to its mission “in which the ideals of freedom of inquiry, thought, and expression are respected and sustained,” and Jefferson’s aim to found an institution “based on the illimitable freedom of the human mind”To provide a platform that advances viewpoint diversity through journalistic excellence and hard-hitting opinion piecesTo uphold our nation’s Constitutional values, combat censorship, and challenge predominant ‘truths’ and viewpoints tags Media & Publications, Political & Advocacy, Contracted Independent Organization (CIO) members 15\n"
     ]
    },
    {
     "name": "stderr",
     "output_type": "stream",
     "text": [
      "519it [01:32,  7.15it/s]"
     ]
    },
    {
     "name": "stdout",
     "output_type": "stream",
     "text": [
      "name Super Smash Bros. Club description Smash @ UVA holds weekly Super Smash Bros. Ultimate and Super Smash Bros. Melee tournaments. New players and veterans are welcome to come and enter, or just hang out and play friendly matches. The club also occasionally holds some larger tournaments for charity or in collaboration with other organizations. tags Contracted Independent Organization (CIO), Social & Hobby, No Application or Interview Required members 16\n",
      "name Hot Kids Video and Sketch Comedy description Hot Kids Comedy is UVA's only sketch comedy club on Grounds. We meet from 7-9pm every Thursday and Sunday to write sketches and film videos that will be preformed or shown at our end of semester show. We are a social club, and host a lot of events outside of practice so members can get to know each other. Our members are not expected to have any previous comedy experience, and this is a great way to meet funny, interesting people! tags Social & Hobby, Visual & Performing Arts, Contracted Independent Organization (CIO), Media & Publications members 10\n"
     ]
    },
    {
     "name": "stderr",
     "output_type": "stream",
     "text": [
      "521it [01:32,  6.66it/s]"
     ]
    },
    {
     "name": "stdout",
     "output_type": "stream",
     "text": [
      "name The Gordie Club description The mission of the Gordie Club will closely follow that of the Gordie Center, which states: “The mission of the Gordie Center is to end hazing and substance misuse among college and high school students nationwide. We are dedicated to sharing Gordie Bailey's story to prevent future hazing-related alcohol overdose deaths. The Gordie Center empowers students to transform their campus and community cultures through peer education and bystander intervention using our evidence-informed, student-tested resources. Our APPLE Training Institutes are the leading national substance misuse prevention and health promotion conferences for NCAA student-athletes.” The Gordie Club wishes to end hazing and substance abuse for UVa students specifically. We hope that Gordie’s story will provide a more authentic connection to the student body. After all, Gordie was a first-year when he passed away. He was a normal college student who was involved in a tragic, yet unfortunately normal hazing ritual. As a student-led club, we want to not only bring awareness to the problems that alcohol presents for college students but also put an end to hazing altogether. We will do so through peer education, open conversations, and fundraising for the greater Gordie Center organization. tags Political & Advocacy, Contracted Independent Organization (CIO), No Application or Interview Required members 59\n",
      "name Black Business Student Association description “For over 40 years, the Black Business Student Association (BBSA) has organized and focused on bringing together the past, present, and future Darden Black identifying communities and partnering with our allies to enrich the experience of the broader community. In that vein BBSA develops programs that promote academic excellence, provide safe environments for the discussion of issues around race and culture, promote diversity & inclusion, celebrate our culture, support professional development, offer a forum for social activities and opportunities for participation in community service. The club also communicates and supports relevant initiatives of key offices and organizations within the Darden Enterprise such as the Office of Diversity Equity and Inclusion and Admissions.” tags No Application or Interview Required, Black Presidents Council, Contracted Independent Organization (CIO), Academic & Professional, Cultural & Ethnic, Social & Hobby, Darden School, Leadership Development members 5\n"
     ]
    },
    {
     "name": "stderr",
     "output_type": "stream",
     "text": [
      "523it [01:32,  6.36it/s]"
     ]
    },
    {
     "name": "stdout",
     "output_type": "stream",
     "text": [
      "name William Minor Lile Moot Court Board description The Lile Moot Court Competition is the Law School's Intramural Moot Court Competition, beginning in the fall of participants' second year and continuing through the fall of their third year.  tags Law School, Contracted Independent Organization (CIO), Academic & Professional members 12\n",
      "name Darden Executive MBA Student Association (ESA) description The Executive MBA Student Association (ESA) serves as the leadership board for all Executive MBA students. The mission of ESA is to foster a sense of community and culture within the student body and serve as a liaison between the students, faculty, and program.  tags Darden School members 0\n"
     ]
    },
    {
     "name": "stderr",
     "output_type": "stream",
     "text": [
      "525it [01:33,  6.54it/s]"
     ]
    },
    {
     "name": "stdout",
     "output_type": "stream",
     "text": [
      "name HRL SR - Gibbons description HRL tags Residence Hall, Administrative Unit members 0\n",
      "name The University Fellowship at St. Paul's description The University Fellowship at St. Paul's (TUF) is the official Episcopal collegiate ministry for undergraduates at the University of Virginia. While deeply rooted within the Christian tradition, we are an open-minded and open-hearted group of students exploring the big questions of life and having lots of fun doing so. We gather for prayer, community service, and spiritual growth and we welcome everyone—no exceptions! tags Religious & Spiritual, No Application or Interview Required, Contracted Independent Organization (CIO), Public Service members 11\n"
     ]
    },
    {
     "name": "stderr",
     "output_type": "stream",
     "text": [
      "527it [01:33,  7.02it/s]"
     ]
    },
    {
     "name": "stdout",
     "output_type": "stream",
     "text": [
      "name Air Force ROTC at UVA description We hold physical training sessions every Monday and Wednesday at 6:00 AM that have approximately 60 cadets in attendance. Cadets spend approximately an hour on cardio and weightlifting according to set workouts each week. In the fall, we offer a weekend training day for cadets to improve their military skills, including land navigation and small unit tactics. Through mission scenarios and paintball fights, this training immerses cadets in the military environment to improve our leadership capabilities and prepare to be Air Force officers. Each spring, we host a Dining Out with over 50 UVA cadets in attendance. Similar to a formal, Dining Out invites family members and partners to join the AFROTC community for an evening of dinner, awards, and performances. In November, we organize and participate in a Veterans' Day ceremony honoring prisoners of war and those servicemembers missing in action. tags Contracted Independent Organization (CIO), Academic & Professional, Public Service, No Application or Interview Required members 22\n",
      "name The Darden Business and Public Policy Club description The unique mission of the Business & Public Policy Club is to promote cross-curricular education and discourse at the intersection of business and policy. The club works to engage in action-oriented discourse to cultivate a collaborative mindset and establish mutual responsibility for the societal effects of business and policy decisions. Finally, we work to highlight professional opportunities among future policy and business leaders.Although this organization has members who are University of Virginia students and may have University employees associated or engaged in its activities and affairs, the organization is not a part of or an agency of the University. It is a separate and independent organization which is responsible for and manages its own activities and affairs. The University does not direct, supervise or control the organization and is not responsible for the organization's contracts, acts or omissions. tags Social & Hobby, Political & Advocacy, Public Service, Darden School, Academic & Professional, Contracted Independent Organization (CIO), No Application or Interview Required members 5\n"
     ]
    },
    {
     "name": "stderr",
     "output_type": "stream",
     "text": [
      "528it [01:33,  6.59it/s]"
     ]
    },
    {
     "name": "stdout",
     "output_type": "stream",
     "text": [
      "name Kidney Disease Screening and Awareness Program (KDSAP) at the University of Virginia description KDSAP at UVA is the local UVA chapter of the Kidney Disease Screening and Awareness Program. Originally founded in 2008 at Harvard College by Li-Li Hsiao, MD, PhD. KDSAP has two key objectives: student career development and community outreach. KDSAP is a student-run organization targeting college students and aims to provide opportunities for community outreach to raise public awareness and promote early detection of chronic kidney disease (CKD). In addition, KDSAP offers many innovative programs to benefit its student members, including speaker series each semester that expose students to scientific and medical professions while facilitating the development of mentor-mentee relationships. Members may also participate in community outreach and develop leadership skills by organizing, managing, and running monthly kidney health screenings in medically underserved communities in the Charlottesville-Albemarle area.  tags No Application or Interview Required, Contracted Independent Organization (CIO), Academic & Professional members 12\n"
     ]
    },
    {
     "name": "stderr",
     "output_type": "stream",
     "text": [
      "529it [01:37,  1.24s/it]"
     ]
    },
    {
     "name": "stdout",
     "output_type": "stream",
     "text": [
      "name The Burke Society description We are a conservative intellectual, debating, and literary society.  We meet Thursdays to discuss a variety of topics ranging from politics to culture. We host speaker events and debates throughout the academic year, and also organize social events for our members. tags Academic & Professional, Contracted Independent Organization (CIO) members 10\n"
     ]
    },
    {
     "name": "stderr",
     "output_type": "stream",
     "text": [
      "531it [01:38,  1.14it/s]"
     ]
    },
    {
     "name": "stdout",
     "output_type": "stream",
     "text": [
      "name Remote Area Medical at the University of Virginia description RAM @ UVA is the University of Virginia campus chapter of Remote Area Medical (RAM). As a campus chapter, our goals include spreading awareness for RAM's mission, advocating for access to quality healthcare both locally and nationally, and providing volunteer support at clinics in Virginia and neighboring states tags Public Service, Contracted Independent Organization (CIO), No Application or Interview Required, Health and Wellness members 129\n",
      "name Charlottesville Debate League description The Charlottesville Debate League is a non-profit organization dedicated to expanding free and accessible speech and debate programs across Central Virginia. Founded in 2013 by a small but persistent group of University of Virginia students, CDL has since grown to number nearly a hundred student members and has over 200 middle and high school students in our programs. tags Public Service, Contracted Independent Organization (CIO) members 23\n"
     ]
    },
    {
     "name": "stderr",
     "output_type": "stream",
     "text": [
      "533it [01:38,  1.97it/s]"
     ]
    },
    {
     "name": "stdout",
     "output_type": "stream",
     "text": [
      "name Latin American Identities Coalition description The Latin American Identities Coalition will serve as a space where all Latin American organizations on grounds can meet bi-monthly to discuss all of their upcoming endeavors and as a space where we can as a whole discuss large-scale events and programming for Latinx students. The space will also serve as a place where individual students and/or CIO’s can enter and voice any difficulties that they may be having, whatever that may be or look like. LAIC is meant to bring connectivity and inclusiveness to the Latin American organizations and to advocate/celebrate Latin heritage and culture. tags Cultural & Ethnic, Contracted Independent Organization (CIO), Political & Advocacy members 14\n",
      "name Racquetball Club at the University of Virginia (UVA) description We are an intercollege racquetball club that meets twice a week and participates in two tournaments a semester. We are here for all levels. We teach players who have never played and compete with already skilled students. We also have a social arm where we go to dinner after some practices, hold social gatherings, etc. tags Social & Hobby, Contracted Independent Organization (CIO) members 12\n"
     ]
    },
    {
     "name": "stderr",
     "output_type": "stream",
     "text": [
      "535it [01:39,  3.04it/s]"
     ]
    },
    {
     "name": "stdout",
     "output_type": "stream",
     "text": [
      "name Extinction Club description Extinction Club is a project-based environmental advocacy group that combines aspects of research, community engagement, art, and engineering to tackle the problem of biodiversity loss and extinction at UVA and beyond. We function as a small, closely-knit working group where everyone's voice is important and tackle projects on time spans from several weeks to multiple years. Our mission statement is below.The Extinction Club is established for the expressed purpose of:Researching biodiversity loss and environmental degradation with the purpose of understanding our role in extinction within the anthropocene.Engaging with UVA as a living laboratory to explore these issues and reconnect students with the local environment.Raising awareness of and documenting the current extinction crisis through aesthetic campaigns.Reducing the practices which exacerbate the current extinction crisis on Grounds.Encouraging the community to be mindful of the environment and take action to preserve it. tags Political & Advocacy, Academic & Professional, Contracted Independent Organization (CIO) members 17\n",
      "name Bringing Race Into Dialogue with Group Engagement description BRIDGE (Bringing Race Into Dialogue with Group Engagement) is founded to host conferences and events designed to foster discussion about race and ethnicity, create a platform for sharing of experiences, and break down the barrier that talking about race is inherently racist. The aim is to encourage and equip participants of all backgrounds to understand and take ownership of the intersection between students, race and the UVA culture. tags Contracted Independent Organization (CIO), Cultural & Ethnic members 5\n"
     ]
    },
    {
     "name": "stderr",
     "output_type": "stream",
     "text": [
      "537it [01:39,  4.55it/s]"
     ]
    },
    {
     "name": "stdout",
     "output_type": "stream",
     "text": [
      "name Graduate and Professional Student Queer and Trans People of Color Organization description Grad/Professional Queer and Trans Students of Color (QTPOC) an organization dedicated to building community, offering support for QTPOC students, and engaging meaningfully with both UVa and the local community through collaborative events. The purpose of this group is to build community, offer support for students belonging to multiple marginalized identity groups and engage meaningfully with both UVa and the local community through collaborative events. This is also a space for QTPOC graduate students who conduct research related to LGBTQ and BIPOC populations to discuss their work and receive support and feedback. tags No Application or Interview Required, Cultural & Ethnic, Contracted Independent Organization (CIO), Social & Hobby members 7\n",
      "name Orientation & New Student Programs description Orientation & New Student Programs helps first-year and incoming transfer students successfully adjust to academic and social life at the University through targeted initiatives and programs. tags Department, Schools, or Centers members 4\n"
     ]
    },
    {
     "name": "stderr",
     "output_type": "stream",
     "text": [
      "539it [01:39,  5.83it/s]"
     ]
    },
    {
     "name": "stdout",
     "output_type": "stream",
     "text": [
      "name Science Olympiad at the University of Virginia description SOUVA was established to promote STEM for middle-school and high-school students beyond the classroom in an environment that fosters learning. By volunteering for Science Olympiad tournaments and establishing a new invitational at the UVA, SOUVA students intend to contribute to Science Olympiad events that encourage investigation in life sciences, physical sciences, and inquiry, and assist students that lack the opportunity to practice and compete outside of the official circuit. In coordinating UVA volunteers with VASO, the Virginia Science Olympiad, SOUVA aims to provide centralized coordination of volunteers essential to the state tournament at the UVA and regional competitions, to support local parents and coaches. tags Contracted Independent Organization (CIO), No Application or Interview Required members 13\n",
      "name Students for Equity and Reform in Virginia description SERV is a student activist organization that works towards legislative solutions in Virginia state politics. Members research policy, network in the Virginia chambers, and lobby to propose and pass legislation that works toward equitable reform in Virginia. tags Contracted Independent Organization (CIO), Political & Advocacy, Public Service members 27\n"
     ]
    },
    {
     "name": "stderr",
     "output_type": "stream",
     "text": [
      "541it [01:39,  6.40it/s]"
     ]
    },
    {
     "name": "stdout",
     "output_type": "stream",
     "text": [
      "name Global Brigades at UVA description Global Brigades is an international nonprofit organization dedicated to addressing inequalities in healthcare through a holistic approach. There are three main facets: healthcare, sanitation, and business. Global Brigades at UVA primarily focuses on the healthcare care aspect, organizing and planning various clinics , as well as fundraising to both help run the clinic and to allow members to go and volunteer at the clinics. tags No Application or Interview Required, Contracted Independent Organization (CIO), Public Service members 6\n",
      "name Phi Society description FSL tags Public Service, Social & Hobby, Political & Advocacy, Fraternity or Sorority members 0\n"
     ]
    },
    {
     "name": "stderr",
     "output_type": "stream",
     "text": [
      "543it [01:40,  6.60it/s]"
     ]
    },
    {
     "name": "stdout",
     "output_type": "stream",
     "text": [
      "name Men Advancing Nursing Club at UVA description Men Advancing Nursing club at the University of Virginia - a club for people of all genders and backgrounds to promote nursing as a profession as well as providing community outreach to Charlottesville and the surrounding area. tags Academic & Professional, Cultural & Ethnic, Contracted Independent Organization (CIO), Public Service, Social & Hobby, No Application or Interview Required members 4\n",
      "name University Guide Service description U Guides tags Academic & Professional, Administrative Unit, Public Service, Special Status Organization (SSO), Social & Hobby, L2K members 47\n"
     ]
    },
    {
     "name": "stderr",
     "output_type": "stream",
     "text": [
      "545it [01:40,  6.36it/s]"
     ]
    },
    {
     "name": "stdout",
     "output_type": "stream",
     "text": [
      "name Liberty in North Korea description Liberty in North Korea at UVa (LiNK at UVa) is UVa's chapter of the eponymous grassroots national organization based in Torrance, CA and Seoul, South Korea. Here at UVa, LiNK members seek to alleviate the human rights crisis in North Korea primarily through raising awareness and collecting donations that go toward rescuing and resettling North Korean refugees. LiNK focuses on empowering North Korean refugees themselves and helping them self-actualize and become change agents. In the past, LiNK at UVa has held film screenings, public protest/demonstrations modeled after Escape from Camp 14, and has hosted a local North Korean refugee to talk about his experiences and his resettlement in Charlottesville. tags Public Service, Social & Hobby, Political & Advocacy, Contracted Independent Organization (CIO) members 37\n",
      "name Thai Student Organization description Thai Student Organization (TSO) was formed in the fall semester of 1998 to share, raise awareness and appreciate Thai culture, history and traditions within UVA and Charlottesville community.  tags Contracted Independent Organization (CIO), Cultural & Ethnic members 11\n"
     ]
    },
    {
     "name": "stderr",
     "output_type": "stream",
     "text": [
      "546it [01:40,  6.23it/s]"
     ]
    },
    {
     "name": "stdout",
     "output_type": "stream",
     "text": [
      "name The Mechatronics and Robotics Society at The University of Virginia description MARS is a network of students interested in working on and developing a lunar excavation robot for the NASA Lunabotics competition. Student members help design, build, assemble, and compete a robot while learning many skills that are not taught in the classroom. Additionally, student members can choose to come to workshops, where essential skills such as 3D CAD, circuit design and circuit CAD, machining, and other tools are taught for future use. tags Academic & Professional, Contracted Independent Organization (CIO), No Application or Interview Required members 88\n"
     ]
    },
    {
     "name": "stderr",
     "output_type": "stream",
     "text": [
      "549it [01:41,  8.40it/s]"
     ]
    },
    {
     "name": "stdout",
     "output_type": "stream",
     "text": [
      "name Ukirk at UVA, Presbyterian Student Fellowship description UKirk literally means “University Church.” We are a welcoming community for students that explores what it means to receive and share divine love, and to live out our faith in a complex world. People of all races, classes, abilities, genders, and sexual orientations are affirmed and celebrated. While we are centered in a Christian tradition, we welcome those who have questions, doubts, and diverse beliefs. We strive to be a brave space for friendship, growth, and community building. We eat together, learn together, listen and laugh together, and do life together. These values are also reflected in our community for graduate students and young professionals, 20/30 CreW.UKirk is based out of Westminster Presbyterian Church (on Rugby Rd., next to Beta Bridge) and also has a home at Common Grounds (the white building on the corner of Gordon and Rugby Rd.). tags Contracted Independent Organization (CIO), Political & Advocacy, Religious & Spiritual members 8\n",
      "name Black Commerce Student Network at McIntire description The Black Commerce Student Network at McIntire (BCSN) provides Black pre-commerce and commerce students with the necessary support and resources to strengthen their community and ensure success at the McIntire School of Commerce. BCSN strives to address the professional needs of its members in order to build corporate leaders, with an unfaltering commitment to inspire their successors. Our organization accomplishes this by hosting events on Grounds, providing resources to students, and engaging the UVA administration about ways to improve the university environment. tags Leadership Development, Cultural & Ethnic, Academic & Professional, Contracted Independent Organization (CIO), Black Presidents Council, No Application or Interview Required, Internships and Employment, McIntire School of Commerce members 20\n"
     ]
    },
    {
     "name": "stderr",
     "output_type": "stream",
     "text": [
      "550it [01:41,  5.24it/s]"
     ]
    },
    {
     "name": "stdout",
     "output_type": "stream",
     "text": [
      "name First of the Family description Many students may not meet the technical definition of first-generation, excluding them from formal outreach programs. However, we know firsthand that, whether it is due to immigration, socioeconomic status, or a simple lack of exposure, there are so many “in-betweeners,” and guidance is critical. We aim to holistically support the generation of students that are first in their family to be exposed to the complexities of higher education through maximizing their knowledge and application of skills that are imperative to multi-dimensional career success. Through a bottom-up approach, we will guide students through the ins and outs of finding, earning, and multiplying opportunities geared toward the career path of their choosing as well as encouraging exploration of the disparities within that field, thereby making them eager to suture some gap. Using a vertical mentorship system, each student will have a mentor who will guide them to acquiring and applying skills necessary to excel at a large institution (including but not limited to networking, discovering low-cost resources, improving study methods, and general success strategies). Further, we understand the difficult transition into college, and we hope for all members to find a community of support within us. Through our diverse, open, and positively constructive environment, we aim to push each other in the direction of success. tags No Application or Interview Required, Academic & Professional, Contracted Independent Organization (CIO) members 2\n"
     ]
    },
    {
     "name": "stderr",
     "output_type": "stream",
     "text": [
      "551it [01:42,  2.04it/s]"
     ]
    },
    {
     "name": "stdout",
     "output_type": "stream",
     "text": [
      "name The Thomistic Institute at UVA description The Thomistic Institute at UVA is a student organization devoted to hosting distinguished speakers in the Christian Intellectualtradition, specifically focusing on the thought of St. Thomas Aquinas, and promoting discourse of theology and philosophy. tags Contracted Independent Organization (CIO), Academic & Professional, Religious & Spiritual members 8\n"
     ]
    },
    {
     "name": "stderr",
     "output_type": "stream",
     "text": [
      "553it [01:43,  2.85it/s]"
     ]
    },
    {
     "name": "stdout",
     "output_type": "stream",
     "text": [
      "name UVA Music Department description The Music Department is the center of musical life at the University of Virginia and a vital part of the Charlottesville community. We offer students opportunities to study music performance, composition, technology, musicology, theory, and ethnomusicology. tags Administrative Unit, Department Group or Program members 3\n",
      "name Society of Hispanic Professional Engineers description Society of Hispanic Professional Engineers tags Contracted Independent Organization (CIO), Academic & Professional, Cultural & Ethnic, Public Service members 8\n"
     ]
    },
    {
     "name": "stderr",
     "output_type": "stream",
     "text": [
      "555it [01:43,  2.97it/s]"
     ]
    },
    {
     "name": "stdout",
     "output_type": "stream",
     "text": [
      "name Student Athletic Trainers' Association description The Student Athletic Trainers' Association at UVA is established for the expressed purpose of:1. Bringing together students interested in a career in Athletic Training to enhance their knowledge of the field.2. Establishing connections between students interested in a career in Athletic Training as well as connections with current ATCs.3. Giving back to the Charlottesville community through fundraisers and volunteering. tags No Application or Interview Required, Academic & Professional, Contracted Independent Organization (CIO) members 7\n",
      "name Coptic Orthodox Christian Association description As Coptic Orthodox Christians ('Copts'), we dedicate our whole lives to Christ, and aim to glorify Him in everything we do.We bear witness to the ancient, apostolic Coptic (Egyptian) Orthodox faith, and through prayer, worship, Bible study, and fellowship, grow spiritually together and enjoy great friendship with one another.The Coptic Club has for ~20 years brought together students of faith and aims to create awareness of our heritage at UVA.As we're called to as Christians, we love sharing Christ and our Church with everyone—All are welcome!——We gather weekly for prayer, worship, and Bible study, make memories together, and share in the blessings of spiritual outreach and community service. We attend and pray the Divine Liturgy at St. Mary and St. John the Baptist Coptic Orthodox Church in Staunton, VA. tags Contracted Independent Organization (CIO), Religious & Spiritual, No Application or Interview Required members 20\n"
     ]
    },
    {
     "name": "stderr",
     "output_type": "stream",
     "text": [
      "557it [01:44,  4.04it/s]"
     ]
    },
    {
     "name": "stdout",
     "output_type": "stream",
     "text": [
      "name Happy Kids, Healthy Kids description Happy Kids, Healthy Kids (HKHK) is a volunteer organization that aims to be an active part of the solution to the childhood obesity epidemic. Several schools in low-income communities do not have the funding nor the resources to provide health education for children, resulting in an increased prevalence of diabetes and obesity. Through a volunteer-run, structured after-school program at elementary schools in Charlottesville and the Boys and Girls Club of Central Virginia, we aim to offer exciting and informative nutrition and physical activity sessions for children, as well as provide parents with information to help maintain healthy habits in their children and themselves. Some examples of nutrition lessons we teach are food groups, how to read and understand nutrition labels, and how to prepare healthy snacks. Moreover, we target our lessons to incorporate both mental and physical health guidance. We hope to defeat childhood obesity in America and build lifelong healthy habits in elementary students, one school at a time.  tags Public Service, Contracted Independent Organization (CIO), No Application or Interview Required, Health and Wellness members 41\n",
      "name Omega Psi Phi (Lambda Zeta Chapter) description FSL tags National Pan-Hellenic Council (NPHC), Fraternity or Sorority, Political & Advocacy, Social & Hobby, Public Service, Cultural & Ethnic members 2\n"
     ]
    },
    {
     "name": "stderr",
     "output_type": "stream",
     "text": [
      "559it [01:44,  5.05it/s]"
     ]
    },
    {
     "name": "stdout",
     "output_type": "stream",
     "text": [
      "name Housing & Residence Life description Come here for events hosted by the Office of Housing and Residence Life tags Department, Schools, or Centers members 1\n",
      "name Business Ethics Society description Business Ethics Society promotes active and critical study, discussion, and analysis of applied business ethics and corporate social responsibility at the University of Virginia. The Business Ethics Society provides students the forum to interact amongst other students, professors, and business leaders, through open evaluation and discussion of relevant ethical, philosophical, and legal concerns of the past and present and their subsequent applications in business. Likewise, the Business Ethics Society encourages and fosters academic research, critical examination, scholastic development, and other related educational and developmental opportunities both within and outside of the immediate University of Virginia community. tags McIntire School of Commerce, Contracted Independent Organization (CIO), Academic & Professional members 54\n"
     ]
    },
    {
     "name": "stderr",
     "output_type": "stream",
     "text": [
      "561it [01:45,  3.52it/s]"
     ]
    },
    {
     "name": "stdout",
     "output_type": "stream",
     "text": [
      "name Women's Club Ice Hockey at UVA description We are a Women's ACHA Division 2 club ice hockey team and play in the the Women's ACC Hockey League (WACCHL). The WACCHL includes NC State, George Washington University, Virginia Tech, High Point, University of Tampa and Georgetown University. We practice in Richmond, VA and play games all over the Mid-Atlantic on weekends. The team has won a league championship 5 times since its founding in 2000. tags Contracted Independent Organization (CIO), Club Sport, Social & Hobby members 12\n",
      "name Darden Christian Fellowship description Darden Christian Fellowship is an inter-denominational, welcoming forum for Darden students, faculty, and staff to grow in their knowledge of and relationship with Jesus Christ.  We invite all who are solid in their faith and understanding of scripture as well as those who are just beginning their journey.  We exist to provide fellowship for all Christ followers at Darden and humbly strive to be a light in the school, community, and our future workplaces. While we seek to strengthen our own faith, we also serve our Darden and Charlottesville communities with hopes that our kindness leads others to Christ. We accomplish our mission by encouraging one another through Christian teaching, fellowship, prayer, acts of service, and Bible study. tags Religious & Spiritual, No Application or Interview Required, Darden School, Contracted Independent Organization (CIO) members 10\n"
     ]
    },
    {
     "name": "stderr",
     "output_type": "stream",
     "text": [
      "563it [01:45,  4.74it/s]"
     ]
    },
    {
     "name": "stdout",
     "output_type": "stream",
     "text": [
      "name Sigma Nu (Beta Chapter) description Chartered in 1870, the Beta Chapter of Sigma Nu is one of the oldest fraternities at the University of Virginia. Our brotherhood is a close-knit group brought together by the common values of Love, Honor, and Truth.We are a chapter active in all sectors of university life. As the whole is often greater than the sum of its parts, so too does the diversity of the Beta chapter provide the synergy for a house that continues to set the example for academic excellence, philanthropic service, campus leadership, and social engagement. Those who choose to pledge Sigma Nu do so to be their true selves and thrive in an environment that fosters personal growth and encourages individuality. The Beta chapter enhances the university experience of its members and builds a sense of community in a way that generates a desire to invest time, talent, and treasure in the development of both the organization and its future members.With over 65 active brothers, the Gentlemen of Sigma Nu at the University of Virginia make up one of the largest and most diverse fraternities on Grounds. Young men from all walks of life, from across the country and even overseas, call 189 Culbreth Road home. With brothers majoring in everything from Aerospace Engineering and Neuroscience to History and Foreign Affairs, the Beta chapter has maintained an average GPA above 3.5 - one of the highest among any large student organization at UVA. Our members are involved in a wide variety of academic, extracurricular, pre-professional, and athletic communities, with brothers serving as leaders in dozens of student groups. This focus on academic performance, alongside an embodiment of Sigma Nu’s values, also allows our members to excel in their career goals. Brothers have received internships or full-time offers at notable companies such as Amazon, Facebook, Microsoft, Northrop Grumman, Lockheed Martin, Accenture, Wells Fargo, KPMG, Jefferies, AQR Capital Management, Société Generale, Jump Trading, and more.In addition to an emphasis on academic performance, the Beta chapter strives to represent Greek Life across Grounds. Our active brothers are involved in over 40 student organizations at UVA, including the Jefferson Startup Network, Housing and Residence Life, Cavalier Daily, Student Council, McIntire Investment Institute, HackCville, Alexander Hamilton Society, Washington Literary Society, Global Markets Group, and Madison House.Our chapter takes pride in its community service and philanthropic endeavors as well. Every year, the brothers log over 1,600 individual volunteer hours through activities such as providing free tax preparation services to low-income families, packaging meals at the Blue Ridge Area Food Bank, planting trees and promoting sustainable living, serving as teaching aides in local elementary schools, tutoring inmates as part of rehabilitation programs at the regional jail, teaching computer literacy to job-seekers at the Virginia Workforce Center, mentoring refugee children from Sierra Leone and Sudan, and engaging in recreational therapy for individuals with physical or mental disabilities. In addition to individual service, the Beta chapter of Sigma Nu strives to make an impact collectively, for example, by working with Habitat for Humanity to raise funds and awareness for affordable housing in Charlottesville. At the end of each Spring semester, the chapter also hosts a major outdoor philanthropy event, Xanadu, at which we consistently raise thousands of dollars for St. Jude Children’s Hospital. tags Public Service, Social & Hobby, Political & Advocacy, Fraternity or Sorority members 24\n",
      "name AKAdeMiX Dance Crew at the University of Virginia description Founded in Spring 2010, AKAdeMiX Dance Crew is a dance crew at the University of Virginia highlighting diversity in talent and styles. tags Contracted Independent Organization (CIO), Visual & Performing Arts, Social & Hobby, Club Sport members 35\n"
     ]
    },
    {
     "name": "stderr",
     "output_type": "stream",
     "text": [
      "565it [01:45,  5.91it/s]"
     ]
    },
    {
     "name": "stdout",
     "output_type": "stream",
     "text": [
      "name Persian Cultural Society description Persian Cultural Society (PCS) is an active organization dedicated to expanding the horizons of Iranian customs, poetry, language, and hospitality. We wish to engage the community around us in productive dialogues and show the true, beautiful colors of a vibrant culture. Our organization is an outlet for all members of the community, including Iranians, to meet others from different backgrounds and to create a lasting impact in the perspectives of our peers. Events we host are a medium for all members to express their artistic, comedic, poetic, and recreational interests. We furthermore seek to promote the events pertaining to notable Persians around us and to publicize their achievements. tags Contracted Independent Organization (CIO), Cultural & Ethnic, Social & Hobby, Visual & Performing Arts members 31\n",
      "name Hoos for Memory description Our Mission: We aim to spread awareness and be a driving force for change to help those afflicted with degenerative cognitive illnesses such as Alzheimer's and Dementia. Join Hoos for Memory in the fight to end Alzheimer’s Disease! tags Social & Hobby, Public Service, Contracted Independent Organization (CIO), Academic & Professional, No Application or Interview Required members 31\n"
     ]
    },
    {
     "name": "stderr",
     "output_type": "stream",
     "text": [
      "567it [01:46,  6.51it/s]"
     ]
    },
    {
     "name": "stdout",
     "output_type": "stream",
     "text": [
      "name Ballet & Books at UVA description Ballet and Books is a national, non-profit organization striving to reduce the literacy gap through the hybrid storytelling of dance and reading. In our extracurricular programming led by college students, we provide 6-9-year-olds with an opportunity to improve their literacy skills through a combination of dance instruction and dialogic reading. tags Contracted Independent Organization (CIO), Public Service members 11\n",
      "name IEEE Microwave Theory and Techniques Student Chapter at the University of Virginia description The IEEE Microwave Theory and Techniques Society (MTT-S) is a transnational society with more than 10,500 members and 190 chapters worldwide. Our society promotes the advancement of microwave theory and its applications, including RF, microwave, millimeter-wave, and terahertz technologies.For more than 60 years, the MTT-S has worked to advance the professional standing of its members and enhance the quality of life for all people through the development and application of microwave technology. As we enter into an exciting future, our mission is to continue to understand and influence microwave technology and to provide a forum for all microwave engineers. The MTT-S will continue to be the global focus for the promotion of the RF and microwave engineering profession, by advancing and distributing knowledge and supporting professional development.This is an all-volunteer society, driven to excellence by its leadership and with the active participation of all its world-wide members. The activities sponsored by the MTT-S include a broad spectrum of conferences, workshops, tutorials, technical committees, chapter meetings, publications and professional education programs. Our principal publications and conferences are world class, peer-reviewed and recognized as top of the class. Our professional venues provide a great opportunity for networking with experienced innovators, experts, and practitioners. Our volunteer programs provide for the development of critical, non-technical skills that enable you to be more effective professionally. tags Contracted Independent Organization (CIO), Academic & Professional members 7\n"
     ]
    },
    {
     "name": "stderr",
     "output_type": "stream",
     "text": [
      "569it [01:46,  7.10it/s]"
     ]
    },
    {
     "name": "stdout",
     "output_type": "stream",
     "text": [
      "name Virginia Journal of Social Policy & the Law description The Journal’s mission is to publish high-quality scholarship focusing on the intersection between law and social policy. The Journal is also a vehicle for students to further their interests in legal reform and to participate in the national debate about issues of social justice in an academic context. The Journal provides a forum for scholars, practitioners, and students to address social policy from a legal perspective and analyze the law in light of social policy. The Journal publishes academic articles addressing a broad spectrum of issues, including children’s rights, civil rights, criminal justice, education law, gender and the law, health care law, immigration rights, poverty law, race discrimination, rights of the disabled, and sexual orientation and the law. The Journal is dedicated to addressing these and other social issues from a wide variety of perspectives.In furtherance of the Journal’s mission to publish high-quality legal scholarship, the Journal engages in a rigorous review of the quality of articles and in an intensive editorial process. Members of the Journal thus have an opportunity to further develop their editorial abilities, improve their legal analysis, and refine their understanding of legal citation and form. It is one of the chief aims of the Journal to provide a superior educational experience to Journal members.In addition to fostering educational experiences and policy debate, the Journal actively encourages current and former members to interact with each other and develop a network for mentoring and professional development.   tags Media & Publications, Academic & Professional, Contracted Independent Organization (CIO), Law School members 6\n",
      "name HRL SR - Lawn description HRL tags Administrative Unit, Residence Hall, L2K members 0\n"
     ]
    },
    {
     "name": "stderr",
     "output_type": "stream",
     "text": [
      "570it [01:46,  7.42it/s]"
     ]
    },
    {
     "name": "stdout",
     "output_type": "stream",
     "text": [
      "name Virginia Law & Business Review description The Virginia Law & Business Review (VLBR) is one of the nation’s premier journals of business law scholarship. It is published three times a year by law students of the University of Virginia.The student-editors are members of the Virginia Law & Business Review Association, a not-for-profit corporation chartered in the Commonwealth of Virginia. tags Academic & Professional, Contracted Independent Organization (CIO), Law School, Media & Publications members 21\n"
     ]
    },
    {
     "name": "stderr",
     "output_type": "stream",
     "text": [
      "572it [01:47,  4.05it/s]"
     ]
    },
    {
     "name": "stdout",
     "output_type": "stream",
     "text": [
      "name Virginia Review of Politics description The Virginia Review of Politics, also known as “VROP” (pronounced vee-rop), is an undergraduate political magazine at the University of Virginia. The Review publishes wide-ranging content that aims at a middle ground between undergraduate academic journals and student newspaper opinion sections. We take a broad approach to the term politics – in addition to covering formal and electoral politics, our writers examine arts and literature, science and technology, social movements, public health, the environment, and a host of other topics. In doing so, we seek to prompt discussion among policy wonks and newcomers alike. The Review is an omni-partisan platform, which means that our pieces span a diverse array of intellectual and political backgrounds. By giving students an outlet for creative expression and experimentation, we hope to widen the scope of who is allowed to speak on contemporary affairs. We do not deny that our content is politically charged – in fact, that is one of our defining features. However, the articles we publish are meant to reflect only the opinions of their authors, and not the official stance of the Review.  tags Academic & Professional, Contracted Independent Organization (CIO), Political & Advocacy, Media & Publications members 15\n",
      "name Kappa Alpha Psi Fraternity, Inc. (Eta Sigma Chapter) description FSL tags Fraternity or Sorority, National Pan-Hellenic Council (NPHC), Public Service, Social & Hobby, Political & Advocacy, Cultural & Ethnic members 2\n"
     ]
    },
    {
     "name": "stderr",
     "output_type": "stream",
     "text": [
      "574it [01:47,  5.26it/s]"
     ]
    },
    {
     "name": "stdout",
     "output_type": "stream",
     "text": [
      "name Fourth Year Trustees description We, as representatives for the Class of 2023, are dedicated to fostering inclusion, ensuring accessibility, and promoting community during our Fourth Year and beyond. tags Academic & Professional, Social & Hobby, Public Service, Special Status Organization (SSO) members 68\n",
      "name Clean Law Pledge description The Clean Law Pledge (CLP) is a law student-led organization that aims to shift the legal industry away from fossil fuel work and towards more renewable energy work. tags Contracted Independent Organization (CIO), Law School members 11\n"
     ]
    },
    {
     "name": "stderr",
     "output_type": "stream",
     "text": [
      "576it [01:47,  5.73it/s]"
     ]
    },
    {
     "name": "stdout",
     "output_type": "stream",
     "text": [
      "name Virginia Men's Ultimate Frisbee Club description The purpose of this Mens Ultimate Frisbee Club is to compete in the sport of Ultimate against similar organizations across the country. The activities of the club are focused towards advancement to the Ultimate Players Association Collegiate National Tournament. This organization also serves to promote the sport of Ultimate in the University community and central Virginia at large. Although this organization has members who are University of Virginia students and may have University employees associated or engaged in its activities and affairs, the organization is not a part of or an agency of the University. It is a separate and independent organization which is responsible for and manages its own activities and affairs. The University does not direct, supervise or control the organization and is not responsible for the organization’s contracts, acts or omissions.  tags Contracted Independent Organization (CIO), Social & Hobby, Club Sport members 22\n",
      "name Latino Medical Student Association at the University of Virginia description The Latino Medical Student Association (LMSA) was founded with the mission ofuniting and empowering medical students. Accordingly, LMSA develops programs toencourage medicals students to advocate for the health of the Latino communitythrough service, mentorship, and education. The Chapter at the University of VirginiaSchool of Medicine is dedicated to the recruitment, success, and retention of minoritymedical students and to improving the surrounding community through the utilizationof members’ skills and training. tags Cultural & Ethnic, Academic & Professional, Contracted Independent Organization (CIO), Public Service, Political & Advocacy, Social & Hobby members 19\n"
     ]
    },
    {
     "name": "stderr",
     "output_type": "stream",
     "text": [
      "577it [01:48,  6.08it/s]"
     ]
    },
    {
     "name": "stdout",
     "output_type": "stream",
     "text": [
      "name Student Veterans of America at The University of Virginia description The mission of the Student Veterans of America (“SVA”) chapter at the University of Virginia (“UVA”) can be divided into the following Three Parts: Student Veteran Advocacy, Community, and Information.Student Veteran Advocacy. Defined as, “Engaging with UVA faculty, staff and other on-grounds advocacy organizations, and with local government with the aim of pursuing UVA policy changes and enactment of new policies that drive toward the benefit, integration, growth, and development of policies to build on promises by school, state, and federal officials in the pursuit of veteran equity at UVA.”Community. We are committed to supporting the student-veterans at UVA by fostering a positive social and professional network. As student-veterans, we understand the challenges that are inevitable upon separation from military service and transitioning to academic life. By creating community consciousness, we are able to share our experiences, learn from each other, and successfully address the challenges unique to veterans together.Information. SVA at UVA is committed to identifying and disseminating information about opportunities that present themselves to student-veterans and other military-affiliated students. This includes, but isn’t limited to: scholarships, employers, Veterans Affairs information, seminars, local events, application-based majors, UVA hosted events specifically for veterans and social functions. tags L2K, Public Service, Social & Hobby, Political & Advocacy, Contracted Independent Organization (CIO) members 18\n"
     ]
    },
    {
     "name": "stderr",
     "output_type": "stream",
     "text": [
      "579it [01:49,  2.78it/s]"
     ]
    },
    {
     "name": "stdout",
     "output_type": "stream",
     "text": [
      "name Die Club at UVA description Our mission is to provide a safe, accepting environment for all members of the UVA student body, and to build a community centered on an appreciation for and interest in die as an athletic sport.  tags Social & Hobby, Contracted Independent Organization (CIO) members 15\n",
      "name American Institute of Aeronautics and Astronautics description AIAA provides an opportunity for Aerospace/Mechanical Engineering students or anyone with a passion for aerospace to engage with the professional community. Through weekly meetings to discuss pertinent news and work on the annual AIAA design competitions to \"Aero Day\"- an event for the Charlottesville community-- AIAA is a great way to learn from your peers and develop your industry network.  tags Academic & Professional, Contracted Independent Organization (CIO), No Application or Interview Required members 43\n"
     ]
    },
    {
     "name": "stderr",
     "output_type": "stream",
     "text": [
      "581it [01:49,  3.98it/s]"
     ]
    },
    {
     "name": "stdout",
     "output_type": "stream",
     "text": [
      "name Virginia Wushu Club description Virginia Wushu Club members are currently training in Shaolin and Long Fist forms. Advanced members may learn animal forms, weapons, and other styles. Classes are held in an informal atmosphere and focus on training technique, strength, and flexibility. Each semester, club members have the opportunity to compete in collegiate wushu tournaments and/or perform in demonstration events. tags Contracted Independent Organization (CIO), Club Sport, No Application or Interview Required members 26\n",
      "name DreamCorps International description HistoryDream Corps International was founded in 2004 in North Carolina by students, scholars and overseas Chinese. It is committed to providing quality books to children in disadvantaged communities, promoting the regular opening of libraries, working with teachers, parents and volunteers. Through reading, more children can enrich their understanding of the world and life, and become subjects of independent learning and self-cultivation. At the same time, young people at home and abroad can improve themselves and grow up better through grassroots public welfare activities.Over the past nine years, Dream Corps has opened 48 libraries in 14 provinces and cities across China, donated nearly 60,000 books, and 374 volunteers from all over the world participated in the Dream Action Summer Volunteer Activity (SVP), helping nearly 40,000 students, affecting about 800 teachers and more than 20,000 migrant community residents.MissionWith high-quality books, open libraries, active reading services for children; Educate young people through grassroots public welfare activities.VisionAll children can achieve their dreams through reading.What we are doing in UVAOrganize student activities and raise funds to donate to DC headquarters for public good tags Contracted Independent Organization (CIO), Cultural & Ethnic members 14\n"
     ]
    },
    {
     "name": "stderr",
     "output_type": "stream",
     "text": [
      "583it [01:50,  5.00it/s]"
     ]
    },
    {
     "name": "stdout",
     "output_type": "stream",
     "text": [
      "name University Dance Club description Founded in 1998, University Dance Club is the largest student-run dance group at UVA. We hold auditions at the beginning of each semester for a completely student choreographed end-of-semester showcase featuring contemporary, lyrical, jazz, ballet, hip hop, tap, and more! Although this organization has members who are University of Virginia students and may have, University employees associated or engaged in its activities and affairs, the organization is not a part of or an agency. It is a separate and independent organization, which is responsible for and manages its own activities and affairs. The University does not direct, supervise or control the organization and is not responsible for the organization’s contracts, acts or omissions. UDC does not restrict its membership, programs, or activities on the basis of age, color, disability, gender identity, marital status, national or ethnic origin, political affiliation, race, religion, sex (including pregnancy), sexual orientation, veteran status, and family and genetic information.  tags Contracted Independent Organization (CIO), Club Sport, Visual & Performing Arts, Social & Hobby members 94\n",
      "name Best Buddies at UVA description Best Buddies at UVA promotes inclusion by hosting events with adults in the Charlottesville community with intellectual and developmental disabilities (IDD). UVA members are given the opportunity to be match one-on-one to a \"buddy\" for the academic year, which is the focus of the club.  tags Contracted Independent Organization (CIO), Social & Hobby members 82\n"
     ]
    },
    {
     "name": "stderr",
     "output_type": "stream",
     "text": [
      "585it [01:50,  5.60it/s]"
     ]
    },
    {
     "name": "stdout",
     "output_type": "stream",
     "text": [
      "name Frank Batten School of Leadership and Public Policy description At UVA’s Frank Batten School of Leadership and Public Policy, we are committed to solving the world’s toughest policy challenges. We know the complex issues of our time demand innovative, collaborative, cross-sector relationships within our walls and beyond. Our multidisciplinary approach to problem-solving and emphasis on ethics reinforce our focus on how leadership works, why context matters in decision-making and which actions lead to tangible results. tags Department, Schools, or Centers members 0\n",
      "name TEDx UVA description Hey TedHeads, thank you for your interest in TEDx at UVA! In the spirit of ideas worth spreading, TEDx is a program of local, self-organized events that bring people together to share a TED-like experience. These events are branded TEDx, where x = independently organized TED event. TEDx at UVA put on its first event in April 2012 and has hosted a conference every year since. Our conference includes students, professors, and outside professionals as speakers. Members of TEDx do not speak at our events, we are in different teams that work towards organizing our conference. Below are descriptions of each committee:Speakers: Members of the Speakers Committee recruit, organize, and oversee all speakers of our TEDx conferences. In the Fall, the Speakers Committee will mentor student speakers; this involves editing TED talks (strong writing skills necessary), writing and responding to emails efficiently, and providing advice to student speakers in a one-on-one mentoring setting. In the spring, members of Speakers are responsible for recruiting TEDx speakers and mentoring them in writing their TED talks. Members of the committee must be comfortable communicating in a professional and prompt manner and will be working in a very small group setting.Sponsorship: The Sponsorship Committee handles the sourcing and using of the organization's funds. As a member of the Sponsorship Team, you will be involved in developing and managing the club's budget, applying for grants and managing relationships with corporate partners, and creating ways to find and use funds strategically. The role is perfect for someone with an interest in finance and gives you a very unique view of the club's operation and management.Outreach: The job of this committee would broadly be to engage with the University community in ways other than Student Speaker Conference and the Main Conference. This would entail the continued publication of a newsletter for the TEDx community as well as collaborations with other groups on grounds to promote ideas worth spreading. The exciting thing about this committee is that it acts nearly independently and requires creativity, allowing the members to have a huge amount of latitude in the direction of the committee.Graphics and Marketing:The role of the Graphics committee is to facilitate communication between the organization and the University community. Members of this committee will be responsible for managing social media accounts, our website, and our on-Ground presence through flyering, chalking, and creating outreach videos. In addition, committee members will be creating graphics through various software programs, developing ideas, and producing various marketing campaigns to be implemented on-Grounds for TEDx sponsored events.Logistics: The logistics committee is concerned with the behind the scenes of the two conferences. Being on this committee involves creating the decorations, designing the stage, and organizing venues. Logistics members need to have a strong sense of design, communication, and organizational skills in order to make the conferences run smoothly. Please visit our website to learn more about TEDxUVA and to glimpse our past events and speakers: https://www.tedxuva.org/ tags Academic & Professional, Contracted Independent Organization (CIO), Political & Advocacy, Social & Hobby, Public Service, Media & Publications members 10\n"
     ]
    },
    {
     "name": "stderr",
     "output_type": "stream",
     "text": [
      "587it [01:50,  5.44it/s]"
     ]
    },
    {
     "name": "stdout",
     "output_type": "stream",
     "text": [
      "name Graduate Soccer Club at UVA description The Graduate Soccer Club at UVA is an organization that seeks to bring together students in various graduate programs and faculty through a shared love for soccer. We organize formal teams to participate in the local soccer leagues as well as intramural leagues. We also involve our members with volunteer coaching opportunities with youth teams in Charlottesville. tags Contracted Independent Organization (CIO), Social & Hobby members 5\n",
      "name Virginia Black Review description The Virginia Black Review, also known as VBR, is a political, cultural and art magazine by and for the Black community at the University of Virginia.The Virginia Black Review publishes a wide variety of content that lies at the productive center of a student opinion newspaper section, art journal, and literary magazine. In our digital and print issues, readers will enjoy opinion pieces, poetry, short stories, artwork, and more. In order to honor the abundance, richness and ubiquity of Black creativity, our writers and artists examine current events, social media, arts, literature, and many other topics. Ultimately, we strive to achieve a safe, uplifting, and celebratory creative space. tags Political & Advocacy, Cultural & Ethnic, Contracted Independent Organization (CIO), Black Presidents Council, Media & Publications members 15\n"
     ]
    },
    {
     "name": "stderr",
     "output_type": "stream",
     "text": [
      "589it [01:51,  6.01it/s]"
     ]
    },
    {
     "name": "stdout",
     "output_type": "stream",
     "text": [
      "name Hullabahoos description The Hullabahoos are a group of guys at the University of Virginia who like to sing other peoples music without instruments and wear robes while they do it. Since the group was founded in 1987, they have been fortunate enough to sing at venues large and small. A few of our most memorable gigs include being featured in Universal Pictures' major motion film Pitch Perfect, guest starring on NBC's hit TV sitcom, The Office, accompanying Ed Helms during his commencement exercises speech in 2015, singing for President Obama at the 2011 Democratic Congressional Retreat, performing at the Hard Rock Cafe in Manila, Philippines, the George W. Bush 2007 President Dinner at the Washington Convention Center, and on ABC's Good Morning america. With the recent release of our studio album All Aboard, the group's future has never been brighter. tags Contracted Independent Organization (CIO), Visual & Performing Arts members 13\n",
      "name Blue Ridge Mountain Rescue Group description We are a volunteer search and rescue organization.  Please visit our website https://brmrg.org/ for more information! tags No Application or Interview Required, Contracted Independent Organization (CIO), Academic & Professional, Public Service members 10\n"
     ]
    },
    {
     "name": "stderr",
     "output_type": "stream",
     "text": [
      "591it [01:51,  6.21it/s]"
     ]
    },
    {
     "name": "stdout",
     "output_type": "stream",
     "text": [
      "name Darden Racquet Club description The purpose of the Darden Racquet Club (DRC) is to promote student involvement in racquet sports (tennis, squash, pickleball, badminton, etc.) and facilitate the activities. DRC’s mission is to be the premier community for Darden students, partners and faculty who enjoy playing racquet sports. We welcome players of all abilities to our events and actively encourage anyone interested to learn how to play these lifetime sports with us. tags Darden School, Social & Hobby, Contracted Independent Organization (CIO), No Application or Interview Required members 15\n",
      "name HooRaas at the University of Virginia description HooRaas is a competitive co-ed dance team that seeks to promote the awareness of a particular type of Indian folk dance called garba-raas that is indigenous to the state of Gujarat. As a team of University of Virginia students, we perform at intercollegiate events and competitions. By performing at cultural events at the University of Virginia and at other venues, we contribute to the diversity of the university community. We aim to promote the understanding of South Asian, and specifically Gujarati, culture. tags Cultural & Ethnic, Contracted Independent Organization (CIO), Visual & Performing Arts, Club Sport members 9\n"
     ]
    },
    {
     "name": "stderr",
     "output_type": "stream",
     "text": [
      "593it [01:51,  6.30it/s]"
     ]
    },
    {
     "name": "stdout",
     "output_type": "stream",
     "text": [
      "name Georges Student Center description The mission of the Georges Student Center is to connect students to the resources, opportunities, and support available through dozens of programs and departments at the University. The Center is located on the 2nd floor of Clemons Library. tags Department, Schools, or Centers members 3\n",
      "name Student Association of Landscape Architecture and Design description SALAD seeks to expand and enrich opportunities for those interested in the fields of landscape architecture and landscape design. SALAD builds community through social, professional development, volunteer, and educational events. tags Contracted Independent Organization (CIO), Academic & Professional, Architecture members 12\n"
     ]
    },
    {
     "name": "stderr",
     "output_type": "stream",
     "text": [
      "595it [01:51,  6.52it/s]"
     ]
    },
    {
     "name": "stdout",
     "output_type": "stream",
     "text": [
      "name Korean Community Church in Charlottesville College Group description We are a Christian college fellowship group serving at a church named Korean Community Church in Charlottesville (KCCIC). Our logo is named H.I.M, which is an acronym for “Here I Am” from the Bible passage Isaiah 6:8.“Then I heard the voice of the Lord saying, “Whom shall I send? And who will go for us?” And I said, “Here am I. Send me.”We meet every Fridays and Sundays to have praise, worship and fellowship. Other religious activities include Bible study, discipleship training and Friday small groups. Other events include Big-Little buddies, Boy/Girl Lock-in, Fall retreat, (Spring) joint retreat, Praise/Alumni night, Senior banquet. tags Contracted Independent Organization (CIO), Religious & Spiritual members 12\n",
      "name SCUBA Club description The Scuba Club at UVA provides students a chance to meet other students and community members with one common interest: SCUBA DIVING! The SCUBA Club organizes dive trips, aquarium trips, and much more.  You do NOT have to be certified to join SCUBA Club. You may ultimately want to pursue open water certification or other advanced certifications, but in no way is this a requirement. Come out and see what diving is all about! Although this organization has members who are University of Virginia students and may have, University employees associated or engaged in its activities and affairs, the organization is not a part of or an agency. It is a separate and independent organization, which is responsible for and manages its own activities and affairs. The University does not direct, supervise or control the organization and is not responsible for the organization’s contracts, acts or omissions. tags Social & Hobby, Contracted Independent Organization (CIO), No Application or Interview Required members 46\n"
     ]
    },
    {
     "name": "stderr",
     "output_type": "stream",
     "text": [
      "597it [01:52,  6.87it/s]"
     ]
    },
    {
     "name": "stdout",
     "output_type": "stream",
     "text": [
      "name Alpha Epsilon Pi (Mu Chapter) description FSL tags Public Service, Political & Advocacy, Social & Hobby, Fraternity or Sorority members 33\n",
      "name HerCampusatUVA description Her Campus is a gender-inclusive online lifestyle and fashion magazine. Join us if you are looking for a creative outlet and want to see your writing posted on a real website! We have both Writing and Social Media teams; you will certainly find something you are interested in.  tags Social & Hobby, Contracted Independent Organization (CIO), Media & Publications members 11\n"
     ]
    },
    {
     "name": "stderr",
     "output_type": "stream",
     "text": [
      "599it [01:52,  7.28it/s]"
     ]
    },
    {
     "name": "stdout",
     "output_type": "stream",
     "text": [
      "name Commerce Council description The Commerce Council represents and supports undergraduate students in the McIntire School of Commerce by hosting and coordinating service and social events, outreach activities, and other various programs. tags Special Status Organization (SSO), Academic & Professional, Administrative Unit, McIntire School of Commerce members 39\n",
      "name Lambda Philanthropy description Lambda Philanthropy promotes leadership and creating a better community.  It does such by being active in our local communities both while on grounds and back home.  We conduct events such as adopt a highway, Henry Reed Classic, and other events, to help raise awareness and money for organizations such as the American Brain Tumor Association, Comfort Zone Camp, and the Muscular Dystrophy Association.  tags Contracted Independent Organization (CIO), Leadership Development, Public Service members 17\n"
     ]
    },
    {
     "name": "stderr",
     "output_type": "stream",
     "text": [
      "600it [01:52,  7.16it/s]"
     ]
    },
    {
     "name": "stdout",
     "output_type": "stream",
     "text": [
      "name APEX Dance Crew description APEX was the first Korean Pop (K-Pop) dance crew established at the University of Virginia. Founded in 2014, our goal has always been to introduce K-Pop and other East Asian music genres to the dance community at UVA. We are a non-audition group open to dancers of all levels, and strive to create a positive, enjoyable environment for everyone. If you’re interested in joining, please don’t hesitate to reach out! tags No Application or Interview Required, Visual & Performing Arts, Social & Hobby, Contracted Independent Organization (CIO), Cultural & Ethnic members 18\n"
     ]
    },
    {
     "name": "stderr",
     "output_type": "stream",
     "text": [
      "601it [01:52,  5.37it/s]"
     ]
    },
    {
     "name": "stdout",
     "output_type": "stream",
     "text": [
      "name HRL Executive Committee description HRL tags Residence Hall, Administrative Unit members 0\n"
     ]
    },
    {
     "name": "stderr",
     "output_type": "stream",
     "text": [
      "603it [01:53,  5.62it/s]"
     ]
    },
    {
     "name": "stdout",
     "output_type": "stream",
     "text": [
      "name Network of Enlightened Women at the University of Virginia description The Network of enlightened Women (NeW) is dedicated to fostering the education and leadership skills of conservative university women. Specifically at UVA, NeW is devoted to expanding intellectual diversity through educational opportunities, training women to become leaders, and creating a community of conservative women. tags Contracted Independent Organization (CIO), Academic & Professional, Political & Advocacy, No Application or Interview Required members 8\n",
      "name Virginia Eventing and Dressage Team description Teaching riders the skills needed for dressage and the proper care and training of horses. Representing the university in collegiate events through USEA. tags No Application or Interview Required, Club Sport, Social & Hobby, Contracted Independent Organization (CIO) members 16\n"
     ]
    },
    {
     "name": "stderr",
     "output_type": "stream",
     "text": [
      "605it [01:53,  5.98it/s]"
     ]
    },
    {
     "name": "stdout",
     "output_type": "stream",
     "text": [
      "name OneWay InterVarsity Christian Fellowship description OneWay is a ministry of InterVarsity Christian Fellowship that is committed to reaching black students and faculty and ministering to the unique needs of our community while developing Christian leaders. We seek to see black students transformed, trained and thrive all through the power of the gospel.  tags Social & Hobby, Contracted Independent Organization (CIO), Cultural & Ethnic, Religious & Spiritual, Black Presidents Council members 13\n",
      "name Awaaz at the University of Virginia description It is often difficult for South Asian young adults to seek help due to a heightened societal stigma surrounding mental health in South Asian communities. This leads to elevated feelings of distress and helplessness as mental health issues are usually marginalized and cast aside within the community. Thus, Awaaz– meaning “Voice'' in many South Asian languages– started with the goal of providing South Asian students with a safe space for communication regarding unique discussion topics while building awareness about mental health issues and providing support to the South Asian community. It is especially difficult for South Asian students to seek professional help such as therapy services, a practice that is not viewed favorably by older generations. Awaaz aims to create a supportive group atmosphere where student confidentiality is non-negotiable so that interested students can seek help and connections worry-free. By being a member of this organization, students will have the opportunity to share their own experiences and relate to others on a more personal level. Furthermore, we hope that the new connections forged within this organization will allow students to reach out to trusted individuals within the Awaaz community in times of need. Overall, Awaaz hopes to break down barriers that are in the way of South Asian students seeking mental health related resources. tags Contracted Independent Organization (CIO), Cultural & Ethnic, No Application or Interview Required members 6\n"
     ]
    },
    {
     "name": "stderr",
     "output_type": "stream",
     "text": [
      "607it [01:53,  6.41it/s]"
     ]
    },
    {
     "name": "stdout",
     "output_type": "stream",
     "text": [
      "name Zeta Phi Beta Sorority, Inc. (Tau Theta Chapter) description FSL tags Social & Hobby, Political & Advocacy, Public Service, Cultural & Ethnic, Fraternity or Sorority, National Pan-Hellenic Council (NPHC) members 0\n",
      "name French and Francophone Club at UVA description The French and Francophone Club at UVA (FFC) is a student organization at the University of Virginia that promotes the French and Francophone culture and values to the UVA community. It serves as a focal point for the French and Francophone community at UVA and constitutes the primary gateway between the French world and UVA students and faculty. The FFC acts as a platform that connects people interested in French culture and offers the opportunity to meet, speak French, and exchange ideas. It also strives to expose the UVA community to the French language, literature, cinema, art, gastronomy, politics, and philosophy. It is finally a prime source of information on academic and employment opportunities in France. The FFC regularly organizes events for the UVA community. We (re)discover French culture and mostly have fun! tags Cultural & Ethnic, Contracted Independent Organization (CIO), No Application or Interview Required members 18\n"
     ]
    },
    {
     "name": "stderr",
     "output_type": "stream",
     "text": [
      "609it [01:54,  6.55it/s]"
     ]
    },
    {
     "name": "stdout",
     "output_type": "stream",
     "text": [
      "name Blockchain at UVA description Our goal is to help UVA students understand and get involved in blockchain technology by providing speakers, educational content, presentations, and other supplemental resources to build interest in this emerging technology. Additionally, we seek to facilitate networking and career opportunities for any students interested in getting into the space. We plan to start a club run fund where students can make investment proposals on blockchain based assets. This fund will also aim to provide a hands on experience where students gain exposure to the space in a safe and collaborative way. Our overall goal is to create an environment here on grounds that allows students curious about this new technology to get involved alongside other like minded students. tags Academic & Professional, Contracted Independent Organization (CIO) members 18\n",
      "name Jaegers at UVA description Jaegers at UVA is dedicated to giving students the opportunity to engage the natural environment through hunting, fishing, and wildlife stewardship.  The Jaeger mission is to give every member to hunt, fish, and enjoy nature by creating a community that shares knowledge and provides opportunities and resources.  Jaegers is a diverse group of individuals that welcome novices and experts alike.   Current Roster:Geary Michael Haas - President/Vice PresidentTim Brown - TreasurerRomeo Sarmiento - Vice President/SecretaryAlex BarneyAlex EspinozaAndrew MerceDalton TaylorDominic LucasDylan Pierre LouisEdgar HercilaGerardo GuzmanJacob BeckhamJaime VidaurreMason FoxSteve Peters Jr.Tyler Hesselberth tags Social & Hobby, Sustainability, Peer Mentors members 0\n"
     ]
    },
    {
     "name": "stderr",
     "output_type": "stream",
     "text": [
      "611it [01:54,  6.89it/s]"
     ]
    },
    {
     "name": "stdout",
     "output_type": "stream",
     "text": [
      "name University Board of Elections description The UBE was established in the Fall of 2003 to further the aims of student self-governance within a community of trust and honor and to supervise all University-wide student elections. These include elections for organizations such as Student Council, the Honor Committee, the University Judiciary Committee, and School Councils. The UBE is responsible for setting the semesterly elections calendar and for maintaining the ballot of the University’s on-line voting system. Membership in the UBE is open to all students and is obtained through an application process each year. If you require further information about the University Board of Elections and cannot find it on our website, please contact us. tags Political & Advocacy, Special Status Organization (SSO), Academic & Professional members 10\n",
      "name Washington Literary Society and Debating Union description The Washington Society was formed in Pavilion VII, now the Colonnade Club, in 1831 in dedication to the continual exercise of effective speech and intellectual exploration. The Society, affectionately referred to as \"The Wash,\" holds weekly literary presentations and debates driven by its membership. As a free speech and debating society, The Wash helps its members to develop a deep appreciation of the art of oratory through workshops, competitions, and social events. We also engage our peers, the Jefferson Society, in debate three times a year, at the Harrison Cup humorous debate and the Ethics Debate in the Fall, and again at the Smith-Simpson Foreign Policy Debate in the Spring. tags No Application or Interview Required, Contracted Independent Organization (CIO), Academic & Professional members 91\n"
     ]
    },
    {
     "name": "stderr",
     "output_type": "stream",
     "text": [
      "613it [01:54,  6.55it/s]"
     ]
    },
    {
     "name": "stdout",
     "output_type": "stream",
     "text": [
      "name Saudi Students Association at University of Virginia description The Saudi Student Clubs and Associations represent Saudi students and their companions in the USA, with one student club in every university across the nation. The association oversees Saudi Student Societies affiliated with it, with one society for every university in the same city and/or state. The student clubs operate under the supervision of the Saudi Arabian Cultural Mission to the USA (SACM). All Saudi sponsored and non-sponsored students and their companions are eligible for Saudi Student Clubs membership.Objectives• To reflect cultural, scientific, and historical aspects of Saudi Arabia. • To foster relationships and co-operation with academic and student communities at the US universities. • To assist new students to overcome difficulties pertaining to study, accommodation, and settling in. • To help students participate in academic and student activities through Saudi Student Societies. • To liaise with local community centers and organizations to enhance a positive image of Saudi students. tags Contracted Independent Organization (CIO), Cultural & Ethnic, No Application or Interview Required members 15\n",
      "name The Jefferson Literary & Debating Society description \"The Jefferson Literary & Debating Society was founded on July 14th, 1825 by 16 disgruntled members of the now-defunct Patrick Henry Society in Room 7, West Lawn.\"The Jefferson Literary & Debating Society is the oldest student organization at the University of Virginia, a forum where speech, literature, and the matters of the day are all discussed among good company. This is an organization dedicated to open discussion and respectful debate, flowery prose and rigorous science, self-improvement and good fun.The Jefferson Society is inviting all students at the University of Virginia to interview for membership at the beginning of the Fall and Spring semesters. Members of the Jefferson Society come from all parts of the University, including undergraduate programs, the Law School, Darden, Batten, and PhD programs. In the past, the Jefferson Society has served as an intellectual home at the University for a future U.S. President, Senators, a Nobel Laureate, and world-famous poets. As a literary and debating society, the members of the Jefferson Society meet weekly on Friday nights to deliver speeches on topics that impassioned them, to debate over pressing matters facing the University or the country, to discuss the literature of today or of antiquity, and to converse with friends, old and new. If this seems like a place for you, please fill out an interview card and come interview at the beginning of the semester for a chance to join our storied membership.If you have any questions regarding our interview week, our membership process, or the Jefferson Society in general, please contact our historian Ms. Zoe Jenkins at historian@jeffersonsociety.org. tags Contracted Independent Organization (CIO), Academic & Professional members 56\n"
     ]
    },
    {
     "name": "stderr",
     "output_type": "stream",
     "text": [
      "614it [01:54,  6.57it/s]"
     ]
    },
    {
     "name": "stdout",
     "output_type": "stream",
     "text": [
      "name Middle Eastern and North African Law Student Association description The purpose of this organization shall be to represent the views of Middle Eastern and North African students at the University of Virginia School of Law; to promote the welfare of its members through educational, professional, cultural, and social programs; and to provide a forum for the discussion of local, national, and international issues affecting both the Middle Eastern and North African law student community and the University community as a whole. tags Contracted Independent Organization (CIO), Cultural & Ethnic, Academic & Professional, Law School members 1\n"
     ]
    },
    {
     "name": "stderr",
     "output_type": "stream",
     "text": [
      "616it [01:55,  5.84it/s]"
     ]
    },
    {
     "name": "stdout",
     "output_type": "stream",
     "text": [
      "name Virginia Bar Association Law School Council at the University of Virginia School of Law description The VBA hosts networking events and receptions in Charlottesville for students interested in exploring both private practice and public service careers in Virginia, watch parties and tailgates with Virginia-based law firms, career panels with current students heading to Virginia offices and with Virginia practitioners, and socials with current students and Charlottesville/Albemarle Bar Association members. tags Academic & Professional, Contracted Independent Organization (CIO), Law School, No Application or Interview Required members 7\n",
      "name The Psychological Society at the University of Virginia description The Psychological Society at UVA is an organization of undergraduate psychology majors and minors passionate about the field. The main goal is to connect members with faculty, alumni, and opportunities within the field of psychology. Meetings include bake sales to raise money for mental health organizations, guest speakers and panels. Notably, we host panels of UVA Psych Society alumni, UVA alumni who majored in Psychology, and current UVA Psychology Department Faculty. Membership involves paying $5 dues and attendance of at least one meeting per semester.  tags Contracted Independent Organization (CIO), Academic & Professional members 125\n"
     ]
    },
    {
     "name": "stderr",
     "output_type": "stream",
     "text": [
      "619it [01:55,  8.54it/s]"
     ]
    },
    {
     "name": "stdout",
     "output_type": "stream",
     "text": [
      "name Yahweh Ministries description Yahweh Ministries is an organization dedicated to cultivating cultural and creative outlets of worship. This includes our main event known as Yahweh Night which features, songs, praise dance, spoken word poetry, and rap. Musical selections and talents are inspired by the various cultures from the African Diaspora, Latinx Cultures, and other various underrepresented cultures at the university. We aim to carry out our mission by partnering with various Christian organizations on grounds and in the greater Charlottesville community.  tags Contracted Independent Organization (CIO), Cultural & Ethnic, Visual & Performing Arts, Religious & Spiritual members 11\n",
      "name Phi Delta Epsilon International Medical Fraternity description Phi Delta Epsilon (PhiDE) is a gender-inclusive medical fraternity with chapters around the world. Undergraduates, medical students, and physicians help one another on the path to providing the highest level of care to current and future patients. VA Alpha is our pre-medical chapter at UVA, and we support one another with philanthropic, educational, and social events. We hold recruitment at the beginning of every semester. tags Academic & Professional, Contracted Independent Organization (CIO) members 48\n"
     ]
    },
    {
     "name": "stderr",
     "output_type": "stream",
     "text": [
      "621it [01:55,  8.07it/s]"
     ]
    },
    {
     "name": "stdout",
     "output_type": "stream",
     "text": [
      "name 3D Printing Club at The University of Virginia description 3D Printing Club at The University of Virginia exists to promote the rapidly growing and evolving technology of 3D printing. Regular meetings are 2:00pm in MEC B005 on Sundays (members will be notified of any changes via email and/or GroupMe). No dues are required, and people can stop by any meeting! tags Social & Hobby, Academic & Professional, Contracted Independent Organization (CIO), No Application or Interview Required members 48\n",
      "name Society of Architectural Historians description UVASAH is the oldest student-run chapter of the Society of Architectural Historians. It serves as a social and scholastic link between the faculty and students of UVA's Department of Architectural History, which is the oldest such department in the nation. In this capacity, UVASAH hosts lectures by distinguished scholars, coordinates guided trips to historic sites, arranges social events for faculty and students, and provides leadership and feedback on the changing discourse of our discipline.Traditionally, the Architectural History Department has consisted of friends and colleagues who are stewards and scholars of architecture, the built environment, historic preservation, and cultural landscape studies.  The collective goal of UVASAH is to continue to create an open, trusting, inclusive, and enlightening dialogue between students, faculty, and staff as we continue to elevate and open the discipline for more inclusive conversations and connections. tags Academic & Professional, Contracted Independent Organization (CIO), No Application or Interview Required, Architecture members 10\n"
     ]
    },
    {
     "name": "stderr",
     "output_type": "stream",
     "text": [
      "622it [01:55,  7.86it/s]"
     ]
    },
    {
     "name": "stdout",
     "output_type": "stream",
     "text": [
      "name Delta Delta Delta (Beta Sigma Chapter) description FSL tags Fraternity or Sorority, Social & Hobby, Political & Advocacy, Public Service members 2\n"
     ]
    },
    {
     "name": "stderr",
     "output_type": "stream",
     "text": [
      "624it [01:56,  4.85it/s]"
     ]
    },
    {
     "name": "stdout",
     "output_type": "stream",
     "text": [
      "name Sikh Students Association description The purpose of the organization is to promote the Sikh religion, heritage and culture through understanding and service with the community. The SSA shall also serve as a forum and support group for Sikh students, faculty, or staff and those interested in the Sikh faith and culture to meet. tags Religious & Spiritual, No Application or Interview Required, Social & Hobby, Public Service, Cultural & Ethnic, Contracted Independent Organization (CIO) members 35\n",
      "name The Jam Club description Our organization specializes in developing the improvisational skills of musicians in a judgement-free environment. We meet weekly and focus on jamming together as a single unit. While soloing and improvising are the focus of our group, it is not necessary to know how to solo/improvise to take part. The organization leaders will help teach and foster musical skills, so all skill levels are welcome. We typically play set progressions decided beforehand; however, we are open to song suggestions. tags No Application or Interview Required, Peer Mentors, Contracted Independent Organization (CIO), Visual & Performing Arts, Social & Hobby members 13\n"
     ]
    },
    {
     "name": "stderr",
     "output_type": "stream",
     "text": [
      "627it [01:56,  7.14it/s]"
     ]
    },
    {
     "name": "stdout",
     "output_type": "stream",
     "text": [
      "name HoosTalking description The organization was formed in December, 2016. The current president founded an online platform to help both herself and other students to express their anxieties and pressure through this anonymous platform. She made a Google Form to collect students’ responses and post them on Wechat every week. Soon it became popular among certain student groups and some students came together to found this organization as it is now. Weekly Wechat push has become a regular event for our organization. After the organization was created, our organization also sought for other ways that engage Chinese students to share their daily life and facilitate a sense of belonging at UVA. For instance, some students would make cooking tutorials videos for us. Pets videos are popular in our Wechat push as well. In order to provide those who are interested in pets more information about keeping a pet, we make videos of the pets from Chinese students. These videos are all distributed online via the Wechat. Apart from video-featured columns, our organization decided to initiate discussions of common social issues among students to help relieve stresses and enlighten them. The topics of discussions we have initiated include depression and eating disorder. By collecting and posting anonymous response from students who have experienced similar issues, we tried to let other people be more aware of the issue and keep an eye on themselves and people around them. tags Contracted Independent Organization (CIO), Social & Hobby members 10\n",
      "name Young Americans for Freedom at UVA description MissionYoung Americans for Freedom (YAF) at UVA is committed to ensuring that increasing numbers of young Americans understand and are inspired by the ideas of individual freedom, a strong national defense, free enterprise, and traditional values. YAF chapters can provide a visible presence for the Conservative Movement, energizing students, and encouraging them to speak out.HistoryYAF was founded on September 11, 1960 by young conservatives from around the country who met at the home of William F. Buckley Jr. in Sharon Connecticut and wrote its founding document titled, the “Sharon Statement.” Since then, YAF has been a leading figure in energizing young people around conservative leaders, such as Barry Goldwater and Ronald Reagan, and helping college students battle liberal bias and indoctrination at their schools. While a YAF chapter was present at UVA throughout the 1960s, 70s, 80s, and 90s the movement faded away and was not active until Anthony Hadford re-founded its presence in 2013. tags Contracted Independent Organization (CIO), Political & Advocacy, Social & Hobby members 13\n"
     ]
    },
    {
     "name": "stderr",
     "output_type": "stream",
     "text": [
      "629it [01:57,  6.97it/s]"
     ]
    },
    {
     "name": "stdout",
     "output_type": "stream",
     "text": [
      "name Sigma Gamma Rho Sorority, Inc. (Theta Lambda Chapter) description FSL tags Public Service, Political & Advocacy, Cultural & Ethnic, Fraternity or Sorority, National Pan-Hellenic Council (NPHC) members 0\n",
      "name American Institute of Architecture Students at UVA description AIAS is a national, student-run organization that diversifies architectural education. Here at the UVA School of Architecture, our chapter provides professional, service, social, leadership, and travel opportunities. Our mission is to provide a more sustainable, healthy, and equitable future through the empowerment of student voices, ideas, and actions. In recent events, we have introduced students to various professional development workshops, hearing from local architecture firms and practicing architects about their experiences in the architecture and design-related disciplines. tags No Application or Interview Required, Architecture, Sustainability, Contracted Independent Organization (CIO), Academic & Professional members 38\n"
     ]
    },
    {
     "name": "stderr",
     "output_type": "stream",
     "text": [
      "631it [01:57,  6.66it/s]"
     ]
    },
    {
     "name": "stdout",
     "output_type": "stream",
     "text": [
      "name College Aerospace Medicine Society at UVA description The College Aerospace Medicine Society (CAMS) is an organization comprised of undergraduate students at the University of Virginia that fosters interest in the field of aerospace medicine. Through a journal club, speaker events, and community outreach, students will explore this ever-growing field.  tags No Application or Interview Required, Contracted Independent Organization (CIO), Academic & Professional members 15\n",
      "name Environmental Justice Collective description The Environmental Justice Collective (EJC) strives to recognize that intersectionality is essential to understanding the complexity of environmental justice. EJC believes all people, regardless of marginalized identity factors, have the right to thrive in healthy physical, natural, social, and mental spaces. EJC opposes the legacies of colonialism, capitalism, racism, and the heteropatriarchy that changed our relationship with the environment from one that is symbiotic to parasitic. EJC looks to Indigenous communities for guidance to reevaluate our relationships with the environment. Through direct action, community building, and mutual education, EJC strives to provide a safe space for students of color and the larger UVA community to discuss environmental injustice in the United States and globally.  tags Political & Advocacy, Contracted Independent Organization (CIO), No Application or Interview Required members 33\n"
     ]
    },
    {
     "name": "stderr",
     "output_type": "stream",
     "text": [
      "633it [01:57,  6.43it/s]"
     ]
    },
    {
     "name": "stdout",
     "output_type": "stream",
     "text": [
      "name International Council on Systems Engineering at the University of Virginia description INCOSE at the University of Virginia exists to serve, strengthen, and promote the UVA Systems Undergraduate Community by advocating for its students and offering them avenues for career development, guidance, and connecting with peers.  tags Academic & Professional, Contracted Independent Organization (CIO), No Application or Interview Required members 17\n",
      "name Darden Student Association description Darden Student Association Mission Statement“Strengthen the fabric of the Darden community by bridging student voices with the faculty and administration, working to create an environment that fosters community and enhances the social, academic, and professional experiences for students.”Darden Student Association Vision\"Empowering the fullest Darden experience.” tags Darden School, Special Status Organization (SSO), Social & Hobby, Academic & Professional, Cultural & Ethnic, Administrative Unit, No Application or Interview Required members 14\n"
     ]
    },
    {
     "name": "stderr",
     "output_type": "stream",
     "text": [
      "635it [01:58,  6.20it/s]"
     ]
    },
    {
     "name": "stdout",
     "output_type": "stream",
     "text": [
      "name Club Swim at the University of Virginia description Club Swim at the University of Virginia is a UVA CIO that exists to provide students with the opportunity to be a part of a unique and special swim team on Grounds. The organization strives to provide its diverse membership base with a competitive and enjoyable competitive swimming experience at UVA. Through daily practices, meets, member social activities, formals, and various community service events, Club Swim at UVA welcomes members of all skill levels to participate in a healthy and worthwhile extracurricular.Moreover, Club Swim at UVA takes pride in its inclusive and welcoming background, as \"there's something for everyone\". Since its conception, the CIO has served as a group where individuals can not only improve their swimming ability, but also foster relationships with others that will last a lifetime.  tags Club Sport, Social & Hobby, Contracted Independent Organization (CIO), No Application or Interview Required members 27\n",
      "name Korean Student Association description The Korean Student Association is a cultural organization that strives to spread and share Korean culture on Grounds. The organization welcomes students of all backgrounds to join! The organization is run by an executive board and an officer board, and all members are split into family groups that meet and hang out regularly.The organization holds a variety of events including Korea Day, KSA EXPO, and Taste of Korea. These events feature and celebrate Korean culture and food. There are other events and fundraising activities such as philanthropy events, workshops, holiday events, and family events for all students to take part in. tags Contracted Independent Organization (CIO), Cultural & Ethnic, Social & Hobby members 26\n"
     ]
    },
    {
     "name": "stderr",
     "output_type": "stream",
     "text": [
      "637it [01:58,  6.66it/s]"
     ]
    },
    {
     "name": "stdout",
     "output_type": "stream",
     "text": [
      "name Pancakes for Parkinson's description Pancakes for Parkinson's raises money and awareness for the Micheal J. Fox Foundation for Parkinson's Research. We plan a free of charge pancake breakfast on UVA's South Lawn. All money raised is donated to the foundation.  tags Public Service, Contracted Independent Organization (CIO), Media & Publications members 18\n",
      "name HRL SR - Faulkner description HRL tags Administrative Unit, Residence Hall members 0\n"
     ]
    },
    {
     "name": "stderr",
     "output_type": "stream",
     "text": [
      "639it [01:58,  7.07it/s]"
     ]
    },
    {
     "name": "stdout",
     "output_type": "stream",
     "text": [
      "name Public Interest Law Association description PILA is a student organization dedicated to the promotion of public interest law at the University of Virginia School of Law. Our activities include sponsoring social and networking opportunities to support students interested in public interest law; raising funds, through an annual auction and other fundraisers, for the PILA+ program; distributing summer grants to support first- and second-year law students working in non- or low-paying public sector jobs during the summer. tags Academic & Professional, Contracted Independent Organization (CIO), Public Service, Law School members 12\n",
      "name Seek His Face description Seek is a CIO at UVA that desires unity among Wahoo Christians through prayer and worship at our grounds-wide inter-fellowship worship night every semester. Seek is a college campus movement designed to promote group worship at participating schools. It was born at UVA by students who saw a need to unite the various Christian fellowships at their school. tags Contracted Independent Organization (CIO), Cultural & Ethnic, Public Service, Religious & Spiritual members 11\n"
     ]
    },
    {
     "name": "stderr",
     "output_type": "stream",
     "text": [
      "641it [01:59,  6.98it/s]"
     ]
    },
    {
     "name": "stdout",
     "output_type": "stream",
     "text": [
      "name Sisters Project Peru at UVA description Sisters Project Peru at UVA is a chapter branch of the Sisters Project Peru nonprofit project dedicated to building a sustainable medical clinic in rural Huacahuasi Peru. The project focuses on community development through an indigenous and gender justice lens.  tags Contracted Independent Organization (CIO), International, No Application or Interview Required members 5\n",
      "name Kappa Delta (Beta Alpha Chapter) description FSL tags Fraternity or Sorority, Public Service, Social & Hobby, Political & Advocacy members 2\n"
     ]
    },
    {
     "name": "stderr",
     "output_type": "stream",
     "text": [
      "643it [01:59,  5.75it/s]"
     ]
    },
    {
     "name": "stdout",
     "output_type": "stream",
     "text": [
      "name Parliamentary Debate Society at UVA description We are the most successful intercollegiate debate team at UVA. We compete primarily on the American Parliamentary Debate League - predominantly among other schools on the East Coast, as well as Stanford and Chicago. We are the only debate group at UVA that provides the opportunity to travel every weekend.Follow us on Instagram @parlidebateatuva for more information and updates! tags Contracted Independent Organization (CIO), Academic & Professional, Social & Hobby, Political & Advocacy members 12\n",
      "name Institute for Healthcare Improvement at UVA description The mission of the Institute for Healthcare Improvement Chapter at UVA (IHI@UVA) is to promote knowledge and interest of patient safety and quality improvement through education, research, and interprofessional collaboration.  tags No Application or Interview Required, Contracted Independent Organization (CIO), Academic & Professional, Public Service members 20\n"
     ]
    },
    {
     "name": "stderr",
     "output_type": "stream",
     "text": [
      "645it [01:59,  6.38it/s]"
     ]
    },
    {
     "name": "stdout",
     "output_type": "stream",
     "text": [
      "name Multicultural Student Services description Multicultural Student Services (MSS) aims to promote inclusion, engagement, belonging, and success of historically marginalized students while also cultivating each UVA student’s capacity to navigate a diverse and ideologically complex world. ?We enhance the undergraduate experience through culturally relevant services, programs, community advocacy, and learning experiences meant to empower students in their identity, build community, and help students find their individual and collective voices. ?Through MSS, we work with students to develop programs offered through the Multicultural Student Center (MSC), LGBTQ Center, Latinx Student Center, and Interfaith Student Center, all located in Newcomb Hall. These important centers of student life have been designed to meet the needs of multicultural students to find community and engage in rich dialogue. The Centers offer meeting and program space for student groups, study space with computers, a comfortable lounge area, and conference rooms. These Centers are open to everyone, regardless of race, ethnicity, religion, ability, ethnic or national origin, sexual orientation or gender identity. tags Religious and Spiritual, Internships and Employment, Department, Schools, or Centers, Cultural & Ethnic members 5\n",
      "name Office of the Dean of Students description The Office of the Dean of Students is a team of dedicated professional and support staff available to assist students in navigating and developing a unique student experience, grounded in the history and traditions of one of the finest higher education institutions in the world. UVA's unique system of student self-governance, through which students are encouraged and empowered to play a meaningful role in decisions impacting the community, sits at the core of all that we do in ODOS. tags Department, Schools, or Centers, Administrative Unit members 3\n"
     ]
    },
    {
     "name": "stderr",
     "output_type": "stream",
     "text": [
      "648it [02:00,  7.21it/s]"
     ]
    },
    {
     "name": "stdout",
     "output_type": "stream",
     "text": [
      "name VALORANT at UVA description VALORANT at UVA is an organization based on interest in VALORANT, a 5v5 character-based tactical first person shooter developed by Riot Games. We host in-house events consistently and other events pertaining to VALORANT. We welcome anyone with interest!If you're interested in joining or attending an event, please join the Discord!https://discord.gg/HP38mgdgbS tags Contracted Independent Organization (CIO), No Application or Interview Required members 11\n",
      "name Virginia Law and Business Society at The University of Virginia School of Law description Founded in 1981, the Virginia Law & Business Society is the oldest and largest student-run organization devoted exclusively to corporate law and business. The society sponsors a variety of academic, professional, and social activities for students interested in careers in law and business.     tags No Application or Interview Required, Peer Mentors, Law School, Contracted Independent Organization (CIO), Academic & Professional members 6\n"
     ]
    },
    {
     "name": "stderr",
     "output_type": "stream",
     "text": [
      "650it [02:00,  6.99it/s]"
     ]
    },
    {
     "name": "stdout",
     "output_type": "stream",
     "text": [
      "name Phi Delta Theta (Virginia Beta Chapter) description FSL tags Political & Advocacy, Social & Hobby, Public Service, Fraternity or Sorority members 4\n",
      "name Jewish Law Students Association description The Jewish Law Students Association provides Jewish educational, cultural, social, and spiritual programs and resources for the students and community of the University of Virginia School of Law with the goal of creating an awareness of and fostering Jewish life at the Law School. tags Cultural & Ethnic, Academic & Professional, Contracted Independent Organization (CIO), Law School, Religious & Spiritual members 16\n"
     ]
    },
    {
     "name": "stderr",
     "output_type": "stream",
     "text": [
      "652it [02:00,  7.14it/s]"
     ]
    },
    {
     "name": "stdout",
     "output_type": "stream",
     "text": [
      "name First-Generation Graduate Student Coalition description The First-Generation Graduate Student Coalition (FGSC) is a student organization committed to supporting and empowering first-generation college students who are now pursuing their graduate degrees at UVA through community building, professional development, and institutional visibility.We define “first-generation” as a student who is first in his or her family to obtain a four-year bachelor’s degree. The FGSC is in the process of establishing an initial community, and we are interested in connecting with first-gen graduate students across the university to help us learn more about their experiences and needs. We look forward to working together to serve this community and provide meaningful opportunities for engagement in the future.  To learn more about the FGSC or get involved, please email firstgengradsuva@gmail.com to subscribe to our email list and follow @firstgengradsuva on Instagram to stay up to date on events and programming. tags Political & Advocacy, Contracted Independent Organization (CIO), Academic & Professional, No Application or Interview Required, FGLI members 9\n",
      "name Rise Together description Rise Together (RT) is a University of Virginia (UVA) student-led nonprofit organization that strives to lessen barriers Albemarle and Charlottesville college-bound, first-generation middle school and high school students face to postsecondary attainment by equipping them with the skills necessary to thrive in college. By training teams of UVA student facilitators (UVA facilitators) to serve as mentors and tutors, we promote measurable and lasting positive change for both mentees and mentors. Since our inception, we have provided enriching volunteer and community engagement opportunities that have empowered nearly 600 UVA students to become change agents within the Charlottesville community. We recognize that our own university community has the potential – and manpower – necessary to make a significant impact on those beyond our borders, thus we are constantly reminded of how important our relationships with our diverse low-income, first-generation students are. tags Contracted Independent Organization (CIO), Public Service, No Application or Interview Required, FGLI members 9\n"
     ]
    },
    {
     "name": "stderr",
     "output_type": "stream",
     "text": [
      "654it [02:00,  6.98it/s]"
     ]
    },
    {
     "name": "stdout",
     "output_type": "stream",
     "text": [
      "name Media, Entertainment & Sports Club description The Media, Entertainment & Sports Club’s (“MESC”) mission is to provide FY and SY students with information on career opportunities and professional connections within these industries. Traditionally, the MESC has been considered a hybrid Career and Affinity club. The leadership team’s goal is to put greater emphasis on both career and affinity aspects to help Darden develop a stronger presence within these industries, as well as provide an outlet for students who want to explore, discuss, and interact with these various mediums. tags No Application or Interview Required, Media & Publications, Contracted Independent Organization (CIO), Academic & Professional, Darden School, Social & Hobby, Visual & Performing Arts members 8\n",
      "name Hong Kong Student Association description HKSA is a community for students who are from Hong Kong or are interested in learning about the culture of Hong Kong.  tags Social & Hobby, Cultural & Ethnic, Contracted Independent Organization (CIO) members 9\n"
     ]
    },
    {
     "name": "stderr",
     "output_type": "stream",
     "text": [
      "656it [02:01,  7.43it/s]"
     ]
    },
    {
     "name": "stdout",
     "output_type": "stream",
     "text": [
      "name The Fishing Club at UVA description Group for those looking to get involved with UVA's fishing community.  Our club includes fishing excursions as well as educational resources on Charlottesville waterways and ecosystems.  tags Contracted Independent Organization (CIO), Social & Hobby, Political & Advocacy, Public Service members 16\n",
      "name Society of Physics Students at the University of Virginia description The purpose of the Society of Physics Students (SPS) is to advance and disseminate knowledge of physics, to encourage interest in physics throughout the academic and local communities, and to introduce students to the professional world of physics. tags Honor Society, Social & Hobby, Academic & Professional, Contracted Independent Organization (CIO), No Application or Interview Required, Peer Mentors members 20\n"
     ]
    },
    {
     "name": "stderr",
     "output_type": "stream",
     "text": [
      "658it [02:01,  7.12it/s]"
     ]
    },
    {
     "name": "stdout",
     "output_type": "stream",
     "text": [
      "name Academical Village People description Hello UVA! We are the Academical Village People, UVA's most a cappella group! Yes, you heard that right. If you love music and also love to be silly, goofy, and dare I say wacky, this is the group for you! Auditions happen every semester, so check out our Instagram @academicalvillagepeople for details! For inquiries, contact president Andrew Alexis at avp.president93@gmail.com tags Social & Hobby, Visual & Performing Arts, Contracted Independent Organization (CIO) members 13\n",
      "name First Year Council description First Year Council for the UVA Class of 2027 tags Special Status Organization (SSO) members 56\n"
     ]
    },
    {
     "name": "stderr",
     "output_type": "stream",
     "text": [
      "660it [02:01,  6.41it/s]"
     ]
    },
    {
     "name": "stdout",
     "output_type": "stream",
     "text": [
      "name Public Service Pathways description Launching in Fall 2022 with the class of 2026 the Public Service Pathways program is designed to help students connect to public service as a personal commitment, a lifelong practice, or even a career. Pathways is designed to help students get the knowledge, experiences, and career guidance they need to make positive change in the lives of others. Through the Pathways program, students choose from a mix of internships, research and service opportunities, mentoring, and alumni connections to expand on their academic interests and plan for their future.Pathways students will spend their first year getting to know UVA and the resources it offers to the civic-minded student. Beginning in their second year, students will have the chance to focus their learning on one or more of the following public service pathways: Global Sustainability, Public Health, Public Arts, Justice, Public Interest Technology, or Education. tags Department, Schools, or Centers, Public Service members 37\n",
      "name Multilingual Outreach Volunteer Effort description MOVE was created during the early days of the COVID-19 pandemic to address a gap in communicating critical information to those with limited English and digital resources. As both the number of volunteers and requests have grown, MOVE now focuses on broader community translation needs, offering international neighbors the opportunity to receive important information in their own languages, while promoting multilingualism at UVA.MOVE volunteers are UVA language students and language faculty, heritage speakers, and immigrants, representing 50+ languages.MOVE assists with small translating and interpreting requests from Charlottesville-area non-profit community-based and educational organizations, as well as units within UVA. tags Cultural & Ethnic, Public Service members 8\n"
     ]
    },
    {
     "name": "stderr",
     "output_type": "stream",
     "text": [
      "662it [02:02,  6.58it/s]"
     ]
    },
    {
     "name": "stdout",
     "output_type": "stream",
     "text": [
      "name Virginia Employment and Labor Law Association description The Virginia Employment and Labor Law Association (VELLA) seeks to establish the University of Virginia as a school on the vanguard of exploring issues confronting the employment relationship.  VELLA will achieve this task by hosting forums at which professionals will address employment law issues, by building career opportunities in the labor and employment law fields, including facilitating networking with UVA alumni in the field, and by carrying out any other activities that the organization deems worthwhile. tags Academic & Professional, Contracted Independent Organization (CIO), Law School, Public Service, Social & Hobby, No Application or Interview Required members 14\n",
      "name Alpha Phi Alpha Fraternity, Inc. (Iota Beta Chapter) description FSL tags Fraternity or Sorority, National Pan-Hellenic Council (NPHC), Black Presidents Council, Public Service, Political & Advocacy, Social & Hobby, Cultural & Ethnic members 0\n"
     ]
    },
    {
     "name": "stderr",
     "output_type": "stream",
     "text": [
      "664it [02:02,  6.54it/s]"
     ]
    },
    {
     "name": "stdout",
     "output_type": "stream",
     "text": [
      "name Virginia Law Families & Partners description Virginia Law Families & Partners serves as an outlet to bring together law students and their partners to foster friendships and provide engaging programs. VLFP is committed to providing a safe, inclusive, and fun-filled space for families and partnerships to meet, interact, and fellowship. The society supports and promotes the interests of students facing the challenges of attending law school while raising children. Issues of specific concern include childcare, medical resources and family activities or community events, with particular emphasis on low-cost options to help those on a tight budget. VLFP also supports the Law School admissions staff by encouraging individuals with families and partners to apply for admission and attend the Law School, and by serving as an information resource for potential attendees. Room SL156b tags No Application or Interview Required, Law School, Social & Hobby, Contracted Independent Organization (CIO) members 12\n",
      "name Brazilian Student Association of UVA description The Brazilian Student Association (BRASA) is an organization dedicated to upholding Brazilian traditions at the UVA and sharing Brazilian culture and the Portuguese language to members, associated members and the greater UVA community. We also assist prospective students with the application process and promote the UVA and the benefits of studying abroad to prospective students.  BRASA serves as a cultural hub for Brazilians and those interested in Brazilian culture at UVA. We constantly hold social events for the Brazilian community at UVA and strive to create a welcoming environment for Brazilians at the university. We aim to provide a welcoming environment to aid Brazilian international student's transition to UVA and spread our warm culture through culinary and sports events, watch parties, academic get-togethers, and informational lectures by prominent speakers involved with BRASA or Brazilian culture.  tags Contracted Independent Organization (CIO), Cultural & Ethnic, Internships and Employment members 17\n"
     ]
    },
    {
     "name": "stderr",
     "output_type": "stream",
     "text": [
      "666it [02:02,  6.99it/s]"
     ]
    },
    {
     "name": "stdout",
     "output_type": "stream",
     "text": [
      "name Gamma Iota Sigma description Gamma Iota Sigma is a nationally recognized business fraternity that focuses on insurance and risk management.  Here are UVA we focus on their areas as well as traditional finance education.  We aim to teach our members a wide variety of skills from professional development, to financial literacy, to how to value a stock. In addition to our educational process, we also focus on having social events throughout each semester so that we can foster a collaborative and tight-knit environment for our members.  tags Contracted Independent Organization (CIO) members 15\n",
      "name National Lawyers Guild at UVA description NLG seeks to unite the lawyers, law students, legal workers, and jailhouse lawyers to function as an effective force in the service of the people, to the end that human rights shall be regarded as more sacred than property interests. NLG at UVA Law seeks to support marginalized voices at the law school and the larger Charlottesville community.NLG aims to bring together all those who recognize the importance of safeguarding and extending the rights of workers, women, farmers, people with disabilities, and people of color, upon whom the welfare of the entire nation depends; who seek actively to eliminate racism; who work to maintain and protect our civil rights and liberties in the face of persistent attacks upon them; and who look upon the law as an instrument for the protection of the people, rather than for their repression. tags Academic & Professional, Contracted Independent Organization (CIO), Law School members 7\n"
     ]
    },
    {
     "name": "stderr",
     "output_type": "stream",
     "text": [
      "669it [02:03,  8.86it/s]"
     ]
    },
    {
     "name": "stdout",
     "output_type": "stream",
     "text": [
      "name Food Assist description Food Assist is a group of University of Virginia students who are committed to fighting both food waste and hunger in the Charlottesville community. We recover food that would otherwise go to waste and donate it to those in need. FoodAssist is a chapter of the Food Recovery Network, which is the largest national organization working to fight food insecurity. tags Contracted Independent Organization (CIO), Social & Hobby, Public Service, No Application or Interview Required members 53\n",
      "name Saint Thomas More Society description The Saint Thomas More Society is an organization dedicated to providing prayer, fellowship, and support for Catholic students at UVA Law.  tags Contracted Independent Organization (CIO), Law School, No Application or Interview Required, Religious & Spiritual members 21\n"
     ]
    },
    {
     "name": "stderr",
     "output_type": "stream",
     "text": [
      "671it [02:03,  7.59it/s]"
     ]
    },
    {
     "name": "stdout",
     "output_type": "stream",
     "text": [
      "name Phi Chi Theta description According to Phi Chi Theta National Chapter,\"the mission of Phi Chi Theta, a national professional fraternity, is to: Provide an opportunity to develop and practice those professional leadership skills and abilities necessary to succeed in the business community; Provide a local and national network to share resources, ideas and concepts; Instill in its membership those values, codes and creeds which will enable participation in a rapidly changing world; and Enable members to develop the business astuteness necessary to achieve high esteem and success in their chosen fields\".  tags Contracted Independent Organization (CIO), Fraternity or Sorority members 10\n",
      "name SWAP description SWAP, which stands for \"Sustainability, Wearing confidence, Accessibility, and Promoting community,\" is the only UVA organization dedicated to hosting clothing swaps. Our swaps are meant to be community events, complete with food, drinks, music, and photo opportunities. Aside from clothing swaps, we host upcycling days and thrifting trips to promote our four pillars. tags Social & Hobby, Contracted Independent Organization (CIO), No Application or Interview Required, Sustainability members 28\n"
     ]
    },
    {
     "name": "stderr",
     "output_type": "stream",
     "text": [
      "673it [02:03,  6.99it/s]"
     ]
    },
    {
     "name": "stdout",
     "output_type": "stream",
     "text": [
      "name Kappa Alpha Theta (Delta Chi Chapter) description FSL tags Political & Advocacy, Social & Hobby, Public Service, Fraternity or Sorority members 2\n",
      "name American Society of Civil Engineers description The American Society of Civil Engineers (ASCE) Student Chapter at the University of Virginia is the primary organization for Civil Engineering students at UVA to propel their academic and professional standing in their major. With a mix of professional development and social events, we are able to create community between all civil engineering students at the University. We also sponsor the team that travels to the ASCE Virginias Student Symposium yearly. tags Public Service, Social & Hobby, Contracted Independent Organization (CIO), Academic & Professional, No Application or Interview Required members 23\n"
     ]
    },
    {
     "name": "stderr",
     "output_type": "stream",
     "text": [
      "675it [02:03,  6.55it/s]"
     ]
    },
    {
     "name": "stdout",
     "output_type": "stream",
     "text": [
      "name Copeley description HRL tags Residence Hall members 0\n",
      "name WXTJ Student Radio description WXTJ 1001.FM is UVA's freeform, student-run radio station based in Charlottesville, VA. tags Contracted Independent Organization (CIO), Social & Hobby, Visual & Performing Arts, Media & Publications members 20\n"
     ]
    },
    {
     "name": "stderr",
     "output_type": "stream",
     "text": [
      "677it [02:04,  6.31it/s]"
     ]
    },
    {
     "name": "stdout",
     "output_type": "stream",
     "text": [
      "name Net Impact at Darden description Net Impact at Darden is a student organization whose mission is help all Darden students to define impact as it exists in their own life and plan for how to achieve impact in their future careers. tags Contracted Independent Organization (CIO), Academic & Professional, Social & Hobby, Darden School, Public Service, No Application or Interview Required members 11\n",
      "name Virginia Undergraduate Real Estate Club description The Virginia Undergraduate Real Estate Club serves as a platform for all UVA students who are passionate about the real estate industry and are interested in pursuing real estate as a career, regardless of school or prior industry knowledge. Members of VUREC complete a semester-long training program that covers aspects of real estate investing and development in depth, and our club hosts several speakers each year from a variety of fields in real estate. Our members, who come from many different schools within the University, including the McIntire School of Commerce, the School of Architecture, and the College of Arts and Sciences, graduate from the University prepared to succeed in the real estate industry. tags Contracted Independent Organization (CIO), Academic & Professional, McIntire School of Commerce members 24\n"
     ]
    },
    {
     "name": "stderr",
     "output_type": "stream",
     "text": [
      "679it [02:04,  6.24it/s]"
     ]
    },
    {
     "name": "stdout",
     "output_type": "stream",
     "text": [
      "name theCourseForum description theCourseForum is a product of developers and contributors from the UVA community. It's a place where students can share their academic experiences of classes they've taken. We provide past grade distributions along with student reviews for courses in all departments. Gain insight on which professors to choose and discover whether a class is worth a spot in your ideal schedule. We'll connect you to courses you'll love, and make enrollment stress free. tags Academic & Professional, Contracted Independent Organization (CIO), Social & Hobby members 13\n",
      "name International Students Inc. description Based in the U.S., International Students Incorporated (ISI) seeks to help international students develop friendships while in the U.S.  The people ISI help often become leaders when they get home.  ISI is active in over 900 U.S. college campuses. Through the friendship partner program, ISI matches International students with  American host families. tags Cultural & Ethnic, Contracted Independent Organization (CIO), Social & Hobby, Religious & Spiritual members 3\n"
     ]
    },
    {
     "name": "stderr",
     "output_type": "stream",
     "text": [
      "681it [02:04,  6.63it/s]"
     ]
    },
    {
     "name": "stdout",
     "output_type": "stream",
     "text": [
      "name Virginia Environmental Law Forum description VELF is an organization for UVa. law students interested in environmental law, land use, energy, natural resources, sustainability, and environmental justice. Throughout the year, VELF hosts speaking engagements from leading experts in these fields. We also sponsor social events, such as hikes, brewery visits, and farms tours, and philanthropic endeavors like stream cleanups and trail building days. tags Political & Advocacy, Public Service, Law School, Contracted Independent Organization (CIO), Academic & Professional members 16\n",
      "name International Tax Moot Court Team at UVA description International Tax Team is an organization dedicated to understanding international tax issues and competing annually at an international tax tournament in Europe on behalf of UVA. tags Academic & Professional, Contracted Independent Organization (CIO), Law School members 13\n"
     ]
    },
    {
     "name": "stderr",
     "output_type": "stream",
     "text": [
      "683it [02:05,  6.95it/s]"
     ]
    },
    {
     "name": "stdout",
     "output_type": "stream",
     "text": [
      "name Virginia Singers description We are UVA's flagship choral ensemble, heard by thousands each season in performances of a cappella and accompanied choral repertoire including major works with orchestra.Websites: usingers.virginia.edu | music.virginia.edu/chamber-singersYouTube channel and University Singers promo video: https://www.youtube.com/channel/UCtn_bCQageMfNH4ylxmqYvwFacebook: https://www.facebook.com/UvaUniversitySingers/Instagram: https://www.instagram.com/uvauniversitysingers/?hl=enTwitter: https://twitter.com/uvausingers?lang=en tags Contracted Independent Organization (CIO), Social & Hobby, Visual & Performing Arts members 10\n",
      "name Nu Rho Psi at the University of Virginia description Nu Rho Psi is the National Honor Society in Neuroscience, founded in 2006 by the Faculty of Neuroscience. In our chapter at the University of Virginia, we connect our members with pre-professional resources for a future career in neuroscience and promote engagement in neuroscience in the Charlottesville community. tags Honor Society, Social & Hobby, Contracted Independent Organization (CIO), Academic & Professional members 21\n"
     ]
    },
    {
     "name": "stderr",
     "output_type": "stream",
     "text": [
      "685it [02:05,  6.85it/s]"
     ]
    },
    {
     "name": "stdout",
     "output_type": "stream",
     "text": [
      "name Virginia Law Rod and Gun Club description The Rod & Gun Club supports fishing, hunting, archery, target shooting, and the outdoors at UVA Law. We organize fishing trips, shooting trips, and classes for beginners in both disciplines. Our club also serves as a forum where members can find people with similar interests to organize their own, non-club-sponsored trips. tags Contracted Independent Organization (CIO), Social & Hobby, Law School, No Application or Interview Required members 51\n",
      "name Delta Kappa Epsilon (Eta Chapter) description FSL tags Fraternity or Sorority, Social & Hobby, Political & Advocacy, Public Service members 0\n"
     ]
    },
    {
     "name": "stderr",
     "output_type": "stream",
     "text": [
      "687it [02:05,  6.39it/s]"
     ]
    },
    {
     "name": "stdout",
     "output_type": "stream",
     "text": [
      "name Women's Club Softball description The Women's Club Softball Team is a competitive fast-pitch softball team that plays against other collegiate teams from all over the East Coast. We play in the NCSA, which is a recent move for us! This now allows us to play more competitively and socially. We primarily travel to other colleges in Virginia and we host an annual spring tournament with about 16-18 teams participating. The team plays 7-9 weekends (usually Sunday double- or triple-headers) a year. We practice on Mondays, Tuesdays, and Thursdays (time TBD) and hold our own tryouts at the beginning of each fall and spring semester. In addition, being on the team provides social and bonding experiences unique to our University.  tags Club Sport, Social & Hobby, Contracted Independent Organization (CIO) members 12\n",
      "name Virginia Microfinance Fund description The Virginia Microfinance Fund is an entirely student-run microfinance organization that supplies credit to ethical and sustainable entrepreneurs around the world. Focusing on countries that lack basic financial services, VMF is based on principles of financial inclusion. At VMF, we believe in exploring the intersectionality of finance, sustainability, equality, and ethicality. tags Sustainability, Academic & Professional members 0\n"
     ]
    },
    {
     "name": "stderr",
     "output_type": "stream",
     "text": [
      "688it [02:05,  6.16it/s]"
     ]
    },
    {
     "name": "stdout",
     "output_type": "stream",
     "text": [
      "name Health Righters at the University of Virginia (UVA) description Here at Health Righters, we aim to take an interdisciplinary approach to exploring the interplay between healthcare and human rights. Some of our current pieces span topics including the Black Lives Matter movement, homelessness, mental health, incarceration, and the current COVID-19 pandemic. Many of the pieces in our current issue aim to shed light on the several individuals and populations being denied basic human rights as a result of the pandemic. By highlighting personal stories, consolidating existing research, and reaching out for expert opinions, our work brings a variety of different disciplines into conversation. Together, we strive to think deeply about global issues at the intersection of healthcare and human rights, and we hope that through our pieces, we can inspire our readers to do the same.We are a team of 60+ writers, editors, creatives, and web designers. We come from all across the world, spanning over 12 universities and a wide variety of disciplines.If you have questions or are interested in joining our team, please feel free to contact us at healthrighters@gmail.com tags Media & Publications, Contracted Independent Organization (CIO), Academic & Professional members 3\n"
     ]
    },
    {
     "name": "stderr",
     "output_type": "stream",
     "text": [
      "690it [02:06,  5.54it/s]"
     ]
    },
    {
     "name": "stdout",
     "output_type": "stream",
     "text": [
      "name Solar Car Team description Solar Car Team tags Department Group or Program members 5\n",
      "name Epsilon Eta Upsilon description The purpose of Epsilon Eta is to create a networking environment that enables members to utilize the fraternity’s resources as they pursue their postgraduate plans in environmental fields. We seek to add to the resources for students pursuing environmental careers in the greater University of Virginia community. In this process we strive to foster a conscious awareness of the intrinsic relationship between people and their environment through academics, the community, service, and camaraderie. tags Fraternity or Sorority, Sustainability, Contracted Independent Organization (CIO), Academic & Professional members 53\n"
     ]
    },
    {
     "name": "stderr",
     "output_type": "stream",
     "text": [
      "692it [02:07,  3.87it/s]"
     ]
    },
    {
     "name": "stdout",
     "output_type": "stream",
     "text": [
      "name NORD Students for Rare at UVA description The purpose of this organization is to spread awareness and recognition of rare diseases, to support research surrounding rare diseases, to establish professional relationships, and to promote career opportunities within the rare disease space. tags Contracted Independent Organization (CIO), Academic & Professional, Political & Advocacy, Public Service, No Application or Interview Required members 45\n",
      "name Black Presidents Council description Black Presidents Council tags Department, Schools, or Centers members 0\n"
     ]
    },
    {
     "name": "stderr",
     "output_type": "stream",
     "text": [
      "694it [02:07,  4.87it/s]"
     ]
    },
    {
     "name": "stdout",
     "output_type": "stream",
     "text": [
      "name Portico Impact Fund description Portico Impact Fund, formerly known as Colonnade Capital Partners, is UVA’s premier ESG and philanthropic investment fund.  Established in 2015, Colonnade served as a for-profit students-funded hedge fund. In 2022, the fund transitioned to an endowment-based fund where students learn to align their investments with their values and mobilize capital to initiate positive change within the community.  tags Contracted Independent Organization (CIO), Academic & Professional, McIntire School of Commerce members 27\n",
      "name Darden Healthcare Club description The Darden Healthcare Club (HCC) is a student-run organization dedicated to promoting awareness of opportunities and issues in health-related fields. The HCC achieves its mission by partnering with both industry and academia to sponsor educational and speaker programs on all aspects of the healthcare industry, providing information and guidance about career opportunities in healthcare, and networking within the healthcare community at UVA and across other MBA programs to build the healthcare community at Darden. tags Contracted Independent Organization (CIO), Academic & Professional, Darden School, No Application or Interview Required members 7\n"
     ]
    },
    {
     "name": "stderr",
     "output_type": "stream",
     "text": [
      "696it [02:07,  5.42it/s]"
     ]
    },
    {
     "name": "stdout",
     "output_type": "stream",
     "text": [
      "name Iranian Students Association at University of Virginia description IRSA is a nonprofit organization run by Iranian Students at the University of Virginia. Its mission and goals are as follows:·        To create a delightful environment, rapid transition, integration and smooth adjustment for the Iranian students at UVa, to help them face educational and cultural issues here and to strengthen community among them.·        To introduce Iranian culture to other students and communities by holding cultural and social events.·      To provide a friendly atmosphere to enrich relations among students, faculty, other communities and associations. tags Cultural & Ethnic, Contracted Independent Organization (CIO), Social & Hobby members 15\n",
      "name Darden Running Club description Run Club provides a space for personal wellness and health for all members of the Darden community.  tags No Application or Interview Required, Contracted Independent Organization (CIO), Darden School, Social & Hobby members 4\n"
     ]
    },
    {
     "name": "stderr",
     "output_type": "stream",
     "text": [
      "698it [02:08,  6.48it/s]"
     ]
    },
    {
     "name": "stdout",
     "output_type": "stream",
     "text": [
      "name University Judiciary Committee description The University Judiciary Committee is the student-run judiciary body of the University of Virginia and is authorized to investigate and adjudicate alleged violations of the University’s Standards of Conduct. The UJC utilizes a restorative sanctioning model that aims to promote a community of safety, freedom, and respect at the University of Virginia. tags L2K, Agency, Administrative Unit members 11\n",
      "name FeelGood at UVA description AboutDo you like grilled cheese? Come join UVA's chapter of FeelGood, a national movement that brings college students together across the country to fight global poverty and hunger one grilled cheese at a time! We make our sandwiches fresh at delis every Sunday night outside Clem, and all proceeds go to The Hunger Project.  We also general body meetings every two weeks.Want to learn more? Contact us at feelgooduva@gmail.com for more information!  tags No Application or Interview Required, Contracted Independent Organization (CIO), Academic & Professional, Cultural & Ethnic, Political & Advocacy, Public Service members 69\n"
     ]
    },
    {
     "name": "stderr",
     "output_type": "stream",
     "text": [
      "700it [02:08,  6.57it/s]"
     ]
    },
    {
     "name": "stdout",
     "output_type": "stream",
     "text": [
      "name Sustained Dialogue at UVA description Sustained Dialogue (SD) groups of about 15-20 students meet weekly for dialogues about identity and issues that affect the UVA community. Groups are led by trained student moderators and topics include but are not limited to the influence of race, gender, religion, disability, etc.SD also partners with other student and community organizations to co-host events and provide trained moderators to foster \"dialogue\" in the larger University community.Sustained Dialogue's vision is to create an empathetic and understanding university community, where all students feel welcome. Each individual is comfortable expressing their opinions and sharing their experiences with others. All students actively challenge their assumptions and seek to understand the perspectives of their peers. We strive to achieve this vision by creating opportunities for open and honest dialogue between all members of the student body. tags Social & Hobby, Political & Advocacy, Contracted Independent Organization (CIO), Cultural & Ethnic, No Application or Interview Required members 4\n",
      "name Cru description We are a ministry passionate about Jesus and community. We can help you explore who Jesus is and grow deeper in your faith. Come build genuine friendships where you know others well and get to be known. We seek to have open, authentic spiritual conversations and engage in discussions about issues that impact our lives with a biblical perspective. Cru offers small group Bible studies, weekly Thursday night large group meetings, discipleship, outreaches, socials, leadership trainings, retreats, mission trips, and more. Learn more at cruatuva.com and follow us @cruatuva. tags Contracted Independent Organization (CIO), No Application or Interview Required, Religious & Spiritual members 14\n"
     ]
    },
    {
     "name": "stderr",
     "output_type": "stream",
     "text": [
      "702it [02:08,  6.22it/s]"
     ]
    },
    {
     "name": "stdout",
     "output_type": "stream",
     "text": [
      "name Hoos Littering? @ UVA description We were founded on the principle of if you want to make change, you have to do it yourself. Although creating and implementing policy is effective at a higher level, we believe that in order to push the boundaries of student engagement, we need to incorporate student accountability with active participation. We participate in weekly clean-ups at the Corner, Mad Bowl, JPA and various other locations on and off grounds, which is quickly followed by trips to Bodo's for a post clean-up meal. We aim to create a fun, welcoming, and respectful environment.  tags No Application or Interview Required, Public Service, Contracted Independent Organization (CIO) members 16\n",
      "name Older Wiser Law Students description The OWLS at UVA strive to enhance the experience of nontraditional law students by organizing social events, facilitating mentorship, arranging networking opportunities and holding other events that uniquely benefit members. While OWLS’ core focus is students who come to UVA Law with professional/life experience between undergrad and law school, the organization is open to all. Old souls, friends, spouses, partners and significant others are welcome as ‘Owllies.’   tags No Application or Interview Required, Social & Hobby, Law School, Contracted Independent Organization (CIO), Academic & Professional members 24\n"
     ]
    },
    {
     "name": "stderr",
     "output_type": "stream",
     "text": [
      "704it [02:09,  5.60it/s]"
     ]
    },
    {
     "name": "stdout",
     "output_type": "stream",
     "text": [
      "name Darden South Asia Society description The purpose of the Darden South Asia Society (DSAS) is to create a platform for the students, faculty, and community members to engage with South Asia and its diaspora through academic, social, and cultural initiatives.We aim to achieve the following:Facilitate discussions about cultures and business in South Asia among the Darden CommunityFoster the feeling of a home away from home for the South-Asian Americans and South Asian origin studentsSupport our members and other international students in career and recruitmentSpread awareness about South-Asian region including the countries that are under-represented at DardenEngage with the vast alumni network Events organized by the club would aim to mirror this mission and to bring together a diverse and wide community.  tags No Application or Interview Required, Contracted Independent Organization (CIO), Cultural & Ethnic, Academic & Professional, Social & Hobby, Darden School members 10\n",
      "name The Student Chapter of the American Chemical Society at the University of Virginia description The ACS Student Chapter is for undergraduate students with an interest in the chemical sciences. Members participate in a wide range of professional development programs and social activities that enhance their college experience and prepare them for successful careers in chemistry. Members are also introduced to a global network with other students and professionals in the chemical sciences, have access to awards/ grants, and the opportunity to present posters at special sessions that take place during ACS national and regional meetings.  tags No Application or Interview Required, Contracted Independent Organization (CIO), Academic & Professional members 28\n"
     ]
    },
    {
     "name": "stderr",
     "output_type": "stream",
     "text": [
      "705it [02:09,  5.82it/s]"
     ]
    },
    {
     "name": "stdout",
     "output_type": "stream",
     "text": [
      "name Creative, Raw, And Very Edgy description The purpose of CRAVE is to organize and host an annual fashion show that raises money for the Boys and Girls Club of Charlottesville. We bring current and prospective students together in the interest of fashion and provide a space for a creative outlets. tags Social & Hobby, Visual & Performing Arts, Public Service, Contracted Independent Organization (CIO) members 14\n"
     ]
    },
    {
     "name": "stderr",
     "output_type": "stream",
     "text": [
      "707it [02:10,  3.34it/s]"
     ]
    },
    {
     "name": "stdout",
     "output_type": "stream",
     "text": [
      "name Polish Student Association at the University of Virginia description The Polish Student Association (PSA) is an independent organization governed by undergraduate and graduate students at the University of Virginia. It welcomes native Poles, students of Polish descent, and those interested in the culture of Poland. Even though we are a fairly young organization, officially formed in February of 2019, we have big ambitions to make Polish culture and history more visible at the UVA. We hope to build strong relationships with UVA students and faculty around a shared love for Poland by engaging them in the activities with the goal of spreading knowledge of Poland. tags Cultural & Ethnic, Contracted Independent Organization (CIO) members 12\n",
      "name The Classics Club at UVA description Knowledge and appreciation of ancient Greece and Rome are important to our understanding of the modern world, which owes so much of its government, literature, language, and arts to these civilizations of the past. The Classics Club aims to promote an appreciation of Greco-Roman Classical Civilization among the student body. It also exists to foster a sense of community among both Classics Majors and other interested undergraduates through educational, social, and service-related activities. tags Contracted Independent Organization (CIO), Academic & Professional, Social & Hobby members 19\n"
     ]
    },
    {
     "name": "stderr",
     "output_type": "stream",
     "text": [
      "709it [02:10,  4.51it/s]"
     ]
    },
    {
     "name": "stdout",
     "output_type": "stream",
     "text": [
      "name Dressember at the University of Virginia description As an extension of the national Dressember campaign, Dressember at UVA is committed to working to prevent human trafficking through awareness and fundraising: both channel into rescuing victims and providing aftercare programs to survivors. Members of Dressember at UVA fall into two categories: (1) participants are members that participate in the national Dressember campaign by vowing to wear a dress and/or tie throughout the entire month of December to advocate for survivors (2) supporters are members that do not vow to wear a dress and/or tie every day of December, but support participant's efforts through involvement in events, set up, and fundraisers. Dressember at UVA works to raise $6,719.00 (the cost of a full rescue operation) annually and grow to spread impact year to year.  tags No Application or Interview Required, Political & Advocacy, Contracted Independent Organization (CIO) members 4\n",
      "name Moot Court at the University of Virginia description Moot court at UVA is a team of passionate, fun-loving students. We research circuit court and supreme court cases, develop detailed arguments, and compete in tournaments simulating politically relevant legal debates at the appellate level.  tags Contracted Independent Organization (CIO), Academic & Professional, Social & Hobby, Political & Advocacy members 20\n"
     ]
    },
    {
     "name": "stderr",
     "output_type": "stream",
     "text": [
      "711it [02:10,  4.89it/s]"
     ]
    },
    {
     "name": "stdout",
     "output_type": "stream",
     "text": [
      "name Camp Kesem at UVA description Camp Kesem Virginia is a week-long sleep away camp for children whose parents have or have had cancer. It is free for the campers served and is completely organized and operated by students at the University of Virginia. The goal of Camp Kesem is to give campers a week of fun and a chance to just be kids again. With a 2:1 camper-to-counselor ratio Camp Kesem provides extra attention and support for each camper. The campers also find support from just being with fellow campers, as they learn that they are not alone in their situation. tags Contracted Independent Organization (CIO), Public Service members 22\n",
      "name Operation Smile description Operation Smile at the University of Virginia is affiliated with the national and international Operation Smile organization. The headquarters of Operation Smile are located in Virginia Beach, Virginia at 3641 Faculty Boulevard • Virginia Beach, VA23453 • USA.  The objective of this organization is to spread cleft lip/palate awareness, perform local community service, and send students on mission trips around the world. Fundraising is also a major objective of ours. At the end of every academic year, half of proceeds will be donated to Operation Smile headquarters in Virginia, and the other half will stay in Operation Smile UVA’s account to fund future events.  tags Contracted Independent Organization (CIO), Public Service, No Application or Interview Required members 13\n"
     ]
    },
    {
     "name": "stderr",
     "output_type": "stream",
     "text": [
      "713it [02:11,  5.66it/s]"
     ]
    },
    {
     "name": "stdout",
     "output_type": "stream",
     "text": [
      "name Fight Cancer at UVa description Relay For Life at UVA (Fight Cancer at UVA) is a yearlong fundraiser for the American Cancer Society which culminates in our main spring event which honors cancer survivors, caregivers, and those we have lost to cancer. We host many events throughout the year in order to spread awareness and fundraise for our cause. Our organization is led by our executive committee which includes executive chairs and committee members.  tags Leadership Development, Public Service, Social & Hobby, Contracted Independent Organization (CIO) members 112\n",
      "name Historical Martial Arts at UVA description Historical Martial Arts at UVA looks to Historical European sources,Manuscripts, paintings, teasties, of martial arts, mostly of armed martial arts. We practice historical fencing twice a week and encourage anyone to go to the tournaments which are hosted by HEMA organizations.  tags Contracted Independent Organization (CIO), Social & Hobby members 6\n"
     ]
    },
    {
     "name": "stderr",
     "output_type": "stream",
     "text": [
      "715it [02:11,  6.20it/s]"
     ]
    },
    {
     "name": "stdout",
     "output_type": "stream",
     "text": [
      "name Mongolian Student Union at UVA description The Mongolian Student Union is a cultural organization that strives to spread and share Mongolian culture on Grounds. The organization welcomes students of all backgrounds to join! The organization is run by an executive board and an officer board, and all members are split into family groups that meet and hang out regularly.  tags Contracted Independent Organization (CIO), Cultural & Ethnic members 11\n",
      "name The Adam Smith Society description The Adam Smith Society is a community of business school students and alumni dedicated to exploring the links between the economy, government, and society. Adam Smith Society believes that business, entrepreneurship, and commerce are wellsprings that keep this country vibrant, creative, prosperous, and free. Through debate and discussion, the Society aims to advance this idea on campus and among business leaders.  tags Darden School, Social & Hobby, Contracted Independent Organization (CIO), Academic & Professional members 11\n"
     ]
    },
    {
     "name": "stderr",
     "output_type": "stream",
     "text": [
      "716it [02:11,  3.70it/s]"
     ]
    },
    {
     "name": "stdout",
     "output_type": "stream",
     "text": [
      "name Army ROTC Cadet Association description The objective of this organization shall be to benefit all students, Cadets, Soldiers, civilians, family members, ROTC alumni, and guests of the Cavalier Army Cadet Association by providing a monetary operating fun to defer the cost of team building activities and to assist in personnel recognition activities and social functions of the Cavalier Battalion. tags Contracted Independent Organization (CIO), Public Service, No Application or Interview Required members 10\n"
     ]
    },
    {
     "name": "stderr",
     "output_type": "stream",
     "text": [
      "718it [02:12,  4.03it/s]"
     ]
    },
    {
     "name": "stdout",
     "output_type": "stream",
     "text": [
      "name Student Disability Alliance description The Student Disability Alliance is a coalition of chronically ill and disabled students who seek to unite students around a positive disability identity through social support and advocacy projects across grounds. tags Contracted Independent Organization (CIO), Cultural & Ethnic, Political & Advocacy, Social & Hobby, Public Service, No Application or Interview Required, Peer Mentors members 18\n",
      "name Alpha Delta Pi (Zeta Xi Chapter) description FSL tags Public Service, Social & Hobby, Political & Advocacy, Fraternity or Sorority members 115\n"
     ]
    },
    {
     "name": "stderr",
     "output_type": "stream",
     "text": [
      "720it [02:12,  4.85it/s]"
     ]
    },
    {
     "name": "stdout",
     "output_type": "stream",
     "text": [
      "name Chapter of the National Organization of Minority Architecture Students at the University of Virginia description We the students of Chapter of the National Organization of Minority Architecture Students at the University of Virginia have come together to enhance our education, network with professionals, and begin to define solutions which will ensure a healthy living and working environment for the total community. We find, as minorities studying architecture, a community of purpose and cultural experience that warrants our combined efforts in the advancement of our future profession, our respective activities in it, and the needs of the communities we will serve. Minorities in architecture are qualified to provide professional services in all areas of our environment, but because of his/her particular sensitivity to the minority community; he/she has a unique qualification to provide services and solve problems therein. By consolidating our thinking, economic power, political power and other resources, our ability to achieve these goals is greatly enhanced. To these ends, we establish this organization which is built on the bonds of the common professional interests that brings us together; and equally, on the bonds of friendship and fraternity that will sustain and enrich our association. We have organized to build our knowledge and expertise, and join hands with other organized disciplines to prepare to address issues confronting our communities. tags No Application or Interview Required, Architecture, Contracted Independent Organization (CIO), Cultural & Ethnic, Academic & Professional members 19\n",
      "name Swifties at UVA description An organization dedicated to bringing together all fans of the musical artist Taylor Swift! tags No Application or Interview Required, Contracted Independent Organization (CIO), Social & Hobby members 29\n"
     ]
    },
    {
     "name": "stderr",
     "output_type": "stream",
     "text": [
      "722it [02:13,  5.65it/s]"
     ]
    },
    {
     "name": "stdout",
     "output_type": "stream",
     "text": [
      "name Blueprint Leadership Program description Blueprint is the premier leadership development organization at the University of Virginia. We are currently accepting applications from first and second-year students. The organization is designed for those students who demonstrate leadership potential and interest in developing their personal organizational skills in an intentional, educational, and reflective team environment.The Blueprint Leadership Program is an eight-week program running on Monday evenings from 6:30-8:00 PM during the spring semester.  Attendance at all sessions in the spring semester is required. Members have the opportunity to continue beyond their first year as Peer Leaders or Chairs, in order to expand and implement the leadership skills they have developed from the program. Continuation in the organization would involve project implementation, mentorship of future participants, and expanded opportunities for leadership on Grounds.Highlights Include:Weekly meetings/seminars featuring distinguished guest speakersSmall group interaction, facilitated by Peer Leaders, allowing for reflection and meaningful discussionOpportunities to develop your own leadership style, priorities, and portfolioA chance to network and make new friends! Seminar Topics Include:Self-Knowledge- discovery of personalityCommunication and Conflict ManagementLeadership StylesStudent Self-GovernanceCitizen Leadership and Global StewardshipDirectors:Tina Chen (jc7ys@virginia.edu)Sophia Cheng (szc8bkk@virginia.edu)Willoughby Hardesty (eym4zm@virginia.edu)Alex Chestnut (ach3ky@virginia.edu)Follow us on Instagram - blueprint_uva tags Leadership Development, Department Group or Program members 13\n",
      "name Art History Graduate Association description Founded in the 1990-1991 academic year, the Art History Graduate Association (AHGA) is a graduate student organization within the Department of Art at the University of Virginia. AHGA serves as a forum in which to advocate for the interests of our graduate students to departmental and university administrators, provide academic and professional development opportunities related to the field, and foster a sense of community. In the wake of the Black Lives Matter protests in the summer of 2020, AHGA also aims to support issues of social justice. Starting in 2019, the art history graduate students host a biennial Graduate Symposium, which is an educational and networking event that encourages exchanges in the field of art history and beyond, and brings together students from the University of Virginia and other universities. tags Visual & Performing Arts, Academic & Professional, Contracted Independent Organization (CIO) members 13\n"
     ]
    },
    {
     "name": "stderr",
     "output_type": "stream",
     "text": [
      "725it [02:13,  8.86it/s]"
     ]
    },
    {
     "name": "stdout",
     "output_type": "stream",
     "text": [
      "name The Darden Network of Executive Women description The Network of Executive Women (NEW) at UVA is an organization dedicated to the professional development and advancement of females in Darden's Executive MBA Program.  NEW empowers women to reach their full career potential whether that is a C-suite position or another leadership position; we aim to see more women lead. According to a 2019 McKinsey & Company Report “Women in the Workplace,” only 21% of C-Suite Executives are women. Together we can change this statistic one “rung” at a time.   tags Contracted Independent Organization (CIO), Academic & Professional, Darden School members 0\n",
      "name alpha Kappa Delta Phi (Sigma Chapter) description alpha Kappa Delta Phi is an international Asian-interest sorority with 58 active chapters located at numerous universities across the United States and in Canada. Thousands of undergraduate and alumnae sisters support the rapidly growing network of strong and successful women in the organization. alpha Kappa Delta Phi is part of the National APIA Panhellenic Association (NAPA), which it helped charter in 2006. Established in 1989 at UC Berkeley, aKDPhi has continued to blossom towards strength and unity. Sigma Chapter was founded at UVA in the fall of 1999, becoming the first Asian-American interest sorority in all of Virginia. We are individuals within our sorority, yet powerful as a group. We are not united by a single ethnicity, but rather strengthened in our diversity. We share a strong bond of love, friendship, and sisterhood. With a supportive network of sisters, each woman can strive to fulfill her personal, academic, and career goals. tags Contracted Independent Organization (CIO), Cultural & Ethnic, Public Service, Social & Hobby, Political & Advocacy, Multicultural Greek Council (MGC), Fraternity or Sorority members 15\n"
     ]
    },
    {
     "name": "stderr",
     "output_type": "stream",
     "text": [
      "729it [02:13, 10.48it/s]"
     ]
    },
    {
     "name": "stdout",
     "output_type": "stream",
     "text": [
      "name Cracking the Interview description Cracking the Interview is established for the expressed purpose of:1. Help students get hands on technical and behavioral interview prep from companies and peers specificallyin regards to work in the Computer Science fields (software engineering, product management)2. Collaborating with other CIOs and departments such as the CS department and Career Center to hostevents geared towards helping people prepare for interviews. Also introducing them to resources such as:LinkedIn, Virginia Alumni Network (VAM), Handshake, and technical resources such as: LeetCode. tags Contracted Independent Organization (CIO), Academic & Professional, Cultural & Ethnic, Social & Hobby, No Application or Interview Required members 19\n",
      "name Students Demand Action at UVA description Our generation has grown up in the midst of a gun violence crisis that worsened even through the COVID-19 pandemic. We should not have to fear for our lives at school, at sporting events, or at concerts. That’s why we’re rising up and organizing at UVA.Students Demand Action advocates for gun safety legislation locally and nationwide as well as proven community intervention solutions to gun violence in Charlottesville, Virginia. We focus on mitigating the causes and effects of all forms of gun violence that plague our country by organizing in communities to educate students, register voters, and demand common-sense solutions to this national public health crisis. We work to prevent gun violence because it is the leading cause of death for children and teens in the United States. Every day, more than 100 people are shot and killed and over 200 more are wounded. The daily toll of gun violence in our country doesn’t always make headlines, but this violence affects everyone, everywhere.After the tragedy we experienced in our community on November 13th, 2022, we realized enough is enough. We have restarted the University of Virginia's chapter of Students Demand Action and we are ready to fight for a cause that will not only better our community of Charlottesville, but save lives.1 | 15 | 41 tags Political & Advocacy, Contracted Independent Organization (CIO), No Application or Interview Required members 11\n"
     ]
    },
    {
     "name": "stderr",
     "output_type": "stream",
     "text": [
      "731it [02:13,  8.81it/s]"
     ]
    },
    {
     "name": "stdout",
     "output_type": "stream",
     "text": [
      "name HRL SR - Lambeth description HRL tags Administrative Unit, Residence Hall members 0\n",
      "name Men's Ice Hockey Club at the University of Virginia description UVA Mens Club Hockey plays a competitive ACHA-D2 schedule against opposing teams across the region. The team practices once a week and plays one to three games a weekend.  tags Club Sport, Contracted Independent Organization (CIO) members 8\n"
     ]
    },
    {
     "name": "stderr",
     "output_type": "stream",
     "text": [
      "733it [02:14,  7.92it/s]"
     ]
    },
    {
     "name": "stdout",
     "output_type": "stream",
     "text": [
      "name Theta Tau description We are the Pi Chapter of Theta Tau, the oldest and largest professional engineering fraternity in the nation, located at the University of Virginia in Charlottesville. Founded over 100 years ago, Theta Tau has grown to be the premier professional engineering fraternity in the US with over 86 active chapters and colonies around the nation. We host several events around Grounds throughout the year, so feel free to come out to those and talk to a brother if you have any questions regarding our brotherhood or Theta Tau. We seek motivated, ambitious, and energetic engineering students at the University of Virginia that are interested in preparing professionally for a future in engineering  with a motivation for helping others and the community, and becoming integral parts and a strong foundation upon which the fraternity is founded.  tags Social & Hobby, Public Service, Contracted Independent Organization (CIO), Academic & Professional members 75\n",
      "name Club Badminton at the University of Virginia description Virginia Club Badminton brings players from diverse backgrounds and various skill levels together on the court to enjoy this fast-paced game. VCB has a competitive team that holds training sessions twice a week. We also have a weekly open gym session for those who would like to play the sport at leisure. tags Social & Hobby, Club Sport, Contracted Independent Organization (CIO) members 18\n"
     ]
    },
    {
     "name": "stderr",
     "output_type": "stream",
     "text": [
      "735it [02:14,  7.68it/s]"
     ]
    },
    {
     "name": "stdout",
     "output_type": "stream",
     "text": [
      "name Virginia Anthropology Society description The Anthropology Society is a society of undergraduate and graduate that wish to deepen their exposure to alternative worldviews. It is comprised of students involved in the wide-ranging discipline, including archaeologists, linguists, and socio-culturalists. Our fundamental goal is for our members to interact with fellow anthropology enthusiasts and engage with topics of anthropology beyond the classroom. To do so, we facilitate conversations between undergraduate students, graduate students, and faculty via social events, speaker series, panel discussions, and advertisement of our peers' work. tags Contracted Independent Organization (CIO), Academic & Professional, Cultural & Ethnic, No Application or Interview Required members 21\n",
      "name Shakespeare On the Lawn description Shakespeare on the Lawn is primarily a student-run organization at the University of Virginia. Its purpose is to increase the availability and accessibility of theater to the general public, primarily through free performances of Shakespeare’s works. In addition, SotL is intended to provide an environment for those interested in the theater to perform their craft. tags Social & Hobby, Visual & Performing Arts, Contracted Independent Organization (CIO), No Application or Interview Required members 18\n"
     ]
    },
    {
     "name": "stderr",
     "output_type": "stream",
     "text": [
      "737it [02:14,  7.01it/s]"
     ]
    },
    {
     "name": "stdout",
     "output_type": "stream",
     "text": [
      "name League of Legends at UVA description League of Legends at UVA provides a way for students at the university to meet and play games together! Our club hosts semester-long in-house tournaments, organizes our collegiate LoL team, and hosts other small social events throughout the year such as community dinners and lunches, viewing parties, and more! We welcome all players, casual or competitive! tags Contracted Independent Organization (CIO), Social & Hobby members 22\n",
      "name The Libel Show description The Libel Show is an annual theatrical production which has been humoring the Law School since 1908 (making us the longest running student organization on North Grounds).  Each year the Show lampoons our professors and life at the Law School through a variety of impersonations, song parodies, and skits. The Libel Show's mission is to do everything within its power to help the Law School community enjoy raucous laughter.  Most of the Show's work takes place in the spring semester.  About 150 students write, sing, act, dance, and work as run crew on the Show. Whether you're a 1L or a 3L, and whether you have experience doing any theater in the past or not, you can be part of the Libel Show! tags Social & Hobby, Visual & Performing Arts, Law School, Contracted Independent Organization (CIO), Media & Publications members 10\n"
     ]
    },
    {
     "name": "stderr",
     "output_type": "stream",
     "text": [
      "739it [02:15,  7.38it/s]"
     ]
    },
    {
     "name": "stdout",
     "output_type": "stream",
     "text": [
      "name Changing Health Attitudes & Actions to Recreate Girls description CHAARG aims to ignite a passion for movement in college women. Too many college women rely solely on the elliptical for exercise. Our mission is to “liberate girls from the elliptical” + show them that fitness can [+ should!] be fun… + that working out is better with friends! We're women-led but gender-inclusive. Living a healthy lifestyle + finding your fit is not just for women. Once you join CHAARG, you are welcomed into a supportive + empowering community of 10,000+ members across the coutnry! Every week, you’ll try a different fitness class — like: cycling, dance fitness, hot yoga, + more! When you workout, you’ll feel good — but, when you surround yourself with people to support you, you’ll feel even better. CHAARG combines great friends + fun workouts to help every member feel their best. tags Contracted Independent Organization (CIO), Social & Hobby, No Application or Interview Required members 23\n",
      "name International Refugee Assistance Project at UVA Law description The International Refugee Assistance Project (IRAP) organizes law students and lawyers to develop and enforce a set of legal and human rights for refugees and displaced persons. Mobilizing direct legal aid, litigation, and systemic advocacy, IRAP serves the world’s most persecuted individuals and empowers the next generation of human rights leaders.Since its founding in 2008, IRAP has helped resettle over 4200 refugees and their families to 18 different countries and has trained over 2000 law students and lawyers in the process. UVA Law is one of IRAP’s 30 student chapters across the United States and Canada, and it won “Best New Chapter” in 2019 at the annual IRAP Student Summit. tags Contracted Independent Organization (CIO), Public Service, Law School members 8\n"
     ]
    },
    {
     "name": "stderr",
     "output_type": "stream",
     "text": [
      "741it [02:15,  6.72it/s]"
     ]
    },
    {
     "name": "stdout",
     "output_type": "stream",
     "text": [
      "name Virginia Electronic Music Collective description The Virginia Electronic Music Collective is established for the expressed purpose of bringing and expanding the electronic music community across Grounds and exposing students to sounds typically not played in UVA spaces: house, techno, disco, and drum & bass for example. VEMCO will collaborate with other CIOs and cultural organizations to host live-music events on grounds that respect and propagate these genres’ history in minority communities.The Virginia Electronic Music Collective understands school policies and is committed to abiding by said policies. Policies include: non discriminatory guidelines, Honor, and SDAC accommodations. tags Social & Hobby, Visual & Performing Arts, Contracted Independent Organization (CIO) members 21\n",
      "name Global Problems, Local Solutions at UVA description We strive to address prevalent global issues at a local level through education, service, and advocacy. We hope through every act working in Charlottesville, we can show empathy to better understand issues from a global perspective. Recently we have worked on issues such as sustainability, period poverty, and food insecurity within both the UVA community and the community of Charlottesville.  tags Public Service, Political & Advocacy, Contracted Independent Organization (CIO), No Application or Interview Required members 10\n"
     ]
    },
    {
     "name": "stderr",
     "output_type": "stream",
     "text": [
      "744it [02:15,  9.00it/s]"
     ]
    },
    {
     "name": "stdout",
     "output_type": "stream",
     "text": [
      "name The Hellenic Society at the University of Virginia description Hellenic Society at UVA is a club for like-minded students who enjoy the Greek culture and would love to immerse themselves in it! We have various different social events throughout the semester and joint socials with other organizations similar to us to explore other cultures! Some of our social events include cooking classes for Greek cuisine, historical aspects of Greece, study nights, dinners, etc. tags Social & Hobby, Public Service, Cultural & Ethnic, Contracted Independent Organization (CIO) members 18\n",
      "name Health Law Association at UVA description Welcome! The Health Law Association is open to all University of Virginia students and faculty interested in health law. The purpose of the Health Law Association (HLA) is to provide a forum in which students, academics, professionals, and community partners with an interest in health law can collaborate to enhance our understanding of the law and health law practice, share ideas to improve the health system, and advance the health and wellness of our communities. HLA seeks to explain what health law is and to give students a better view of the different areas of health law. The group sponsors many speakers and seminars in the health law field and organizes social activities with medical and other graduate students. Association members also participate in pro bono activities with the UVA medical center. tags Academic & Professional, Contracted Independent Organization (CIO), Law School, No Application or Interview Required members 18\n"
     ]
    },
    {
     "name": "stderr",
     "output_type": "stream",
     "text": [
      "746it [02:16,  7.67it/s]"
     ]
    },
    {
     "name": "stdout",
     "output_type": "stream",
     "text": [
      "name The Kendo Club description Our organization is dedicated to teaching and facilitating the practice of the sport Kendo. This includes weekly meetings where our instructors teach the sport to other students in a safe environment. Our organization also holds multiple events each year, many of which host other similar CIOs' participation, to facilitate not only learning the cultural elements intertwined with the sport Kendo, but also to allow our members to make connections with other like minded-students with similar interests. Currently, our regular meetings are held twice a week at the AFC multipurpose rooms. We do not charge any mandatory fees or dues to participate in our regular meetings, meaning that joining the club is free for all UVA students. One of the goals of this organization is to prepare those interested so that by the end of the academic year, they will be able to attend regional Kendo tournaments and events with our experienced club officers.  tags Cultural & Ethnic, Contracted Independent Organization (CIO), Social & Hobby, Club Sport, No Application or Interview Required, Religious & Spiritual members 11\n",
      "name Take Back the Night at UVA description Take Back the Night at UVA organizes a set of events each year, usually throughout the month of April, to raise awareness about sexual violence. As an organization, we seek to educate our community in the hopes that we can together end sexual violence at UVA. tags Contracted Independent Organization (CIO), Political & Advocacy members 26\n"
     ]
    },
    {
     "name": "stderr",
     "output_type": "stream",
     "text": [
      "748it [02:16,  6.95it/s]"
     ]
    },
    {
     "name": "stdout",
     "output_type": "stream",
     "text": [
      "name V Major Chinese Arts Performing Troupe description V Major is established for the expressed purpose of: ﻿Bringing fellow fans of Chinese traditional music together for lively and enjoyable sharing of musical experience, including rehearsals and public performances.Collaborating with other CIOs and departments to host cultural events on grounds.Preserving and promoting Chinese musical cultural heritage and bring diversity to the local community.﻿ tags Visual & Performing Arts, Contracted Independent Organization (CIO), Cultural & Ethnic members 9\n",
      "name Darden Retail & Luxury Goods Club description The mission of the Retail & Luxury Goods Club (RLG) is to increase awareness and exposure to the retail, hospitality, leisure, and luxury goods industries among Darden students, and to expand Darden’s presence in these industries. RLG is the hub for retail alumni networking that connects Darden students with companies for summer and full-time positions. Throughout the academic year, our members will attend educational workshops, panel discussions, and seminars on the retail, e-commerce, hospitality, and luxury goods. RLG also assists students interested in these sectors with off-campus recruiting and networking. tags Darden School, Academic & Professional, Contracted Independent Organization (CIO), No Application or Interview Required members 5\n"
     ]
    },
    {
     "name": "stderr",
     "output_type": "stream",
     "text": [
      "751it [02:16,  8.77it/s]"
     ]
    },
    {
     "name": "stdout",
     "output_type": "stream",
     "text": [
      "name Darden Golf Club description The Darden Golf Club will familiarize Darden students with the sport of golf and allow both experienced and novice golfers to compete in events, become better golfers, and network with fellow students,  alums, and recruiters.    The Darden Golf Club will serve both experienced and novice golfers and help members have fun learning the game, participating in competitive and non-competitive events, and spending time together on and off the golf course. tags No Application or Interview Required, Darden School, Contracted Independent Organization (CIO) members 6\n",
      "name Charlottesville Book Club description The Charlottesville Book Club group exists in order to give members an opportunity to explore the content and themes of various booksin full. It is first and foremost an outlet for discussion and creativity through private and public events. Thelong-term vision and secondary purpose of the Charlottesville Book Club is the promotion of reading in generalon grounds and particularly with the children of the Charlottesville community through events, donations, andother promotional activities.                                                             tags Social & Hobby, Contracted Independent Organization (CIO) members 27\n"
     ]
    },
    {
     "name": "stderr",
     "output_type": "stream",
     "text": [
      "754it [02:16,  9.51it/s]"
     ]
    },
    {
     "name": "stdout",
     "output_type": "stream",
     "text": [
      "name Black Muslims at UVA description The purpose of this organization is to provide a space for Black Muslims at UVA to actively learn about Islam whilst understanding and focusing on the intersection that is race. Black Muslims at UVA also will promote the growth of its members by providing a safe space that not only recognizes their intersectional identity but also respects that identity. Black Muslims at UVA will work to increase the visibility of Black Muslims at UVA in black spaces, muslims spaces, and the wider UVA space.  tags Political & Advocacy, Cultural & Ethnic, Contracted Independent Organization (CIO), Religious & Spiritual members 10\n",
      "name Club Figure Skating at UVA description About Club Figure Skating is for beginner and experienced skaters to come together as a team to practice and compete in what is otherwise a fairly individualized sport. For beginner skaters, it provides an opportunity to try something new and to develop basic skills in a comfortable, encouraging peer environment. For competitive skaters, we plan to travel and compete as a cohesive team, representing UVA against other colleges on the east coast. In the past few years we have been proud to bring back a number of medals from multiple competitions. In recent years we have increased the number of members on our team (both competitive and beginner skaters) and have established our place in the collegiate figure skating community. Currently, the team skates 1.5-2.5 hours per week as a team and have off-ice practice space available. At on-ice practices, student coaches teach group and short individual lessons, skaters are encouraged to help each other, and we hope to add in seminars soon. Currently, the team practices in Richmond and Lynchburg.  tags Contracted Independent Organization (CIO), Club Sport, No Application or Interview Required members 43\n"
     ]
    },
    {
     "name": "stderr",
     "output_type": "stream",
     "text": [
      "756it [02:17,  8.14it/s]"
     ]
    },
    {
     "name": "stdout",
     "output_type": "stream",
     "text": [
      "name Fuego Dance Team description Fuego Dance Team promotes and exhibits Latinx cultures through the performance art of dance. The dance team choreographs and presents an array of dance forms from Latin American countries, including but not limited to: folkloric dances (festejo, samba, caporales, and tinkus), partner dances (bachata, salsa, and merengue), and reggaeton. The dance group’s presence in the university is essential to cultivating a community aware of and engaged in the diverse and rich dance cultures of Latin America. It furthermore fosters an inclusive space for collective storytelling through dance. tags Social & Hobby, Visual & Performing Arts, Contracted Independent Organization (CIO), Cultural & Ethnic, No Application or Interview Required members 10\n",
      "name Transfer Student Peer Advisors description As an incoming transfer student, you will find your Transfer Student Peer Advisor (TSPA) to be a valuable resource as you transition from your previous institution to the diverse academic, intellectual, and social culture of the University of Virginia. TSPA serve as initial contacts for newly admitted students, assist with the implementation of orientation and Wahoo Welcome programs, and provide general support for their group of advisees through emails, phone calls, and small group activities.Your TSPA is an enthusiastic, approachable, knowledgeable student who can answer your questions about the University! tags Department Group or Program, L2K, Administrative Unit members 0\n"
     ]
    },
    {
     "name": "stderr",
     "output_type": "stream",
     "text": [
      "758it [02:17,  6.74it/s]"
     ]
    },
    {
     "name": "stdout",
     "output_type": "stream",
     "text": [
      "name Pokemon Go Club at UVA description We are a group of individuals, mostly from Shea House, who love and actively play Pokemon Go. As a social organization, we aim to foster further friendships in the language house community, but anyone is allowed no matter where they live. We participate in Raids, Community days, and more Pokemon Go group events together, and also share progress in the group chat along with Pokemon sightings. We mainly use Discord for communications. tags Contracted Independent Organization (CIO), Social & Hobby, No Application or Interview Required members 14\n",
      "name McIntire Office of Undergraduate Admission description At McIntire, we believe that learning about commerce starts with a solid liberal arts foundation. Our Bachelor's in Commerce is an integrated, highly applied two-year program that creates business leaders who go on to positively impact industry all over the world. Our dynamic community is home to diverse points of view, and provides you with a broad understanding of global business by developing skills applicable to any industry. tags Department, Schools, or Centers members 0\n"
     ]
    },
    {
     "name": "stderr",
     "output_type": "stream",
     "text": [
      "760it [02:17,  7.32it/s]"
     ]
    },
    {
     "name": "stdout",
     "output_type": "stream",
     "text": [
      "name Virginia Belles description The Virginia Belles is the oldest all-female identifying a cappella group at the University of Virginia. Established in 1977 by Virginia Women’s Chorus member Katherine Mitchell, the Belles strive to bring together exceptionally talented women with a passion for music. Whether rehearsing, performing, or just hanging out, the Virginia Belles is much more than just an a cappella group — it is something that we hope to share with audiences and with each other for another 40 years… and long after that. tags Visual & Performing Arts, Contracted Independent Organization (CIO) members 14\n",
      "name Women's Club Basketball at UVA description Women's Club Basketball at UVA is a group of 12-15 talented players who are dedicated to the game and love to compete. Tryouts are held at the beginning of the fall semester. We practice twice a week and play in 3-4 weekend tournaments per semester. In the past, we have made trips all over Virginia as well as to Pennsylvania, North Carolina, South Carolina, and Maryland. We also compete in the NIRSA regional and national tournaments each spring. In 2022, we won the NIRSA Mid-Atlantic Regional Tournament in College Park, Maryland and made it to the semifinals of the NIRSA National Basketball Championship in Wichita, Kansas. We are looking for members who are willing to put in the time and effort to continue our success, while making lifelong friends and having a lot of fun along the way!  tags Contracted Independent Organization (CIO), Club Sport members 11\n"
     ]
    },
    {
     "name": "stderr",
     "output_type": "stream",
     "text": [
      "762it [02:18,  7.32it/s]"
     ]
    },
    {
     "name": "stdout",
     "output_type": "stream",
     "text": [
      "name Women's Club Lacrosse at UVA description We are a women's club lacrosse team that aims to compete for the national title each spring! We practice four times a week and enjoy traveling to both local and national tournaments throughout the fall and spring semesters. Tryouts begin the second week of classes every fall semester. tags Club Sport, Social & Hobby, Contracted Independent Organization (CIO) members 18\n",
      "name Gymnastics Club at UVA description This club will offer UVA students with a chance to pursue their gymnastics abilities in college aswell as beginners who are interested in learning. This club will also provide members witha chance to demonstrate their skills by participating in meets and exhibitions. tags No Application or Interview Required, Contracted Independent Organization (CIO), Club Sport, Visual & Performing Arts, Social & Hobby members 20\n"
     ]
    },
    {
     "name": "stderr",
     "output_type": "stream",
     "text": [
      "763it [02:18,  7.57it/s]"
     ]
    },
    {
     "name": "stdout",
     "output_type": "stream",
     "text": [
      "name Unsung People description Unsung People is an online publication that recognizes kind and selfless people, increases trust between people, and catalyzes acts of kindness through stories of kindness and fun, interactive community events. We aim to help people tune in to the kindness around us and share beautiful, inspiring stories. We focus on positive community journalism. tags No Application or Interview Required, Media & Publications, Contracted Independent Organization (CIO), Social & Hobby, Public Service members 7\n"
     ]
    },
    {
     "name": "stderr",
     "output_type": "stream",
     "text": [
      "766it [02:18,  8.52it/s]"
     ]
    },
    {
     "name": "stdout",
     "output_type": "stream",
     "text": [
      "name Partners in Health Engage UVA Chapter description PIH Engage is the method through which the global nonprofit, Partners in Health is able to organize local communities toward building a global movement for the right to health. As an organization, we recruit, train, and equip dedicated teams of volunteer community organizers who mobilize their communities in the fight for health equity. With each campaign, petition, and event, we generate new resources, foster public discourse, and advocate for policies that advance the right to health worldwide. On the local or college level at the University of Virginia, our goal as an organization is to organize the University and local communities toward building a global movement for the right to health. Through advocacy, community building and education, and fundraising, we will recruit, train, and equip dedicated teams of volunteer community organizers. Furthermore, it is our aim to build a community around this mission and collaborate with other CIOs, as well as institutional collaborations including with the Center for Global Health Equity. It is our aim to host global health, social, and health justice themed events on grounds. We also aim to continue this work through partnerships with community organizations within Charlottesville to further the “right to health” movement. tags Health and Wellness, Academic & Professional, Public Service members 8\n",
      "name Charlottesville Community Access to Resources, Exposure, and Support description Our mission is to serve the underprivileged and underserved community of Charlottesville, Virginia. We plan to use the funds provided by the university combined with continuous fundraising throughout the semester in order to create care packages for the homeless. These packages will include hygiene products, refillable water bottles, protein bars and other snacks, small fans, and clippings of any local listings of job opportunities. We aim to serve as an outlet for the underprivileged to feel supported and understood, along with providing the necessary resources to improve their hardships and gain access to opportunities.  tags Contracted Independent Organization (CIO), Public Service, No Application or Interview Required members 6\n"
     ]
    },
    {
     "name": "stderr",
     "output_type": "stream",
     "text": [
      "768it [02:18,  7.10it/s]"
     ]
    },
    {
     "name": "stdout",
     "output_type": "stream",
     "text": [
      "name The Mighty description The Mighty holds free, open workshops to the UVA community as well as the greater DMV dance community to spread the love and awareness of open-style dance. tags Visual & Performing Arts, Social & Hobby, Contracted Independent Organization (CIO) members 12\n",
      "name Latin American Law Organization at UVA description LALO is an inclusive student group meant to provide a sense of community that unites Latine law students. Our organization is founded on principles of social, ethnic, racial, gender and sexual equality, which informs our commitment to highlighting and addressing legal issues affecting the Hispanic community internationally. We strive to be the leading center for student resources, dialogue, and action to advance Latine academic and professional success. In addition to sociocultural programming, LALO maintains strong commitment to community service through its sponsorship of the Migrant Farmworker Project in Virginia. We aspire to inform, excite, and empower generations of Latine law students so that they may be responsive to the legal needs of the communities that surround them. tags Law School, Contracted Independent Organization (CIO), Cultural & Ethnic members 28\n"
     ]
    },
    {
     "name": "stderr",
     "output_type": "stream",
     "text": [
      "771it [02:19,  6.67it/s]"
     ]
    },
    {
     "name": "stdout",
     "output_type": "stream",
     "text": [
      "name The Neuroscience Enthusiasts Club at UVA (NEC) description The Neuroscience Enthusiasts Club caters to students with interests ranging from basic science research to its clinical applications.The purpose of The Neuroscience Enthusiasts Club is to:Connect with fellow students and discuss our favorite topicsOutreach to community and help with volunteering, fundraisers and more!Collaborate with other CIOs, highlighting the diversity of Neuroscience as a fieldAttend workshops with UVA faculty and meet with leading figures in the neuroscience field outside of UVAImprove our communication skills, presenting skills, and research skills, through fun activities and engaging biweekly meetings tags Social & Hobby, Contracted Independent Organization (CIO), Academic & Professional members 48\n",
      "name Virginia di Shaan description Virginia di Shaan is a cultural co/ed dance team for University of Virginia students (undergraduate and graduate). We compete on the intercollegiate level and professional level with similar teams from various universities around the nation. Our style of dance is known as bhangra, which is a typical north Indian folk dance from the state of Punjab. Our mission is to spread the culture of this Punjabi dance. tags Visual & Performing Arts, Club Sport, Contracted Independent Organization (CIO), Cultural & Ethnic members 11\n"
     ]
    },
    {
     "name": "stderr",
     "output_type": "stream",
     "text": [
      "773it [02:19,  7.13it/s]"
     ]
    },
    {
     "name": "stdout",
     "output_type": "stream",
     "text": [
      "name National Association for the Advancement of Colored People at UVA description \"Founded in 1909, the NAACP is the nation's oldest and largest civil rights organization. From the ballot box to the classroom, the thousands of dedicated workers, organizers, leaders and members who make up the NAACP continue to fight for social justice for all Americans.\" --NAACP National WebsiteThe mission of the NAACP Youth & College Division at UVa shall be to inform youth of the problems affecting African Americans and other racial and ethnic minorities; to advance the economic, education, social and political status of African Americans and other racial and ethnic minorities and their harmonious cooperation with other peoples; to stimulate an appreciation of the African Diaspora and other people of color's contribution to civilization; and to develop an intelligent, militant effective youth leadership. tags Cultural & Ethnic, Contracted Independent Organization (CIO), Public Service, Political & Advocacy members 11\n",
      "name Virginia Undergraduate Law Review description The Virginia Undergraduate Law Review (VAULR) is a space for undergraduates to engage directly with substantive law through a biannual publication.Members serve as Staff Writers or Editors and are granted broad latitude in exploring legal topics of personal interest.In facilitating this unique opportunity, VAULR creates a supportive community of driven pre-law students, positioning members for professional success. For more information, please refer to our website. tags Academic & Professional, Contracted Independent Organization (CIO) members 61\n"
     ]
    },
    {
     "name": "stderr",
     "output_type": "stream",
     "text": [
      "775it [02:20,  6.68it/s]"
     ]
    },
    {
     "name": "stdout",
     "output_type": "stream",
     "text": [
      "name Competition Cheerleading Club at UVA description Competition Cheerleading Club at UVA is a competitive and skill building team that brings cheerleaders of all skill levels together in order to build a routine, compete/showcase nationally, and improve our tumbling, jumping, dancing, and stunting skills! We have 20 competition team members who are selected in September, and all other members are skill building members.  tags Club Sport, Contracted Independent Organization (CIO) members 9\n",
      "name University Democrats at UVA description The University Democrats at the University of Virginia serves as the arm of the Democratic Party here at UVa. Through meetings, campaigning, events, and educational programs, we seek to inform students about the values and issues of the Democratic Party, and to link students to the wider political and Charlottesville community. We hold weekly meetings that bring in guest speakers from the political or academic world to speak about pertinent Democratic issues, and also host and attend a variety of political and social events throughout the year.  tags Social & Hobby, Political & Advocacy, Public Service, Contracted Independent Organization (CIO), Academic & Professional members 50\n"
     ]
    },
    {
     "name": "stderr",
     "output_type": "stream",
     "text": [
      "778it [02:20,  8.51it/s]"
     ]
    },
    {
     "name": "stdout",
     "output_type": "stream",
     "text": [
      "name The Barbers of C'ville description The Barbers of C'ville formed at the University of Virginia in the Spring of 2020, not-so-accidently following a student-run production of The Music Man the previous semester. Enraptured by the sounds of barbershop harmony, the group set out to rehearse, but quickly found themselves in the midst of a global pandemic. Nevertheless, the Barbers of C'ville fought the odds and adapted, rehearsing safely to bring their sound to Grounds and the Charlottesville community at large.The group operates as a society with independent quartets, such as The Society of Fellows, forming as interest and numbers dictate. We hope to perform gigs big and small once we can, and we would love any interested students to join our ranks and help spread harmony and joy through barbershop singing on Grounds. tags Visual & Performing Arts, Contracted Independent Organization (CIO) members 9\n",
      "name Climbing Team at the University of Virginia description We are a competitive and recreational rock climbing team composed of both undergraduate and graduate students at UVA. Our mission is to provide members with access to rad outdoor and indoor rock climbing and competitive training, regardless of climbing experience. All ability levels welcome! We practice twice a week and try to get outside as much as possible! UVA is a great location for easy access, outdoor climbing on the parkway so we try to facilitate as much of that as we can. As a team, we compete in the USA Climbing Collegiate Series, Triple Crown Bouldering Series, as well as other local competitions and travel to world-class rock such as the New River Gorge, Red River Gorge, Grayson Highlands State Park, Stone Fort, HP 40, and more! tags Social & Hobby, Contracted Independent Organization (CIO), No Application or Interview Required members 67\n"
     ]
    },
    {
     "name": "stderr",
     "output_type": "stream",
     "text": [
      "780it [02:20,  7.36it/s]"
     ]
    },
    {
     "name": "stdout",
     "output_type": "stream",
     "text": [
      "name College Republicans at the University of Virginia description The College Republicans at the University of Virginia is the premier conservative organization on Grounds. The stated mission of our organization is as follows:The CRs work to educate the greater University of Virginia community on the issues and values important to the Republican Party.The CRs defend conservative values on Grounds and work to counter the actions of our politicaladversaries whenever possible.The CRs will campaign for Republican candidates at every level of government.The CRs will promote conservative values and candidates for all elected offices at the University of Virginia.In 2021, our members vigorously campaigned to elect Glenn Youngkin as Virginia's Governor. We knocked doors, made phone calls, and connected with over 30,000 voters. In addition to campaigns, we host regular meetings and various speakers. Past speakers have included Governor George Allen, Congressman Ben Cline, and Delegate Rob Bell. Additionally, we know how to have fun. There's a reason we're known as the best party on Grounds! tags Public Service, Social & Hobby, Political & Advocacy, Contracted Independent Organization (CIO), Academic & Professional, No Application or Interview Required members 10\n",
      "name Student-Athlete Advisory Committee description SAAC tags Special Status Organization (SSO) members 8\n"
     ]
    },
    {
     "name": "stderr",
     "output_type": "stream",
     "text": [
      "782it [02:20,  6.79it/s]"
     ]
    },
    {
     "name": "stdout",
     "output_type": "stream",
     "text": [
      "name Pakistani Students' Association description The Pakistani Students' Association (PSA) is a cultural, social, and educational organization that promotes further understanding and awareness of the Pakistani culture, language, as well as its history, and politics. It serves as a support group for the Pakistanis and Pakistani-Americans at the University of Virginia and serves as a platform of knowledge for all those interested in learning about the nation.The purpose of the PSA can be outlined into three main categories: i) To share the Pakistani culture with the community and spread cultural understanding amongst UVa students.ii) To provide a framework for Pakistani students and those interested in Pakistani culture to interact and network with each other.iii) To raise awareness concerning the problems that plague the nation and conduct certain events with the purpose of raising funds for related charity organizations.The organization hopes to conduct various cultural, social, and political activities that serve to fulfill the objectives mentioned above. Above all the organization is a meeting and learning ground for all to explore and enjoy several aspects of Pakistani life and culture. tags Contracted Independent Organization (CIO), Academic & Professional, Cultural & Ethnic, Social & Hobby, Political & Advocacy members 14\n",
      "name LingXi Chinese Theatre description Mandarin Chinese Theatre introduces the inner working of theatre art to all that are interested. We aim to communicate with the Chinese-speaking community, and to develop a position for Chinese theatre among the young intellectuals in the U.S. tags Contracted Independent Organization (CIO), Cultural & Ethnic, Visual & Performing Arts, Social & Hobby members 20\n"
     ]
    },
    {
     "name": "stderr",
     "output_type": "stream",
     "text": [
      "784it [02:21,  7.00it/s]"
     ]
    },
    {
     "name": "stdout",
     "output_type": "stream",
     "text": [
      "name HRL SR - Gooch description HRL tags Administrative Unit, Residence Hall members 0\n",
      "name Gamma Kappa Alpha - National Italian Honor Society description The purpose of our organization is to promote Italian language and culture at the University of Virginia, as well as the Charlottesville community. We do this through a series of events such caffè italiano, Italian movie night, newsletter, and Italian tutoring. tags Contracted Independent Organization (CIO), Academic & Professional, Cultural & Ethnic, Honor Society, No Application or Interview Required members 8\n"
     ]
    },
    {
     "name": "stderr",
     "output_type": "stream",
     "text": [
      "786it [02:21,  7.35it/s]"
     ]
    },
    {
     "name": "stdout",
     "output_type": "stream",
     "text": [
      "name QuestBridge Scholars at the University of Virginia description QuestBridge is a powerful platform that connects the nation's brightest students from low-income backgrounds with leading institutions of higher education and further opportunities. We are an aggregator of excellence. By facilitating these exchanges, QuestBridge aims to increase the percentage of talented low-income students attending the nation's best universities and the ranks of national leadership itself. tags Social & Hobby, Public Service, Contracted Independent Organization (CIO), Academic & Professional, Cultural & Ethnic, FGLI members 72\n",
      "name American Society of Biomechanics Chapter at UVA description In affiliation with the larger American Society for Biomechanics, UVA's ASB chapter seeks to bring together undergraduate and graduate students interested in biomechanics. Through this connection, we share our research with each other and work together to educate the greater Charlottesville community and beyond about the exciting field of biomechanics. tags Academic & Professional, Contracted Independent Organization (CIO) members 12\n"
     ]
    },
    {
     "name": "stderr",
     "output_type": "stream",
     "text": [
      "788it [02:21,  7.54it/s]"
     ]
    },
    {
     "name": "stdout",
     "output_type": "stream",
     "text": [
      "name Pickleball Club at the University of Virginia description UVA Pickleball Club is dedicated to providing students the ability to play through our tournament and social teams, alongside a general membership. We have practice 6 times a week, hold social events, and have a competitive team participate in intercollegiate tournaments. We are the 2023 Collegiate National Champions. Additionally, we have a social team that is dedicated individuals that are committed to improving their skills through regular practice and match play. This team will have many socials, mixers, and formals throughout the semester. Members benefit from access to tournaments, prime court times, and opportunities for sponsorships.We are currently the largest club sport on campus and have a membership size exceeding 650 people. Registration for spring tryouts begins Jan. 5th and tryouts will begin January 19th for both social and tournament teams.Please check out out our insta for more info: @pickleballclubatuva  tags Contracted Independent Organization (CIO), Club Sport members 75\n",
      "name Education School Council description The purpose of this organization shall be to further the best interests of the students of the School of Education and Human Development through student representation in matters affecting student life and affairs, as well as through promotion of improved community conditions. tags Special Status Organization (SSO), Academic & Professional members 9\n"
     ]
    },
    {
     "name": "stderr",
     "output_type": "stream",
     "text": [
      "789it [02:21,  7.03it/s]"
     ]
    },
    {
     "name": "stdout",
     "output_type": "stream",
     "text": [
      "name Defend Our Future at UVA description Defend Our Future is building a diverse coalition of partners that have a shared vision/goal of finding actionable and common-sense solutions to solving climate change. We are building a nationwide movement of young people who aim to educate people on the issues and support bold action on climate to protect the environment, their communities, and future generations. We challenge students to take small, but substantive actions to solve climate while advocating for large-scale, national change.  tags Contracted Independent Organization (CIO), Political & Advocacy, No Application or Interview Required members 14\n"
     ]
    },
    {
     "name": "stderr",
     "output_type": "stream",
     "text": [
      "791it [02:22,  6.24it/s]"
     ]
    },
    {
     "name": "stdout",
     "output_type": "stream",
     "text": [
      "name University Records description We serve as a way for students to meet other musicians, producers, and artists and foster a community for collaboration. URecords also organizes concerts, house shows, audio engineering workshops, producer office hours, and jam sessions. We have our own equipment and space to use for practicing, recording, or simply having fun! If you feel as though not enough opportunities for musicians exist on grounds and you want to play a role in creating them, then we are the club for you! tags Contracted Independent Organization (CIO), Social & Hobby, Visual & Performing Arts members 30\n",
      "name Multicultural Greek Council description The Multicultural Greek Council (MGC) focuses on unifying and creating opportunities for all of its member organizations. The MGC and its members work together in an on-going effort to serve as the governing body of the organizations approved for membership within the Multicultural Greek Council at the University of Virginia. The MGC educates and supports the current and emerging traditions of Greek-lettered organizations. The MGC unifies the goals and ideals of member organizations in relation to the educational mission of the University of Virginia. The MGC cooperates with the members of the Inter-Fraternity Council (IFC), the Inter-Sorority Council (ISC), and the National Pan-Hellenic Council (NPHC). The MGC educates the UVA community of Multicultural Greek Council's purpose and the pillars of its organizations.Many of the organizations of the Multicultural Greek Council sponsor or co-sponsor educational programs regarding hazing, discrimination, and personal safety. All member organizations stress their commitment to the University and Charlottesville communities. Informational sessions about the fraternities and sororities are held throughout the year.Currently, the MGC consists of Latin, Asian, multicultural and local fraternities and sororities. The sororities and fraternities of the Multicultural Greek Council are: alpha Kappa Delta Phi International Sorority, Inc., Sigma ChapterDelphic of Gamma Sigma Tau Fraternity, Inc., Kappa ChapterLambda Theta Alpha Latin Sorority, Inc., Gamma Alpha ChapterLa Unidad Latina, Lambda Upsilon Lambda Fraternity, Inc., Alpha Epsilon ChapterLambda Phi Epsilon Fraternity, Inc., Alpha Tau ChapterSigma Lambda Upsilon Señoritas Latinas Unidas Sorority, Inc., Alpha Rho ChapterSigma Omicron Rho, Queer and Allied Fraternity, Alpha ChapterSigma Psi Zeta Sorority, Inc.  If you would like to be put in contact with any of these organizations, please contact the President of the Multicultural Greek Council Cheryl Yue, cy5bvj@virginia.edu, and she will forward you to the right person. tags Public Service, Social & Hobby, Cultural & Ethnic, Contracted Independent Organization (CIO) members 1\n"
     ]
    },
    {
     "name": "stderr",
     "output_type": "stream",
     "text": [
      "793it [02:22,  6.38it/s]"
     ]
    },
    {
     "name": "stdout",
     "output_type": "stream",
     "text": [
      "name Retro Gaming at UVA description Join the GroupMe for all the newest information!https://groupme.com/join_group/85057265/4EzHoGk9Retro Gaming at UVA is established for the expressed purpose of:Fostering enthusiasm towards retro video games and systemsEstablishing a cooperative and competitive environment to develop relationships between classmates over a common interestProviding opportunities for members to experience retro gaming in a multitude of facets and environmentsReplicating and helping appreciate historical pieces of art that help found one of the largest entertainment industries today tags No Application or Interview Required, Media & Publications, Contracted Independent Organization (CIO), Social & Hobby members 23\n",
      "name Darden Real Estate Club description Darden Real Estate Club tags No Application or Interview Required, Contracted Independent Organization (CIO), Academic & Professional, Darden School members 10\n"
     ]
    },
    {
     "name": "stderr",
     "output_type": "stream",
     "text": [
      "795it [02:22,  6.65it/s]"
     ]
    },
    {
     "name": "stdout",
     "output_type": "stream",
     "text": [
      "name Virginia Ke Aashiq at UVA description Virginia Ke Aashiq is UVA's gender inclusive competitve Bollywood-Fusion dance team on grounds! We compete and perform across the country such as in Tennesee and Alabama. We also hold performances on grounds such as the Voices Showcase, COLA Ball, Culturefest, India Day, and more! If you are interested in joining the team, definitely try out! We require NO prior experience, and we would love to have you on the team! tags Social & Hobby, Visual & Performing Arts, Contracted Independent Organization (CIO), Cultural & Ethnic members 22\n",
      "name St. Anthony Hall (Delta Psi, Upsilon Chapter) description FSL tags Fraternity or Sorority, Social & Hobby, Political & Advocacy, Public Service members 0\n"
     ]
    },
    {
     "name": "stderr",
     "output_type": "stream",
     "text": [
      "797it [02:23,  6.75it/s]"
     ]
    },
    {
     "name": "stdout",
     "output_type": "stream",
     "text": [
      "name Zeta Tau Alpha (Gamma Nu Chapter) description FSL tags Social & Hobby, Political & Advocacy, Public Service, Fraternity or Sorority members 0\n",
      "name Graduate Christian Fellowship description The Graduate Christian Fellowship (GCF) is a community of students from all over the University that meets together to consider what it means to “think Christianly” in our fields and our lives. GCF exists to provide fellowship as well as intellectual and spiritual support to graduate students and their families during their studies at UVa. tags Contracted Independent Organization (CIO), Religious and Spiritual, Religious & Spiritual, No Application or Interview Required members 9\n"
     ]
    },
    {
     "name": "stderr",
     "output_type": "stream",
     "text": [
      "798it [02:23,  6.80it/s]"
     ]
    },
    {
     "name": "stdout",
     "output_type": "stream",
     "text": [
      "name Hoo Crew description We are the official student section at the University of Virginia! We work with the Athletics Department to coordinate events for students and fans and promote engagement at all sporting events. tags Contracted Independent Organization (CIO), Social & Hobby members 33\n"
     ]
    },
    {
     "name": "stderr",
     "output_type": "stream",
     "text": [
      "800it [02:23,  6.15it/s]"
     ]
    },
    {
     "name": "stdout",
     "output_type": "stream",
     "text": [
      "name Girl Up description Girl Up's mission statement is to empower individuals on UVa's campus to become involved through education, advocacy, public service, and fundraising to allow adolescent girls around the world to reach their full potential. As a campaign of the UN Foundation, fundraising will support Girl Up and UN Foundation programs that directly contribute to the advancement of girls' rights, health, and education in developing countries. All activities of this club support the five core pillars of Girl Up: education, health, freedom from violence, leadership, and count (formally recognized by government). tags No Application or Interview Required, Contracted Independent Organization (CIO), Public Service, Social & Hobby members 107\n",
      "name Sales and Trading Group at McIntire description The main focus of the Sales and Trading Group at McIntire is to act as a liaison between the McIntire School of Commerce and College students and the firms with the intention of creating a recruitment connection. The Sales and Trading Group organizes social, educational and recruitment events. These events will provide opportunities for networking with professionals as well as providing recruiting tips and industry knowledge workshops. tags McIntire School of Commerce, Contracted Independent Organization (CIO), Academic & Professional members 32\n"
     ]
    },
    {
     "name": "stderr",
     "output_type": "stream",
     "text": [
      "802it [02:23,  6.41it/s]"
     ]
    },
    {
     "name": "stdout",
     "output_type": "stream",
     "text": [
      "name National Eating Disorder Association Campus Warriors at the University of Virginia description NEDA Campus Warriors is a national organizational initiative with the goal of engaging university students and organizations to raise awareness and funds for the National Eating Disorder Association. In addition to these goals, the UVA Chapter of NEDA Campus Warriors aims to serve as a safe recovery community on grounds for students struggling with their relationship with food and those who support them. NEDA at UVA plans to achieve these goals through our current initiative of organizing an annual NEDA Fall Walk to bring about greater awareness of eating disorders on campus and raise money for the national organization, as well as through hosting other various awareness, educational, fundraising, and social activities.  tags No Application or Interview Required, Contracted Independent Organization (CIO), Public Service, Political & Advocacy members 7\n",
      "name The Arrhythmics description The Arrhythmics is the University of Virginia School of Medicine’s Acappella group. Here you will find students, who, in the midst of the business that is medical school, have a true passion for singing and making music! We meet weekly on Tuesdays and have various performances throughout the semester. We are excited to share our music and bring entertainment and art to the UVA community.  tags Contracted Independent Organization (CIO), Visual & Performing Arts members 9\n"
     ]
    },
    {
     "name": "stderr",
     "output_type": "stream",
     "text": [
      "806it [02:24, 10.14it/s]"
     ]
    },
    {
     "name": "stdout",
     "output_type": "stream",
     "text": [
      "name Jubilate at UVA description Jubilate is a Christian Choir made up of students from the University of Virginia. Our mission is to bring praise and glory to God through song. tags Religious & Spiritual, Visual & Performing Arts, Contracted Independent Organization (CIO) members 11\n",
      "name Muslim Commerce Students at UVA description Muslim Commerce Students is an inclusive and welcoming space intended to unite Muslim students in the McIntire community and those interested in Commerce at-large. Keep a look-out for our events throughout the year, which range from networking opportunities and alumni panels to our annual COMMunity Iftar. tags No Application or Interview Required, Religious & Spiritual, Contracted Independent Organization (CIO), Academic & Professional members 7\n"
     ]
    },
    {
     "name": "stderr",
     "output_type": "stream",
     "text": [
      "808it [02:24,  9.14it/s]"
     ]
    },
    {
     "name": "stdout",
     "output_type": "stream",
     "text": [
      "name University Peer Advising Link description ULink, or the University Peer Advising Link, is a student-run organization that offers academic peer advising to incoming first year students in order to supplement the current academic advising system.Who:ULink is comprised of students from the College of Arts and Sciences (CLAS), the School of Engineering and Applied Sciences (SEAS), the Curry School of Education, and the Nursing School. ULink is currently run through Student Council and receives guidance from the Provost’s Office.Structure:ULink is divided into three parts: the executive board, the advisors, and the advisees. The Executive Board, consisting of two Co-Chairs, five Vice-Chairs and five Coordinators help structure training and events for advisors and advisees. Currently, there are about 100 advisors from the four schools, consisting of second, third, and fourth years. They meet with approximately 400 first year advisees. Each advisor has between two to six advisees, depending on the school.When:ULink operates year round. ULink advisors and advisees are matched in June/July, and remotely work over the summer. They then meet in person four times throughout the year: before the add/drop deadline (September and late January), and before the course enrollment period each semester (November and April). In addition, advisors and advisees are encouraged to communicate (in person, through e-mail, or via phone) outside of these meetings. School coordinators arrange events throughout the semester designed to enrich advisors’ and advisees’ knowledge of U.Va., working with organizations like the University Career Services to ensure that all ULink participants feel comfortable accessing U.Va’s ample resources. tags Social & Hobby, Academic & Professional, Contracted Independent Organization (CIO) members 25\n",
      "name Maxine Platzer Lynn Women's Center description About UsWhat’s at the Women’s Center for students?The Women’s Center is a welcoming, inclusive space where you can access a wide variety of resources and opportunities – find what you need to thrive and to give back! Come see us on the Corner for easy access to all of these features of the Women’s Center during our regular hours:quiet and comfortable spaces for studying or meetings meditation spacesatellite location of the on-Grounds food pantry system books to borrow (or pass along or keep) – in connection with our book club or to read at your own pace single-stall, all-gender bathrooms - nice, private and well-stocked with everything a bathroom should haveinformation about special events we're hostingand more.Ways to learn more:Browse our website and feel free to contact us or stop by with questions. Sign up for our twice-a-month e-news, More or Less, to receive updates and reminders about regular drop-in sessions we offer with food and activities that provide a break from studying. (Student leaders can also submit news from their CIOs to More or Less for inclusion in upcoming issues.) Follow the Women’s Center @uvawomenscenter. Students who are interested in volunteering can contact us to receive additional information that enables them to help with the center’s events and outreach efforts. Interested in getting more involved? Watch for announcements of special opportunities like workshops, guest lectures, and deadlines to apply for our internships and community mentoring programs. Who’s welcome? Everyone!The Women’s Center serves all UVA students. Everything we offer, from study and meeting spaces to service learning opportunities, is free and available to EVERYONE at UVA, including men. tags Department, Schools, or Centers members 2\n"
     ]
    },
    {
     "name": "stderr",
     "output_type": "stream",
     "text": [
      "810it [02:24,  7.47it/s]"
     ]
    },
    {
     "name": "stdout",
     "output_type": "stream",
     "text": [
      "name Women's Club Ultimate Frisbee at the University of Virginia description Women's Club Ultimate Frisbee at UVA fosters a fun and competitive environment to compete in Ultimate Frisbee against many other universities in both the fall and the spring. The club encompasses our A team, Hydra, and our B Team, Beamers to accommodate varying time commitments and level of play. The team travels regularly to compete, participating in tournaments around the country, particularly in Washington, Texas, South Carolina, California, and Wisconsin.  tags Contracted Independent Organization (CIO), Social & Hobby, Club Sport members 15\n",
      "name 180 Degrees Consulting at UVA description 180 Degrees Consulting is the world's largest student consultancy in the social sector, with 200+ branches around the world. Here at UVA, our purpose is centered around strengthening the ability of socially conscious organizations in the greater Charlottesville area to achieve high impact outcomes through the development of innovative, practical and sustainable solutions. tags McIntire School of Commerce, Contracted Independent Organization (CIO), Academic & Professional, Public Service members 27\n"
     ]
    },
    {
     "name": "stderr",
     "output_type": "stream",
     "text": [
      "813it [02:25,  8.75it/s]"
     ]
    },
    {
     "name": "stdout",
     "output_type": "stream",
     "text": [
      "name Counselor Education Student Organization description Our organization seeks to promote professional growth, access to resources related to the field of counseling, learning, and social connection and inclusivity amongst our members. We achieve this by connect students to professional development, academic, and/or community service opportunities within or related to the field of counseling or education. Additionally, we seek to advocate and advance the field of counseling on behalf of UVA, the greater Charlottesville community, and at the statewide level. tags No Application or Interview Required, Contracted Independent Organization (CIO), Academic & Professional, Public Service, Social & Hobby members 10\n",
      "name Middle Eastern & North African Students Association description The Middle Eastern North African Students Association shall coordinate activities and events for its members, community, and all who are interested in participating. The purpose of this organization is to bring students together and be able to celebrate their culture and traditions with one another on grounds. We aspire to raise awareness and hold charitable events for humanitarian assistance pertaining to the Middle Eastern/ Arab Americans along with the Middle Eastern and North African regions. We provide a platform for students alike to infuse their culture, language, and customs to present their pride and patriotism for the MENA descent. tags Contracted Independent Organization (CIO), Cultural & Ethnic, Social & Hobby, No Application or Interview Required members 1\n"
     ]
    },
    {
     "name": "stderr",
     "output_type": "stream",
     "text": [
      "815it [02:25,  8.34it/s]"
     ]
    },
    {
     "name": "stdout",
     "output_type": "stream",
     "text": [
      "name Alpha Sigma Phi - Zeta Upsilon Chapter description FSL tags Public Service, Social & Hobby, Political & Advocacy, Fraternity or Sorority members 1\n",
      "name Graduate Women In Business description Graduate Women in Business (GWIB) empowers women to fully express themselves by creating inclusive spaces and experiences in order to foster genuine connections, further gender equity, and build partnerships across Darden, with alumnae, and in the Charlottesville community. We aim to:﻿Accelerate community development among first and second year women, faculty, staff, and alumnae via high-impact, inclusive eventsEnable each woman to find her place by providing support across the academic, recruiting, social, physical, and emotional spheres of life at DardenEducate male allies to increase awareness and understanding of gender equity issues in the U.S. and abroad, provide counsel to Men As Allies programRecognize how intersections of identity in the Darden community heighten the need for support and programming, and support diverse women at Darden, including women of color and international womenAdvocate for an inclusive classroom and academic experienceAdvocate for women and women’s issues with the Darden Student Association and the larger school administrationSupport women in exploring diverse career options and navigating male-dominated career fields Encourage and develop women’s leadership skills and positions, both while at Darden and beyond Increase overall representation of women at Darden tags Contracted Independent Organization (CIO), Academic & Professional, Darden School, No Application or Interview Required members 11\n"
     ]
    },
    {
     "name": "stderr",
     "output_type": "stream",
     "text": [
      "816it [02:25,  7.94it/s]"
     ]
    },
    {
     "name": "stdout",
     "output_type": "stream",
     "text": [
      "name Hoothon at UVA description Hoothon is a philanthropic organization that raises money for the UVA Children's Hospital through community engagement and a variety of fundraising efforts. It is entirely student run and engages the student body as well as the local community to raise money for the kids. tags Contracted Independent Organization (CIO), Public Service members 5\n"
     ]
    },
    {
     "name": "stderr",
     "output_type": "stream",
     "text": [
      "818it [02:26,  5.60it/s]"
     ]
    },
    {
     "name": "stdout",
     "output_type": "stream",
     "text": [
      "name Center College at UVA description Center College is the on-grounds college ministry of Center Church. Like other college ministries, there are regular events for community, discipleship, and outreach.Two values of Center College include a passion for reaching the lost and a desire to be deeply and meaningfully connected to the local church (Center Church).The university is a ripe mission field and a potent mission force. We hope to reach, disciple, and send many students to be all-of-life disciples!  tags Religious & Spiritual, Contracted Independent Organization (CIO) members 14\n",
      "name Humans of UVA at the University of Virginia description At Humans of UVA, we create a platform featuring portraits and short stories that glimpse into the lives of members of the UVA community (students, faculty, and staff). We hold dearly the notion that every person has their own unique story. We interview diverse members of the UVA community (students, faculty, and staff) and document their stories through the use of social media. Through this, we display the diversity of the UVA community, giving attention to voices that are not typically heard (ex. minority populations, LGBTQ, and etc.)Examples of interviews can be found on @humansofuvaofficial on Instagram and @HumansofUVa on Facebook. tags Contracted Independent Organization (CIO), Social & Hobby, Media & Publications members 13\n"
     ]
    },
    {
     "name": "stderr",
     "output_type": "stream",
     "text": [
      "821it [02:26,  6.77it/s]"
     ]
    },
    {
     "name": "stdout",
     "output_type": "stream",
     "text": [
      "name Virginia Men's Water Polo Club description *IMPORTANT Please Read*The Virginia Men's Water Polo Club is back to having a normal competitive Fall Season this upcoming academic year! We will hold try outs before the competitive Fall season. If you are interested in joining, please fill out the Google Form below so we can contact you regarding Fall try outs. No prior water polo experience necessary and all skill levels are welcome, however strong swimming skills are recommended. If you have any questions, reach out to Team President Max Spurr at wpx7xa@virginia.edu CLICK HERE TO FILL OUT THE INTEREST FORM FOR THE FALL 2022 SEMESTER: https://forms.gle/TQSmXAHtX7narhnt6Fall try outs will be held at the Aquatic and Fitness Center on Monday, August 29th and Tuesday, August 30th from 7:45pm to 10pm. Tryouts will consist of a few swim sets, passing with a water polo ball, and basic water polo drills. Please come with a pair of goggles and a speedo, swim jammer, or whatever you are most comfortable swimming in.The Virginia Men's Water Polo Club is a club water polo team that provides an inviting atmosphere for students to improve and excel at the sport. Club practices contain swim sets, drills, and scrimmages to help the team prepare for tournaments against league opponents and clubs from around the nation throughout the year. Social events are also organized regularly to strengthen bonds between players as well as socialize with fellow UVA students in other clubs and organizations. There will be tryouts for new and interested players at the beginning of the fall academic semester. During the competitive fall season, an average of four practices are usually held on weekdays with tournaments occurring on the weekends. The Virginia Men's Water Polo Club welcomes students who have an interest in playing the sport, improving their water polo skills, and fostering strong connections between players through the practices, tournaments, and social activities. tags Club Sport, Social & Hobby, Contracted Independent Organization (CIO) members 12\n",
      "name Economics Club description The Economics Club exists to foster communication among Economics majors; to advance their interests, broadly conceived; to enhance a community within the economics department; to work with the economics department to improve the major program; and to encourage informal interaction with the Economics faculty. tags Academic & Professional, Contracted Independent Organization (CIO) members 101\n"
     ]
    },
    {
     "name": "stderr",
     "output_type": "stream",
     "text": [
      "823it [02:26,  6.01it/s]"
     ]
    },
    {
     "name": "stdout",
     "output_type": "stream",
     "text": [
      "name She's the First at the University of Virginia description She's the First at UVA is a chapter of the large international org, She's the First. Our goal is to support and sponsor the education of girls in developing countries, hoping to make girls be the first in their family to graduate from secondary school. We fundraise to support this goal, and we also educate about girls' rights worldwide, ensuring that they are respected and heard. tags Contracted Independent Organization (CIO), Public Service, Political & Advocacy members 7\n",
      "name Supporting Oncologic Communities, Kids, and Students description SOCKS! We aim to Support Oncologic Communities, Kids, and Students. Our goal is to provide aid to Charlottesville's Children's Hospital and UVA Cancer Center through care packages. We will be hosting fundraising events that will directly impact the children and staff in both organizations. We’re called SOCKS because many chemotherapy treatments can cause numbness and tingling in the extremities, and all of our care packages include a pair of comfy socks because we want our gifts to be uplifting and supporting in such a challenging time.  tags Contracted Independent Organization (CIO), Public Service members 30\n"
     ]
    },
    {
     "name": "stderr",
     "output_type": "stream",
     "text": [
      "825it [02:27,  6.07it/s]"
     ]
    },
    {
     "name": "stdout",
     "output_type": "stream",
     "text": [
      "name Reformed University Fellowship description RUF is a campus ministry seeking to reach students for Christ and to equip them to serve. tags Contracted Independent Organization (CIO), Religious & Spiritual members 14\n",
      "name The Anesthesiology Interest Group at the University of Virginia description For medical students pursuing anesthesiology. tags Contracted Independent Organization (CIO), Academic & Professional members 15\n"
     ]
    },
    {
     "name": "stderr",
     "output_type": "stream",
     "text": [
      "827it [02:27,  6.42it/s]"
     ]
    },
    {
     "name": "stdout",
     "output_type": "stream",
     "text": [
      "name The Occultation Group description We are an observational astronomy research group that observes asteroids in our Solar System as they pass in front of distant stars (this event is called an \"occultation\"). These observations are critical for nailing down the precise locations of asteroids, as well as determining asteroid shapes and sizes. This is an exciting field of research, and is necessary for space missions (e.g., the NASA Lucy mission) that are heading to visit asteroids. We are a hands-on, observational astronomy group; we set up small, portable telescopes to observe occultations, and we analyze our data and submit to researchers. We primarily observe in the local area, but occasionally we travel for more important occultations. In the past, members have participated in NASA campaigns in North Carolina, Australia, and Kansas. tags Contracted Independent Organization (CIO), Academic & Professional, Social & Hobby members 11\n",
      "name Bharatiya Council description Bharatiya Council will be aiding international Indian students in the transition to the United States and assimilate with the existing culture. We will be celebrating cultural events based on religious grounds. Moreover, the organization will serve as a platform to help international Indians whose first language is not English search for career-related opportunities and check for alignment with immigration regulation. An important aspect of the club will be to establish and maintain networks with International Indian alumni through partnerships with the UVA Club of Indian and recent graduates. And finally, the club will serve as a forum for advice in terms of adjusting with the cultural differences, internships and jobs, and additional UVA-specific information. tags Cultural & Ethnic, Contracted Independent Organization (CIO), International members 20\n"
     ]
    },
    {
     "name": "stderr",
     "output_type": "stream",
     "text": [
      "829it [02:27,  6.66it/s]"
     ]
    },
    {
     "name": "stdout",
     "output_type": "stream",
     "text": [
      "name Kids Acting Out description The purpose of Kids Acting Out is simple: to bring theater to the lives of elementary-aged children in the Charlottesville community in order to improve their social well-being and academic focus.  Kids Acting Out strives to engage Charlottesville kindergarten through fourth grade students in the production and presentation of a full-length play.  This endeavor would include costuming, set design/construction, rehearsal, and performance.  By not charging students for this experience, Kids Acting Out hopes to reach children in the Charlottesville area.  We work with Johnson elementary School (Fridays, 3:30-4:30pm).  tags Contracted Independent Organization (CIO), Visual & Performing Arts, Public Service, No Application or Interview Required members 14\n",
      "name The Range description It is considered an honor to live in one of the University’s prestigious rooms on the Range. Located in Mr. Jefferson's original buildings, the Academical Village, these single rooms are truly in the center of the University. Living on the Range and in the Crackerbox rooms is reserved for graduate students who are enrolled full-time in a degree-granting program.The graduate students living on the Range are as diverse as the subjects they study. Some residents are pursuing degrees in medicine or law; others are working on doctoral degrees in the arts and sciences. As you walk past each room, you might encounter a historian, a physicist, a sociologist, and a biomedical scientist - all living right next door to each other.However, the Range is more than just a place to live; it is also a community that encourages formal and informal contact between scholars in different disciplines and professions. Most of the graduate students who live on the Range do so because it gives them the opportunity to meet people from other fields and to contribute to the University at large. For example, many residents participate in events such as the Lighting of the Lawn, or host receptions for colleagues in their rooms. tags Residence Hall members 0\n"
     ]
    },
    {
     "name": "stderr",
     "output_type": "stream",
     "text": [
      "831it [02:28,  6.21it/s]"
     ]
    },
    {
     "name": "stdout",
     "output_type": "stream",
     "text": [
      "name Graduate and Professional Students of Africa (GAPSA) description As the name indicates, the Graduate and Professional Students of Africa is a safe space for international students from Africa. We have an ongoing WhatsApp group with about 80 members with about 14 flags representing our members' countries.  We welcome Masters students, PhD candidates, and professional students from Darden, Law and Medical schools. We welcome newly admitted African students and provide them with information to ease their transition to the United States. GAPSA cultivates a community of Africans who share their culture--food, language and daily living--while navigating life in the United States. tags Contracted Independent Organization (CIO), Cultural & Ethnic members 7\n",
      "name Hablemos Spanish Conversation Club description Hablemos is a relaxed forum for students to practice and develop Spanish speaking ability without the pressure of grades or class expectations. Students of any skill level, from beginner to native speaker, are welcome to participate. Hablemos tries to build confidence in Spanish speaking ability, help members learn new vocabulary, and provide an easy, convenient outlet for any University student who wishes to speak Spanish with other students. In the past, we've had cooking classes and restaurant nights together. tags No Application or Interview Required, Contracted Independent Organization (CIO), Academic & Professional, Cultural & Ethnic, Social & Hobby members 89\n"
     ]
    },
    {
     "name": "stderr",
     "output_type": "stream",
     "text": [
      "833it [02:28,  6.60it/s]"
     ]
    },
    {
     "name": "stdout",
     "output_type": "stream",
     "text": [
      "name Chabad Jewish Heritage Student Association description Chabad Jewish Heritage Student Association is an organization for all students to participate in Jewish Cultural events and learn more about Judaism. We offer services for all Jewish Holidays and weekly Kosher lunches.  tags No Application or Interview Required, Religious & Spiritual, Contracted Independent Organization (CIO), Cultural & Ethnic, Social & Hobby members 16\n",
      "name Sigma Chi (Psi Chapter) description FSL tags Fraternity or Sorority, Political & Advocacy, Social & Hobby, Public Service members 5\n"
     ]
    },
    {
     "name": "stderr",
     "output_type": "stream",
     "text": [
      "835it [02:28,  6.60it/s]"
     ]
    },
    {
     "name": "stdout",
     "output_type": "stream",
     "text": [
      "name HRL SR - Woody-Cauthen description HRL tags Administrative Unit, Residence Hall members 0\n",
      "name Women's Club Volleyball at the University of Virginia description The Virginia Women's Club Volleyball Team is a competitive team which competes with other collegiate club teams from all over the country. We practice year-round, three times a week. We generally attend five or six tournaments each academic year. In the past, the team has traveled to tournaments at James Madison, Virginia Tech, Virginia Commonwealth University, Appalachian State, Penn State, University of North Carolina, etc. The team has gone to Nationals all but one year since it started, and has competed strongly each time.  Tryouts are held annually in the fall, a few weeks after the semester begins. You can sign up to get information about try-outs at the Activity Fair or at Club Sports Night. tags Contracted Independent Organization (CIO), Club Sport members 17\n"
     ]
    },
    {
     "name": "stderr",
     "output_type": "stream",
     "text": [
      "837it [02:28,  6.28it/s]"
     ]
    },
    {
     "name": "stdout",
     "output_type": "stream",
     "text": [
      "name Virginia Law Wine Society (VLWS) description The goals of VLWS are twofold, one social and oneeducational. First, VLWS is designed to create a social and community-building space for all law students, across class years, 1L sectionassignments, identity backgrounds, and intended career trajectories.Second, VLWS is designed to develop a greater knowledge andappreciation of different varieties of wines, especially those native to thecentral Virginia region. tags Contracted Independent Organization (CIO), Social & Hobby, Law School, No Application or Interview Required, Peer Mentors members 16\n",
      "name The Sailing Association at The University of Virginia description Virginia Sailing has a long history of serving the UVA sailing community. Formed in 1969, our three-pronged program allows for sailors of all skill levels the opportunity to compete, learn, and socialize. tags Contracted Independent Organization (CIO), Club Sport, Social & Hobby members 12\n"
     ]
    },
    {
     "name": "stderr",
     "output_type": "stream",
     "text": [
      "840it [02:29,  7.36it/s]"
     ]
    },
    {
     "name": "stdout",
     "output_type": "stream",
     "text": [
      "name Planned Parenthood Generation Action at UVA description Planned Parenthood Generation Action (PPGA) at UVA exists to educate the University community about reproductive health and rights, serve as a coalition partner to state, national, and international reproductive rights efforts, and translate increased awareness into pro-choice activism on Grounds. PPGA is a nationwide program that seeks to energize a new generation of pro-choice Americans. PPGA mobilizes young people in support of reproductive freedom, increases their awareness of threats to reproductive health and rights, and cultivates their long-term involvement in the pro-choice movement.  tags Contracted Independent Organization (CIO), Political & Advocacy, No Application or Interview Required members 64\n",
      "name Virginia Entrepreneurship Organization description VEO is the hub for all things startups at the University of Virginia. At our core, we support students who are working on side-projects and startups — those who are looking to build their first version of their product and onwards. tags Contracted Independent Organization (CIO), Academic & Professional, No Application or Interview Required members 10\n"
     ]
    },
    {
     "name": "stderr",
     "output_type": "stream",
     "text": [
      "842it [02:29,  6.65it/s]"
     ]
    },
    {
     "name": "stdout",
     "output_type": "stream",
     "text": [
      "name Sigma Omicron Rho description FSL tags Fraternity or Sorority, Multicultural Greek Council (MGC), Political & Advocacy, Social & Hobby, Public Service members 2\n",
      "name LGBTQ Center description LGBTQ tags Department, Schools, or Centers members 2\n"
     ]
    },
    {
     "name": "stderr",
     "output_type": "stream",
     "text": [
      "844it [02:29,  6.89it/s]"
     ]
    },
    {
     "name": "stdout",
     "output_type": "stream",
     "text": [
      "name Korean American Law Student Association description The purpose of this organization shall be to represent the views of Korean American students at the University of Virginia School of Law; to promote the welfare of its members through educational, professional, cultural and social programs; and to provide a discussion forum for Korean American law students.The organizational vision of KALSA is to create a community space for Korean / Korean American law students at the University of Virginia School of Law. Our long-term goals are to create a professional network for current students and alumni, the development of a mentorship program, and the continuous fostering of community through the planning and hosting of cultural events and socializing opportunities. tags Contracted Independent Organization (CIO), Cultural & Ethnic, Law School members 13\n",
      "name Graduate Engineering Student Council description Mission StatementThe mission of the Graduate Engineering Student Council is to• improve the quality of the graduate engineering experience,• increase the value of the SEAS graduate diploma,• promote a culture of giving back to the University and local communities within theSEAS graduate student community,• foster active research culture among graduate students,• represent the SEAS graduate students to the faculty, administration, and partnerorganizations,• allocate funds for worthy student activities, and• foster interdepartmental exchange and communication. tags Academic & Professional, Administrative Unit, Special Status Organization (SSO), No Application or Interview Required members 4\n"
     ]
    },
    {
     "name": "stderr",
     "output_type": "stream",
     "text": [
      "846it [02:30,  6.73it/s]"
     ]
    },
    {
     "name": "stdout",
     "output_type": "stream",
     "text": [
      "name Grounds: The Virginia Journal of Bioethics description The Virginia Journal of Bioethics seeks to promote an inclusive discourse surrounding the contemporary issues in the field of bioethics. We offer a platform for your voice to be heard in mounting and ever-important discussions of ethics in the life sciences. tags Media & Publications, Contracted Independent Organization (CIO), Academic & Professional, Political & Advocacy members 25\n",
      "name Yellow Door at UVA description Yellow Door at UVA is a service-oriented outreach club that helps raise money and awareness for a local Charlottesville nonprofit: the Yellow Door Foundation.  Founded in 2017 by UVA Alum JoAnne McTague, this organization provides long-term lodging for pediatric patients receiving treatment at UVA Children's.  Because these patients are often immunocompromised, YDF provides single-family apartments to give these children and their families a \"home away from home\".  Yellow Door at UVA coordinates directly with YDF to drive fundraising efforts and engage the UVA and Charlottesville community in this worthy cause. tags Public Service, Contracted Independent Organization (CIO), Health and Wellness members 8\n"
     ]
    },
    {
     "name": "stderr",
     "output_type": "stream",
     "text": [
      "848it [02:30,  7.69it/s]"
     ]
    },
    {
     "name": "stdout",
     "output_type": "stream",
     "text": [
      "name Men's Club Lacrosse description The Men’s Club lacrosse team at University of Virginia is a club (non-varsity) program that competes in the Blue Ridge Conference of the National College Lacrosse League (NCLL). The team plays games against other universities and lacrosse programs nationwide such as Maryland, JMU, Navy, and Penn State. As a club sport, we are completely student run and play throughout the year. Fall ball consists of tournaments and scrimmages; spring ball is geared towards interleague play with NCLL playoffs at the end of the semester tags Contracted Independent Organization (CIO), Club Sport members 8\n",
      "name TOM @ UVA description TOM @ UVA is an organization focused on creating assistive technology for individuals with physical or mental disabilities.  tags No Application or Interview Required, Public Service, Contracted Independent Organization (CIO) members 3\n"
     ]
    },
    {
     "name": "stderr",
     "output_type": "stream",
     "text": [
      "850it [02:30,  7.85it/s]"
     ]
    },
    {
     "name": "stdout",
     "output_type": "stream",
     "text": [
      "name IEEE Solid-State Circuits Society Student Chapter at the University of Virginia description The IEEE Solid-State Circuits Society Student Chapter at the University of Virginia exists to promote and educate others about the field of integrated circuits and electrical engineering in the context of relevant academic and industry research. tags Academic & Professional, Contracted Independent Organization (CIO), No Application or Interview Required members 10\n",
      "name HooHacks description HooHacks aims to empower the hacker community at the University of Virginia and around the world. Our goal is to build this community by encouraging communications and interactions between all academic programs and concentrations through our annual Ideathon, as well as hosting our annual hackathon. At our Ideathon, engineering and entrepreneurial students come together to tackle modern problems and generate practical solutions. At our hackathon, students can test their skills as they compete against each other to produce mobile, web, or hardware hacks that can become fully fledged products. Judges, mentors, and recruiters from our various corporate sponsors are able to see the talent the University of Virginia has to offer and our students can pursue their passions further by getting summer internships or full-time employment. We welcome students of different skill sets and experience levels to join us in our mission. Join HooHacks to meet some amazing people, put on events that are known across the states, and be a part of something bigger!  tags Social & Hobby, Contracted Independent Organization (CIO), Academic & Professional members 22\n"
     ]
    },
    {
     "name": "stderr",
     "output_type": "stream",
     "text": [
      "851it [02:30,  7.30it/s]"
     ]
    },
    {
     "name": "stdout",
     "output_type": "stream",
     "text": [
      "name NextGen America at UVA description NextGen America is the nation’s largest youth voting organization that’s using innovative digital and field strategies to turn out young voters in key states. We’re empowering the largest and most diverse generation in American history through voter education, registration and mobilization. At NextGen we share lessons learned with the broader progressive community to build a stronger, more nimble and effective democracy. tags Contracted Independent Organization (CIO), Political & Advocacy members 1\n"
     ]
    },
    {
     "name": "stderr",
     "output_type": "stream",
     "text": [
      "853it [02:31,  6.29it/s]"
     ]
    },
    {
     "name": "stdout",
     "output_type": "stream",
     "text": [
      "name Student Clinicians for Climate Action at UVA description SCCA at UVA is a group of health professional students who recognize the impact of the changing climate on human health and the inequitable distribution of the resulting health burden. As clinicians-in-training, we aim to learn, educate, advocate, and practice medicine with planetary health in mind. In doing so, we will better care for our future patients, communities, and selves. tags Academic & Professional, Contracted Independent Organization (CIO), Political & Advocacy members 17\n",
      "name Team One Love at the University of Virginia description The One Love Foundation was created in 2010 after Yeardley Love, a senior at UVA, was killed by her ex-boyfriend. Her family started One Love to raise awareness and educate students about the warning signs of relationship abuse.The purpose of Team One Love is to motivate University of Virginia students to engage in the movement to end relationship violence.  Members of Team One Love work to distribute the One Love Foundation’s Escalation and Behind the Post workshops to educate students of the issue of relationship violence. In addition to organizing and facilitating the workshop, members of Team One Love develop awareness campaigns, speaker series, and advocacy events to further the education of students on grounds about relationship violence. We also hold fundraising events for the One Love Foundation, of which we are a chapter. tags Contracted Independent Organization (CIO), Political & Advocacy, No Application or Interview Required members 43\n"
     ]
    },
    {
     "name": "stderr",
     "output_type": "stream",
     "text": [
      "855it [02:31,  6.91it/s]"
     ]
    },
    {
     "name": "stdout",
     "output_type": "stream",
     "text": [
      "name Christian 'Hoos Exalt description Christian Hoos Exalt (aka CHoosE) is UVA’s first and only Christian a cappella group. CHoosE was founded 28 years ago on the verse Josh. 24:15, “But if serving the Lord seems undesirable to you, then choose for yourselves this day whom you will serve…But as for me and my household, we will serve the Lord.” We choose to serve the Lord at UVA through our musicianship and love for the Lord! tags Contracted Independent Organization (CIO), Visual & Performing Arts, Religious & Spiritual members 11\n",
      "name Parkour Association description The Parkour Association is for anyone who wants to learn how or to train, to be comfortable, confident, and creative in your own movement for a given environment. All skill levels are welcome! tags Social & Hobby, Contracted Independent Organization (CIO), No Application or Interview Required members 20\n"
     ]
    },
    {
     "name": "stderr",
     "output_type": "stream",
     "text": [
      "857it [02:31,  7.05it/s]"
     ]
    },
    {
     "name": "stdout",
     "output_type": "stream",
     "text": [
      "name Student Athlete Mentors description SAMs tags Department Group or Program, L2K, Peer Mentors members 3\n",
      "name the Biomimicry and Underwater Robotic Submersible Team at UVA description BURST (Biomimicry and Underwater Robotic Submersible Team) at UVA is an organization that combines a passion for project-based learning with unique design challenges. When it comes to creating a controllable submersible, BURST is your one-stop shop at UVA. We compete in the National MATE ROV competition and the Biomimicry Institutes Global Design Challenge, which are competitions that introduce complex design engineering design challenges yearly.  tags Contracted Independent Organization (CIO), Academic & Professional, No Application or Interview Required members 13\n"
     ]
    },
    {
     "name": "stderr",
     "output_type": "stream",
     "text": [
      "859it [02:32,  7.28it/s]"
     ]
    },
    {
     "name": "stdout",
     "output_type": "stream",
     "text": [
      "name Student Game Developers description Join our discord here: https://discord.gg/B3BWPnW9 . Student Game Developers seeks to bring together student programmers and artists to provide opportunities to gain experience in game development through team projects. In addition, SGD seeks to explore and increase knowledge of the game development industry, while simultaneously help establish networking connections for its members. The intention of the group is not to simply play games, but to be actively involved in the art and science of creating them, whether as a hobby or as preparation for a career. tags No Application or Interview Required, Social & Hobby, Contracted Independent Organization (CIO), Academic & Professional members 29\n",
      "name Mock Trial at the University of Virginia description Mock Trial at UVA is a competitive extracurricular activity where teams of 6-8 people compete against other schools in 3-hour trials. Students play the roles of attorneys and witnesses, both of which are scored. All competitors learn about the law, courtroom procedures, and the rules of evidence, as well as public speaking and critical thinking skills. tags Contracted Independent Organization (CIO), Academic & Professional, Political & Advocacy, Social & Hobby members 11\n"
     ]
    },
    {
     "name": "stderr",
     "output_type": "stream",
     "text": [
      "861it [02:32,  6.12it/s]"
     ]
    },
    {
     "name": "stdout",
     "output_type": "stream",
     "text": [
      "name Cultural Organization for Latin Americans at UVA description The organization plans events that promote community building, intersectional cultural awareness, and academic success within the university. It also hopes to promote a more inclusive, diverse, and equitable environment for all Latin American students on Grounds.  tags No Application or Interview Required, Contracted Independent Organization (CIO), Cultural & Ethnic, Academic & Professional, Social & Hobby members 29\n",
      "name The Scratch Zine description The Scratch Zine is a student-run publication focused on bringing together the arts community and displaying student artwork in a zine published every semester.  tags Contracted Independent Organization (CIO), Visual & Performing Arts, No Application or Interview Required, Media & Publications members 8\n"
     ]
    },
    {
     "name": "stderr",
     "output_type": "stream",
     "text": [
      "863it [02:32,  7.02it/s]"
     ]
    },
    {
     "name": "stdout",
     "output_type": "stream",
     "text": [
      "name Chinese Student Association description The Chinese Student Association (CSA), as one of the largest Asian-American cultural organizations on grounds, seeks to promote awareness and appreciation for traditional and modern Chinese culture within the University and greater Charlottesville community. CSA hosts an array of cultural and social events designed to reach out to and bring together both native and ethnic Chinese, as well as the non-Chinese populations of UVA, in order to share and celebrate Chinese culture. tags No Application or Interview Required, Contracted Independent Organization (CIO), Cultural & Ethnic, Social & Hobby members 100\n",
      "name Virginia Triathlon Team description The purpose of the Virginia Triathlon Team is for beginners and veterans alike to enjoy the ever-growing sport of triathlon through organized workouts, Collegiate and non-Collegiate racing, and social events. Anyone interested is welcome to join, and being part of the team is a great way to find fellow triathletes in UVA/Charlottesville community. tags Contracted Independent Organization (CIO), Social & Hobby, Club Sport members 42\n"
     ]
    },
    {
     "name": "stderr",
     "output_type": "stream",
     "text": [
      "865it [02:33,  5.87it/s]"
     ]
    },
    {
     "name": "stdout",
     "output_type": "stream",
     "text": [
      "name Greek For Good description Greek for Good at UVA is established for the expressed purpose of:Bringing together the Members of the Fraternal Philanthropic Community in hopes that working together will promote more organized, frequent, and impactful fundraisers, events, and community service opportunities for the entirety of the Charlottesville community. Specifically, this organization coordinates the large annual fundraising event that goes to support the selected organization chosen for that year. Each organization / area of focus will be decided shortly after the closing of the year's prior annual event, and will be decided on by a vote of the entire organization after viewing submitted proposals (either submitted by internal or external parties). The common thread of any philanthropic event will remain: to create a university and community wide event for all to take part and give back within. Through early on allocated sponsorships to make the large-scale event possible, and donations from individuals and organizations surrounding the day of, Greek4Good plans to donate significant funds through their rallying of the community in the cause of philanthropic giving to make our city stronger. 2022 Mission Statement: The Carniville for Charlottesville is an event meant for the entire UVA community to enjoy. Our goal is to raise money for local nonprofit organizations which promote youth development in our community. Youth development is centered around providing youth from all socio-economic backgrounds with the opportunities to be successful as they continue their education and growth. The carnival’s philanthropic focus will be towards organizations that support education, recreational sports, and the arts. Greek for Good aims to serve as a service catalyst within the Greek and university community, advocating through partnerships and communications of the organization about getting more young people involved within Charlottesville’s areas of need. tags Inter-Fraternity Council (IFC), Inter-Sorority Council (ISC), Contracted Independent Organization (CIO), Public Service members 27\n",
      "name Doctors Without Borders at UVA description Doctors Without Borders / Médecins Sans Frontières (MSF) is an international NGO that provides medical care to people affected by armed conflict, epidemics, natural disasters, and exclusion from health care. Because MSF believes everyone has a right to health care, the organization is based on the principles of impartiality, independence, and neutrality. As a student chapter, our goal is to raise awareness about humanitarian issues and MSF's work, encourage students to explore careers in global health, run advocacy campaigns, and fundraise for global health crises. tags No Application or Interview Required, Public Service, Social & Hobby, Academic & Professional, Contracted Independent Organization (CIO) members 70\n"
     ]
    },
    {
     "name": "stderr",
     "output_type": "stream",
     "text": [
      "868it [02:33,  8.28it/s]"
     ]
    },
    {
     "name": "stdout",
     "output_type": "stream",
     "text": [
      "name University Programs Council description The University Programs Council (UPC) is a student-run programming board that provides students and members of the University and Charlottesville communities with a wide variety of entertaining and educational activities and events. UPC is comprised of 6 executive officers, 7 committee directors, and hundreds of committee members. It is an all inclusive programming board and welcomes all UVA students to have a hand in creating events for the community!For more info on our events visit the University Programs Council Website tags Social & Hobby, Visual & Performing Arts, Agency, L2K members 140\n",
      "name Global Infectious Diseases Association description Are you looking for an engaging way to get involved in the field of infectious disease? We at the Global Infectious Diseases Association (GIDA) are a group of students with diverse majors and backgrounds looking to spread information and promote research regarding infectious disease. We work closely with the Center for Global Health Equity (CGHE) to collaborate on events and activities designed to encourage undergraduate research in infectious diseases. As we have seen in this current situation, the impact of infectious disease spreads beyond the field of healthcare. As a member of GIDA, you would be working closely with your peers to help plan and implement events and activities to foster this dialogue regarding the infectious disease within a global context. Recently, we have hosted panels with infectious disease experts to broaden the conversation about the interdisciplinary nature of disease. Additionally, we have hosted research poster sessions where students have an opportunity to meet graduate students and faculty who run research, and talk to them first hand about what they’re studying, and how to get involved. tags Contracted Independent Organization (CIO), Academic & Professional, No Application or Interview Required members 15\n"
     ]
    },
    {
     "name": "stderr",
     "output_type": "stream",
     "text": [
      "870it [02:33,  7.26it/s]"
     ]
    },
    {
     "name": "stdout",
     "output_type": "stream",
     "text": [
      "name Black Student-Athletes Offering Service and Support description Black Student-Athletes Offering Service and Support, or B.O.S.S., is an organization designed to provide the opportunity for unity among Black Student-Athletes at The University of Virginia. Our main goals with this group is to provide service to the community and support each other. As we pursue these goals, we also seek self-growth so that we may positively impact those we interact with daily. Lastly, our group emphasizes social awareness on topics such as politics, media/entertainment, health/education, etc. tags Public Service, Social & Hobby, Cultural & Ethnic, Contracted Independent Organization (CIO), Black Presidents Council, No Application or Interview Required members 7\n",
      "name Women's Leadership Development Program description The Women's Leadership Development Program (WLDP) is designed to encourage UVA undergraduate women to further their leadership knowledge and experience. Participants engage in dynamic presentations on women’s leadership, network with fellow female leaders, and interact with female role models from the local and national community.WLDP's mission: WLDP challenges UVA women to engage as empowered, innovative, and empathetic leaders through the promotion of their personal and professional developmentWLDP is open to UVA undergraduate women of all years. The program is held during the spring semester and includes five sessions. In order to be considered a graduate of the program, attendance is required at a minimum of four of the five sessions. Participants will also take part in program-wide service projects.*This program is open to all undergraduate students without regard to gender identity or expression. tags Leadership Development, Administrative Unit, Department Group or Program members 18\n"
     ]
    },
    {
     "name": "stderr",
     "output_type": "stream",
     "text": [
      "872it [02:34,  6.96it/s]"
     ]
    },
    {
     "name": "stdout",
     "output_type": "stream",
     "text": [
      "name HRL SR - International Residential College description HRL tags Administrative Unit, Residence Hall members 0\n",
      "name Cereal Club at UVA description A group of like-minded, serial cereal-eaters who enjoy eating cereal together and want to broaden our cereal horizons! tags Social & Hobby, Contracted Independent Organization (CIO), No Application or Interview Required members 17\n"
     ]
    },
    {
     "name": "stderr",
     "output_type": "stream",
     "text": [
      "874it [02:34,  6.29it/s]"
     ]
    },
    {
     "name": "stdout",
     "output_type": "stream",
     "text": [
      "name SpongeBob Club description The SpongeBob Club is an organization dedicated to appreciating the Nickelodeon television show SpongeBob SquarePants. Everyone is welcome, even first time watchers. At our meetings we share our love for the show and talk about recent SpongeBob news, share memes, play Kahoot, and appreciate the audio-visual elements of the show. We also hold trivia contests and other great activities. tags No Application or Interview Required, Contracted Independent Organization (CIO), Social & Hobby members 41\n",
      "name University of Virginia Naval Reserve Officer Training Corps description The mission of the University of Virginia Naval ROTC program is to develop midshipmen mentally, morally and physically, and imbue them with the highest ideals of duty and loyalty, and with the core values of honor, courage and commitment, in order to commission college graduates as naval officers who possess a basic professional background, are motivated towards careers in the naval service, and have a potential for future development in mind and character so as to assume the highest responsibilities of command, citizenship, and government. tags Contracted Independent Organization (CIO), Academic & Professional, Leadership Development members 13\n"
     ]
    },
    {
     "name": "stderr",
     "output_type": "stream",
     "text": [
      "876it [02:34,  5.39it/s]"
     ]
    },
    {
     "name": "stdout",
     "output_type": "stream",
     "text": [
      "name Virginia Sports and Entertainment Law Society (VSELS) description The Virginia Sports and Entertainment Law Society provides an educational forum for students dedicated to exploring the interface between sports, entertainment and the law. The primary goals of the organization are to consistently host informative events featuring sports and entertainment law professionals, participate in national sports and entertainment law competitions, provide career networking opportunities for students, and promote a comfortable setting where students can socialize and discuss relevant legal issues in sports and entertainment. All students who share a passion for sports, entertainment and the law are welcome to join. tags No Application or Interview Required, Law School, Contracted Independent Organization (CIO), Academic & Professional members 38\n",
      "name Phi Sigma Kappa (Psi Chapter) description FSL tags Public Service, Social & Hobby, Political & Advocacy, Fraternity or Sorority members 0\n"
     ]
    },
    {
     "name": "stderr",
     "output_type": "stream",
     "text": [
      "878it [02:35,  5.92it/s]"
     ]
    },
    {
     "name": "stdout",
     "output_type": "stream",
     "text": [
      "name Outdoors Club at Darden description The Darden Outdoors Club is setup to bring people together in the outdoors. We lead outdoors trips and activities that offer opportunities to relax, laugh, and build a more inclusive community. We believe that connecting outside of the classroom is essential to developing lifelong friendships amongst the many diverse groups at Darden. tags Contracted Independent Organization (CIO), Darden School, Social & Hobby members 6\n",
      "name First Harmonics description A co-ed a cappella group comprised of graduate students from Science and Engineering departments. tags Contracted Independent Organization (CIO), Visual & Performing Arts, Social & Hobby members 11\n"
     ]
    },
    {
     "name": "stderr",
     "output_type": "stream",
     "text": [
      "880it [02:35,  6.71it/s]"
     ]
    },
    {
     "name": "stdout",
     "output_type": "stream",
     "text": [
      "name North Grounds Softball League description      The North Grounds Softball League is responsible for organizing and running a graduate school softball league with participants from the Law School, Darden, and JAG School.  Games are held in both the fall and spring seasons.  In addition to league play, NGSL hosts a Spring Invitational law school tournament to benefit a local Charlottesville charity.  Over 100 teams from over 50 law schools travel to Charlottesville each year to play in the Invitational.  Primary responsibilities of members include maintaining the fields, scheduling and umpiring league games, and organizing and hosting the Invitational. The specific objectives and purposes of this corporation shall be:                        (a) To organize and run the University of Virginia School of Law softball league for thebenefit and enjoyment of all the members of the community who wish to participate.Participation is not limited to students enrolled solely at the Law School;                        (b) To organize and run the University of Virginia School of Law Spring SoftballInvitational for the benefit and enjoyment of any law school who wishes to bring a team.                        (i) Portion of proceeds from the Tournament go to a local Charlottesville charity.                        (c) To have the normal functions, operations, programs, and pursuits incidental to a fullyrecognized and operational nonprofit organization responsible for the advancement ofrecreational activity at the University of Virginia and Charlottesville area.                                                             tags Contracted Independent Organization (CIO), Social & Hobby, Darden School, Law School members 5\n",
      "name Domestic Violence Project description  The Domestic Violence Project is a law student pro bono, education, and awareness project. DVP addresses the problem of domestic violence both directly (through pro bono service) and indirectly (through educational efforts to raise awareness and understanding of the issue). DVP educates the Law School community about issues of domestic and intimate partner violence through speakers, discussion panels, films and other events. DVP volunteers also monitor domestic violence-related criminal justice proceedings in Charlottesville, Albemarle and several other surrounding jurisdictions through the Shelter for Help in Emergency's Court Monitoring Program, and assist the Commonwealth's Attorney Offices of Charlottesville and of Albemarle in their prosecution of domestic violence cases by interviewing victims of domestic violence through the Commonwealth's Attorney's Project (CAP). In addition, DVP participants volunteer for the Central Virginia Legal Aid Society Pro Bono Domestic Violence Project (PDVP), organize police ride-alongs and more. tags Contracted Independent Organization (CIO), Political & Advocacy, Public Service, Law School, No Application or Interview Required members 11\n"
     ]
    },
    {
     "name": "stderr",
     "output_type": "stream",
     "text": [
      "882it [02:35,  6.78it/s]"
     ]
    },
    {
     "name": "stdout",
     "output_type": "stream",
     "text": [
      "name Comics and Animation INternational Exploration description We aim to increase awareness and appreciation of comics and animation as legitimate media for art and entertainment. Additionally, we organize showings to expose our club members to animation as often as possible. tags No Application or Interview Required, Media & Publications, Contracted Independent Organization (CIO), Social & Hobby members 39\n",
      "name Virginia Environmental Law Journal description Since 1980, the Virginia Environmental Law Journal has published leading scholarship on environmental, land use, and energy law and policy. We are a student-run organization which publishes two issues per year. Our membership is open to students at the University of Virginia School of Law who participate in the Unified Journal Tryout. tags Academic & Professional, Contracted Independent Organization (CIO), Law School, Media & Publications members 16\n"
     ]
    },
    {
     "name": "stderr",
     "output_type": "stream",
     "text": [
      "884it [02:35,  6.91it/s]"
     ]
    },
    {
     "name": "stdout",
     "output_type": "stream",
     "text": [
      "name Vietnamese Student Association description The Vietnamese Student Association at The University of Virginia is dedicated to the general development of the student body. We strive to educate and advocate for the Vietnamese and Asian-American communities. In doing so, we hope to bring students with Vietnamese heritage and others who have interests in Vietnam together to create opportunities to have fun, assist each other, make life-long friendships, and build leadership skills throughout our college careers. The need for new members will always be encouraged without discrimination towards ethnicity, gender, or religion. Altogether, we strive to be recognized as the voice of youths and extend our culture to highlight cultural diversity at UVA and in the Charlottesville community. tags Academic & Professional, Cultural & Ethnic, Contracted Independent Organization (CIO), Visual & Performing Arts, Social & Hobby, Public Service members 59\n",
      "name Chi Omega (Lambda Gamma Chapter) description FSL tags Fraternity or Sorority, Public Service, Social & Hobby, Political & Advocacy members 1\n"
     ]
    },
    {
     "name": "stderr",
     "output_type": "stream",
     "text": [
      "886it [02:36,  6.52it/s]"
     ]
    },
    {
     "name": "stdout",
     "output_type": "stream",
     "text": [
      "name Campus Outreach at UVA description The vision of Campus Outreach is \"Glorifying God by Building Laborers on the Campus for the Lost World.\" We build laborers with a commitment to Jesus and His Great Commission through evangelism and discipleship. We passionately reach students with the Gospel and train them to become mature followers of Christ. Our desire is to see students leave college equipped to labor in the harvest field for the glory of God. tags Contracted Independent Organization (CIO), Religious and Spiritual, Religious & Spiritual, No Application or Interview Required members 13\n",
      "name Black Student Nurses Alliance at UVA description The Black Student Nurses Alliance is an organization that aims to create a stronger sense of community among the Black nursing population at UVA and the UVA School of Nursing. We dedicate our time to fostering and creating a community among Black nursing students of all years (1st-4th) and programs (undergraduate and graduate). This organization deems to promote diversity and inclusion among those who identify as Black, African American, African, Afro-Latinx, or mixed race in the nursing community. tags Academic & Professional, Cultural & Ethnic, Contracted Independent Organization (CIO) members 10\n"
     ]
    },
    {
     "name": "stderr",
     "output_type": "stream",
     "text": [
      "888it [02:36,  6.65it/s]"
     ]
    },
    {
     "name": "stdout",
     "output_type": "stream",
     "text": [
      "name Middle Grounds at UVA description Middle Grounds is a nonpartisan political club at the University of Virginia, aiming to create a politically inclusive space for individuals of all affiliations (though particularly those that value non-partisan ideology) and consequently reduce polarizing ideas in our community. The political spectrum is much wider than just the Democrats or Republicans we primarily see represented - we address and represent all perspectives, achieving this through discussion, debate, information, and advocacy.  tags No Application or Interview Required, Social & Hobby, Political & Advocacy, Contracted Independent Organization (CIO), Academic & Professional members 11\n",
      "name South Asian Law Students Association description The purpose of this organization shall be to represent the views of the South Asian American students at the University of Virginia School of Law; to promote the welfare of its members through educational, professional, cultural and social programs; and to provide a forum for the discussion of issues affecting South Asian American law students and the University community as a whole. tags Social & Hobby, Law School, Contracted Independent Organization (CIO), Cultural & Ethnic, Academic & Professional members 9\n"
     ]
    },
    {
     "name": "stderr",
     "output_type": "stream",
     "text": [
      "890it [02:36,  6.90it/s]"
     ]
    },
    {
     "name": "stdout",
     "output_type": "stream",
     "text": [
      "name Alpha Kappa Alpha Sorority, Inc. (Theta Kappa Chapter) description The Theta Kappa Chapter of Alpha Kappa Alpha Sorority, Incorporated was founded on the grounds of the University of Virginia by seventeen women on February 9, 1974: Seventeen women who sought to bring AKA's great legacy of sisterhood, service, intelligence and elegance to Jefferson's historic academy. Since then, over 350 women have joined the ranks of the Theta Kappa Chapter at the University of Virginia. All of these women are of high merit and distinction, as proven by their participation and leadership in numerous organizations, in addition to participating in the sisterly activities of Alpha Kappa Alpha. tags Fraternity or Sorority, National Pan-Hellenic Council (NPHC), Public Service, Cultural & Ethnic, Contracted Independent Organization (CIO) members 22\n",
      "name Virginia Rowing Association description Men's Rowing Team at the University of Virginia tags Club Sport, Contracted Independent Organization (CIO), No Application or Interview Required members 44\n"
     ]
    },
    {
     "name": "stderr",
     "output_type": "stream",
     "text": [
      "893it [02:37,  8.35it/s]"
     ]
    },
    {
     "name": "stdout",
     "output_type": "stream",
     "text": [
      "name Virginia Venture Fund description The Virginia Venture Fund’s (VVF) mission is to educate students about the buy-side industry by giving them real-world experience from early on in their time at UVA. VVF gives students hands-on experience by conducting semester-long projects with venture capital, growth equity, and private equity firms where students complete due diligence and deal sourcing for partner firms. VVF also hosts an annual VC/PE due diligence competition for undergraduate students around the nation. Finally, VVF aims to support underrepresented communities by deploying capital through the Impact Fund. tags McIntire School of Commerce, Academic & Professional, Contracted Independent Organization (CIO) members 11\n",
      "name UVA Center for Politics description MissionThe mission of the University of Virginia Center for Politics is to educate and inspire our citizenry about practical politics and civic engagement through programs that are unique, compelling, and open-minded. Everything we do must fulfill our goal of instilling citizens with an appreciation for the core values of American freedom, justice, equality, civility, and service.HistoryThe Center for Politics was founded in 1998 by Larry J. Sabato at the University of Virginia to overcome the notion that politics thwarts the proper function of government. We think politics makes public policy more vibrant and makes bureaucracies more responsive. Since our inception we have established annual conferences, publications, programs, and curricula to advance democracy around the world and to equip people to better understand politics and government. tags Department, Schools, or Centers members 1\n"
     ]
    },
    {
     "name": "stderr",
     "output_type": "stream",
     "text": [
      "895it [02:37,  7.72it/s]"
     ]
    },
    {
     "name": "stdout",
     "output_type": "stream",
     "text": [
      "name Student Engagement description University of Virginia students have varied interests and ideas, many of which are realized through involvement in student organizations and activities. As a unit of the Office of the Dean of Students, Student Engagement is here to provide resources which help you turn your ideas into reality. Our mission is to engage students and the University community in self-governance and promote citizen leadership.Located on the first floor and lower level of Newcomb Hall in the PAC (suite 164), you will find a team of student staff, student volunteers, and professional staff who can help you find your place at UVA through involvement in a student organization, participating in an event, involving yourself in student legislation, or creating something new.  tags Department, Schools, or Centers members 11\n",
      "name Graduate Law Students Association description GLSA is the representative body for all J.D. exchange students, LL.M. and S.J.D. candidates and represents their interests with the faculty. It organizes professional, educational, cultural and social events for its members, as well as interaction with J.D. students, faculty and staff of the University of Virginia School of Law and other professional schools at the University of Virginia. It is worth clarifying that GLSA is a small association aimed at deriving benefit from the diversity of its members, mostly of whom are international students, by getting them together for different events inside and outside the Law School. Because the LL.M curriculum is a one-year course of study (from August to May), most of the GLSA members and its officers change every year. tags Contracted Independent Organization (CIO), Academic & Professional, Law School members 3\n"
     ]
    },
    {
     "name": "stderr",
     "output_type": "stream",
     "text": [
      "897it [02:37,  5.88it/s]"
     ]
    },
    {
     "name": "stdout",
     "output_type": "stream",
     "text": [
      "name Trigon Engineering Society description Trigon is a co-ed engineering society that strives to connect young engineers at the University of Virginia in order to foster an environment of support and allow students to build relationships with like-minded individuals. We currently have 47 members, covering every major, and one of UVA Engineering's most expansive alumni networks, which presents opportunities for everything from major-specific course advice to summer internship (and eventually full-time job) opportunities. We also love giving back to the community, and partake in service projects throughout each semester at locations like the Virginia Discovery Museum, Camp Holiday Trails, Habitat for Humanity, and more. If you're a rising first or second year engineer that's looking to get to know other engineers while supporting your academic career and volunteering around Charlottesville, please come meet us at the activities fair and/or be on the lookout for our rush posters in the Fall! We hope to see you there :) tags Academic & Professional, Contracted Independent Organization (CIO), Public Service, Social & Hobby members 30\n",
      "name Virginia Forestry Club at UVA description Campin', Cookin', and Conservation!That's what we're all about here in the Virginia Forestry Club at UVA! We're an active forestry conservation club dedicated to providing opportunities for student involvement and community service at state and local parks. Our goal is to support sustainability, conservation, and land management initiatives within and around Virginia and Charlottesville by involving students from all around UVA. Moreover, we aim to educate our members and volunteers on proper forestry techniques and conservation practices.We like to get out into the field and engage with hands-on conservation, helping out park rangers and conservation-oriented organizations with whatever needs doing. This includes clearing/building trails and park features, building foot crossings; planting trees, shrubs, and flowers; managing invasive plant species; and much more!There's no personal equipment or prior experience necessary -- just bring yourself and a passion to protect our forests! Our volunteer service trips typically occur on weekends:Local trips in and around Charlottesville take up a Saturday afternoon. We work with Charlottesville Parks & Rec, Albemarle County Parks, CAMBC, CATS, and more!Overnight trips to state parks like Holliday Lake and James River run from Saturday to Sunday morning.As a treat to the volunteers, there is food served on every service trip -- and on overnight trips, camping! tags Sustainability, Contracted Independent Organization (CIO), Social & Hobby, Public Service members 28\n"
     ]
    },
    {
     "name": "stderr",
     "output_type": "stream",
     "text": [
      "899it [02:38,  6.21it/s]"
     ]
    },
    {
     "name": "stdout",
     "output_type": "stream",
     "text": [
      "name Women's Club Soccer description The Womens Club Soccer team is the highest level of non-varsity soccer here at the University. Not as time-consuming as varsity yet more structured than intramurals, club soccer offers a medium between the two offering an organized, competitive, yet informal environment for girls to play. The self-coached team of around 20 girls practices three times a week year-round in addition to weekly matches, typically played on Sundays. If the team is not hosting a match on the Carr's Hill turf field, the team travels to other area universities, such as William and Mary, James Madison University, Georgetown, and UNC Chapel Hill. In addition to these weekly games, the team participates in annual tournaments held at Virginia Tech in October and at UNC Chapel Hill in April. Our fall season matches are played working towards a successful performance at the Regional and National tournaments held by the National Intramural-Recreational Sports Association. In previous years, the team has traveled to Memphis, TN, Rock Hill, SC, Phoenix, AZ, Pensacola, FL, Gainesville, FL, Tuscaloosa, AL, Foley, Alabama, and Statesboro, GA to participate in these championship tournaments. tags Contracted Independent Organization (CIO), Club Sport members 10\n",
      "name Club Med (Internal Medicine Interest Group) at the University of Virginia description Internal Medicine Interest Group at the UVA School of Medicine. tags Contracted Independent Organization (CIO), Academic & Professional members 25\n"
     ]
    },
    {
     "name": "stderr",
     "output_type": "stream",
     "text": [
      "901it [02:38,  6.48it/s]"
     ]
    },
    {
     "name": "stdout",
     "output_type": "stream",
     "text": [
      "name Men's Rugby Football Club at UVA description The Virginia Men's Rugby Football Club is a Division II National Collegiate Rugby (NCR) sanctioned team. We compete on an interscholastic national level in the Cardinals Collegiate Rugby Conference. Our team is made up of undergraduates with varying levels of experience. Our goal is to be a socially enjoyable club while being competitive on the regional and national levels. tags Contracted Independent Organization (CIO), Club Sport members 11\n",
      "name Asian Student Network at McIntire description The Asian Student Network at McIntire is dedicated to supporting Asian commerce students in breaking barriers in business by building a strong and safe network within the McIntire community at large and preparing the next generation of young professionals to lead, empower, and inspire. tags Contracted Independent Organization (CIO), McIntire School of Commerce, No Application or Interview Required members 22\n"
     ]
    },
    {
     "name": "stderr",
     "output_type": "stream",
     "text": [
      "903it [02:38,  6.74it/s]"
     ]
    },
    {
     "name": "stdout",
     "output_type": "stream",
     "text": [
      "name Chak De C'ville description Chak De C'ville is dedicated to promoting awareness about Indian culture to the University of Virginia and the broader Charlottesville community. Our mission is to educate the community about Indian culture through the exhibition of Indian dance. Our goal is to create a network among colleges throughout the nation that all serve this mission and bring awareness about various regional traditional Indian forms to our community. The primary focus of Chak De C'ville is hosting an annual intercollegiate national Bollywood Fusion dance competition in Charlottesville. This competition will attract teams from colleges across that country that will exhibit numerous dance forms such as Bolly, Bhangra, Garba-Raas, various forms of Indian classical dance, hiphop, contemporary and more. Open to the public, this competition will help educate UVA and the broader Charlottesville community about Indian art and the many different regional dance forms in India. This competition will also offer organizations at UVA the chance to display their talent in Indian art forms through exhibition acts throughout the competition. This competition will be open to all UVA students, faculty, and Charlottesville community members. All funds collected from ticket sales will go towards funding the competition itself and any profit will be donated to a South Asian non-profit charity of our choosing.  tags Contracted Independent Organization (CIO), Cultural & Ethnic, Social & Hobby, Visual & Performing Arts members 14\n",
      "name Challah for Hunger at UVA description UVa’s own chapter of CfH was established in 2011. CfH at UVa bakes delicious challah from scratch every Tuesday and Wednesday of the semester. We run entirely on volunteer efforts to help us make, braid, bake and sell the challah each week. CfH at UVa sells plain, chocolate chip, cinnamon sugar, and garlic rosemary flavors, as well as a flavor of the week. Plain loaves are $3 and flavored loaves are $4.Today, CfH at UVa continues to succeed and is one of CfH’s most successful chapters! Thanks to generous donations from members of the Charlottesville community, such as Gerry Newman from the Albemarle Baking Company, CfH at UVa is able to donate almost every penny of its weekly sales on the Lawn and at Congregation Beth Israel. CfH at UVa donates all of its proceeds to hunger relief organizations, with 50% going to Swipe Out Hunger and 50% going to the local Blue Ridge Area Food Bank. Since 2011, the UVa chapter of Challah for Hunger has raised over $100,000 for hunger relief organizations! tags Social & Hobby, Public Service, Contracted Independent Organization (CIO) members 10\n"
     ]
    },
    {
     "name": "stderr",
     "output_type": "stream",
     "text": [
      "905it [02:39,  6.89it/s]"
     ]
    },
    {
     "name": "stdout",
     "output_type": "stream",
     "text": [
      "name Madison House description Madison House serves as the volunteer center for students at the University of Virginia. We coordinate volunteers, develop leaders, build community partnerships and promote lifelong volunteer service. Madison House organizes service programs to address the needs of the community as well as the educational and personal growth objectives of students. tags Public Service, Contracted Independent Organization (CIO) members 197\n",
      "name LumiLink at UVA description We are a distinguished student organization dedicated to facilitating the seamless integration of international students into the University of Virginia (UVA) community. Our mission encompasses enhancing their overall academic and cultural experience. Moreover, we curate and disseminate concise yet insightful articles via WeChat and mailing list, aimed at familiarizing individuals with fundamental psychological concepts. In pursuit of our objectives, we actively foster connections between accomplished alumni specializing in relevant fields and the present student body. This endeavor entails inviting these esteemed alumni to contribute their invaluable personal perspectives, thereby enriching the current students' academic journey. tags Contracted Independent Organization (CIO), Academic & Professional, Cultural & Ethnic, No Application or Interview Required members 18\n"
     ]
    },
    {
     "name": "stderr",
     "output_type": "stream",
     "text": [
      "907it [02:39,  6.71it/s]"
     ]
    },
    {
     "name": "stdout",
     "output_type": "stream",
     "text": [
      "name School of Architecture Student Council description The School of Architecture Student Council is an elected body that serves the School of Architecture community through social, community building, and service events and initiatives. Events include a Professor Portfolio Showcase, a Fall Tailgate, a Fall Semi-Formal, Charette Support, and the yearly Beaux Arts Ball.  tags Administrative Unit, Academic & Professional, Special Status Organization (SSO), Architecture, L2K members 15\n",
      "name Undergraduate Student National Dental Association description The mission of the Undergraduate Student National Dental Association is to aid in increasing the number of minority students entering dental schools, increase the knowledge of dentistry in undergraduate students, and provide support for DAT testing and the dental school admission process for pre-dental undergraduates. The USNDA will offer volunteer opportunities, introduce students to dental professionals who may provide shadowing opportunities, as well as inform students of summer programs and dental research experiences. Records will also be kept of those members accepted into various dental schools. tags Academic & Professional, Contracted Independent Organization (CIO), Public Service, No Application or Interview Required members 28\n"
     ]
    },
    {
     "name": "stderr",
     "output_type": "stream",
     "text": [
      "909it [02:39,  6.44it/s]"
     ]
    },
    {
     "name": "stdout",
     "output_type": "stream",
     "text": [
      "name Rocky Horror at UVA description Ready to get your sexy on? Each semester Rocky Horror at UVA puts on a performance of the Rocky Horror Picture Show in Newcomb Theater, complete with games, callbacks, and a talented shadow cast. This club offers a relaxed low commitment opportunity for anyone and everyone to go crazy and have fun. Join the erotic fun and see why Rocky's been a sensation for over 40 years!  tags Visual & Performing Arts, Social & Hobby, Contracted Independent Organization (CIO), Media & Publications members 23\n",
      "name Amuse Bouche description Amuse Bouche is the only long form group on Grounds here at UVA! We put on 2/3 shows a semester, as well as other shows working with other organizations. Founded by Sasheer Zamata in 2007, Amuse Bouche has always been a home for creative, fun, silly souls here at UVA! tags Visual & Performing Arts, Contracted Independent Organization (CIO) members 12\n"
     ]
    },
    {
     "name": "stderr",
     "output_type": "stream",
     "text": [
      "911it [02:40,  6.55it/s]"
     ]
    },
    {
     "name": "stdout",
     "output_type": "stream",
     "text": [
      "name Mathematics Club at UVA description The Undergraduate Math Club at University of Virginia is a biweekly seminar and a club for students interested in mathematics and related areas. It meets on Tuesdays at 5pm for 60-80 minutes. The activities vary from talks by faculty members, graduate and undergraduate students to presentations by local industries, and panel discussions (on REUs, careers for math majors, etc). The aim of the Undergraduate Math Club is to provide an avenue for mathematics-interested students to learn about interesting topics in higher math that they will not see in standard coursework. tags Academic & Professional, Contracted Independent Organization (CIO), No Application or Interview Required members 11\n",
      "name Legal Advisory Workshops for Undergraduate Students description Law for Us is an organization that pairs current UVA law student mentors with undergraduate students who are interested in learning more about law school. Law student mentors meet with their mentees at least once a semester to answer questions about law school and provide guidance on the application process. tags Law School, Public Service, Contracted Independent Organization (CIO), Academic & Professional, No Application or Interview Required members 67\n"
     ]
    },
    {
     "name": "stderr",
     "output_type": "stream",
     "text": [
      "913it [02:40,  6.87it/s]"
     ]
    },
    {
     "name": "stdout",
     "output_type": "stream",
     "text": [
      "name Remix A Cappella description Remix is the University of Virginia’s one and only hip-hop and R&B A Capella Group. Our purpose is for our members to experience a cappella at a collegiate level and to promote a diverse sound on Grounds. We strive to serve the UVA and greater Charlottesville communities, collaborate with other UVA organizations, and have fun. tags Cultural & Ethnic, Contracted Independent Organization (CIO), Social & Hobby, Visual & Performing Arts members 8\n",
      "name Federalist Society description The purpose of the Federalist Society is to promote an awareness and application of the following principles: that the state exists to preserve freedom, that the separation of governmental powers is central to our Constitution, and that it is the duty of the judiciary to say what the law is, not what it ought to be. tags Law School, Political & Advocacy, Academic & Professional, Contracted Independent Organization (CIO), No Application or Interview Required members 17\n"
     ]
    },
    {
     "name": "stderr",
     "output_type": "stream",
     "text": [
      "916it [02:40,  8.59it/s]"
     ]
    },
    {
     "name": "stdout",
     "output_type": "stream",
     "text": [
      "name Pi Lambda Phi (Virginia Omega Alpha Chapter) description FSL tags Fraternity or Sorority, Public Service, Political & Advocacy, Social & Hobby members 0\n",
      "name European Society - Darden School of Business description The European Society is committed to providing European students and others interested in European culture within the Darden community a forum to pursue cultural, professional and social activities and opportunities. The organization seeks to attain this objective by serving as a professional and social resource for its members, as well as promoting the awareness of Darden in Europe in order to attract talented European prospective students.   tags No Application or Interview Required, Contracted Independent Organization (CIO), Cultural & Ethnic, Administrative Unit, Academic & Professional, Darden School, Political & Advocacy members 2\n"
     ]
    },
    {
     "name": "stderr",
     "output_type": "stream",
     "text": [
      "918it [02:40,  7.40it/s]"
     ]
    },
    {
     "name": "stdout",
     "output_type": "stream",
     "text": [
      "name John Bassett Moore Society of International Law description The John Bassett Moore Society of International Law (JB Moore Society) has the following purposes and relations:1. to further the study of international law at the University of Virginia;2. to provide a forum for the discussion of significant issues in international law;3. to sponsor events that further the first two goals;4. to publish such materials that further the first two goals. tags No Application or Interview Required, International, Law School, Contracted Independent Organization (CIO), Academic & Professional members 10\n",
      "name HRL SR - Johnson-Malone-Weedon description HRL tags Residence Hall, Administrative Unit members 0\n"
     ]
    },
    {
     "name": "stderr",
     "output_type": "stream",
     "text": [
      "920it [02:41,  7.34it/s]"
     ]
    },
    {
     "name": "stdout",
     "output_type": "stream",
     "text": [
      "name Business and Artificial Intelligence Club description The Business and Artificial Intelligence (BAI) Club is UVA’s premier artificial intelligence organization. We partner with local businesses, nonprofits, and other professional entities to develop pro bono AI services for them, giving our members invaluable experience in the rapidly growing field of AI. In addition, we host AI guest speakers and provide technology education modules to members. Our club is the first club on grounds composed of a versatile group of business and computer science students, and together we are embracing the potential of an AI-driven world. Join now to hone your skills and fuel the future of business. tags Contracted Independent Organization (CIO), Academic & Professional, Data Sciences members 3\n",
      "name Darden Aviation Club description We believe in bringing the joy of flight and aviation to all Darden students and community members regardless of background, experience, career direction, or financial means tags Darden School, Social & Hobby, Contracted Independent Organization (CIO) members 9\n"
     ]
    },
    {
     "name": "stderr",
     "output_type": "stream",
     "text": [
      "922it [02:41,  6.99it/s]"
     ]
    },
    {
     "name": "stdout",
     "output_type": "stream",
     "text": [
      "name Fencing Club at the University of Virginia description The Virginia Fencing Club is a competitive fencing organization, competing in intercollegiate tournaments with both club and varsity schools up and down the East Coast and throughout the country. Though we currently do not have a coach, we practice on a regular basis so that we may improve both individually and together as a team. The club provides all necessary equipment and welcomes new members both with and without prior fencing experience. We practice Monday, Wednesday, and Friday of each week, 7:00-9:00PM, and welcome new members at any time during the year. tags Contracted Independent Organization (CIO), Social & Hobby, Club Sport, No Application or Interview Required members 19\n",
      "name Darden School of Brew description We offer unique opportunities for students to immerse themselves in the beer industry through attracting a variety of guest speakers and organizing hands-on collaborations with local breweries. The club utilizes beer as a product to exemplify lessons in marketing, operations, and entrepreneurship applicable to all career paths. By joining the club students join a strong community of curious classmates and will gain unparalleled access to making the world’s oldest beverage. tags Contracted Independent Organization (CIO), Social & Hobby, Darden School, No Application or Interview Required members 6\n"
     ]
    },
    {
     "name": "stderr",
     "output_type": "stream",
     "text": [
      "923it [02:41,  6.75it/s]"
     ]
    },
    {
     "name": "stdout",
     "output_type": "stream",
     "text": [
      "name Catholic Hoos at the University of Virginia description Catholic Hoos at the University of Virginia is a community that strives to know, love, and imitate Jesus Christ. We desire to know Him and to make Him known through an active participation in the sacramental life of the Church and intellectual engagement with the Catholic faith. Because He first loved us, we dedicate ourselves to prayer and loving one another. As the Body of Christ, we seek to imitate our lord by pouring ourselves out for our brothers and sisters and building a virtuous community at the University of Virginia. tags Public Service, Leadership Development, Social & Hobby, Visual & Performing Arts, Contracted Independent Organization (CIO), Religious & Spiritual members 43\n"
     ]
    },
    {
     "name": "stderr",
     "output_type": "stream",
     "text": [
      "925it [02:42,  5.25it/s]"
     ]
    },
    {
     "name": "stdout",
     "output_type": "stream",
     "text": [
      "name First-Generation and Limited Income Partnership (FLIP) description Our mission is to establish a community of First Generation and/or Limited Income students and allies to advocate for better access to necessary resources while creating tight-knit friendships along the way. Join FLIP @ UVA to meet students from similar backgrounds and stories as we all navigate the obstacles that come with being an FGLI student in higher education. We would love to have you!  tags No Application or Interview Required, FGLI, Contracted Independent Organization (CIO) members 17\n",
      "name The All Girls STEM Society at UVA description The All Girls STEM Society was established originally in San Diego, California, with the sole intent of encouraging young women to pursue careers in STEM fields - areas where they were grossly underrepresented. The organization brought student volunteers from all backgrounds and walks of life to help further this goal. Upon arriving in Virginia, the All Girls STEM Society decided to expand its vision, deciding to focus on not only young women but also students of color and underprivileged students who are often not given the same opportunities to find their passion in scientific fields. The All Girls STEM Society’s goal is to help students find their own passion in STEM. We hope that all students involved in our events go on to the STEM fields; yet, if even a fraction are inspired, then we will meet our goal. It is with great pride the Society brings this mission to the University of Virginia, in hopes of continuing to contribute positively to the academic community. tags Contracted Independent Organization (CIO), Public Service members 21\n"
     ]
    },
    {
     "name": "stderr",
     "output_type": "stream",
     "text": [
      "926it [02:42,  4.97it/s]"
     ]
    },
    {
     "name": "stdout",
     "output_type": "stream",
     "text": [
      "name Virginia Wellness Initiative description We are a medical student service organization that provides health screenings and access to primary care services at community events and shelters in Charlottesville and the surrounding areas. tags Contracted Independent Organization (CIO), Academic & Professional, Public Service members 10\n"
     ]
    },
    {
     "name": "stderr",
     "output_type": "stream",
     "text": [
      "927it [02:42,  4.74it/s]"
     ]
    },
    {
     "name": "stdout",
     "output_type": "stream",
     "text": [
      "name Orthopaedic Interest Group description Orthopaedics Interest Groups:The purpose of the Orthopedic Interest Group is to bring together medical students interested in orthopedic surgery in the spirit of the pursuit of learning and collaboration. We host a variety of events throughout the year to aid in skill building, increasing orthopaedic knowledge, and networking. tags Contracted Independent Organization (CIO), Academic & Professional members 2\n"
     ]
    },
    {
     "name": "stderr",
     "output_type": "stream",
     "text": [
      "929it [02:43,  5.12it/s]"
     ]
    },
    {
     "name": "stdout",
     "output_type": "stream",
     "text": [
      "name Taste of Home description For the immigrant, refugee, and asylum-seeking community in Charlottesville, Taste of Home wants to provide a way to preserve their cultures through keeping their recipes alive. The nostalgia in food is an important way to remember where one comes from and is a way to share a very \"human\" and personal part of one's culture. Taste of Home organizes pop-up food events where chefs from the immigrant, refugee, or asylum-seeking communities cook for us.  Chefs are fully compensated for each pop up they cook for and this additional source of income can be very important to some families. It can also foster new friendships with the wider Charlottesville community and build work experience in the U.S. If food is the common denominator that all cultures share, it has the potential to cure the \"us and them\" mentality.  tags Contracted Independent Organization (CIO), Cultural & Ethnic, Public Service members 17\n",
      "name Virginia Ambassadors description Virginia Ambassadors is the student-run arm of the Office of Undergraduate Admissions at the University of Virginia and consists of about 300 students from various backgrounds, majors, and years, all with a passion for sharing their UVA stories with prospective or incoming students. tags No Application or Interview Required, Contracted Independent Organization (CIO), Administrative Unit members 39\n"
     ]
    },
    {
     "name": "stderr",
     "output_type": "stream",
     "text": [
      "931it [02:43,  5.64it/s]"
     ]
    },
    {
     "name": "stdout",
     "output_type": "stream",
     "text": [
      "name Earth Cups at UVA description Earth Cups is a sustainable product company, started by two college students, operating with the mission to Make Sustainability Cool. They were inspired by the ubiquitous red solo cups they saw littered around their campus, and wanted to start a movement to make sustainability the new norm among college students. They launched Earth Cups, 100% plant-based and compostable cups that look and feel just like a typical single-use plastic cup, but serve as a much more sustainable alternative. Earth Cups now has 2,000+ college ambassadors and is quickly spreading around the nation, specifically focusing on reducing plastic waste on college campuses.This organization will act as the official UVA chapter of Earth Cups. We will work to spread their mission to Make Sustainability Cool at UVA and reduce the plastic waste. This club will act as a community-place for like-minded individuals that want to build a better future. Whether you are interested in going into environmentalism, startups, marketing, or just want to make a difference, this is the place for you. We will host regular events to spread awareness and push students to shift away from plastic and make plant-based cups the new go to, especially targeting off-grounds groups. tags Academic & Professional, Contracted Independent Organization (CIO), No Application or Interview Required, Sustainability members 12\n",
      "name Pentecost Students and Associates (PENSA) at the University of Virginia description Pentecost Students and Associates (PENSA) is a CIO dedicated to nurturing the spiritual growth of students at the University of Virginia while embracing diverse cultural perspectives. We wholeheartedly encourage various forms of worship, praise, and Bible analysis to deepen our connection with the Lord. Our commitment to cultural exploration is exemplified through a range of engaging activities, including potluck dinners, worship and praise gatherings, thought-provoking discussions, and numerous other events.At PENSA, we are a vibrant, multicultural fellowship where we share meals, share laughter, and most importantly, share love. tags Religious & Spiritual, Contracted Independent Organization (CIO) members 13\n"
     ]
    },
    {
     "name": "stderr",
     "output_type": "stream",
     "text": [
      "933it [02:43,  6.00it/s]"
     ]
    },
    {
     "name": "stdout",
     "output_type": "stream",
     "text": [
      "name Virginia Finance Institute description Democratize an education in finance for all UVA students, regardless of year or major. tags Contracted Independent Organization (CIO), Academic & Professional, No Application or Interview Required, McIntire School of Commerce members 32\n",
      "name Virginia Club Golf description A student led group that bolsters good high school golfers that want to continue playing in college. The team competes in the Colonial Region of the National Collegiate Club Golf Association. Each semester we compete in two regional tournaments in hope of qualifying for the national championship tournament. A level of play in between high school and Varsity collegiate golf with scores ranging from the low 70's to the high 80's is the description of tournament play, and we try to hold practices in order to come together as a group and practice for tournaments.  Tryouts and practice is held at Birdwood Golf Course. tags Contracted Independent Organization (CIO), Club Sport, Social & Hobby members 14\n"
     ]
    },
    {
     "name": "stderr",
     "output_type": "stream",
     "text": [
      "934it [02:43,  5.76it/s]"
     ]
    },
    {
     "name": "stdout",
     "output_type": "stream",
     "text": [
      "name Alpha Omega Epsilon description Alpha Omega Epsilon is a professional and social engineering sorority that strives: to advance female-identifying and non-binary engineers while developing lifelong friendships; for scholarship, academic achievement and communication between faculty and students; to create friendships while promoting self-confidence, professionalism, and motivation among female-identifying and non-binary engineers of all curricula; and to promote female-identifying and non-binary individuals in engineering and to provide an environment where female-identifying and non-binary engineers can meet and support each other. tags No Application or Interview Required, Contracted Independent Organization (CIO), Academic & Professional, Social & Hobby members 26\n"
     ]
    },
    {
     "name": "stderr",
     "output_type": "stream",
     "text": [
      "936it [02:44,  4.24it/s]"
     ]
    },
    {
     "name": "stdout",
     "output_type": "stream",
     "text": [
      "name Delta Sigma Theta Sorority, Inc. (Kappa Rho Chapter) description FSL tags Cultural & Ethnic, Social & Hobby, Political & Advocacy, Public Service, Fraternity or Sorority, National Pan-Hellenic Council (NPHC) members 2\n",
      "name Phi Beta Sigma Fraternity, Inc. (Zeta Eta Chapter) description FSL tags Fraternity or Sorority, National Pan-Hellenic Council (NPHC), Public Service, Social & Hobby, Political & Advocacy, Cultural & Ethnic members 1\n"
     ]
    },
    {
     "name": "stderr",
     "output_type": "stream",
     "text": [
      "938it [02:44,  5.64it/s]"
     ]
    },
    {
     "name": "stdout",
     "output_type": "stream",
     "text": [
      "name GEM Club at UVA description The GEM Club at UVA is a student-led organization dedicated to helping its members and the wider UVA community build a strong foundation of leadership skills. Our goal is to equip our members with the tools and knowledge necessary to succeed as future leaders in their chosen fields. We offer a variety of training and educational programs that focus on leadership development and the establishment of real-world competencies. Additionally, we provide valuable networking opportunities, connecting our members with like-minded individuals and professionals in their field. Through our efforts, we aim to empower the next generation of successful and influential leaders, both within the UVA community and beyond. tags Contracted Independent Organization (CIO), Academic & Professional, No Application or Interview Required members 3\n",
      "name Darden FinTech Club description The Darden FinTech club has three core missions: to educate and engage Dardenstudents with the FinTech industry; to equip our members with the knowledge andnetwork to find jobs – or pursue entrepreneurship – within the FinTech ecosystem;and to champion financial inclusion and financial accessing a system that has historicallyexcluded or marginalized populations both domestically and globally.Value Statement: To share and educate ourselves about this industry with intentionality, curiosity andenthusiasm for the companies, our classmates, and the mission to advance financialdemocratization. tags No Application or Interview Required, Darden School, Academic & Professional, Contracted Independent Organization (CIO) members 1\n"
     ]
    },
    {
     "name": "stderr",
     "output_type": "stream",
     "text": [
      "941it [02:45,  8.17it/s]"
     ]
    },
    {
     "name": "stdout",
     "output_type": "stream",
     "text": [
      "name Alpha Phi (Zeta Iota Deuteron Chapter) description FSL tags Social & Hobby, Political & Advocacy, Public Service, Fraternity or Sorority members 2\n",
      "name Daniel Hale Williams Pre-Health Honor Society description Daniel Hale Williams was the first African-American Cardiologist, and the first person in the United States to perform a successful open heart surgery. He was also the founder of Provident Hospital in Chicago, which was the first non-segregated hospital in the United States.The mission of the Daniel Hale Williams Pre-Health Honor Society (DHW) is to increase the number of culturally capable and sensitive Black and other ethnic minority physicians, by furthering their academic and clinical success as premedical students through: recruitment, academic counseling and support, curriculum guidance, peer support, and post-graduate assistance.DHW is also affiliated with the Student National Medical Association (SNMA), which is affiliated with the National Medical Association (NMA).  DHW is a Minority Association of Pre-Medical Students (MAPS) Chapter recognized by the SNMA.  The mission of MAPS at UVA is increasing the number of African-American, Latino, and other students of color entering and completing medical school. To learn more about DHW and how to get involved, check out our website: https://dhwpremeds.weebly.com/Although this organization has members who are University of Virginia students and may have University employees associated or engaged in its activities and affairs, the organization is not apart of or an agency of the University. It is a separate and independent organization which is responsible for and manages its own activities and affairs. The University does not direct, supervise or control the organization and is not responsible for the organization’s contracts, acts or omissions. tags Contracted Independent Organization (CIO), Academic & Professional, Cultural & Ethnic, Public Service, Honor Society, No Application or Interview Required, Black Presidents Council members 57\n"
     ]
    },
    {
     "name": "stderr",
     "output_type": "stream",
     "text": [
      "943it [02:45,  6.88it/s]"
     ]
    },
    {
     "name": "stdout",
     "output_type": "stream",
     "text": [
      "name Darden Jewish Student Association description The Darden Jewish Student Association (DJSA) seeks to further the awareness of Jewish culture, tradition, and history within the Darden Community through educational and social avenues. The club aims to create a safe space for Jews at Darden, as well as in the Charlottesville community, through engaging in discussions, celebrations, and gatherings of all avenues. DJSA also strives to engage non-Jewish allies to educate them, integrate them into the Jewish community, and fight antisemitism, whether it’s within the Darden community, the greater Charlottesville area, or beyond. The DJSA cultivates and supports a friendly community for all students to congregate, converse, and learn at Darden, while strengthening relationships with other Jewish groups and organizations in Charlottesville and nationally. tags No Application or Interview Required, Religious & Spiritual, Darden School, Cultural & Ethnic, Contracted Independent Organization (CIO) members 4\n",
      "name Virginia Law Women description Virginia Law Women (VLW) is primarily designed to support and promote women at UVA Law and in the legal field in their endeavors and to understand their unique challenges. VLW’s primary goals are to support women by providing forums for them to interact with faculty, administration, and other students; providing opportunities to create social networks with their fellow members; and exposing members to women working in professional, legal capacities.  tags Law School, Social & Hobby, Political & Advocacy, Contracted Independent Organization (CIO), Academic & Professional members 11\n"
     ]
    },
    {
     "name": "stderr",
     "output_type": "stream",
     "text": [
      "989it [02:45,  5.97it/s]"
     ]
    },
    {
     "name": "stdout",
     "output_type": "stream",
     "text": [
      "name The AcHOOstics description We are the University of Virginia’s only philanthropic a cappella group, founded in 2015 by a group of women who wanted to combine their love of music with a love of service. Every semester, a portion of our proceeds from concert ticket sales and fundraisers go to a charity selected each semester, such as the Sexual Assault Resource Agency or the Music Resource Center. We perform at multiple events across Grounds, including Rotunda Sing, Lighting of the Lawn, baseball and basketball games singing the National Anthem, and fundraisers such as Pancakes for Parkinson’s, as well as in the community with performances at local nursing homes and the UVA Children’s Hospital. We have also been invited to perform at multiple a cappella events hosted by groups at other universities and enjoy establishing relationships with groups like ours across the country. Our group brings together passionate women with diverse personalities, experiences, and voices to give back to the UVA and Charlottesville communities while spreading joy through music. tags Contracted Independent Organization (CIO), Social & Hobby, Visual & Performing Arts, Public Service members 14\n"
     ]
    },
    {
     "name": "stderr",
     "output_type": "stream",
     "text": [
      "\n"
     ]
    }
   ],
   "source": [
    "from bs4 import BeautifulSoup\n",
    "\n",
    "def get_embedding(club, model=\"text-embedding-ada-002\"): \n",
    "  # parse the description\n",
    "  description = club.get('description')\n",
    "  if not description:\n",
    "    return\n",
    "\n",
    "  soup = BeautifulSoup(description, 'html.parser')\n",
    "\n",
    "  prompt = f\"\"\"\n",
    "  name {club.get('name')}\n",
    "  description {soup.text}\n",
    "  tags {\", \".join(list(club.get('categories')) if club.get('categories') else [])}\n",
    "  members {club.get('memberCount')}\n",
    "  \"\"\"\n",
    "\n",
    "  prompt = prompt.strip().replace(\"\\n\", \" \").strip().replace(\"  \", \" \").replace(\"  \", \" \").replace(\"  \", \" \").replace(\"  \", \" \")\n",
    "  print(prompt)\n",
    "  # def get_embedding(text, model=\"text-embedding-ada-002\"):\n",
    "  #  text = text.replace(\"\\n\", \" \")[:32_000]\n",
    "  return client.embeddings.create(input = [prompt], model=model).data[0].embedding\n",
    "\n",
    "upsertion = [\n",
    "  # {'id': id, 'values': embedding}\n",
    "]\n",
    "\n",
    "for club in tqdm(db.collection('clubs').stream()):\n",
    "  club_dict = club.to_dict()\n",
    "\n",
    "  embedding = get_embedding(club_dict)\n",
    "  if embedding:\n",
    "    upsertion.append({'id': club.id, 'values': embedding})"
   ]
  },
  {
   "cell_type": "code",
   "execution_count": null,
   "metadata": {},
   "outputs": [
    {
     "data": {
      "text/plain": [
       "{'upserted_count': 206}"
      ]
     },
     "execution_count": 44,
     "metadata": {},
     "output_type": "execute_result"
    }
   ],
   "source": [
    "# upload data\n",
    "index = pc.Index(\"clubs\")\n",
    "\n",
    "index.upsert(vectors=upsertion[700:])\n",
    "# upsertion"
   ]
  },
  {
   "cell_type": "code",
   "execution_count": 20,
   "metadata": {},
   "outputs": [
    {
     "name": "stderr",
     "output_type": "stream",
     "text": [
      "995it [02:35,  6.39it/s]                     \n"
     ]
    }
   ],
   "source": [
    "courses = pc.Index(\"courses\")\n",
    "\n",
    "course_upsertion = []\n",
    "\n",
    "def get_course_embedding(course_dict: dict): \n",
    "  title = course_dict.get('title')\n",
    "  description = course_dict.get('description')\n",
    "  mneumonic = course_dict.get('mneumonic') \n",
    "\n",
    "\n",
    "  prompt = f\"\"\"\n",
    "  title {title}\n",
    "  description {description}\n",
    "  mneumonic {mneumonic}\n",
    "  \"\"\"\n",
    "\n",
    "  prompt = prompt.strip().replace(\"\\n\", \" \").strip().replace(\"  \", \" \").replace(\"  \", \" \").replace(\"  \", \" \").replace(\"  \", \" \")\n",
    "\n",
    "  return client.embeddings.create(input = [prompt], model=\"text-embedding-ada-002\").data[0].embedding\n",
    "\n",
    "for course in tqdm(db.collection('courses').stream(), total=df.shape[1]):\n",
    "  course_dict = course.to_dict()\n",
    "\n",
    "  embedding = get_course_embedding(course_dict)\n",
    "  if embedding:\n",
    "    course_upsertion.append({'id': course.id, 'values': embedding})"
   ]
  },
  {
   "cell_type": "code",
   "execution_count": 27,
   "metadata": {},
   "outputs": [
    {
     "data": {
      "text/plain": [
       "{'upserted_count': 200}"
      ]
     },
     "execution_count": 27,
     "metadata": {},
     "output_type": "execute_result"
    }
   ],
   "source": [
    "# course_upsertion\n",
    "courses.upsert(vectors=course_upsertion[:200])\n"
   ]
  }
 ],
 "metadata": {
  "kernelspec": {
   "display_name": "tf",
   "language": "python",
   "name": "python3"
  },
  "language_info": {
   "codemirror_mode": {
    "name": "ipython",
    "version": 3
   },
   "file_extension": ".py",
   "mimetype": "text/x-python",
   "name": "python",
   "nbconvert_exporter": "python",
   "pygments_lexer": "ipython3",
   "version": "3.8.13"
  }
 },
 "nbformat": 4,
 "nbformat_minor": 2
}
